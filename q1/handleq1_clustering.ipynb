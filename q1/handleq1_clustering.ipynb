{
 "cells": [
  {
   "cell_type": "code",
   "execution_count": 1,
   "metadata": {
    "collapsed": true
   },
   "outputs": [],
   "source": [
    "import numpy as np\n",
    "import cPickle\n",
    "import nltk\n",
    "from nltk.corpus import stopwords\n",
    "from collections import Counter\n",
    "from sklearn.metrics.pairwise import pairwise_distances\n",
    "import itertools\n",
    "import string\n",
    "from nltk.tokenize import sent_tokenize\n",
    "from nltk.stem.porter import *\n",
    "#import pyemd\n",
    "#loading word embeddings\n",
    "#wv = KeyedVectors.load_word2vec_format(\"../w2v/w2vemb.bin\", binary=True)"
   ]
  },
  {
   "cell_type": "markdown",
   "metadata": {},
   "source": [
    "# Visualize functions"
   ]
  },
  {
   "cell_type": "code",
   "execution_count": 2,
   "metadata": {
    "collapsed": true
   },
   "outputs": [],
   "source": [
    "def write_file(n_clusters_, labels, corpus, mapping_dict, test_corpus):\n",
    "    for indice_cluster in range(n_clusters_):\n",
    "        # print indice_cluster\n",
    "        idx_list = np.where(labels == indice_cluster)[0]\n",
    "        f1 = open('cluster_%s/%dth_cluster.txt' % (question_class, indice_cluster), 'w+')\n",
    "        for idx in idx_list:\n",
    "            f1.write('%s %s\\n' % (corpus[mapping_dict[idx] - 1], test_corpus[idx]))\n",
    "    f1.close()\n",
    "\n",
    "\n",
    "def write_ne(nes, question_class, mapping_dict):\n",
    "    f1 = open('ne_%s.txt' % question_class, 'w+')\n",
    "    for idx, doc in enumerate(nes):\n",
    "        f1.write('%s %s\\n' % (mapping_dict[idx], ' '.join(doc)))\n",
    "    f1.close()    \n",
    "\n",
    "def wmd_compute(x1, x2):\n",
    "    return wv.wmdistance(x1, x2)\n",
    "\n",
    "def analyze_cluster(n_clusters_, labels, corpus, mapping_dict, test_corpus, filename):\n",
    "    num = 0\n",
    "    other_content = []\n",
    "    for indice_cluster in range(n_clusters_):\n",
    "        idx_list = np.where(labels == indice_cluster)[0]\n",
    "        if len(idx_list) > 4:\n",
    "            f1 = open('%s_%s/%dth_cluster.txt' % (filename, question_class, indice_cluster), 'w+')\n",
    "            for idx in idx_list:\n",
    "                f1.write('%s %s\\n' % (corpus[mapping_dict[idx] - 1], test_corpus[idx]))\n",
    "            f1.close()\n",
    "        if len(idx_list) < 4:\n",
    "            num = num + len(idx_list)\n",
    "            for idx in idx_list:\n",
    "                other_content.append(corpus[mapping_dict[idx] - 1])\n",
    "    f1 = open('%s_%s/other_cluster.txt' % (filename, question_class), 'w+')\n",
    "    for doc in other_content:\n",
    "        f1.write('%s\\n' % doc)\n",
    "    f1.close()\n",
    "    print num"
   ]
  },
  {
   "cell_type": "markdown",
   "metadata": {},
   "source": [
    "# Reading Raw text"
   ]
  },
  {
   "cell_type": "code",
   "execution_count": 3,
   "metadata": {},
   "outputs": [
    {
     "name": "stdout",
     "output_type": "stream",
     "text": [
      "length of content 168\n",
      "['after taking appointment then also i have to wait 1 to 1 and half hour . even there was no rush , work should be done immediately .', 'service center should provide comfortable time for servicing from there end . or they should arrange service like we can do booking through messages . also toyota has given only one number for all services .', 'after arranging the appointment they should quickly service the car and also delivery of car should fast .', 'they pick up the phone and then disconnect it . they tell their schedule is busy , they say it will take some time we will call you but they never call back . and when we call the service station then immediately they ask us to send the car . they should tell us the schedule properly .', 'toyota have an app , it \\\\? s a mobile app which is not applicable for all the customers . first of all , this app should be for every customer . this app should be available for all the users . also this app should be free for all the users . through this app we can fix appointments . if we have any problem we can register there , so that we can get expert advice plus . we would get proactive information . we should know after how much kilometer of car driven should we do the servicing of the car so that accordingly we can take an appointment . such mobile app toyota must add so that we do not face any problem in appointment fixing .', 'they must keep customer care person to take appointments and you must also increase the dealership .', 'last time appointment was been cancelled . they should arranged about the appointments , no customer should return . they should have consult with the owner about the servicing time .', 'after take appointment dealership staff should be servicing the car that time because customer take appointment but staff are not servicing car that time we have to wait for unnecessary 25minutes so that should be improved and they should have followed the appointment time properly .', 'toyota car is best in the market even the customer of toyota is much . its renold company all the people thinks they will give quick response , they will talk good and treat in good manner . jd is currently opened and location also we do not know . i made them call but they did not pick the call so i made the call to the showroom and they provide me one number . i reached to the city where their is showroom they said service will not happen so they again provide one more number . i said them the number which you provide me provide to all so we will not face any difficulties to search .', 'whenever customer need to get service they should do servicing it that time frame . if we want to take our vehicle out of city at that time they should do servicing of our car .', 'the procedure of appointment should be improved . as there are so many cars which executive need to follow so it takes much more time and i sat for long time .', 'they give us time for the service appointment but if any other vehicle comes , they start doing servicing of that vehicle before we come . so this should not be done as they should give attention to the appointment vehicles first .', 'they should make improvement in fixing the appointment . they do not work like the way they earlier used to do .', 'when customer call to service center for take appointment that time they are not giving proper appointment .', 'there are 1 dealership only they should open more because we have to wait around 4 5 days . to collect the car i have to come 15 km from home so they should open in jaipur also one more service center .', 'if you have given appointment to the customer then his car also has to be received . if you do not receive then what is the use of appointment . when can go to another dealer also apart from uttam toyota . if customer has entered the service center after taking an appointment , then his car should be handled at the earliest and must give the solution . put the car on the service', 'if we take appointment then they tell us to visit by 10 11 or if we visit on time they do not able provide service on time . if they are providing a time period then they should fulfill on given time . they should improve in this . they should provide timing for appointment .', 'last time when i made a call for appointment not a single phone was connecting . we made call on 3 4 number then we pick the number from google then took appointment .', 'first of all receive the client who comes there or very first fill the job card . nobody comes to receive us . they must not make us wait for 1 1 hour . must attend us immediately since the person has taken appointment , finish his work first . there is a need to improve in cleaning department . your seniors must think about this . i wanted to complain i did now you look after it .', 'pick up and drop facility should be available .', 'staff is less . due to that waiting time is more . they have to do first seeing . they have to fallow the note pad for taking the appointment from the customer', 'whenever i go for service i have to wait outside of dealership till 30 minuets . we have to wait on compound and even they don \\\\? t have parking space so we park our vehicle on road because of this we cannot leave our vehicle park on road .', 'it would be convenient for customers like me if the service center is in the local area , as it will save the time as well as the crowd will be less . as of now we need to travel 20 km to reach the service center .', 'they should trained the staff who are taking appointments .', 'i told them to take my car for test drive and inspected but i spend my one and half hour as they denied to check the car with the method i told them', 'they should service the car without appointments also .', 'persons not available at that are persons should be available to receiving the center . they have to give the proper details they have to provide the knowledge persons for explaining . after receiving the vehicle . the vehicle is not cleaning what ever the center they have to fallowing they . the dealership location is traffic place they have to the space of the dealership location parking place provide should be available . they are not servicing the after acutely problems but asking the different query', 'they should deliver car at the promised time . they said it will take 4 hours but actually they took whole day .', 'they should do the work which they committed and also should not take too much time .', 'they should not take too much time of customers .', 'when customer comes in dealership that time they should quickly attend the customer give to proper response .', 'some times we called that time they said as the space is not available there . so they should arrange the other place . they should open more service centers .', 'i always taken appointment before the one day but then also after the visiting number was arriving late as well as i was facing problems . it would be good if they receive the car on time it means when we are taken number for appointment on the same number they should receive the car .', 'after service while collecting vehicle it took too much time . we have to wait half hour to one hour . staffs are ok . after taking car for service should be done in half hour . they should pick our car within half hour of service .', 'if we get the appointment on the time which we want so it will be ok . like if we want appointment on sunday so we did not get it . we are getting it very difficultly .', 'they should do more improvement in fixing the appointment for the car servicing .', 'for appointment we have to call them 1 week to 2 weeks before . if i go to bangalore or coimbatore we will give in 2 days but here i have to wait for 1 or 1 and half week', 'appointment availability is not there in dealership . whenever we call they give us appointment after 3 4 days .', 'they do not give response when we call them for service appointments .', 'if any customer take appointment that time they should tell to the customer how much vehicle is there for the servicing and how much time it will take . they should not attend f to known customers first . they should treat to every customer equally .', 'you can improve your service i want next day appointment but they gave me after one week appointment .', 'no improvement require all are fine', 'there should be assigned 1 telephone or mobile for asking the appointment . they should getting an appointment by call . location is convenient place and charges are normal .', 'servicing like oiling and greasing should be done properly . just do not wash and give . should be checked completely if it is perfect or no . what problem is there and what problem can come in future even this they should tell us . and outside customer like i went to korba from vilaspur and they were giving me two days time for servicing so i had to stay there for 2 days so that i could do complete servicing and need not come again . i went there by taking appointment . i reached there by 11 am after that they gave me car in the evening . i reached there on their buffer time so then they tell me your car is in waiting . they made me wait for 8 hours . they tell us to give 5 , 4 pointy means dealer himself is doing a mistake . customer will go to any location and those whom you call by appointment their work should be done on priority . outside customers should be given service before the local customers . and then in such a crowd they will give the car only after washing . they gave me 1 pm timing and i reached on correct time but they took the car for servicing at 4 pm . so i told them i need to go back so they just washed the car . servicing must be done perfectly in the given appointment time .', 'no improvement require all are fine', 'when we call for the appointment they should give the appointment on same day .', 'no improvement require', 'i need sms alert or any time of alert before one month for service appointment , because i stay far from the service station so i need to arrange some vehicle for servicing or i need to call my friends or relatives to pick up drop .', 'i don \\\\? t get the quick booking service from the dealership they are taking approx . 1week 2 days time to book the servicing request . if toyota improved this service then it will be good for customers . a customer always wants to get benefits , if i get the service next day after called then it good for me . when i make call to them they are busy', 'i don \\\\? t have time to drop my car usually i ask them to pick the car , but they give me dates when i am not free . i ask them to pick up the car whenever i am free .', 'i used car for one year only , but within this year also ac was not work properly , so they should work on it as soon as possible .', 'service must be done on time', 'they should be satisfied customers properly', 'amana toyota opened the new service centre . but the full facilities are not yet available . that is one of the area amana toyota should improve . fullest service including water get service is not yet available . they should have fullest service they should give appointment on time also', 'no improvement require', \"online facility to available for customer . if the online facility should be started on 9 . 00 then we will come to know when my car going to servicing . if they do n't have time then we can do it at evening .\", \"to get the appointment for servicing the car , ca n't get the appointment on own convenience time . though if it will get , then they kept the car aside for 3 to 4 days .\", 'they have to increase the staff .', 'they have to take the servicing immediately .', 'i have one problem that we are not getting appointment on time and if there is any festival that we are facing some problem . but in appointment the service center is there it is like of sbi . you people know the address of customer in which area which customer is there on that you can send the advice and it is near by from there . if we will get appointment like this it will be better .', 'they should be improve in pick up and drop . one time i have an emergency , when i call them for appointment for pick up and drop but they not done . i had to visit over there . i have an emergency but had to go there personally . they should be improve in service appointment', 'i was travelling from chennai to coimbatore for all service , when i ask for appointment they normally delays two days to fix the appointment itself . so if they fix the appointment immediately then it will save my timing', 'when we taken the appointment that time car service must be done .', 'appointment should be improved , they are not appointed when our given time , they giving other time .', 'they have to talk properly . kindly look into this matter', 'they are taking appointment on computer , online booking instead of they have to take the appointment on phone it will be good for us .', 'when we are giving appointment they are not responding for us and not taking care , it should be improved .', 'first we not get appointment only . if we get the appointment we get it so let let only .', 'i look for the slot time by 9 00am and 9 30am but i always get the appointment by 11 00am or 11 30am or 12 00pm even i take 1week prior appointment i get the same so , it should 9 00am or 9 30am so that it would be comfortable .', 'they are not taking appointment if any customers caris suddenly break doen so break down service also they are not arrangimg immidiate appointment . they have to make an parellel appointment .', \"we need to take booking before 7 days at toyota service location . then they come at home take your car with then . but other companies did n't follow such thing . they take your car for servicing any time whenever you take your car at service station .\", 'no improvement require', 'they are taking more time to give appointment we should get appointment early .', 'they have to provide the communicated time period when they receive the vehicle . speed of the service', 'when i called at service center appointment my servicing the car , then they told me , now , we had not time , you are called us before time only , they should be given details to the customer about appointment time . they should be calling us pickup and drops timing .', 'during the servicing time , the dealership staff must say to customers to sit and we will do your work .', 'they called themselves for the appointment that your cars run this much kilometer do the servicing . so they should give appointment to customer on time .', 'if we are appointment to the call , then they are not response to us . they are transferring the call one another . it should be improved .', 'other than annamalai service centre no need any appointment for service but here every small thing also we have to take appointment . for emergency also we have to take appointment it consume time .', 'the receiving should be good .', 'at dealership servicing and appointment should be improved . how should be it is improved i am not possible to saying .', 'servicing should be done in time to time .', 'which appointment has fixed to the customer they should be 100 should be given', 'i am not told that servicing work , we should be thought that the work how it is doing it', 'once i had got an call from surat . they told me to do booking and when i had done the booking they told there are many cars . so i told but i had done the booking then they took my car . it is 60 km away from my town and i had to go specially for servicing . so there should be same improvement .', 'they can call me remind it my next service .', 'when we take appointment of the car we face problem at that time .', 'i called to toll free number at lanson dealership so that time the told its not available in lanson dealership at pondicherry they told visit to chennai , but there is available at pondicherry that people are not aware about it . dealership people should be aware all this things . service must be improving .', 'if we give the car for servicing they take more time to return it . we don \\\\? t get appointment quickly . if we get the appointment then also it takes 1 \\\\? month . we should get appointment in 2 3 days .', 'no improvement require', 'appointment should get on same day .', 'appointment should be improved .', 'appointments first day they should be calling to the customer , otherwise we taken away the car at service center , then we returning back our car .', 'easy to servicing appointment job card appointment taken 10 to 15 minutes after it opened . that is why service advisor should be more .', 'after going there they should be provide appointment facility .', 'at last service i am waited too much time , should be improved appointment . if there less car for servicing we are not waited long time . that day more cars at servicing . hence i had waited more time .', 'this appointment should be made early .', 'another companies call if we take a appointment but they are not call us , they should be called once in month .', 'service booking appointment any time , this facility should bring for example net booking and online booking like that it should be for 24 hours it this service would they bring it will be good .', 'for appointment they on time like before 1 month before 1 week 1day or 1hour also they car , but they not give car on time after servicing then what is user call .', 'there is a confusion in between staff of dealership . at the time of purchasing car they give me conation i faced problem in that they have one branch nearby fishayalal ormanji . so there is also confusion in staff of price selecting giving notation i not satisfied because of this . so there should be proper understanding in between staff .', 'when i fix the servicing so no message comes your appointment done or not and when i go service center then they told we your appointment was not there . when i call in the center then they told me your appointment was fix that why message should become .', 'they should give pick up drop service . they should increase drive staff or they cancel completely drop facility . one dealership offer one not it should not happen . they should charge for pick up drop it they want . so as per need customer can use it .', 'their no more servicing cars then also they are giving appointment too late .', 'appointment time should be need to checking . if customer need to urgent appointment then they are should be adjusted . the customer care not given directly appointment time . hence , should be cross checking the appointment time', 'an appointment pick up and drop service start in 11am . another dealership this service start in morning . so they should be also start in morning .', 'we have to take appointment to visit dealership so they should stop this system .', \"we have to take appointment from pune . so we face problems so they should give us facility to take appointment from kolhapur before they know us . and if we have any urgency we can tell them . at pune we do n't know anybody so we face problem .\", 'there are calling for appointment . from honda we get calls so they should do follow up that your car servicing is there .', 'spare parts are not available', 'once the appointment is confirm customer can delayed but if the customer is there in time that customer should be not keep waiting . when the customer is already in the service center with their vehicle with his confirm time , then that vehicle should be immediately taken for service not by keeping the vehicle out keeping the customers sitting taking the vehicle for service in 1 hour or 2 hours is not .', 'if customer wants urgent appointment , then the should be given it .', 'no improvement require', 'i am wait till 2 month to get service appointment they should thing customer was wait till month so they should give the appointment early', 'they take more time for appointment at dsk pune . we have to wait for 1 month this is very long time . so they should not take this much time . we should get service in 1 2 weeks only . it means as early as possible .', 'i had done job at solapur so it is convenient for me but for appointment we have to call pune . so they should start the appointment system from solapur only . and appointment manages from there only .', 'as soon as the car enters the advisor needs to check the car toughly if any problem arises handle the problem on the same time .', 'they are not giving appointment immediately after phone call . we told them kilometer of car then they should give me appointment after 1 or 2 days but they give me appointment after 1 1 . 1 2 month we are not getting proper service .', 'if we visit there on appointment taken time then also they are not take car on time . we have to wait for long time .', 'there is only service centre . so we get more time for appointment . i get appointment of long time . because they have load of cars . so we did not get appointment early .', 'on dealership if should provide pick up drop service is good for us . in pune doing like that they called us take the car give after servicing . some time we are busy we have no time . that time they should provide pick up drop service is good for us .', 'if any problem arises in dealership number they should inform the customer through sms for the appointment purpose .', 'which people taken an appointment , they should first attained them and immediately work on it . before started the worked they should informed us how much it will take time . after committed the time they should delivered a car on time .', 'respondent did not answer what improvement to be done', 'they should given an appointment in 2 to 3 days because my car was used 200 km per day .', 'they should take feedback . we used to wait for 1 month for appointment or 25 days we used to wait . even after 2 days also they say us to wait . the appointment should be available fast', 'every time we have to book an appointment through toll free numbers only . even for any emergency also . if \\\\? we have some other alternative numbers for emergence appointment then it will be good', 'while appointment which time they given for servicing , work should be done on that time and also they should not take another car for servicing which car came first for servicing they should prefer them first .', 'after we took appointment they should remind us for an appointment .', 'appointment needs to be given properly . for appointment we need to wait for one to one half house . management should take the responsibility on appointment the waiting space needs to be wide . they should inform is when the service needs to be given . the appointment needs to be there given within half days .', 'even after 20 25 days also we don \\\\? t get appointment . i got my appointment on 2nd but my car runned for 8000 km . it had only 200km in which i want to go job also . it took 3 days for servicing . they should increase the staff .', 'the spare parts of market price are less 30 difference in parts of charges they provide us .', 'i never went to service center by taking an appointment because whenever i went there they do the servicing at that time because that time the cars are not present there which have taken time for the servicing . they should improve the appointment time schedule .', 'they gave appointment after 4 5 days . when we dropped the car for servicing , they took 2 3 days .', 'they should open one more service center as the service center have too much rush and because of that customer not able to take appointment according to his convenient', 'workshop should be broad to avoid harshness of customers from overcrowded situation .', 'no no . i won \\\\? t give any suggestion for this it is their own problem that how the way them makes customer satisfied .', 'they should properly deal with the customers .', 'do not deliver the car on fixed time of appointment . gives 3 days of gap after booking an appointment . even if we re emergency they do not give appointment . not on other time but at least on emergency they need to serve the customer accordingly .', \"if a person is in an emergency , the service center people should cooperate with the customers . if there is a customer who is free or has lots of time and if he wants to take his car to the service center and requests the service center people for the same , the service center people should pay attention to the customers request . but the customer care people are very adamant that they cannot give the number . it 's understandable that you ca n't give number but you should compromise and help the customer out with his request . now a days everyone is in a hurry and if someone is asking for an appointment , they should be provided with it . the service center people should analyze the customers situation and cooperate accordingly with them .\", \"they should call back to the customer when they missed customer 's call\", 'they should improve in pickup drop facility . they do delay in this facility . when i am taking appointment now a days life is very busy so they give pickup drop facility . his pickup drop facilities are very less . for example if we want tomorrow appointment then his guys are not ready to give , they postpone the day after a week or 2 week later that time his guys are available . so for this they should increase the staff', 'no improvement require', 'there should be messaging facility for servicing appointment .', 'when car gone there for servicing that time service advisor should come because he was came late .', 'they should do quick service of our vehicle after appointment .', 'it is good but need to improve', 'no improvement require', 'they should have flexibility to fix an appointment . we always get an appointment after two days if we should get an appointment within 24 hours so , it will good .', 'if customer gone there without any appointment so they should handle a customers as soon as possible and also customers should not wait so much it me', 'they should not attend first the customer whom they know', 'we taken appointment then also we had to wait there almost 4 5 hour so they should do that work within half hour .', 'they should do improvement in appointment timing . timing have lots of gap .', 'the service center should briefly explain the days . if the car running about it then the car should be done for servicing . they should call their customer . when you bring your car \\\\? or how much km the car runner .', 'we don \\\\? t have to call at banaras service center for car appointment . insisted of that they should give this facility at assam grad so we can get appointment fast . because when i call banaras service center i have to call 3 4 times . if i complaint why you are reserving my call then they replay that you are calling at the time of launch .', 'there not giving appointment on time . the producer should be easy . customer should get appointment when he needed .', 'they should regularly call me for car servicing .', 'they should not take 15 20 days for appointment it should get within 1 week because i am free on saturday because i require car on those days so that why i require appointment as much as possible .', 'they should improve in appointment . when we demand for appointment they should give it in minimum 7 days . because they told to wait for 1 month , so that we have to visit sharayu for servicing .', 'waiting time is more parts are available of car .', 'appointment should be book an online . booking should be happen fast .', 'they should inform customer all information on phone . so customer time will not waste phone through customer can register car number . so phone sport is necessary .', 'arrangement of service appointment for this i will say my friend is coming hearer picking my vehicle taking their for servicing . mr . ankit he is providing me good service he comes to pick my car for servicing , after completing he just delivering me that . this service provided by my friend mr . ankit not from the side of toyota corolla , they are charging for that pick drop . this kind of hurting thing remains in the minds of customer forever .', 'they should improve on service appointment it needs to be done fast .', 'appointment should be as per customer request', 'when we call for appointment at that time mobile was switch off . the service center opens at 10 00 am but i started calling at 9 30am and that time only the mobile was servictch off i got appointment tab 10 30 am and evening 3 00 pm also the mobile was scratch . in service center if a lay calls that time the mobile was on after that it will be scratch off . there is no one to stop them they do all the work as per their over .', 'they should deliver the car at the give time but here it takes more time to deliver the car .', 'if customer visited early morning without appointment then they take service tare they have this clause that early morning it we want to do servicing then we have to pay 10 to 25 .']\n"
     ]
    }
   ],
   "source": [
    "question_class = 'q1'\n",
    "fname = '..//data//%s.txt' % question_class\n",
    "with open(fname) as f:\n",
    "    content = f.readlines()\n",
    "# you may also want to remove whitespace characters like `\\n` at the end of each line\n",
    "content = [x.strip() for x in content]\n",
    "print 'length of content', len(content)\n",
    "f.close()\n",
    "print content"
   ]
  },
  {
   "cell_type": "code",
   "execution_count": 4,
   "metadata": {},
   "outputs": [
    {
     "name": "stdout",
     "output_type": "stream",
     "text": [
      "length of new content 395\n",
      "['after taking appointment then also i have to wait 1 to 1 and half hour .', 'even there was no rush , work should be done immediately .', 'service center should provide comfortable time for servicing from there end .', 'or they should arrange service like we can do booking through messages .', 'also toyota has given only one number for all services .', 'after arranging the appointment they should quickly service the car and also delivery of car should fast .', 'they pick up the phone and then disconnect it .', 'they tell their schedule is busy , they say it will take some time we will call you but they never call back .', 'and when we call the service station then immediately they ask us to send the car .', 'they should tell us the schedule properly .', 'toyota have an app , it \\\\?', 's a mobile app which is not applicable for all the customers .', 'first of all , this app should be for every customer .', 'this app should be available for all the users .', 'also this app should be free for all the users .', 'through this app we can fix appointments .', 'if we have any problem we can register there , so that we can get expert advice plus .', 'we would get proactive information .', 'we should know after how much kilometer of car driven should we do the servicing of the car so that accordingly we can take an appointment .', 'such mobile app toyota must add so that we do not face any problem in appointment fixing .', 'they must keep customer care person to take appointments and you must also increase the dealership .', 'last time appointment was been cancelled .', 'they should arranged about the appointments , no customer should return .', 'they should have consult with the owner about the servicing time .', 'after take appointment dealership staff should be servicing the car that time because customer take appointment but staff are not servicing car that time we have to wait for unnecessary 25minutes so that should be improved and they should have followed the appointment time properly .', 'toyota car is best in the market even the customer of toyota is much .', 'its renold company all the people thinks they will give quick response , they will talk good and treat in good manner .', 'jd is currently opened and location also we do not know .', 'i made them call but they did not pick the call so i made the call to the showroom and they provide me one number .', 'i reached to the city where their is showroom they said service will not happen so they again provide one more number .', 'i said them the number which you provide me provide to all so we will not face any difficulties to search .', 'whenever customer need to get service they should do servicing it that time frame .', 'if we want to take our vehicle out of city at that time they should do servicing of our car .', 'the procedure of appointment should be improved .', 'as there are so many cars which executive need to follow so it takes much more time and i sat for long time .', 'they give us time for the service appointment but if any other vehicle comes , they start doing servicing of that vehicle before we come .', 'so this should not be done as they should give attention to the appointment vehicles first .', 'they should make improvement in fixing the appointment .', 'they do not work like the way they earlier used to do .', 'when customer call to service center for take appointment that time they are not giving proper appointment .', 'there are 1 dealership only they should open more because we have to wait around 4 5 days .', 'to collect the car i have to come 15 km from home so they should open in jaipur also one more service center .', 'if you have given appointment to the customer then his car also has to be received .', 'if you do not receive then what is the use of appointment .', 'when can go to another dealer also apart from uttam toyota .', 'if customer has entered the service center after taking an appointment , then his car should be handled at the earliest and must give the solution .', 'put the car on the service', 'if we take appointment then they tell us to visit by 10 11 or if we visit on time they do not able provide service on time .', 'if they are providing a time period then they should fulfill on given time .', 'they should improve in this .', 'they should provide timing for appointment .', 'last time when i made a call for appointment not a single phone was connecting .', 'we made call on 3 4 number then we pick the number from google then took appointment .', 'first of all receive the client who comes there or very first fill the job card .', 'nobody comes to receive us .', 'they must not make us wait for 1 1 hour .', 'must attend us immediately since the person has taken appointment , finish his work first .', 'there is a need to improve in cleaning department .', 'your seniors must think about this .', 'i wanted to complain i did now you look after it .', 'pick up and drop facility should be available .', 'staff is less .', 'due to that waiting time is more .', 'they have to do first seeing .', 'they have to fallow the note pad for taking the appointment from the customer', 'whenever i go for service i have to wait outside of dealership till 30 minuets .', 'we have to wait on compound and even they don \\\\?', 't have parking space so we park our vehicle on road because of this we cannot leave our vehicle park on road .', 'it would be convenient for customers like me if the service center is in the local area , as it will save the time as well as the crowd will be less .', 'as of now we need to travel 20 km to reach the service center .', 'they should trained the staff who are taking appointments .', 'i told them to take my car for test drive and inspected but i spend my one and half hour as they denied to check the car with the method i told them', 'they should service the car without appointments also .', 'persons not available at that are persons should be available to receiving the center .', 'they have to give the proper details they have to provide the knowledge persons for explaining .', 'after receiving the vehicle .', 'the vehicle is not cleaning what ever the center they have to fallowing they .', 'the dealership location is traffic place they have to the space of the dealership location parking place provide should be available .', 'they are not servicing the after acutely problems but asking the different query', 'they should deliver car at the promised time .', 'they said it will take 4 hours but actually they took whole day .', 'they should do the work which they committed and also should not take too much time .', 'they should not take too much time of customers .', 'when customer comes in dealership that time they should quickly attend the customer give to proper response .', 'some times we called that time they said as the space is not available there .', 'so they should arrange the other place .', 'they should open more service centers .', 'i always taken appointment before the one day but then also after the visiting number was arriving late as well as i was facing problems .', 'it would be good if they receive the car on time it means when we are taken number for appointment on the same number they should receive the car .', 'after service while collecting vehicle it took too much time .', 'we have to wait half hour to one hour .', 'staffs are ok .', 'after taking car for service should be done in half hour .', 'they should pick our car within half hour of service .', 'if we get the appointment on the time which we want so it will be ok .', 'like if we want appointment on sunday so we did not get it .', 'we are getting it very difficultly .', 'they should do more improvement in fixing the appointment for the car servicing .', 'for appointment we have to call them 1 week to 2 weeks before .', 'if i go to bangalore or coimbatore we will give in 2 days but here i have to wait for 1 or 1 and half week', 'appointment availability is not there in dealership .', 'whenever we call they give us appointment after 3 4 days .', 'they do not give response when we call them for service appointments .', 'if any customer take appointment that time they should tell to the customer how much vehicle is there for the servicing and how much time it will take .', 'they should not attend f to known customers first .', 'they should treat to every customer equally .', 'you can improve your service i want next day appointment but they gave me after one week appointment .', 'no improvement require all are fine', 'there should be assigned 1 telephone or mobile for asking the appointment .', 'they should getting an appointment by call .', 'location is convenient place and charges are normal .', 'servicing like oiling and greasing should be done properly .', 'just do not wash and give .', 'should be checked completely if it is perfect or no .', 'what problem is there and what problem can come in future even this they should tell us .', 'and outside customer like i went to korba from vilaspur and they were giving me two days time for servicing so i had to stay there for 2 days so that i could do complete servicing and need not come again .', 'i went there by taking appointment .', 'i reached there by 11 am after that they gave me car in the evening .', 'i reached there on their buffer time so then they tell me your car is in waiting .', 'they made me wait for 8 hours .', 'they tell us to give 5 , 4 pointy means dealer himself is doing a mistake .', 'customer will go to any location and those whom you call by appointment their work should be done on priority .', 'outside customers should be given service before the local customers .', 'and then in such a crowd they will give the car only after washing .', 'they gave me 1 pm timing and i reached on correct time but they took the car for servicing at 4 pm .', 'so i told them i need to go back so they just washed the car .', 'servicing must be done perfectly in the given appointment time .', 'no improvement require all are fine', 'when we call for the appointment they should give the appointment on same day .', 'no improvement require', 'i need sms alert or any time of alert before one month for service appointment , because i stay far from the service station so i need to arrange some vehicle for servicing or i need to call my friends or relatives to pick up drop .', 'i don \\\\?', 't get the quick booking service from the dealership they are taking approx .', '1week 2 days time to book the servicing request .', 'if toyota improved this service then it will be good for customers .', 'a customer always wants to get benefits , if i get the service next day after called then it good for me .', 'when i make call to them they are busy', 'i don \\\\?', 't have time to drop my car usually i ask them to pick the car , but they give me dates when i am not free .', 'i ask them to pick up the car whenever i am free .', 'i used car for one year only , but within this year also ac was not work properly , so they should work on it as soon as possible .', 'service must be done on time', 'they should be satisfied customers properly', 'amana toyota opened the new service centre .', 'but the full facilities are not yet available .', 'that is one of the area amana toyota should improve .', 'fullest service including water get service is not yet available .', 'they should have fullest service they should give appointment on time also', 'no improvement require', 'online facility to available for customer .', 'if the online facility should be started on 9 .', '00 then we will come to know when my car going to servicing .', \"if they do n't have time then we can do it at evening .\", \"to get the appointment for servicing the car , ca n't get the appointment on own convenience time .\", 'though if it will get , then they kept the car aside for 3 to 4 days .', 'they have to increase the staff .', 'they have to take the servicing immediately .', 'i have one problem that we are not getting appointment on time and if there is any festival that we are facing some problem .', 'but in appointment the service center is there it is like of sbi .', 'you people know the address of customer in which area which customer is there on that you can send the advice and it is near by from there .', 'if we will get appointment like this it will be better .', 'they should be improve in pick up and drop .', 'one time i have an emergency , when i call them for appointment for pick up and drop but they not done .', 'i had to visit over there .', 'i have an emergency but had to go there personally .', 'they should be improve in service appointment', 'i was travelling from chennai to coimbatore for all service , when i ask for appointment they normally delays two days to fix the appointment itself .', 'so if they fix the appointment immediately then it will save my timing', 'when we taken the appointment that time car service must be done .', 'appointment should be improved , they are not appointed when our given time , they giving other time .', 'they have to talk properly .', 'kindly look into this matter', 'they are taking appointment on computer , online booking instead of they have to take the appointment on phone it will be good for us .', 'when we are giving appointment they are not responding for us and not taking care , it should be improved .', 'first we not get appointment only .', 'if we get the appointment we get it so let let only .', 'i look for the slot time by 9 00am and 9 30am but i always get the appointment by 11 00am or 11 30am or 12 00pm even i take 1week prior appointment i get the same so , it should 9 00am or 9 30am so that it would be comfortable .', 'they are not taking appointment if any customers caris suddenly break doen so break down service also they are not arrangimg immidiate appointment .', 'they have to make an parellel appointment .', 'we need to take booking before 7 days at toyota service location .', 'then they come at home take your car with then .', \"but other companies did n't follow such thing .\", 'they take your car for servicing any time whenever you take your car at service station .', 'no improvement require', 'they are taking more time to give appointment we should get appointment early .', 'they have to provide the communicated time period when they receive the vehicle .', 'speed of the service', 'when i called at service center appointment my servicing the car , then they told me , now , we had not time , you are called us before time only , they should be given details to the customer about appointment time .', 'they should be calling us pickup and drops timing .', 'during the servicing time , the dealership staff must say to customers to sit and we will do your work .', 'they called themselves for the appointment that your cars run this much kilometer do the servicing .', 'so they should give appointment to customer on time .', 'if we are appointment to the call , then they are not response to us .', 'they are transferring the call one another .', 'it should be improved .', 'other than annamalai service centre no need any appointment for service but here every small thing also we have to take appointment .', 'for emergency also we have to take appointment it consume time .', 'the receiving should be good .', 'at dealership servicing and appointment should be improved .', 'how should be it is improved i am not possible to saying .', 'servicing should be done in time to time .', 'which appointment has fixed to the customer they should be 100 should be given', 'i am not told that servicing work , we should be thought that the work how it is doing it', 'once i had got an call from surat .', 'they told me to do booking and when i had done the booking they told there are many cars .', 'so i told but i had done the booking then they took my car .', 'it is 60 km away from my town and i had to go specially for servicing .', 'so there should be same improvement .', 'they can call me remind it my next service .', 'when we take appointment of the car we face problem at that time .', 'i called to toll free number at lanson dealership so that time the told its not available in lanson dealership at pondicherry they told visit to chennai , but there is available at pondicherry that people are not aware about it .', 'dealership people should be aware all this things .', 'service must be improving .', 'if we give the car for servicing they take more time to return it .', 'we don \\\\?', 't get appointment quickly .', 'if we get the appointment then also it takes 1 \\\\?', 'month .', 'we should get appointment in 2 3 days .', 'no improvement require', 'appointment should get on same day .', 'appointment should be improved .', 'appointments first day they should be calling to the customer , otherwise we taken away the car at service center , then we returning back our car .', 'easy to servicing appointment job card appointment taken 10 to 15 minutes after it opened .', 'that is why service advisor should be more .', 'after going there they should be provide appointment facility .', 'at last service i am waited too much time , should be improved appointment .', 'if there less car for servicing we are not waited long time .', 'that day more cars at servicing .', 'hence i had waited more time .', 'this appointment should be made early .', 'another companies call if we take a appointment but they are not call us , they should be called once in month .', 'service booking appointment any time , this facility should bring for example net booking and online booking like that it should be for 24 hours it this service would they bring it will be good .', 'for appointment they on time like before 1 month before 1 week 1day or 1hour also they car , but they not give car on time after servicing then what is user call .', 'there is a confusion in between staff of dealership .', 'at the time of purchasing car they give me conation i faced problem in that they have one branch nearby fishayalal ormanji .', 'so there is also confusion in staff of price selecting giving notation i not satisfied because of this .', 'so there should be proper understanding in between staff .', 'when i fix the servicing so no message comes your appointment done or not and when i go service center then they told we your appointment was not there .', 'when i call in the center then they told me your appointment was fix that why message should become .', 'they should give pick up drop service .', 'they should increase drive staff or they cancel completely drop facility .', 'one dealership offer one not it should not happen .', 'they should charge for pick up drop it they want .', 'so as per need customer can use it .', 'their no more servicing cars then also they are giving appointment too late .', 'appointment time should be need to checking .', 'if customer need to urgent appointment then they are should be adjusted .', 'the customer care not given directly appointment time .', 'hence , should be cross checking the appointment time', 'an appointment pick up and drop service start in 11am .', 'another dealership this service start in morning .', 'so they should be also start in morning .', 'we have to take appointment to visit dealership so they should stop this system .', 'we have to take appointment from pune .', 'so we face problems so they should give us facility to take appointment from kolhapur before they know us .', 'and if we have any urgency we can tell them .', \"at pune we do n't know anybody so we face problem .\", 'there are calling for appointment .', 'from honda we get calls so they should do follow up that your car servicing is there .', 'spare parts are not available', 'once the appointment is confirm customer can delayed but if the customer is there in time that customer should be not keep waiting .', 'when the customer is already in the service center with their vehicle with his confirm time , then that vehicle should be immediately taken for service not by keeping the vehicle out keeping the customers sitting taking the vehicle for service in 1 hour or 2 hours is not .', 'if customer wants urgent appointment , then the should be given it .', 'no improvement require', 'i am wait till 2 month to get service appointment they should thing customer was wait till month so they should give the appointment early', 'they take more time for appointment at dsk pune .', 'we have to wait for 1 month this is very long time .', 'so they should not take this much time .', 'we should get service in 1 2 weeks only .', 'it means as early as possible .', 'i had done job at solapur so it is convenient for me but for appointment we have to call pune .', 'so they should start the appointment system from solapur only .', 'and appointment manages from there only .', 'as soon as the car enters the advisor needs to check the car toughly if any problem arises handle the problem on the same time .', 'they are not giving appointment immediately after phone call .', 'we told them kilometer of car then they should give me appointment after 1 or 2 days but they give me appointment after 1 1 .', '1 2 month we are not getting proper service .', 'if we visit there on appointment taken time then also they are not take car on time .', 'we have to wait for long time .', 'there is only service centre .', 'so we get more time for appointment .', 'i get appointment of long time .', 'because they have load of cars .', 'so we did not get appointment early .', 'on dealership if should provide pick up drop service is good for us .', 'in pune doing like that they called us take the car give after servicing .', 'some time we are busy we have no time .', 'that time they should provide pick up drop service is good for us .', 'if any problem arises in dealership number they should inform the customer through sms for the appointment purpose .', 'which people taken an appointment , they should first attained them and immediately work on it .', 'before started the worked they should informed us how much it will take time .', 'after committed the time they should delivered a car on time .', 'respondent did not answer what improvement to be done', 'they should given an appointment in 2 to 3 days because my car was used 200 km per day .', 'they should take feedback .', 'we used to wait for 1 month for appointment or 25 days we used to wait .', 'even after 2 days also they say us to wait .', 'the appointment should be available fast', 'every time we have to book an appointment through toll free numbers only .', 'even for any emergency also .', 'if \\\\?', 'we have some other alternative numbers for emergence appointment then it will be good', 'while appointment which time they given for servicing , work should be done on that time and also they should not take another car for servicing which car came first for servicing they should prefer them first .', 'after we took appointment they should remind us for an appointment .', 'appointment needs to be given properly .', 'for appointment we need to wait for one to one half house .', 'management should take the responsibility on appointment the waiting space needs to be wide .', 'they should inform is when the service needs to be given .', 'the appointment needs to be there given within half days .', 'even after 20 25 days also we don \\\\?', 't get appointment .', 'i got my appointment on 2nd but my car runned for 8000 km .', 'it had only 200km in which i want to go job also .', 'it took 3 days for servicing .', 'they should increase the staff .', 'the spare parts of market price are less 30 difference in parts of charges they provide us .', 'i never went to service center by taking an appointment because whenever i went there they do the servicing at that time because that time the cars are not present there which have taken time for the servicing .', 'they should improve the appointment time schedule .', 'they gave appointment after 4 5 days .', 'when we dropped the car for servicing , they took 2 3 days .', 'they should open one more service center as the service center have too much rush and because of that customer not able to take appointment according to his convenient', 'workshop should be broad to avoid harshness of customers from overcrowded situation .', 'no no .', 'i won \\\\?', 't give any suggestion for this it is their own problem that how the way them makes customer satisfied .', 'they should properly deal with the customers .', 'do not deliver the car on fixed time of appointment .', 'gives 3 days of gap after booking an appointment .', 'even if we re emergency they do not give appointment .', 'not on other time but at least on emergency they need to serve the customer accordingly .', 'if a person is in an emergency , the service center people should cooperate with the customers .', 'if there is a customer who is free or has lots of time and if he wants to take his car to the service center and requests the service center people for the same , the service center people should pay attention to the customers request .', 'but the customer care people are very adamant that they cannot give the number .', \"it 's understandable that you ca n't give number but you should compromise and help the customer out with his request .\", 'now a days everyone is in a hurry and if someone is asking for an appointment , they should be provided with it .', 'the service center people should analyze the customers situation and cooperate accordingly with them .', \"they should call back to the customer when they missed customer 's call\", 'they should improve in pickup drop facility .', 'they do delay in this facility .', 'when i am taking appointment now a days life is very busy so they give pickup drop facility .', 'his pickup drop facilities are very less .', 'for example if we want tomorrow appointment then his guys are not ready to give , they postpone the day after a week or 2 week later that time his guys are available .', 'so for this they should increase the staff', 'no improvement require', 'there should be messaging facility for servicing appointment .', 'when car gone there for servicing that time service advisor should come because he was came late .', 'they should do quick service of our vehicle after appointment .', 'it is good but need to improve', 'no improvement require', 'they should have flexibility to fix an appointment .', 'we always get an appointment after two days if we should get an appointment within 24 hours so , it will good .', 'if customer gone there without any appointment so they should handle a customers as soon as possible and also customers should not wait so much it me', 'they should not attend first the customer whom they know', 'we taken appointment then also we had to wait there almost 4 5 hour so they should do that work within half hour .', 'they should do improvement in appointment timing .', 'timing have lots of gap .', 'the service center should briefly explain the days .', 'if the car running about it then the car should be done for servicing .', 'they should call their customer .', 'when you bring your car \\\\?', 'or how much km the car runner .', 'we don \\\\?', 't have to call at banaras service center for car appointment .', 'insisted of that they should give this facility at assam grad so we can get appointment fast .', 'because when i call banaras service center i have to call 3 4 times .', 'if i complaint why you are reserving my call then they replay that you are calling at the time of launch .', 'there not giving appointment on time .', 'the producer should be easy .', 'customer should get appointment when he needed .', 'they should regularly call me for car servicing .', 'they should not take 15 20 days for appointment it should get within 1 week because i am free on saturday because i require car on those days so that why i require appointment as much as possible .', 'they should improve in appointment .', 'when we demand for appointment they should give it in minimum 7 days .', 'because they told to wait for 1 month , so that we have to visit sharayu for servicing .', 'waiting time is more parts are available of car .', 'appointment should be book an online .', 'booking should be happen fast .', 'they should inform customer all information on phone .', 'so customer time will not waste phone through customer can register car number .', 'so phone sport is necessary .', 'arrangement of service appointment for this i will say my friend is coming hearer picking my vehicle taking their for servicing .', 'mr .', 'ankit he is providing me good service he comes to pick my car for servicing , after completing he just delivering me that .', 'this service provided by my friend mr .', 'ankit not from the side of toyota corolla , they are charging for that pick drop .', 'this kind of hurting thing remains in the minds of customer forever .', 'they should improve on service appointment it needs to be done fast .', 'appointment should be as per customer request', 'when we call for appointment at that time mobile was switch off .', 'the service center opens at 10 00 am but i started calling at 9 30am and that time only the mobile was servictch off i got appointment tab 10 30 am and evening 3 00 pm also the mobile was scratch .', 'in service center if a lay calls that time the mobile was on after that it will be scratch off .', 'there is no one to stop them they do all the work as per their over .', 'they should deliver the car at the give time but here it takes more time to deliver the car .', 'if customer visited early morning without appointment then they take service tare they have this clause that early morning it we want to do servicing then we have to pay 10 to 25 .']\n"
     ]
    }
   ],
   "source": [
    "# split comment with multi-sentence into multi-comments\n",
    "content_new = []\n",
    "for comment in content:\n",
    "    sents = sent_tokenize(comment)\n",
    "    if len(sents) > 1:\n",
    "        for i in range(len(sents)):\n",
    "            content_new.append(sents[i])\n",
    "    else:\n",
    "        content_new.append(comment)\n",
    "print 'length of new content', len(content_new)\n",
    "print content_new\n",
    "    "
   ]
  },
  {
   "cell_type": "code",
   "execution_count": 5,
   "metadata": {},
   "outputs": [
    {
     "name": "stdout",
     "output_type": "stream",
     "text": [
      "locat\n"
     ]
    }
   ],
   "source": [
    "stemmer = PorterStemmer()\n",
    "print stemmer.stem(\"location\")"
   ]
  },
  {
   "cell_type": "code",
   "execution_count": 6,
   "metadata": {},
   "outputs": [
    {
     "name": "stdout",
     "output_type": "stream",
     "text": [
      "signle sentence with nn 326\n",
      "no comments 9\n",
      "single sentence without nn 60\n",
      "[['hour', 'wait'], ['rush', 'wait'], ['end', 'comfortable'], ['appointment', 'sms'], ['number'], ['delivery'], ['call', 'pick'], ['busy', 'call', 'schedule'], ['station', 'call', 'wait'], ['inform', 'schedule'], ['app'], ['mobile', 'app', 'applicable'], ['app'], ['available', 'app', 'users'], ['app', 'users', 'free'], ['app', 'fix'], ['advice', 'expert'], ['information', 'proactive'], ['driven', 'kilometer'], ['mobile', 'fixing', 'app'], ['care'], ['appointment', 'last'], ['owner', 'consult'], ['appointment', 'punctual', 'unnecessary', 'take', 'wait', 'staff'], ['market'], ['company', 'renold', 'manner', 'quick', 'response', 'treat'], ['jd', 'location'], ['showroom', 'call', 'number', 'pick'], ['city', 'showroom', 'number'], ['difficulties', 'number'], ['frame', 'punctual'], ['city', 'punctual'], ['procedure'], ['many', 'long', 'wait'], ['appointment'], ['attention'], ['fixing', 'improvement'], ['way'], ['proper', 'appointment', 'punctual', 'call', 'take'], ['wait'], ['home', 'location', 'jaipur'], ['received'], ['receive', 'use'], ['uttam', 'dealer'], ['earliest', 'solution'], ['provide', 'appointment', 'punctual', 'able'], ['punctual', 'period'], ['appointment', 'single', 'call', 'last'], ['google', 'call', 'number', 'pick'], ['receive', 'job', 'client', 'card', 'first'], ['receive', 'nobody'], ['hour', 'wait'], ['wait'], ['department', 'cleaning'], ['seniors'], ['available', 'drop', 'pick'], ['staff'], ['waiting', 'due'], ['note', 'pad'], ['whenever', 'till', 'minuets', 'wait'], ['wait', 'compound'], ['park', 'road', 'space'], ['convenient', 'local', 'location', 'crowd'], ['location'], ['staff'], ['test', 'inspected', 'drive', 'hour', 'method'], ['without'], ['available', 'receiving'], ['proper', 'inform', 'knowledge', 'details'], ['receiving'], ['available', 'space', 'provide', 'place', 'location', 'traffic'], ['query', 'different'], ['deliver', 'promised'], ['hours', 'whole'], ['wait'], ['wait'], ['punctual', 'response', 'give'], ['available', 'times', 'called', 'space'], ['place'], ['appointment', 'number'], ['receive', 'punctual', 'appointment', 'number', 'same'], ['wait'], ['hour', 'wait'], ['staffs', 'ok'], ['hour'], ['hour', 'pick'], ['appointment', 'ok'], ['sunday'], ['fixing', 'improvement'], ['call', 'appointment'], ['week', 'coimbatore', 'half', 'wait'], ['availability'], ['call', 'appointment'], ['call', 'response'], ['inform', 'punctual', 'appointment'], ['f'], ['appointment', 'next'], ['mobile', 'call'], ['call'], ['charges', 'convenient', 'place', 'location', 'normal'], ['perfect'], ['inform', 'future'], ['outside', 'complete', 'vilaspur', 'wait'], ['evening'], ['buffer', 'waiting'], ['hours', 'wait'], ['pointy', 'dealer', 'mistake'], ['priority', 'call', 'location'], ['outside', 'local'], ['crowd'], ['timing', 'correct', 'pm'], ['appointment'], ['call', 'appointment', 'same'], ['appointment', 'drop', 'sms', 'alert', 'relatives', 'station', 'call', 'pick', 'friends'], ['quick', 'approx', 'appointment', 'booking'], ['request', 'book', 'appointment', 'wait'], ['benefits', 'called', 'next'], ['busy', 'call'], ['drop', 'free', 'pick'], ['free', 'pick'], ['ac', 'year'], ['punctual'], ['satisfied'], ['amana', 'new'], ['available', 'full'], ['location'], ['water', 'available', 'fullest', 'get'], ['fullest', 'appointment', 'punctual'], ['available', 'online'], ['online'], ['convenience', 'appointment'], ['aside', 'wait'], ['staff'], ['wait'], ['festival', 'punctual', 'appointment'], ['sbi'], ['advice', 'near', 'location', 'address'], ['better'], ['drop', 'pick'], ['call', 'drop', 'appointment', 'emergency', 'pick'], ['emergency'], ['fix', 'chennai', 'appointment'], ['timing', 'fix', 'appointment'], ['punctual', 'appointment'], ['appointment'], ['matter'], ['appointment', 'computer', 'call', 'online'], ['care'], ['slot', 'appointment', 'look', 'same', 'comfortable', 'prior'], ['immidiate', 'arrangimg', 'doen'], ['parellel'], ['appointment', 'location', 'booking', 'wait'], ['home'], ['companies'], ['station'], ['early', 'appointment'], ['receive', 'period', 'communicated'], ['speed'], ['inform', 'appointment', 'called', 'details'], ['timing', 'pickup', 'drops', 'pick'], ['staff'], ['kilometer', 'called'], ['punctual', 'appointment'], ['call', 'response'], ['call'], ['small', 'annamalai'], ['appointment', 'consume', 'emergency'], ['receiving'], ['fixed'], ['surat', 'call'], ['many', 'appointment', 'booking'], ['appointment'], ['town', 'location'], ['same', 'improvement'], ['remind', 'call', 'next'], ['appointment'], ['available', 'pondicherry', 'visit', 'number', 'free', 'aware', 'lanson', 'called'], ['aware'], ['month'], ['appointment'], ['appointment', 'same'], ['appointment', 'first'], ['job', 'minutes', 'easy', 'card'], ['advisor'], ['provide'], ['last', 'wait'], ['less', 'long', 'wait'], ['hence'], ['companies', 'appointment', 'called', 'call'], ['appointment', 'hours', 'online', 'net', 'example', 'booking'], ['call', 'punctual', 'appointment', 'user'], ['confusion', 'staff'], ['ormanji', 'fishayalal', 'conation', 'branch', 'nearby'], ['confusion', 'price', 'satisfied', 'notation', 'staff'], ['proper', 'staff'], ['fix', 'sms'], ['call', 'fix', 'sms'], ['drop', 'pick'], ['drop', 'drive', 'staff'], ['drop', 'pick'], ['appointment'], ['emergency'], ['appointment', 'care'], ['hence', 'appointment', 'cross'], ['start', 'drop', 'pick'], ['start', 'morning'], ['morning'], ['system'], ['pune'], ['urgency'], ['pune', 'anybody'], ['honda', 'calls'], ['available', 'parts', 'spare'], ['waiting', 'appointment', 'confirm'], ['hours', 'wait', 'hour', 'confirm'], ['urgent', 'emergency'], ['till', 'appointment', 'wait'], ['pune', 'appointment', 'dsk'], ['month', 'long', 'wait'], ['weeks'], ['early'], ['convenient', 'job', 'call', 'pune', 'solapur'], ['system'], ['manages'], ['same', 'advisor'], ['appointment', 'call'], ['kilometer', 'appointment'], ['proper', 'month'], ['punctual', 'appointment', 'take'], ['long', 'wait'], ['appointment'], ['appointment', 'long'], ['load'], ['early'], ['drop', 'pick'], ['pune', 'called', 'give'], ['busy'], ['punctual', 'drop', 'pick'], ['inform', 'sms', 'number', 'purpose'], ['wait'], ['worked', 'informed'], ['delivered', 'punctual'], ['respondent', 'improvement'], ['appointment', 'location'], ['feedback'], ['appointment', 'wait'], ['wait'], ['available', 'fast'], ['book', 'appointment', 'numbers', 'free', 'toll'], ['emergency'], ['alternative', 'emergence', 'numbers'], ['punctual', 'appointment'], ['remind'], ['house', 'wait', 'half'], ['wide', 'waiting', 'management', 'responsibility', 'space'], ['inform'], ['appointment', 'half'], ['wait'], ['location'], ['job'], ['wait'], ['staff'], ['charges', 'price', 'parts', 'spare', 'difference', 'market'], ['whenever', 'punctual', 'appointment', 'present'], ['appointment', 'schedule'], ['appointment'], ['wait'], ['convenient', 'rush', 'able'], ['harshness', 'broad', 'situation', 'workshop', 'overcrowded'], ['suggestion', 'way'], ['deliver', 'fixed', 'appointment'], ['appointment', 'gap'], ['emergency'], ['least', 'emergency'], ['emergency'], ['lots', 'attention', 'same', 'free'], ['adamant', 'number', 'care'], ['understandable', 'request', 'number'], ['appointment', 'someone', 'hurry', 'everyone'], ['situation'], ['call'], ['pickup', 'drop', 'pick'], ['life', 'busy', 'appointment', 'drop', 'pickup', 'pick'], ['pickup', 'drop', 'pick'], ['available', 'appointment', 'example', 'ready', 'guys', 'tomorrow'], ['staff'], ['punctual', 'advisor'], ['quick'], ['flexibility', 'fix'], ['hours', 'appointment'], ['without', 'wait'], ['hour', 'wait'], ['timing', 'improvement'], ['lots', 'gap'], ['inform', 'wait'], ['call'], ['runner'], ['banaras', 'call'], ['assam', 'grad', 'fast'], ['banaras', 'call', 'times'], ['call', 'launch'], ['punctual', 'appointment'], ['producer', 'easy'], ['call'], ['appointment', 'saturday', 'free'], ['minimum', 'appointment'], ['sharayu', 'wait', 'month'], ['available', 'waiting', 'parts'], ['book', 'appointment', 'online'], ['happen', 'appointment', 'booking', 'fast'], ['information', 'call', 'inform'], ['call', 'number'], ['necessary', 'sport', 'call'], ['friend', 'arrangement'], ['mr'], ['ankit', 'pick'], ['friend', 'mr'], ['corolla', 'drop', 'side', 'pick'], ['kind', 'forever', 'minds'], ['request'], ['mobile', 'call', 'appointment'], ['appointment', 'mobile', 'scratch', 'punctual', 'tab', 'pm'], ['mobile', 'punctual', 'lay'], ['one'], ['deliver', 'give'], ['early', 'clause', 'without', 'tare', 'morning']]\n"
     ]
    }
   ],
   "source": [
    "\n",
    "def rule_q1(sen, ne):\n",
    "    clean_ne = list(set(ne))\n",
    "    # remove_words = ['customer', 'customers', 'waiting', 'facility', 'facilities', 'dealership', 'toyota', 'improvement']\n",
    "    remove_words = [\"appointment\",\"appointments\", \"improve\",\"improved\", \"customer\", \"customers\",\\\n",
    "                    \"service\",\"servicing\",\"services\", \"people\",\"person\",\"persons\",\"facility\",\"facilities\",\\\n",
    "                    \"availible\",\"good\",\"center\",\"centers\",\"centre\",\"car\",\"cars\", \"dealership\", \"dealerships\",\\\n",
    "                    \"vehicle\",\"vehicles\", \"toyota\", \"problem\",\"problems\",\"work\",\"works\", \"much\",\\\n",
    "                   \"thing\",\"things\", \"possible\",\"need\",\"needs\"]   \n",
    "    clean_ne = [word for word in clean_ne if word not in remove_words]\n",
    "    \n",
    "    save_words = [\"without\", \"call\",\"called\",\"wait\",\"waiting\", \"pick\", \"picked\",\"pickup\", \"drop\",\\\n",
    "                  \"remind\",\"reminded\", \"inform\",\"informed\", \"response\", \"book\",\"booked\",\"booking\",\"fix\",\"fixed\",\"fixing\",\\\n",
    "                 \"receive\", \"receiving\",\"received\",\"same\", \"sms\", \"immediate\", \"immediately\",\\\n",
    "                  \"urgent\",\"deliver\",\"delivered\",\"explain\",\"explaining\",\"explained\", \"detail\",\"details\"]\n",
    "    clean_ne = clean_ne + [word for word in sen.split() if word in save_words]\n",
    "    \n",
    "    # rules to merge keywords:\n",
    "    if 'pickup' in clean_ne:\n",
    "        clean_ne[clean_ne.index('pickup')] = 'pick'\n",
    "    if 'phone' in clean_ne:\n",
    "        clean_ne[clean_ne.index('phone')] = 'call'\n",
    "    if 'telephone' in clean_ne:\n",
    "        clean_ne[clean_ne.index('telephone')] = 'call'\n",
    "    if 'message' in clean_ne:\n",
    "        clean_ne[clean_ne.index('message')] = 'sms'\n",
    "    if 'messages' in clean_ne:\n",
    "        clean_ne[clean_ne.index('messages')] = 'sms'\n",
    "    if 'km' in clean_ne:\n",
    "        clean_ne[clean_ne.index('km')] = 'location'\n",
    "    if 'area' in clean_ne:\n",
    "        clean_ne[clean_ne.index('area')] = 'location'      \n",
    "    if 'urgent' in clean_ne:\n",
    "        clean_ne[clean_ne.index('urgent')] = 'emergency'\n",
    "    if 'detail' in clean_ne:\n",
    "        clean_ne[clean_ne.index('detail')] = 'inform'\n",
    "    if 'details' in clean_ne:\n",
    "        clean_ne[clean_ne.index('details')] = 'inform'\n",
    "    if 'explain' in clean_ne:\n",
    "        clean_ne[clean_ne.index('explain')] = 'inform'\n",
    "    if 'explaining' in clean_ne:\n",
    "        clean_ne[clean_ne.index('explaining')] = 'inform'\n",
    "    if 'should tell' in sen:\n",
    "        clean_ne.append('inform')\n",
    "    # add keyword \"appointment\"\n",
    "    if 'book' in clean_ne:\n",
    "        clean_ne[clean_ne.index('book')] = 'appointment'\n",
    "    if 'booking' in clean_ne:\n",
    "        clean_ne[clean_ne.index('booking')] = 'appointment'\n",
    "    if 'day' in clean_ne:  # split 'day' to 'appointment' and 'wait'\n",
    "        if 'appointment' in sen:\n",
    "            clean_ne[clean_ne.index('day')] = 'appointment'\n",
    "        else:\n",
    "            clean_ne.remove('day')\n",
    "    if 'days' in clean_ne:  # split 'days' to 'appointment' and 'wait'\n",
    "        if 'appointment' in sen:\n",
    "            clean_ne[clean_ne.index('days')] = 'appointment'\n",
    "        else:\n",
    "            clean_ne[clean_ne.index('days')] = 'wait'\n",
    "    if 'week' in clean_ne and 'appointment' in sen:\n",
    "        clean_ne[clean_ne.index('week')] = 'appointment'\n",
    "    if 'weeks' in clean_ne and 'appointment' in sen:\n",
    "        clean_ne[clean_ne.index('weeks')] = 'appointment'\n",
    "    if 'month' in clean_ne and 'appointment' in sen:\n",
    "        clean_ne[clean_ne.index('month')] = 'appointment'\n",
    "    if 'months' in clean_ne and 'appointment' in sen:\n",
    "        clean_ne[clean_ne.index('months')] = 'appointment'\n",
    "    # add keyword \"without\" appointment\n",
    "    if 'without appointment' in sen or 'without any appointment' in sen:\n",
    "        clean_ne.append('without')\n",
    "    # add keyword \"punctual\" (on time)\n",
    "    if 'on time' in sen:\n",
    "        clean_ne.append('punctual')\n",
    "    if 'that time' in sen and ('servic' in sen or 'work' in sen or 'attend' in sen):\n",
    "        clean_ne.append('punctual')\n",
    "    if 'fulfill' in sen or 'stick' in sen:\n",
    "        clean_ne.append('punctual')\n",
    "    # split \"immediately\" into \"wiat\" and \"appointment\" cluster\n",
    "    if 'immediately' in clean_ne:\n",
    "        if 'servic' in sen or 'work' in sen or 'attend' in sen:\n",
    "            clean_ne[clean_ne.index('immediately')] = 'wait'\n",
    "        else:\n",
    "            clean_ne[clean_ne.index('immediately')] = 'appointment'\n",
    "    # split 'time' to other clusters\n",
    "    if 'too much time' in sen:\n",
    "        clean_ne[clean_ne.index('time')] = 'wait'\n",
    "    if 'long time' in sen:\n",
    "        if 'appointment' in sen:\n",
    "            clean_ne[clean_ne.index('time')] = 'appointment'\n",
    "        else:\n",
    "            clean_ne[clean_ne.index('time')] = 'wait'\n",
    "    if 'time' in clean_ne:\n",
    "        if 'appointment' in sen:\n",
    "            clean_ne[clean_ne.index('time')] = 'appointment'\n",
    "        else:\n",
    "            clean_ne.remove('time')   # remove other 'times'\n",
    "        \n",
    "    clean_ne = list(set(clean_ne))\n",
    "    return clean_ne\n",
    "\n",
    "def clean_corpus(x1):\n",
    "    x_new = []\n",
    "    for x in x1:\n",
    "        if 'no improvement' in x:\n",
    "            continue\n",
    "        else:\n",
    "            x_new.append(x)\n",
    "    return x_new\n",
    "\n",
    "def process_corpus(x1, pos_tags, general_stop):\n",
    "    # split three categories: 1 no improvemnt 2 with noun 3 others\n",
    "    doc_noimprove = []\n",
    "    doc_nn = []\n",
    "    nn_extracted = []\n",
    "    doc_other = []\n",
    "    for x in x1:\n",
    "        if 'no improvement' in x:\n",
    "            doc_noimprove.append(x)\n",
    "        else:\n",
    "                nn_list = []\n",
    "                sen = x\n",
    "                pos_new = nltk.pos_tag(nltk.word_tokenize(sen))\n",
    "                for token in pos_new:\n",
    "                    if token[1] in pos_tags and not token[0] in general_stop:\n",
    "                        nn_list.append(token[0])\n",
    "#                 #stemming\n",
    "#                 for counter,word in enumerate(nn_list):\n",
    "#                     nn_list[counter] = stemmer.stem(word)\n",
    "                # apply rule\n",
    "                nn_list = rule_q1(sen, nn_list)\n",
    "                    \n",
    "                if nn_list != []:\n",
    "                    nn_extracted.append(nn_list)\n",
    "                    doc_nn.append(sen)\n",
    "                else:\n",
    "                    doc_other.append(sen)\n",
    "    return doc_noimprove, [doc_nn, nn_extracted], doc_other\n",
    "        \n",
    "nn_corpus = []\n",
    "\n",
    "# English stop words lists\n",
    "stop_words = stopwords.words('english')\n",
    "punctuation_list = [unicode(i) for i in string.punctuation]\n",
    "for punctuation in punctuation_list:\n",
    "    stop_words.append(punctuation)\n",
    "\n",
    "pos_tags = ['NN', 'NNS','JJ','JJR','JJS']\n",
    "\n",
    "doc1, doc2, doc3 = process_corpus(content_new, pos_tags, stop_words)\n",
    "\n",
    "doc_nn, nn_extracted = doc2[0], doc2[1]\n",
    "print 'signle sentence with nn', len(doc_nn)\n",
    "print 'no comments', len(doc1)\n",
    "print 'single sentence without nn', len(doc3)\n",
    "print nn_extracted"
   ]
  },
  {
   "cell_type": "code",
   "execution_count": 7,
   "metadata": {
    "scrolled": true
   },
   "outputs": [
    {
     "name": "stdout",
     "output_type": "stream",
     "text": [
      "Counter({'appointment': 75, 'wait': 38, 'call': 37, 'punctual': 24, 'pick': 21, 'drop': 15, 'location': 13, 'available': 13, 'number': 12, 'staff': 11, 'emergency': 9, 'inform': 9, 'hour': 8, 'free': 7, 'app': 7, 'called': 7, 'same': 7, 'fix': 6, 'mobile': 6, 'improvement': 5, 'sms': 5, 'waiting': 5, 'booking': 5, 'hours': 5, 'pune': 5, 'receive': 5, 'long': 5, 'online': 5, 'month': 4, 'busy': 4, 'early': 4, 'timing': 4, 'proper': 4, 'space': 4, 'job': 4, 'care': 4, 'pickup': 4, 'response': 4, 'convenient': 4, 'half': 3, 'kilometer': 3, 'quick': 3, 'morning': 3, 'receiving': 3, 'schedule': 3, 'deliver': 3, 'last': 3, 'parts': 3, 'place': 3, 'book': 3, 'advisor': 3, 'next': 3, 'station': 3, 'fast': 3, 'give': 3, 'provide': 3, 'fixing': 3, 'without': 3, 'take': 3, 'request': 3, 'numbers': 2, 'satisfied': 2, 'outside': 2, 'easy': 2, 'local': 2, 'details': 2, 'period': 2, 'fullest': 2, 'companies': 2, 'remind': 2, 'fixed': 2, 'banaras': 2, 'crowd': 2, 'home': 2, 'charges': 2, 'lots': 2, 'example': 2, 'showroom': 2, 'confusion': 2, 'attention': 2, 'spare': 2, 'card': 2, 'many': 2, 'times': 2, 'hence': 2, 'first': 2, 'system': 2, 'price': 2, 'market': 2, 'city': 2, 'start': 2, 'way': 2, 'friend': 2, 'pm': 2, 'aware': 2, 'ok': 2, 'rush': 2, 'mr': 2, 'situation': 2, 'comfortable': 2, 'dealer': 2, 'information': 2, 'able': 2, 'till': 2, 'users': 2, 'advice': 2, 'gap': 2, 'whenever': 2, 'confirm': 2, 'drive': 2, 'approx': 1, 'least': 1, 'feedback': 1, 'producer': 1, 'less': 1, 'scratch': 1, 'lay': 1, 'manages': 1, 'tare': 1, 'ormanji': 1, 'query': 1, 'alternative': 1, 'arrangement': 1, 'speed': 1, 'availability': 1, 'perfect': 1, 'pondicherry': 1, 'knowledge': 1, 'jaipur': 1, 'sharayu': 1, 'better': 1, 'clause': 1, 'cross': 1, 'weeks': 1, 'coimbatore': 1, 'evening': 1, 'get': 1, 'honda': 1, 'unnecessary': 1, 'test': 1, 'traffic': 1, 'compound': 1, 'difference': 1, 'net': 1, 'vilaspur': 1, 'staffs': 1, 'necessary': 1, 'workshop': 1, 'flexibility': 1, 'solution': 1, 'correct': 1, 'convenience': 1, 'annamalai': 1, 'grad': 1, 'communicated': 1, 'seniors': 1, 'google': 1, 'conation': 1, 'house': 1, 'frame': 1, 'applicable': 1, 'urgent': 1, 'computer': 1, 'lanson': 1, 'year': 1, 'happen': 1, 'harshness': 1, 'arrangimg': 1, 'delivered': 1, 'expert': 1, 'broad': 1, 'user': 1, 'doen': 1, 'difficulties': 1, 'renold': 1, 'dsk': 1, 'new': 1, 'method': 1, 'relatives': 1, 'slot': 1, 'full': 1, 'fishayalal': 1, 'small': 1, 'management': 1, 'minuets': 1, 'ankit': 1, 'address': 1, 'jd': 1, 'earliest': 1, 'received': 1, 'launch': 1, 'solapur': 1, 'minds': 1, 'prior': 1, 'proactive': 1, 'suggestion': 1, 'mistake': 1, 'whole': 1, 'road': 1, 'load': 1, 'respondent': 1, 'consume': 1, 'informed': 1, 'parellel': 1, 'uttam': 1, 'everyone': 1, 'inspected': 1, 'owner': 1, 'tomorrow': 1, 'kind': 1, 'use': 1, 'sbi': 1, 'festival': 1, 'guys': 1, 'one': 1, 'visit': 1, 'due': 1, 'priority': 1, 'treat': 1, 'life': 1, 'emergence': 1, 'complete': 1, 'amana': 1, 'company': 1, 'nobody': 1, 'park': 1, 'delivery': 1, 'understandable': 1, 'benefits': 1, 'consult': 1, 'worked': 1, 'adamant': 1, 'present': 1, 'matter': 1, 'town': 1, 'wide': 1, 'look': 1, 'f': 1, 'near': 1, 'future': 1, 'drops': 1, 'minutes': 1, 'procedure': 1, 'promised': 1, 'saturday': 1, 'ac': 1, 'runner': 1, 'immidiate': 1, 'side': 1, 'hurry': 1, 'single': 1, 'chennai': 1, 'manner': 1, 'tab': 1, 'ready': 1, 'different': 1, 'sport': 1, 'end': 1, 'notation': 1, 'purpose': 1, 'aside': 1, 'someone': 1, 'note': 1, 'sunday': 1, 'pad': 1, 'branch': 1, 'department': 1, 'week': 1, 'normal': 1, 'buffer': 1, 'minimum': 1, 'alert': 1, 'driven': 1, 'overcrowded': 1, 'cleaning': 1, 'water': 1, 'toll': 1, 'friends': 1, 'assam': 1, 'forever': 1, 'corolla': 1, 'calls': 1, 'surat': 1, 'anybody': 1, 'client': 1, 'responsibility': 1, 'pointy': 1, 'nearby': 1, 'urgency': 1})\n"
     ]
    }
   ],
   "source": [
    "from collections import Counter\n",
    "def df_count(x1):\n",
    "    text = []\n",
    "    for ab in x1:\n",
    "        text = text + ab\n",
    "    df = Counter(text)\n",
    "    return df\n",
    "df = df_count(nn_extracted)\n",
    "print df"
   ]
  },
  {
   "cell_type": "markdown",
   "metadata": {
    "scrolled": true
   },
   "source": [
    "# Compute centroid of the word vectors for each comment"
   ]
  },
  {
   "cell_type": "code",
   "execution_count": 8,
   "metadata": {},
   "outputs": [
    {
     "name": "stderr",
     "output_type": "stream",
     "text": [
      "Using TensorFlow backend.\n"
     ]
    },
    {
     "name": "stdout",
     "output_type": "stream",
     "text": [
      "1 doc filtered\n"
     ]
    }
   ],
   "source": [
    "from gensim.models import KeyedVectors\n",
    "from sklearn.metrics.pairwise import cosine_similarity\n",
    "\n",
    "filename = \"/data1/shared_all/GoogleNews-vectors-negative300.bin\"\n",
    "word2vec_model = KeyedVectors.load_word2vec_format(filename, binary=True)\n",
    "word2vec_model.init_sims(replace=True)\n",
    "\n",
    "def document_vector(word2vec_model, doc):\n",
    "    # remove out-of-vocabulary words\n",
    "    doc = [word for word in doc if word in word2vec_model.vocab]\n",
    "    return np.mean(word2vec_model[doc], axis=0)\n",
    "\n",
    "def filter_docs(nn_extracted, doc_nn, word2vec_model):\n",
    "    \"\"\"check if at least one word of the document is in the\n",
    "    word2vec dictionary\"\"\"\n",
    "    nn_extracted_filtered = []\n",
    "    doc_nn_filtered = []\n",
    "    num_filtered = 0\n",
    "    for counter, doc in enumerate(nn_extracted):\n",
    "        has_vector_representation = not all(word not in word2vec_model.vocab for word in doc)\n",
    "        if has_vector_representation:\n",
    "            nn_extracted_filtered.append(doc)\n",
    "            doc_nn_filtered.append(doc_nn[counter])\n",
    "        else:\n",
    "            num_filtered += 1 \n",
    "    print \"%d doc filtered\" %num_filtered\n",
    "    return nn_extracted_filtered, doc_nn_filtered\n",
    "\n",
    "nn_extracted, doc_nn = filter_docs(nn_extracted, doc_nn, word2vec_model)\n",
    "\n",
    "\n",
    "\n",
    "similarity_matrix = cosine_similarity(np.array([document_vector(word2vec_model, doc)\n",
    "                                                       for doc in nn_extracted]))\n"
   ]
  },
  {
   "cell_type": "markdown",
   "metadata": {},
   "source": [
    "# Clustering"
   ]
  },
  {
   "cell_type": "code",
   "execution_count": 9,
   "metadata": {},
   "outputs": [
    {
     "name": "stdout",
     "output_type": "stream",
     "text": [
      "Estimated number of clusters: 10\n",
      "325\n",
      "clusters written to folder: cluster_q1\n"
     ]
    }
   ],
   "source": [
    "from sklearn.cluster import SpectralClustering\n",
    "import os\n",
    "\n",
    "n_clusters_ = 10\n",
    "sc = SpectralClustering(n_clusters=n_clusters_, affinity='precomputed').fit(similarity_matrix)\n",
    "labels = sc.labels_\n",
    "print('Estimated number of clusters: %d' % n_clusters_)\n",
    "print len(labels)\n",
    "\n",
    "def write_file(n_clusters_, labels, doc_nn, nn_extracted):\n",
    "    if (not os.path.isdir(\"cluster_%s\" %question_class)):\n",
    "        os.mkdir(\"cluster_%s\" %question_class)\n",
    "    for indice_cluster in range(n_clusters_):\n",
    "        # print indice_cluster\n",
    "        idx_list = np.where(labels == indice_cluster)[0]\n",
    "        f1 = open('cluster_%s/%dth_cluster.txt' % (question_class, indice_cluster), 'w+')\n",
    "        for idx in idx_list:\n",
    "            f1.write('%s %s\\n' % (doc_nn[idx], nn_extracted[idx]))\n",
    "    f1.close()\n",
    "    print(\"clusters written to folder: cluster_%s\" %question_class)\n",
    "    \n",
    "write_file(n_clusters_, labels, doc_nn, nn_extracted)"
   ]
  }
 ],
 "metadata": {
  "kernelspec": {
   "display_name": "python2_pf",
   "language": "python",
   "name": "python2_pf"
  },
  "language_info": {
   "codemirror_mode": {
    "name": "ipython",
    "version": 2
   },
   "file_extension": ".py",
   "mimetype": "text/x-python",
   "name": "python",
   "nbconvert_exporter": "python",
   "pygments_lexer": "ipython2",
   "version": "2.7.13"
  }
 },
 "nbformat": 4,
 "nbformat_minor": 2
}
