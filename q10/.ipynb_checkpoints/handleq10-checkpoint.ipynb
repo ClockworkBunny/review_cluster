{
 "cells": [
  {
   "cell_type": "code",
   "execution_count": 31,
   "metadata": {
    "collapsed": true
   },
   "outputs": [],
   "source": [
    "import numpy as np\n",
    "import cPickle\n",
    "import nltk\n",
    "from nltk.corpus import stopwords\n",
    "from collections import Counter\n",
    "from sklearn.metrics.pairwise import pairwise_distances\n",
    "import itertools\n",
    "import string\n",
    "from nltk.tokenize import sent_tokenize\n",
    "from nltk.stem.porter import *\n",
    "import re\n",
    "#import pyemd\n",
    "#loading word embeddings\n",
    "#wv = KeyedVectors.load_word2vec_format(\"../w2v/w2vemb.bin\", binary=True)"
   ]
  },
  {
   "cell_type": "markdown",
   "metadata": {},
   "source": [
    "# Visualize functions"
   ]
  },
  {
   "cell_type": "code",
   "execution_count": 32,
   "metadata": {
    "collapsed": true
   },
   "outputs": [],
   "source": [
    "def write_file(n_clusters_, labels, corpus, mapping_dict, test_corpus):\n",
    "    for indice_cluster in range(n_clusters_):\n",
    "        # print indice_cluster\n",
    "        idx_list = np.where(labels == indice_cluster)[0]\n",
    "        f1 = open('cluster_%s/%dth_cluster.txt' % (question_class, indice_cluster), 'w+')\n",
    "        for idx in idx_list:\n",
    "            f1.write('%s %s\\n' % (corpus[mapping_dict[idx] - 1], test_corpus[idx]))\n",
    "    f1.close()\n",
    "\n",
    "\n",
    "def write_ne(nes, question_class, mapping_dict):\n",
    "    f1 = open('ne_%s.txt' % question_class, 'w+')\n",
    "    for idx, doc in enumerate(nes):\n",
    "        f1.write('%s %s\\n' % (mapping_dict[idx], ' '.join(doc)))\n",
    "    f1.close()    \n",
    "\n",
    "def wmd_compute(x1, x2):\n",
    "    return wv.wmdistance(x1, x2)\n",
    "\n",
    "def analyze_cluster(n_clusters_, labels, corpus, mapping_dict, test_corpus, filename):\n",
    "    num = 0\n",
    "    other_content = []\n",
    "    for indice_cluster in range(n_clusters_):\n",
    "        idx_list = np.where(labels == indice_cluster)[0]\n",
    "        if len(idx_list) > 4:\n",
    "            f1 = open('%s_%s/%dth_cluster.txt' % (filename, question_class, indice_cluster), 'w+')\n",
    "            for idx in idx_list:\n",
    "                f1.write('%s %s\\n' % (corpus[mapping_dict[idx] - 1], test_corpus[idx]))\n",
    "            f1.close()\n",
    "        if len(idx_list) < 4:\n",
    "            num = num + len(idx_list)\n",
    "            for idx in idx_list:\n",
    "                other_content.append(corpus[mapping_dict[idx] - 1])\n",
    "    f1 = open('%s_%s/other_cluster.txt' % (filename, question_class), 'w+')\n",
    "    for doc in other_content:\n",
    "        f1.write('%s\\n' % doc)\n",
    "    f1.close()\n",
    "    print num"
   ]
  },
  {
   "cell_type": "markdown",
   "metadata": {},
   "source": [
    "# Reading Raw text"
   ]
  },
  {
   "cell_type": "code",
   "execution_count": 33,
   "metadata": {},
   "outputs": [
    {
     "name": "stdout",
     "output_type": "stream",
     "text": [
      "length of comments 445\n"
     ]
    }
   ],
   "source": [
    "question_class = 'q10'\n",
    "fname = '..//dataset//%s.txt' % question_class\n",
    "with open(fname) as f:\n",
    "    content = f.readlines()\n",
    "# you may also want to remove whitespace characters like `\\n` at the end of each line\n",
    "content = [x.strip() for x in content]\n",
    "print 'length of comments', len(content)\n",
    "f.close()"
   ]
  },
  {
   "cell_type": "code",
   "execution_count": 35,
   "metadata": {},
   "outputs": [
    {
     "name": "stdout",
     "output_type": "stream",
     "text": [
      "[['resolve', 'issues', 'customer', 'mentioned', ',', 'listening', 'issue', 'improving', '.'], ['\\\\', '?', 'get', 'nanavati', '.', 'step', 'step', 'customer', 'time', '.', 'handover', 'vehicle', 'servicing', 'stage', 'car', 'much', 'work', 'completed', 'service', 'vehicle', '.', 'insurance', 'completed', 'information', 'provide', '.', 'need', 'ask', '.'], ['know', 'condition', 'car', '.'], ['get', 'show', 'issue', 'concern', 'customer', 'care', '\\\\', '?', 'sort', 'issue', '.', 'like', 'sector', '.', 'tell', 'issue', '\\\\', '?', 'anything', 'ask', 'us', 'issue', '.', 'suggest', 'something', \"n't\", 'implement', '.'], ['wasan', 'toyota', 'always', 'shinrai', 'toyota', 'hardly', 'received', '2', '3', 'till'], ['misplaced', 'one', 'accessory', 'mine', ',', 'told', 'accessory', 'returned', 'car', '.', 'called', 'dealer', 'given', 'complaint', ',', 'luggage', 'tray', 'misplaced', '.', 'took', 'action', 'complaint', '.', 'hence', 'need', 'purchase', 'another', 'accessory', '.'], ['customer', \"'s\", 'car', 'servicing', 'history', '.', 'know', 'service', 'done', '.', 'details', 'servicing', 'history', 'give', 'customer', '.'], [\"n't\", 'receive', 'feedback', '.', 'advisor', 'make', 'case', 'make', '.', 'problem', 'get', 'solve', '.'], ['complaint', 'make', 'ask', 'work', 'done', '.', 'gives', 'answer', 'cross', 'check', 'scrutiny', '.'], ['called', 'must', 'take', 'feedback', 'driver', 'also', 'along', 'owner', '.'], ['completing', 'car', 'service', ',', 'dealership', 'staff', 'customer', 'next', 'day', 'back', 'check', 'whether', 'service', 'done', 'correctly', 'also', '.', 'avoid', 'checking', 'one', 'week', '10', 'days', '.'], ['completing', 'periodic', 'service', 'give', '.'], ['busy', 'time', 'us', 'free', 'time', 'feedback', '.', '\\\\', '?', 'want', 'side', 'feebback', '.', 'take', 'feedback', 'us', 'visit', 'service', 'center', 'pick', 'car', '.'], ['completing', 'serving', 'car', '.', 'getting', 'service', 'centre', 'regarding', 'service', 'car', 'conditions', 'hence', ',', 'services', 'need', 'improve', '.'], ['option', 'buyer', 'internet', ',', 'could', 'inform', 'would', 'better', '.', '\\\\', '?', 'inform', '.'], ['customers', 'complaint', ',', 'must', '.', 'use', 'us', 'servicing', 'check', 'issues', 'going', 'take', 'action', 'meaning', 'calling', 'us', 'wasting', 'time', '.'], ['servicing', 'done', 'service', 'center', 'send', 'someone', 'next', 'day', 'see', 'whether', ',', 'problem', 'possible', 'us', 'come', 'problem', 'contact', 'us', 'phone', '.'], ['records', 'maintain', 'proper', '.', 'customer', '.'], ['work', 'done', 'said', '.', 'staff', 'proper', '.'], ['received', 'feedback', 'get', 'periodic', 'service', '.', 'servicing', 'car', 'called', 'customer', 'check', 'customer', 'satisfied', '\\\\', '?', 'improvement', 'required', 'em60', 'service', '.', 'em60', 'service', 'going', 'proper', 'target', 'give', 'customer', 'vehicle', 'within', '60', 'minutes', '.'], ['servicing', 'dealership', 'customers', 'know', 'condition', 'car', 'problems', 'status', 'happened', 'earlier', '.', 'dealership', 'staff', 'keep', 'good', 'relation', 'customers', 'look', ',', 'wherein', 'customers', 'feel', 'satisfaction', '.'], ['dealership', 'staff', 'intimate', 'customer', 'regarding', 'servicing', 'frequency', '.', 'home', 'many', 'kilometer', 'running', 'ace', 'customer', 'take', 'services', '.'], ['send', 'messages', 'regarding', 'processing', 'status', 'vehicle', 'instead', 'calling', 'customers', 'evening'], ['time', 'give', 'feedback', 'give', 'attention', 'also', 'given', 'time', '.', 'feedback', 'would', 'good', '.'], ['\\\\', '?', 'give', '.', 'give', '.'], ['15', 'days', 'servicing', 'car', 'give', '.'], ['servicing', 'car', ',', 'customer', 'check', 'problems', 'face', 'customer', '.'], ['periodic', 'service', 'also', 'one', 'problem', 'remains', '.', 'tell', '.', 'happen', '.', 'technician', 'tell', 'car', 'problem', '.', 'technicians', 'know', 'much', '.', 'go', '2', '3', 'times', 'one', 'thing', '.'], ['enquire', 'car', '\\\\', '?', 'servicing', '.', 'problem', 'occurs', 'send', 'people'], ['ladies', 'sit', 'dealership', 'sometimes', 'receive', 'sometime', '\\\\', '?', '.', 'supposed', 'us', '500km', '1000km', 'want', 'keep', 'higher', 'name', 'status', 'company', '.', 'least', '2', '3', 'times', 'vehicle', 'reaches', '7000', 'km', '.', 'complaint', 'ahmedabad', 'showroom', 'received', 'stopped', 'calling', '.'], ['service', '.', 'ask', 'status', 'vehicle', '.'], ['time', 'time', 'company', 'dealership', 'enquire', 'condition', 'car', ',', '.', 'e', '.'], ['customer', 'complaint', 'update', 'report', 'properly', '.', 'next', 'time', 'visits', 'check', 'older', 'one', 'complaint', 'also', 'done', 'property', '.'], ['feedback', 'coming', '.', 'feedback', 'conducted', 'visited', 'dealership', '.', 'questions', 'asked', 'related', 'work', 'much', 'satisfied', 'work', '.'], ['give', '.'], ['delivery', 'car', 'give', 'week', '.', '\\\\', '?', 'enquire', 'car', '.'], ['giving', 'service', 'give', 'us', 'prior', 'information', 'regarding', 'servicing', '.'], ['car', 'serviced', 'give', '.', 'feedback', 'make', 'know', 'service', 'received', 'made', '.'], ['dealer', 'point', 'check', 'car', 'properly', 'handover', '.', '\\\\', '?', 'understand', 'problems', 'car', '.', 'duty', 'check', 'thoroughly', '.'], ['regularly', 'customer', 'feedback'], ['ask', 'problem', 'car', 'running', 'properly', '.', 'within', '15', '20', 'days', '.'], ['takes', 'feedback', ',', 'need', 'check', 'suggestion', 'chasing', 'working', 'customer', \"'s\", 'suggestion', 'update', 'customer', '.'], ['least', 'acknowledge', 'feedback', 'explain', 'weather', 'done', 'work', 'given', 'problem', '.'], ['give', 'better', 'services', 'called', 'yet', '.', 'yes', 'line', 'well', 'connecting', 'quickly', '.', 'would', 'say', 'excellent', 'issues', '.'], ['feedback', 'receive', '.', 'service', 'customer', 'get', 'ask', 'customer', 'satisfied', '.', 'sometime', 'us', 'sometime', \"n't\", 'us', '.'], ['never', 'receive', 'feedback', '.', 'conduct', 'customer', 'feedback', 'also', 'advice', '.', 'never', 'informed', 'tire', 'pressures', 'proper', '.'], ['delivery', 'time', 'told', 'customer', 'works', 'pending', 'periodically', 'customer', 'take', 'car', 'feedback', 'regularly', 'customer'], ['least', 'us', 'service', 'ask', 'regarding', 'condition', 'vehicle', '.', 'huge', 'service', 'center', 'understand', 'think', '.'], ['1', '\\\\', ')', 'workers', 'less', ',', 'two', 'senior', 'works', 'two', ',', 'one', 'absent', 'one', 'maintain', 'whole', '2', '\\\\', ')', 'problem', 'ongole', ',', 'visit', 'nellore', 'far', ',', 'increase', 'workers', 'ongole', '.'], ['3', 'attribute', 'felt', 'option', 'need', 'improve', ',', '\\\\', '?', 'explain', '.', 'felt', 'marketing', 'jobs', ',', 'better', 'tell', 'us', '.'], ['recognize', 'problem', 'customer', 'solve', '.'], ['never', 'receive', '.', 'us', 'inform', 'charges', 'service', 'time', 'time', 'service', '.'], ['work', 'told', 'must', 'inform', 'us', 'completed', '.'], ['fallow', '.', 'proper', 'time', '.', 'unnecessary', 'urgent', 'work', 'like', 'sleeping'], ['improve', 'service', '.', '\\\\', '?', 'know', '.', 'told', 'also', ',', 'said', 'check', 'everything', 'service', 'work', 'done', 'properly', '.', 'went', 'checked', 'car', 'found', 'fully', 'correct', 'break', 'oil', 'given', '.', 'enquired', 'car', '.', 'checklist', 'paper', 'check', 'box', 'containing', 'process', 'one', 'one', 'mentioned', 'done', 'checklist', '1', 'copy', 'give', 'another', '.', 'check', 'list', 'confirm', 'every', 'processes', 'done', 'dealer', 'ship', 'staff', 'one', 'one', '.', 'like', 'tire', 'air', 'pressure', 'give', 'confirmation', 'checked', 'box', ',', 'ask', 'check', 'battery', 'break', 'oil', '.', 'outside', 'india', 'service', 'centers', 'checklist', ',', 'two', 'paper', '1paper', 'customer', 'another', 'check', '.', 'number', 'one', 'check', 'air', 'pressure', ',', 'number', 'two', 'check', 'break', 'oil', ',', 'see', 'engine', 'oil', 'check', 'fine', 'give', 'one', 'copy', 'know', 'okay', 'checked', '.', 'done', 'toyota', 'india', 'service', 'centers', '.', 'want', 'written', 'check', ',', 'give', 'tick', 'mark', 'give', '.'], ['acknowledge', 'customer', \"'s\", 'feedback'], ['receive', 'feedback', '.', 'receive', 'receive', '.'], ['1', '.', \"n't\", 'intimation', 'customers', 'regarding', 'small', 'parts', 'repairs', \"n't\", 'get'], [\"n't\", 'received', 'feedback', '.'], ['give', 'frequently', 'like', 'every', 'one', 'month', 'forty', 'five', 'days', '.'], ['car', 'get', 'break', 'middle', 'road', ',', 'get', 'immediate', 'service', 'would', 'better', '.', 'improve', 'servicing', 'get', 'touch', 'ask', 'condition', 'car', ',', 'would', 'better', '.'], ['servicing', 'car', 'take', '1', 'month', 'time', 'customer', 'give', 'proper', 'information', 'car', '.'], ['improve', 'making', 'services', 'good'], ['post', 'servicing', '3', '4', 'days', 'must', 'receive', 'check', 'car', 'ok', ',', 'whether', 'customers', 'satisfied'], ['1', '.', 'increase', 'servicing', '.'], ['said', 'us', 'contact', 'seniors', 'senior', \"'s\", 'phone', 'witched', 'next', '3', '4', 'days', '.', 'contact', 'seniors', '2', '4', 'days', 'time', 'customer', 'mood', '.', 'work', 'pending', 'suppose', '.'], ['us', 'servicing', 'ask', 'satisfied', 'servicing', 'provided', 'us', '.', 'expectation', '.'], ['give', 'vehicle', 'servicing', 'purpose', 'forget', 'delivery', 'customers', '.', 'customers'], ['manger', 'customer', 'take', 'immediately', 'action', 'proper', 'intimation', 'given', 'customer', '.'], ['executives', 'called', 'us', 'thy', 'self', 'aware', 'work', 'sent', 'vehicle', '.', 'asking', 'different', 'questions', '.'], ['ask', 'customer', 'purchased', 'car', '.', 'though', 'purchased', 'small', 'car', 'big', 'car', '.'], ['improved', '.', 'received', '.'], ['know', 'everything', \"'s\", '.', 'check', 'customer', 'satisfied', '.'], ['improved', '.', 'servicing', 'inform', 'us', 'condition', 'vehicle', '.', 'regarding', 'insurance', 'let', 'us', 'know', '.'], ['information', 'providing', 'improved', '.'], ['solve', 'customer', \"'s\", 'problem', 'customer', 'mention', '.'], ['1', '\\\\', ')', ',', 'whenever', 'calling', 'responding', '.'], ['servicing', '.'], ['anybody', 'give', 'complaint', 'regarding', 'dealership', 'dealership', 'members', 'take', 'action', 'complaint', '.'], ['regarding', 'fallow', '.', 'give', 'vehicle', 'service', 'completed', '.', 'calling', '10', 'days', 'vehicle', 'services', '.', 'also', 'charges', 'vehicle', 'charges', '.', 'improve', 'service'], ['feedback', 'time', '.'], ['ask', 'customers', 'calling', '.'], ['take', 'feedback', 'customer', 'servicing', '.'], ['improve', 'feedback', 'service', '.', 'properly', '.'], ['separate', 'department', 'process', '.'], ['received', 'made', 'complaint', ',', 'one', 'take', 'action', '.', 'like', 'wraper', 'thrown', 'comlaint', 'dustbin', '.', \"n't\", 'anything', 'complaint', 'also', 'kept', 'pending', '.', 'maker', 'asking', 'vehicle', 'condition', 'make', '.', 'give', 'complaint', 'work', '.'], ['take', 'feedback', 'customer', 'servicing', '.'], ['nothing', '.', '.'], ['feedback', 'receive', '1', 'day', 'servicing', '.'], ['\\\\', '?', 'receive', 'customers', '.'], ['sunday', '.', 'time', 'sundays', '.'], ['1', '\\\\', ')', 'regarding', 'condition', 'vehicle', 'servicing', '.', '.'], ['receive', 'feedback', '.', 'servicing', 'received', 'servicing', \"n't\", 'receive', '.'], ['fallow', 'customer', \"'s\", '.', 'completion', 'vehicle', 'service'], [',', 'complaint', 'told', 'receive', 'end', '.'], ['update', 'customer', 'car', 'serviced', 'service', 'properly', '.'], ['regarding', 'service', 'period', 'complaints', '.'], ['made', 'taking', 'car', 'servicing', 'general', 'feedback', 'instead', 'ask', 'car', 'working', 'service', '.', 'customer', 'sake', 'feedback', '.'], ['fallow', '1', 'time', 'customers', '.', 'painting', 'section', 'available', 'rajamundry', '.', 'kakinada', 'kakinada', 'rajamundry', '60', 'km', 'provide', 'painting', 'section', 'kakinada'], ['customer', 'inform', 'service', 'period', 'vehicle', '.'], ['servicing', 'car', 'customer', 'take', 'car', 'information', '.'], ['give', 'taking', 'car', 'servicing', '.'], ['least', 'customer', '\\\\', '?', 'regarding', 'query', 'conditions', '.', 'dealership', 'take', 'responsibility', 'work', 'accordingly', '.'], ['servicing', 'car', 'next', 'day', 'called', 'customer', 'car', 'service', 'information', 'problem', 'customer', 'come', 'one', 'week', 'better', 'customer'], ['servicing', 'car', 'give', 'within', '2', 'days', 'problem', 'share', '.'], ['\\\\', '?', 'like', 'technicians', 'durgapur', 'dealership', ',', 'jayashree', 'satellite', 'service', 'develop', '.', 'get', 'need', 'improvement'], ['executive', \"'s\", 'knowledge', 'servicing', 'charges', '.'], ['received', 'car', 'called', 'customer', 'take', 'feedback', 'servicing', 'car', 'condition', 'car'], ['experience', 'last', 'time', 'put', 'complaint', 'tire', 'arrangement', 'fill', 'arrangement', 'clear', '\\\\', '?', 'receive', 'called', 'dealership', '.', 'must', 'dealership', '.'], ['providing', 'customer', 'servicing', 'car', '.'], ['feedback', 'facility', 'improved', '.', 'dealership', 'attentive', '.', 'staff', 'taking', 'feedback', ',', 'take', 'care', 'feedback', 'get', 'customers', 'servicing', 'car', 'staff', 'available', '.'], ['servicing', 'called', 'customer', 'second', 'third', 'day', 'servicing', 'one', 'month', 'least', 'ask', 'customer', '\\\\', '?', 'vehicle', 'working', 'properly', ',', 'tire', 'engine', 'problem', 'ask', 'condition', '\\\\', '?'], ['put', '1', 'slip', 'tell', 'many', 'kilometers', 'service', 'due', 'ask', 'anything', 'feedback', 'must', 'pick', 'car', '.', 'repair', 'return', '.', 'feedback', 'asked', 'name', 'asked', 'work', '.'], ['servicing', 'car', 'called', 'customer', 'takes', 'feedback', 'servicing', 'experience', '.'], ['within', '24', 'hours', 'us', 'feedback', '.'], ['less', 'fallow', '.', '.', 'irritating', '.', 'proper', 'cleanings', 'proper', 'cleanness', 'side', 'parts', 'concentrate', 'inside', 'parts'], ['servicing', 'car', 'knowing', 'servicing', 'tell', 'customer', 'part', 'change', '.', 'display', 'front', 'customer', 'work', '.'], ['called', 'service', 'center', '2', '3', 'times', 'know', 'reimbursement', ',', 'responding'], ['called', 'customer', 'regarding', 'car', 'experience', 'asked', 'customer', 'problem', 'vehicle', '.'], ['thing', 'improvement', '.', 'quality', 'technical', 'person', 'poor', 'knowledge', ',', \"n't\", 'knowledge', 'vehicle', 'even', \"n't\", 'know', 'clean', '.', 'sit', 'grap', 'money', ',', 'give', 'bill', 'say', 'work', 'done', 'actually', 'see', 'work', 'done', '.'], ['actually', '\\\\', '?', 'require', 'regular', 'ups', 'least', 'vehicle', 'service', '.'], ['remind', 'next', 'service'], ['must', 'take', 'much', 'possible', 'feedbacks', '.', 'first', 'repair', 'customer', \"'s\", 'car', 'properly', 'would', 'need', 'take', 'feedback', '.', 'first', 'take', 'immediate', 'action', 'feedback', 'given', 'customers', '.', 'customer', 'feedback', 'customer', 'tell', 'particular', 'work', 'done', 'immediately', 'go', 'director', 'managing', 'agency', 'present', 'customer', \"'s\", 'problem', 'front', '.', 'must', 'come', 'customer', 'listen', 'customer', \"'s\", 'problem', '.', 'hear', 'leave'], ['servicing', 'car', 'called', 'customer', 'take', 'feedback', 'servicing', 'car', 'condition', 'car', '.'], ['feedback', 'improve', 'also', 'confirm', 'vehicle', 'working', '.'], ['till', 'tools', 'available', '.', 'tools', 'available', 'change', 'clutch', '.', 'everything', 'done', 'manually', '.', 'told', 'anything', 'manually', ',', 'anything', 'missed', 'would', 'huge', 'loss', '.', 'complaint', 'give', 'feedback', 'checked', 'resolved', '.', 'supervisors', 'check', '.'], ['use', 'mobile', 'mesaage', 'applications', 'services', '.', 'need', 'instead', 'use', 'mobile', 'techniques', '.'], ['completing', 'service', 'need', 'say', 'service', 'done', 'car', '.', 'mention', 'particular', 'detail', 'receipt', 'service', 'made', 'car', '.'], ['calling', 'feedback', 'take', 'complaint', 'well', 'also', 'inform', 'implement', 'taking', 'feedback', 'otherwise', 'tell', 'us', 'visit', 'showroom', '.'], ['attend', 'customers', 'promptly', 'take', 'time', 'contact', 'calling'], ['told', 'back', '3weeks', 'passed', '\\\\', '?', 'get', 'side', '.', 'attend', 'customers', 'immediately', 'make', 'customers', 'wait', 'long', 'time', '.'], ['take', 'feedback', 'busy', 'period', 'customers', '.'], ['ask', 'customers', 'every', 'time', 'customer', 'satisfied', '.', 'every', 'servicing', 'customers', 'take', 'feedback', '.', 'every', '1', '2', 'week', '.', 'every', 'day', '2', 'week', 'easy', 'give', 'feedback', '.', 'using', 'car', 'duration', 'easily', 'give', 'feedback', '.'], ['enquire', 'customer', 'post', 'servicing', 'vehicles', 'regarding', 'services', 'improvement', '.'], ['never', 'receive', 'feedback', 'dealership', '.', 'ask', 'us', 'service', 'quality', 'car', 'performance', '.', 'ask', 'problem', '\\\\', '?'], ['collect', 'online', 'feedback'], ['take', 'complaints', '.', 'taking', 'feedback', 'improvement', 'also', '.', 'giving', 'complaints', 'take', 'action', '.', 'work', 'incomplete', 'give', 'detail', '.', 'need', 'improve', 'take', 'care', 'customers', '.'], ['5', '7', 'minutes', 'give', 'instant', 'delivery', ',', 'registered', 'contact', 'number', 'ask', 'whether', 'delivery', 'done', '.', 'would', 'better', 'take', 'initiative', '.'], ['us', 'feedback', 'like', ',', 'problem', 'car', '\\\\', '?', \"'s\", 'company', 'behaviour', 'etc', '.', 'need', 'ask', 'type', 'questions', 'feedback', '.'], ['given', 'complaining', '.'], ['giving', 'service', '.', 'enquiry', 'service', 'gave', 'mistakes', '.', 'inform', '.'], ['dealership', '.', 'service', 'must', 'take', 'feedback', 'car', 'condition', '.'], [\"n't\", 'get', 'dealership', '.', 'know', 'problem', '.', 'need', 'come', '.'], ['given', 'feedback', 'message', 'something', 'like', 'toll', 'free', 'message', '.', 'rather', 'least', 'messages', 'purpose'], [\"n't\", 'attend', 'seriously', 'done', 'suddenly', 'respond', 'suggest', '.', 'problem', 'arises', 'suggest', 'take', 'immediate', 'action', 'take', 'lot', 'time', 'decide', 'postponed', 'next', 'day', '.', 'improve'], ['improved', 'insurance'], ['improved', 'dealership', 'calling', '.', 'improved', 'told', '.'], ['car', 'servicing', 'customers', 'calling', '.', 'leader', 'company', 'like', ',', 'customer', 'feedback', '10', '15', 'days', '.', 'written', 'one', 'feedback', 'nanavati', 'toyota', '.', '120km', 'far', 'away', 'customer', 'leave', 'early', 'morning', 'provide', 'lunch', '.', 'customer', 'ready', 'pay', 'lunch', 'nanavati', 'toyota', 'food', 'available', 'near', 'available', 'food', 'customers', 'limited', '.'], ['servicing', 'dealership', 'got', 'feed', 'back', '.', 'need', 'improvement', 'like', '.', 'customer', 'complaint', 'anything', 'feedback', 'take', 'immediate', 'action', 'improvement', '.'], ['complaint', 'one', 'feedback', 'come'], ['customers', 'within', 'one', 'two', 'days', '.', 'means', 'servicing', 'vehicle', 'next', 'day', 'second', 'day', 'customers'], ['know', 'requirement', 'customers', 'know', 'condition', 'car', ',', 'needed', 'dealership', '.'], [',', 'get', 'proper', 'car', 'servicing', 'get', 'last', 'year', 'get', 'kind', 'service', '.', 'think', 'start', 'kind', 'service', '.'], ['vehicle', '.', 'completion', 'servicing', 'customers', '.', 'regarding', 'status', 'vehicle'], ['calling', 'working', 'time', ',', 'difficult', '.', 'called', 'repeated', 'questions', 'asking', '.', 'first', 'answered', 'questions', ',', 'driving', ',', 'working', 'difficult', 'us', '.', 'improved', '.'], ['servicing', \"n't\", 'get', 'dealership', '.', 'first', 'use', 'get', 'calling', 'us', '.', 'us', 'servicing', 'ask', 'car', '.'], ['car', 'comes', 'polishing', \"n't\", 'spray', '.', 'earlier', 'used', 'give', 'voucher', 'one', 'car', \"n't\", 'give', '.'], ['details', 'car', 'computer', '.', 'point', 'given', 'time', 'find', 'condition', 'everything', 'vehicle', 'next', 'service', 'things', 'found', 'computer', '.', 'computers', 'regarding', 'vehicle', 'service', 'maintainece', 'find', 'computers', 'somebody', 'inform', 'customers', 'regarding', 'next', 'maintenance', 'service'], ['make', 'customers', 'gapping', '15', 'days', '1', 'month', 'know', 'car', 'problems', '.'], ['take', 'feedback', 'customer', 'satisfaction', 'quality', 'service'], ['check', 'service', 'team', 'make', 'service', 'periods', '.'], ['know', 'system', 'available', 'dealership', 'system', 'us', 'either', 'write', 'mail', 'us', '.'], ['last', 'servicing', ',', 'gave', 'car', 'mahestala', '.', 'due', 'reason', ',', 'transfer', 'car', 'mahestala', 'em', 'bypass', '.', \"n't\", 'inform', '.', 'called', 'others', 'get', 'information', 'car', 'status', '.', 'must', 'customer', 'inform', 'condition', 'status', 'car', '.', 'need', 'matter', '.'], ['servicing', 'feedback', 'get', 'improve', '.', 'feedback', 'customer', 'giving', 'complaint', 'take', 'action', '.'], ['made', 'dealership', 'post', 'servicing', 'vehicle', 'check', 'service', 'experience', 'car', 'condition', 'one', 'called', '.', 'service', 'least', '2', '3', 'days', 'later', 'ask', 'working', '.', \"'s\", 'improved', '.', 'improvement', 'required', 'towards', 'behavior', 'towards', 'clients', '.', 'way', 'talking', ',', 'highly', 'dissatisfied', '.', 'sell', 'vehicle', ',', \"n't\", 'like', 'behave', 'well', 'clients', '.', 'acceptable', '.'], ['talking', 'feedback', 'ask', 'work', 'done', '.', 'properly', '.', 'complete', 'satisfaction', 'must', 'done', 'made', 'customer', 'satisfy', 'work'], ['servicing', 'feedback', 'get', '.', ',', 'complaint', 'said', '.', 'take', 'action', 'hand', 'hand', ',', \"'s\", 'know', '.'], ['one', 'week', 'servicing', 'dealership', 'customer', 'asked', '.', 'satisfied', '.', 'satisfied', 'wants', 'told', 'give', 'back', 'car', 'servicing', '.'], ['speed', '.'], ['servicing', 'feedback', 'comes', 'dealership', 'need', 'improvement', '.', 'take', 'feedback', 'car', '.', 'leave', 'car', 'servicing', 'also', 'us', 'informed', '.', 'much', 'take', 'money', 'also', 'much', 'bill', 'message', 'also', 'comes', 'things', 'happening', '.'], ['enter', 'condition', 'car', 'service', 'far', 'one', 'calling', 'nippon', 'toyota', 'asking', 'anything', 'like', 'condition', 'car', 'servicing', 'keep', 'much', 'customers', 'customers', 'get', 'satisfaction', 'service', '.', 'every', 'customers', 'servicing', 'vehicle', '.'], ['sort', 'customer', 'problems', 'given', 'feedback', 'faced', 'problems', '.'], ['dealership', 'never', 'called', 'told', 'car', 'condition', 'service', '.', 'us', 'need', 'ask', 'actual', 'problem', '.'], ['service', 'followed', 'know', 'whatever', 'work', 'done', 'car', 'customer', 'satisfied', '.'], ['dealership', 'ok', 'service', 'people', 'called', '.', \"n't\", 'remember', 'called', 'fine', 'confirm', 'message', 'need', 'others', 'recommend', '.'], ['servicing', 'receive', 'one', 'dealership', 'guide', 'use', 'change', 'give', 'knowledge', 'next', 'servicing', 'would', 'change', '.'], ['rectify', 'problems', 'mentioning', '.'], ['servicing', 'vehicle', 'know', 'condition', 'vehicle', '.'], ['normally', 'dealership', 'use', 'done', 'servicing', 'vehicle', 'check', 'service', \"n't\", 'get', 'like', 'kind', '.'], ['much', 'car', 'carried', ',', 'much', 'km', 'carried', ',', 'service', 'required', ',', 'entire', 'things', 'inform', 'phone', '.'], ['servicing', 'given', 'directly', 'get', 'servicing', 'person', '.', 'tell', 'problem', 'person', 'get', 'easy', 'understand', 'know', 'car', 'problem', '.'], ['servicing', 'car', ',', 'dealerships', 'comes', 'feedback', ',', 'improved', '.', 'first', 'improved', 'servicing', 'quality', 'feedback', '.'], ['busy', 'people', 'business', 'busy', 'time', 'giving', 'every', '3', 'months', '5', 'months', 'would', 'better', 'give', 'every', 'two', 'months', 'would', 'better', '.'], ['firstly', 'told', 'us', 'calling', 'servicing', 'car', ',', 'calling', ',', 'improved', '.'], ['per', 'system', 'feed', 'back', 'servicing', 'customer', 'share', 'problem', 'staff', 'also', 'know', 'customer', 'receive', 'feedback', '.', 'good', 'work', 'problem', 'arrived', '.'], ['servicing', 'car', 'dealership', 'one', 'feedback', 'came', '.', 'feedback', 'must', '.'], ['feedback', 'within', '1', '2', 'days', 'long', 'time', 'able', 'recollect', 'talking', 'servicing', '.'], ['car', 'servicing', 'taking', 'feedback', ',', 'take', '.'], ['got', 'complaint', 'reason', '.', 'told', 'dealership', 'yet', 'received', 'dealership', '.', 'also', 'useful', '.'], ['improve', 'feed', 'back', 'customer', \"'s\", '.'], ['upset', 'dealership', '.', 'narendra', 'modi', 'told', 'take', 'charges', 'taking', 'charges', '.', 'also', 'service', 'properly', '.'], ['taking', 'away', 'car', ',', ',', 'us', '.'], ['servicing', 'customer', \"'s\", 'know', 'problem', 'vehicle', '.'], ['come', '.', 'feedback', '2', 'day', 'servicing', '.', 'could', 'known', 'position', 'car', '8', '10', 'days', '.', '1', \"2o'clock\", '.'], ['see', 'car', 'come', 'go', 'take', 'feedback', '.', 'car', 'service', 'center', 'also', 'called', 'take', 'feedback', '.', 'told', 'car', 'told', 'sorry', '.'], ['feedback', 'comes', 'service', 'center', 'complain', 'response', 'given', 'customer', 'also', 'taken', 'action', '.'], ['transparent', ',', 'caring', 'customer', 'always', 'touch', 'customers', '.'], ['getting', 'service', 'car', 'car', 'good', ',', 'talk', 'car', 'information', 'good'], ['feedback', 'time', 'less', '.'], ['servicing', 'day', '.', 'get', 'feedback', 'solve', 'complaints', '.'], ['.', 'one', 'taken', '.'], ['regarding', 'servicing', 'update', '.'], ['servicing', 'give', 'tell', 'problem', 'solve', 'still', 'solve', 'problem', '.', 'daily', 'busy', \"'s\", \"n't\", 'remember', 'properly', 'office', 'hours', 'much', 'possible', '.'], ['customer', '4', '5', 'days', ',', 'called', 'customer', '.'], ['contact', 'customer', 'also', 'told', 'customers', 'offers', '.'], ['dealership', 'staff', 'check', 'customer', 'getting', 'feedback', '.'], ['servicing', 'called', 'us', 'dealership', 'us', 'ask', 'flow', \"'s\", 'type', 'servicing', 'provide', '.'], ['servicing', ',', 'taken', 'feedback', 'return', '.', 'ok', '.', 'meaning', 'car', 'go', 'road', ',', 'tell', '.', 'whether', 'maintenance', 'done', ',', 'whether', 'problem', 'solved', '.', 'give', 'feedback', 'checking', '.', 'give', 'us', 'feedback', 'soon', 'see', '.', 'comes', 'solved', '.'], ['day', 'car', 'servicing', 'center', '.', 'days', 'onwards', 'give', 'us', '.'], ['receive', 'feedback', '.', 'previously', 'receive', 'getting', '.'], ['getting', 'service', 'dealership', 'service', 'provide', 'feedback', 'form', ',', 'service', 'providing', 'us', 'feedback', 'us', 'good', '.'], ['time', 'anything', '.'], ['last', 'service', 'changed', 'car', 'tire', ',', 'taken', 'feedback', 'also', ',', 'come', 'feedback'], ['reminding', 'car', \"'s\", 'insurance', 'service', 'calling', '.', 'reminding', 'calling', 'insurance', 'routine', 'servicing', 'etc', '.'], ['know', 'servicing', 'quality', '.', 'us', 'feedback', 'relationship', 'good', 'customer', 'dealership', '.', 'satisfied', 'feedback', '.'], ['servicing', 'customer', 'give', 'information', '.'], ['servicing', 'calling', ',', ',', 'improvement', 'service', '.'], ['servicing', 'first', 'time', 'harsha', 'dealership', \"n't\", 'take', 'ups', '.', 'take', 'tell', 'feedback', '\\\\', '?'], ['feedback', 'come', 'us', 'servicing', 'car', 'listen', 'carefully', 'customer', 'completing', 'take', 'action', '.'], ['us', 'feedback', 'servicing', '1', 'month', 'also', '.'], ['condition', 'vehicle'], ['receiving'], ['us', 'feedback', '.', 'one', 'week', 'tell', 'problem'], ['servicing', 'ask', 'customers', '1', '2', 'times', 'problem', 'car', '\\\\', '?', 'working', 'properly', '\\\\', '?', 'people', 'never', 'ask', 'us', 'car', 'servicing', '.', 'ask', 'problem', 'servicing', '.'], ['servicing', 'one', 'customer', 'car', 'condition', '.'], ['servicing', 'us', 'take', 'information', 'parts', 'insert', 'good', '.', 'less', '.'], ['need', 'improve', 'location', 'traffic', 'area', 'pace', 'parking', '.', 'problem', 'go', '.'], ['customer', 'problem', 'solve', '.', 'service', 'center', 'people', 'us', 'problem', 'told', 'solve', '.', 'solving', 'customer', 'problems', '.'], ['must', '10', '00', '1', '00', '3', '00', '6', '00', 'calling', 'time', 'good', 'us'], ['feedback', 'come', 'properly', 'asked', 'servicing'], ['first', 'called', 'told', 'noise', 'front', 'side', 'door', \"n't\", 'solution', '.'], ['getting', 'car', 'service', 'service', 'center', 'make', 'increase', 'customer', 'service', '.'], ['basically', 'car', 'service', ',', 'made', 'immediately', 'second', 'day', ',', 'least', 'wait', 'week', ',', 'servicing', 'done', 'car', 'use', ',', 'come', 'know', 'experience', 'servicing', 'car', '.', 'second', ',', 'car', 'driven', 'tested', ',', 'know', 'everything', 'done', 'properly', '.'], ['us', 'feedback', 'ask', 'work', 'done', '.'], ['receive', 'feed', 'back', 'car', 'servicing', '.', 'ask', 'us', 'problem', '.', 'somewhat', 'like', '.'], ['told', 'change', 'viper', ',', 'change', 'vehicle', 'part', ',', 'satisfied', 'part', '.', ',', 'would', 'better', 'customers', 'every', 'servicing', '.'], ['get', 'updated', 'change', 'battery', 'put', 'dead', 'battery', 'till', 'solve', '.', 'complaints', 'comes', 'work', '.'], ['feedback', 'answer', 'given', 'positively', '.', 'also', 'properly', 'talking', 'customers'], ['.', 'servicing', 'put', 'car', 'side', '.', 'service', 'center', 'answered', '.', 'bad', 'experience', '.', 'servicing', 'car', 'side', ',', 'called', '.'], ['first', 'service', 'customer', '.'], ['brought', 'car', 'service', 'home', ',', 'done', '.', 'ask', 'whether', 'car', 'working', 'properly', '.', ',', 'problem', 'inform', 'person', '.'], ['feedback', 'long', '.', 'yes', 'questions', '.', 'waste', 'customers', 'time'], ['dealership', 'also', 'got', 'comment', 'actual', 'staff', 'good', '.'], ['give', '.'], ['feedback', 'servicing', '.', 'us', 'ask', 'us', 'facing', 'problem', '\\\\', '?', 'everything', 'ok', '\\\\', '?', 'servicing', 'done', 'properly', 'like', '.'], ['feedback', 'callers', '\\\\', '?', 'talk', 'us', 'properly', 'talk', 'us', 'rudely', '.', 'use', 'unnecessary', 'language', 'told', 'disconnect', 'hereon', 'way', 'talking', 'customer', 'provide', 'soft', 'skill', 'way', 'talk', 'customer', 'work', 'salver', 'job', 'realize', 'customer', '.'], ['feedback', 'coming', ',', 'customer', 'meeting', 'busy', 'work', ',', 'problem', 'customer', '.', 'hence', 'servicing', 'one', 'time', 'feedback', '.'], ['servicing', 'car', ',', 'calling', 'customer', '.', 'servicing', 'calling', 'customer', 'althea', 'customer', 'told', 'customer', 'cars', 'conditioner', 'details', '.'], ['still', 'received', '.', 'service', '.'], [\"n't\", 'receive', 'service', 'center', '.', 'get', 'say', 'condition', 'car', 'servicing', '.'], ['servicing', 'go', 'back', 'home', 'come', 'know', 'servicing', 'car', 'properly', '.', '1', '2', 'days', '.', 'give', 'details', '1', '2', 'days', 'right', '.', 'instead', 'send', 'one', 'person', 'check', 'problem', 'found', 'problem', 'repair', '.'], ['servicing', 'us', 'ask', 'servicing', 'ok', '\\\\', '?', 'face', 'problem', '\\\\', '?'], ['got', 'dealership', ',', 'asked', 'doubt', 'car', 'told', 'us', 'technicians', '.', 'technicians', 'available', 'good'], ['get', '.', 'servicing'], ['service', 'feedback', '.', 'last', 'time', '2', '3', 'pm', 'give', 'car', 'came', 'know', 'parts', 'available', 'give', 'prior', 'information', 'car', 'lock', 'broken', 'demand', '.', 'giving', 'attention', 'small', 'small', 'things', '.'], ['1', '.', 'whenever', 'customers', 'gives', 'complaint', 'regarding', 'servicing', 'verify', 'staff', 'back', '.'], ['service', 'feed', 'back', 'servicing', 'tell', 'improvement', 'area', '.'], ['feedback', 'correct', 'information', 'us', '.'], ['take', 'feedback', 'sms', '\\\\', '?', 'app', 'take', 'paper', 'feedback', \"n't\", 'time', '.'], ['calling', 'disturb', 'us', '.', 'get', 'different', 'language', 'servicing', 'disturb', 'us', '.'], ['times', 'driving', 'car', ',', ',', 'received', ',', 'hence', 'called', ',', 'good', 'us', '.', 'occurred', 'problems', 'car', 'told'], ['servicing', 'customer', 'two', 'three', 'days', ',', 'cars', 'occurred', 'problems', 'told'], ['servicing', ',', 'important', ',', 'calling', '.', 'customer', 'like', 'time', '.', 'servicing', 'car', ',', 'running', 'car', '5', ',', '000', 'km', '.', 'called', 'us', '.', 'shortage', 'employees', ',', '3', '4', 'employees', 'managing', '.'], ['servicing', 'get', 'feedback', '.'], ['improve', 'servicing', '.'], ['receive', 'feedback', 'improve', 'mint', 'servicing', 'feedback', '.'], ['updating', 'problem'], ['give', 'information', 'car', 'condition', '.', '2', '.', 'called', 'service', 'center', '.', 'pickup', 'car', 'home', '.', 'improve', 'service'], ['feedback', 'coming', 'two', 'times', '.', 'come', 'one', 'time', '.', 'asked', 'customer', '\\\\', '?', 'satisfied', 'car', 'servicing', '.'], ['always', 'customers', 'take', 'feedback', 'servicing', 'vehicle', 'treat', 'cars', 'customers', 'equally', '.', 'differentiates', 'last', 'car', 'servicing', 'called', 'feedback', 'every', 'time', 'called', 'time', 'never', 'called', '.'], ['know', 'condition', 'vehicle', 'servicing', '.'], ['customers', 'free', '.'], ['dealer', 'inform', 'us', 'cars', 'servicing', 'done', '.', 'customers', 'better', 'service', '.'], ['give', 'get', '.'], ['servicing', 'take', ',', \"'s\", 'improve', 'new', 'process', '.', 'go', 'servicing', 'happened', '.', 'seat', 'time', 'technician', 'come', 'started', 'work', 'also', 'explained', 'us', '.', 'drive', 'car', 'told', 'us', 'problem', 'car', 'changing', 'required', 'car', 'suggest', 'us', 'drive', 'things', '.'], ['got', '.'], ['dealer', 'inform', 'car', 'servicing', 'would', 'done', '.', 'service', 'inform', 'time', 'condition', 'car', '.'], ['called', 'told', 'problems', ',', 'immediately', 'solved'], ['staff', 'take', 'customer', '.', 'called', 'staff', 'bring', 'servicing', 'high', '.', 'asked', 'much', 'bring', \"n't\", 'said', '.', '10', 'days', 'car', 'serviced', 'also', '\\\\', '?', 'said', 'payment', '.', 'service', 'toyota', 'take', 'proper', 'customer', '.'], ['service', 'service', 'must', '.'], ['return', 'car', 'us', '.', 'take', 'information', 'correctly', 'car', 'servicing', 'quality', '.'], ['servicing', 'car', 'staff', 'needs', 'take', 'customer', '.', 'problem', 'raise', 'car', 'needs', 'solved', 'phone', 'instead', 'going', 'service', 'centre', '.'], ['good', 'came', '1', '1', '.', '5', 'months', 'taking', 'feedback', '.', 'personal', 'car', 'servicing', '\\\\', '?', 'happen', 'everytime', '.', 'running', 'car', ',', 'later', 'problem', 'occurs', 'give', 'feedback', '1', '1', '.', '5', 'months', 'servicing'], ['customer', 'tell', 'problem', 'give', 'good', 'response', '.'], ['put', 'new', 'parts', 'car', 'informed', 'customer', '.', 'need', 'work', 'properly', '.'], ['told', 'cars', 'problem', ',', 'servicing', 'car', 'given', 'information', 'cars', 'problem', 'solved', ',', 'understanding', '.'], ['time', 'time', '.'], ['feedback', 'needs', 'ask', 'weak', 'start', 'using', 'car', 'service', 'centre', 'ask', 'feedback', 'within', 'day', '.'], ['given', 'complained', 'feedback', ',', '\\\\', '?', 'get', 'response', '.', 'take', 'action', '.'], ['feedback', 'comes', 'tierst', 'even', 'car', 'come', 'showroom', '.', 'car', 'came', 'gate', 'feedback', 'came', '.', 'first', 'need', 'check', 'car', '.'], ['servicing', 'calling', '.', 'coming', 'servicing', 'next', 'day', 'one', 'week', ',', 'good', 'customer', 'also', 'calling', 'customer', 'alternate', 'week', '.'], ['taken', 'away', 'car', ',', ',', 'complained', 'cars', ',', 'saw', 'improved', '.', ',', '.'], ['servicing', '24', '48', 'hours', 'us', 'asked', 'us', 'car', 'working', 'good', '.', 'problem', 'car', '.', 'like', 'service', 'better', 'customer', '\\\\', '?', 'relationship', 'would', 'much', 'better'], ['improvement', 'needed', 'infinium', 'toyota', '.', 'car', 'servicing', 'calling', 'feedback', '.', 'us', 'feedback', 'improvement', '.'], ['feedback', 'customer', 'problem', 'dealership', 'center', 'update', 'customer', 'visits', 'next', 'time', 'need', 'solve', 'problem'], ['servicing', '.', 'tell', 'sells', 'boys', 'would', 'good', '.'], ['make', 'customer', 'servicing', 'servicing'], ['\\\\', '?', 'get', 'come', '.'], ['take', 'feedback', 'means', 'ask', 'problem', '.', 'till', 'called', '.', 'take', 'car', 'servicing', 'ask', 'problem', 'car', '.', 'servicing', 'show', 'us', 'problem', 'car', 'solved', 'also', 'checked', 'problem', 'solved'], ['servicing', 'car', '1', '2', 'days', '.', 'called', 'days', 'useful', '.'], ['servicing', 'receive', 'feedback', '.', 'least', 'ask', '1', 'week', 'problem', 'car', '.'], ['improvement', 'feedback', '.', 'give', 'time', '.', 'listen', 'customer', 'problem', 'properly', 'solve', '.'], ['.'], ['took', 'car', 'service', 'center', 'asking', 'rating', 'us', 'per', 'service', '.', 'also', 'give', 'per', 'service', 'done', '.', 'also', 'got', 'sms', 'saying', 'give', '5', 'rating', '.', 'usually', 'happened', 'every', 'time', '.', 'happened', 'bangalore', 'also', '.'], ['customer', 'give', 'complaint', 'give', 'proper', 'response'], ['last', 'time', 'experience', 'good', '.', 'prior', 'feedback', 'told', 'improvements', 'done', 'done', 'yet', '.', 'also', 'took', 'time', 'time', 'committed', 'company', '.', 'shared', '2', 'feedbacks', 'last', 'last', 'servicing', '.', 'filled', 'action', 'taken', '.', 'got', 'remember', 'happened', '.', 'improvement', 'must', 'happen', 'least', 'taking', 'feedback', 'action', 'also', 'taken', '.', 'work', 'done', ',', 'must', 'customer', 'tell', 'work', 'done', '.', 'anything', 'missing', 'dealership', ',', 'must', 'informed', 'customer', 'must', 'complete', 'work', '.'], ['tell', 'us', 'forcefully', 'give', 'good', 'remark', 'market', 'research', 'feedback', '.'], ['make', 'take', 'feed', 'back', 'regarding', 'servicing', '.'], ['given', 'complaint', 'take', 'action', '.', 'improvement', '.', 'give', 'complaint', 'something', 'take', 'action', '.'], ['servicing', 'car', 'problem', 'bumper', '\\\\', '?', 'called', 'feedback'], ['customer', 'get', 'feedback', 'also', 'complained', 'given', 'customer', 'feedback', ',', 'give', 'response', '.'], ['customer', 'complained', 'servicing', 'quality', ',', 'properly', 'done', 'need', 'checking', 'returned', 'customer', '.'], ['service', 'dealership', 'feedback', '.', 'honda', 'servicing', 'center', 'used', 'customer', 'foe', 'feedback', '.', 'customer', 'get', 'feedback', '.'], ['improve', '.', 'ask', 'customer', 'used', 'car', '\\\\', '?', '\\\\', '?', '.'], ['sell', 'car', ',', '\\\\', '?', '.', 'driver', 'drives', 'car', '\\\\', '?', 'know', 'much', 'km', 'car', 'run', '.', 'us', 'inform', 'us', 'car', 'run', 'much', 'km', 'come', 'servicing', '.', 'get', 'kolkata', 'service', '\\\\', '?', 'get', 'topsel', 'siliguri', 'servicing', '.'], ['sometimes', 'feedback', 'sometimes', '.', 'continuously', 'feedback', '.', 'servicing', 'ask', 'customer', 'problem', '.'], ['give', 'revert', 'feedback', 'taken', 'customer', 'improve', 'customer', 'face', 'problem', '.'], ['went', 'last', 'periodic', 'service', 'get', '.', 'inform', 'last', 'periodic', 'service', 'remind', '.'], ['try', 'customer', \"'s\", 'phone', 'twice', 'customer', 'missed', 'phone', '.'], ['ask', 'tea', 'coffee', 'customer', 'time', '.'], ['need', 'check', 'vehicle', 'condition'], ['taken', 'regularly', 'service', '.', 'make', 'proper', 'schedule', 'servicing', 'appointment', '.', 'day', 'servicing', 'us', 'otherwise', 'used', 'arrange', '.', '8', '15', 'days', 'us', '.', 'taking', 'complaints', 'note', 'complains', 'servicing', '.'], ['\\\\', '?', 'know', '.', '\\\\', '?', 'idea', '.'], ['car', 'service', 'ask', 'service', 'experience', 'car', 'condition', '.', '.', 'need', 'start', '.'], ['servicing', 'feedback', 'get', ',', 'take', 'action', '.', 'complaint', 'given', 'customer', '.', 'update', 'service', 'center', 'also', 'self', 'us', 'tell', 'complaint', 'update', 'come', 'servicing', '.'], ['receive', 'every', 'service', '.'], ['improved', 'sometimes', '3', '4', 'dealership', 'staffs', 'regarding', 'car', 'servicing', 'purpose', 'irritating', '.'], ['solve', 'customers', 'problem', 'per', '.'], ['called', 'customer', 'care', 'take', 'feedback', 'regarding', 'service', 'experience', '.', 'time', 'customers', 'demands', 'customer', 'care', 'number', ',', 'telecaller', 'listen', 'customer', 'answer', 'query', 'instead', 'disconnecting', '.'], ['servicing', 'car', '15', 'days', 'later', 'customers', 'ask', 'problem', 'vehicle', '.'], ['feedback', 'get', 'problems', 'given', 'take', 'immediate', 'action', 'another', 'feedback', 'use', '.', 'taken', 'feedback', ',', 'direct', 'informed', 'company', 'said', 'worked', 'completed', 'customer', 'customer', 'dissatisfied', ',', 'done', 'worked', 'immediate', '.', 'thing', 'happened', 'could', 'think', 'get', 'meaning', '.'], ['completing', 'services', 'two', 'weeks', 'dealership', 'customers', 'check', 'whether', 'condition', 'car', 'good', '.', ',', 'till', '\\\\', '?', 'called', 'vehicle', 'servicing'], ['suppose', 'car', 'came', 'servicing', 'called', 'phone', 'ask', 'servicing', '.', 'asked', 'later', 'also', 'called', 'time', '.', 'suppose', 'receive', 'keep', 'calling', '.', 'told', 'customer', 'time', 'feedback', 'take', '.', 'without', '.', 'lots', '.'], ['fulfill', 'commitments', 'give', 'proper', 'response', 'customer', '.'], ['time', \"n't\", 'receive', 'feedback', ',', 'improvement', '.', 'feedback', 'make', '.', 'done', 'service', 'make', 'feedback', 'within', '24', 'hrs', '48hrs', ',', 'like', 'sir', 'problem', '.', 'problem', 'average', 'pick', '.', 'waited', '2', '3', 'days', \"n't\", 'receive', '.', 'told', '2nd', 'time', 'telling', 'thing', 'could', 'happen', 'service', 'like', 'average', 'get', 'less', '.', 'felt', 'like', 'according', 'earlier', 'driving', 'average', 'less', '.'], ['\\\\', '?', 'remember', 'time', 'think', '.', 'might', 'received', '.', '\\\\', '?', 'know', 'calling', 'others', '.', 'need', 'make', 'remind', 'properly', 'important', '.', 'back', 'customers', 'get', 'proper', 'training', '.', 'us', 'within', '48', 'hours', 'us', 'within', '1', '1', 'half', 'hour', '.', 'compulsory', 'complete', 'type', 'rules', '.', 'take', 'responsibility', '.'], ['improved', 'many', 'times', 'waste', 'time', '.', 'problems', 'message', 'service', 'center', 'otherwise', 'arrange', 'complaint', 'box', 'dealership', '.', 'first', 'servicing', 'car', 'time', '100', 'times', 'improved', '.'], ['1', '\\\\', ')', 'take', 'feedback', 'rectify', 'problems', '.'], ['iam', 'satisfied', 'service', '.', 'servicing', 'car', 'take', 'information', 'vehicle', '.', 'important', 'customer', '.'], [',', 'give', 'clear', 'information', 'availability', 'spare', 'part', 'dealership'], ['important', 'customer', '.', 'servicing', 'car', 'dealership', 'staff', 'customer', '.', 'sometimes', 'time', 'iam', 'meeting', 'time', 'send', 'mail', 'sms', '.'], ['information', 'updated', 'instead', 'message', '.'], ['made', 'complaints', 'mail', 'also', 'response', '.', 'complaint', 'responding', '\\\\', '?', 'someone', 'making', 'complaint', ',', 'answer', '.'], ['\\\\', '?', 'get', '.', 'companies', 'customers', '\\\\', '?', 'get', 'toyota', '.', 'concern', '.'], ['us', '3', 'times', 'month', 'update', 'us', 'service', 'due', '.'], ['\\\\', '?', 'get', '.', '\\\\', '?', 'provide', 'sufficient', 'information', 'customers', '.', 'give', 'limited', 'customer', 'employee', ',', 'proper', '.', 'employee', 'overload', 'customer', 'one', 'feel', 'satisfied', '.', 'increase', 'staff', '.', 'anything', 'due', 'work', 'overload', '.', 'work', 'load', 'high', 'staff', 'place', 'company', '\\\\', '?', 'take', 'decisions', '.'], ['us', 'feedbacks', '.'], ['customer', 'service', 'executive', 'ask', 'whether', 'reason', 'car', 'send', 'service', 'center', 'resolved', '.', 'also', 'ask', 'whether', 'officers', 'approached', 'service', 'properly', 'explained', '.', 'mistakes', 'repeated', '.', 'improvement', 'done', '.'], [',', 'servicing', 'vehicle', 'know', 'vehicle', 'condition'], ['followup'], ['increase', 'otherwise', 'send', 'text', 'messages', 'e', 'mails', '.'], ['slove', 'issue', 'car', 'mentioned', 'customer', 'feedback', '.'], ['receive', '.'], ['ask', 'customers', 'complaint', 'first', 'feedback', 'customer', 'complaint', 'waist', 'customers', 'time', '.'], ['customer', 'checking', 'status', 'car', 'servicing', '.'], ['sometimes', 'get', '.', 'situation', '\\\\', '?', 'go', 'dealership', 'driver', 'visit', '.', 'hence', ',', 'least', 'ask', 'driver', '\\\\', '?', 'experience', 'calling', '.'], ['give', 'feedback', 'customers', '.', 'take', 'efforts', 'ask', 'customers', 'liked', 'services', '.', 'request', 'problem', 'customer', '.', 'say', 'take', 'care', 'matter', \"n't\", 'anything', '.', 'suppose', 'sent', 'car', 'servicing', ',', 'work', 'never', 'properly', '.', 'complain', 'always', 'tell', 'thing', 'wo', \"n't\", 'face', 'kind', 'inconvenience', 'future', '.', 'work', 'got', 'carried', 'forward', 'next', 'servicing', '.', 'always', 'implemnet', 'customer', 'complaints', '.'], ['need', 'check', 'condition', 'vehicle'], ['give', 'customers', 'servicing', '.', 'ask', 'customers', 'satisfied', 'services', ',', 'problem', 'car', '.', 'charging', 'extra', ',', 'ask', 'permission', 'even', 'car', 'warranty', 'get', 'extra', 'work', 'done', ',', 'amount', 'charged', '.', 'inform', 'customer', 'extra', 'amount', 'charging', '.', 'servicing', 'without', 'asking', ',', 'clean', 'car', 'doors', 'charge', 'rs', '.', '500', 'without', 'informing', ',', \"'s\", 'right', '.', 'customers', 'always', 'informed', 'beforehand', '.'], ['customer', 'mention', 'problem', 'resolve', '.'], ['car', 'service', 'deliverance', 'customers', 'must', 'seeks', 'information', '\\\\', '?', 'related', 'services', 'etc', '.', '\\\\', '?', 'get', 'yet', '.'], ['improvement', 'sale', 'services', '.', 'service', 'center', 'people', 'ask', 'detailed', 'questions', 'regarding', 'car', '.', 'questions', 'ask', 'generalized', '.', 'questions', 'ask', 'feedback', 'general', '.', 'questions', 'little', 'specific', 'feedback', '.'], ['increase'], ['service', 'center', 'take', 'customer', 'service', 'experience', 'car', 'condition', 'consumes', 'complaint', 'needs', 'solved', '.'], ['servicing', '\\\\', '?', 'get', 'feedback', 'rajendra', 'toyota', 'people', 'properly', 'contact', 'customer', '.', 'servicing', 'customer', 'ask', 'condition', 'car', 'servicing', 'get', 'feed', 'watch', 'worked', 'also', 'proper', '.'], ['time', 'feedback', 'servicing', 'time', '.', 'customers', 'busy', 'remember', 'customer', 'know', 'detail', '.'], ['take', 'clear', 'information', 'customer', 'service', 'center', '.', 'working', 'condition', 'car', 'running', 'needs', 'guided', 'customer', '.', 'take', 'ups', 'customer', '.', 'customer', 'needs', 'happy', 'service', 'provided', 'service', 'center', '.'], ['1', '.'], ['nanavati', 'toyota', 'people', 'seating', 'complaints', 'customers', 'giving', 'people', 'providing', 'feedback', 'many', 'times', 'given', 'complaint', '.', 'october', 'given', 'complaint', 'till', 'resolved', '.', 'situation', 'told', 'click', 'photo', 'send', 'company', 'time', 'till', 'today', 'called', 'many', 'times', 'telling', 'voice', 'coming', '3', '4', 'times', 'happened', '.'], ['1', '.', 'staff', 'members', 'give', 'confirmation', 'sms', 'regarding', 'problem', 'resolution'], ['servicing', 'get', 'feedback', 'toyota', 'brand', 'also', 'improve', 'take', 'feedback', 'customer', 'servicing', '.', 'good', 'customer', 'get', 'feedback', 'service', 'center', 'could', 'told', 'improve', 'want', 'car', 'servicing', '.'], ['dealership', '.', 'already', 'made', 'complaint', '.', 'knowledge', 'even', '\\\\', '?', 'called', '.'], ['question', 'send', 'via', 'post', 'mail'], ['feedback', 'improve', 'servicing', 'feedback', 'get', 'customer', 'problem', 'solve', 'tell', 'problem', 'problem', 'remained', 'company', 'side', 'sent', 'person', 'tell', 'come', '.'], ['actually', 'customers', 'giving', 'attention', 'time', 'servicing', 'due', 'give', 'attention', 'good', '.'], ['get', 'feedback', 'meaning', '.', 'given', 'feedback', '2', '3', 'paint', ',', 'satisfied', 'response', 'put', '.', 'request', 'something', '\\\\', '?', 'get', 'response', '.', 'meaning', 'second', 'dealership', 'body', 'listen', 'us', '\\\\', '?', 'time', 'much', 'also', '.', 'done', 'work', 'according', 'self', 'meaning', 'tell', 'understood', 'problem', 'customer', 'improve', '.'], ['service', 'centre', 'called', 'us', 'feedback', ',', 'go', 'toyota', 'pune', 'service', 'centre', 'customer', '.', 'much', 'time', 'called', 'customer', 'one', 'day', 'month', ',', 'make', 'one', 'folder', 'customer', '.'], ['1', '\\\\', ')', 'service', 'center', 'take', 'feedback', 'customer', 'work', '.', 'problem', 'servicing', 'recall', 'customer', 'solve', '.', 'solve', '.', 'issue', 'came', 'staff', 'wo', \"n't\", 'complaint', '.', 'committing', 'anything', 'needs', 'complete', '.'], ['taking', 'feedback', 'take', 'action', 'collect', 'data', 'feedback', 'customer', '.', 'submit', '.', 'take', 'feedback', 'customers', 'unsatisfied', 'service', ',', 'take', 'appropriate', 'action', '.', 'first', 'time', 'get', 'complain', 'given', 'solved', ',', 'viber', 'repaired', 'private', 'service', 'center', 'kind', 'faced', 'problem', 'action', 'small', '\\\\', '?', 'small', 'thing', 'side', 'big', 'thing', '.'], ['us', 'ask', 'us', 'servicing', 'good', '.', 'car', 'servicing', 'done', 'nicely', '.'], ['car', 'experience', 'car', 'condition', 'service', 'needs', 'done', 'carefully', '.', 'customers', '.', 'needs', 'taken', 'dealership', '.'], ['customer', 'feedback', 'office', 'time', '.', 'give', 'us', 'feel', 'give', 'time', 'waste', 'long', 'questions', '.', 'question', 'get', 'bored', 'busy', 'work', '.', 'give', 'us', 'forms', 'instead', 'phone', '.'], ['\\\\', '?', 'important', 'servicing', 'dealership', 'feedback', 'needs', 'improved', '.', 'inform', 'customer', 'old', 'mobile', 'number', 'working', 'register', 'new', 'mobile', 'number', '.', 'know', 'owner', 'spending', 'much', 'car', '.', 'sending', 'driver', 'pick', 'car', 'bill', 'needs', 'messaged', 'registered', 'mobile', 'number', '.'], ['take', 'action', 'customer', 'complaints', '.'], ['improve', 'another', 'company', 'customer', 'servicing', '.', 'till', 'get', 'toyota', '.', 'customer', 'servicing', 'ask', 'condition', 'car', 'servicing', 'proper', '.'], ['servicing', 'feedback', 'change', 'timing', 'feedback', 'us', '2', '3', 'times', 'in15', 'days', 'customer', 'used', 'car', 'give', 'peeper', 'feedback', '.'], ['servicing', 'database', 'updated', 'customers', '.', 'customers', 'inform', 'need', 'come', 'servicing', 'car', 'servicing', 'also', 'needs', 'come', 'ask', '.', 'service', '.', 'problem', 'car', '.'], [\"n't\", 'get', 'feedback', 'dealership', '.'], [\"n't\", 'took', 'improved', 'service', 'wo', \"n't\", '.', 'car', 'condition', '\\\\', '?', 'wo', \"n't\", 'us', 'even', 'car', 'runs', '10', ',', '000', 'km', '.', 'service', 'complete', 'us', 'service', 'wo', \"n't\", 'us', '.'], ['time', 'time', 'car', '.', 'servicing', '1', '2', 'days', 'situation', 'car', 'servicing', '.'], ['car', 'survive', 'regular', '.', 'improved', '.'], ['people', 'take', 'feedback', ',', 'concentrate', 'complaint', 'given', 'customer', '.', 'customer', 'lost', 'luggage', 'car', ',', 'return', '.'], ['feedback', 'time', '.'], ['face', 'problem', 'car', 'told', 'reply', '.', 'noise', 'coming', 'car', 'still', 'problem', 'solved', '.'], ['question', 'send', 'email', '.'], ['customer', 'give', 'detail', 'car', '.'], ['receive', 'feedback', 'dealership', '.', 'ask', 'feedback', 'staff', 'name', 'plate', 'recognize', 'name', '.', 'feedback', 'necessary', '.'], ['\\\\', '?', 'feedback', '.', 'servicing', 'car', 'customer', 'take', 'information', 'servicing', 'problem', 'car', '.', 'servicing', 'car', '4', '6', 'days', 'enquiry', 'customer', 'servicing', 'car', '.', 'car', 'running', 'properly', '.', 'purpose', 'ask', 'compulsory', '.'], ['time', 'time', 'ask', 'us', '.', 'also', 'give', 'us', 'detail', 'servicing', 'date', '.'], ['service', 'completed', 'take', '.', 'improved', '.'], ['get', 'feedback', 'get', 'feedback', 'one', 'two', 'time', '.', 'get', 'feedback', 'get', 'feedback', 'service', 'center', 'asked', 'customer', 'problem', 'car', 'servicing', 'get', 'feedback', 'service', 'center', '.'], ['took', 'feedback', 'proper', 'anwer', 'provided', '.', \"n't\", 'called', '.', \"n't\", 'feedback', \"n't\", 'retify', '.', 'ok', 'service', 'center', 'take', 'ups', '.', 'think', 'lots', 'work', '.', 'wo', \"n't\", 'take', '.', \"n't\", 'take', '.', \"n't\", 'take', 'proper', '.', 'consider', 'one', 'leave', 'another', 'one', '.'], ['dealership', 'number', 'body', 'attained', 'another', 'take', 'lots', 'time', 'dealership', 'people', 'callers', 'asked', 'customers', 'query', 'changes', 'want', 'car', 'active', 'present', 'staff', 'go', 'holiday', 'provide', 'available', 'staff', 'number', 'ask', 'told', 'customers', 'customer', 'query', '.'], ['take', 'good', 'feedback', '.'], ['servicing', 'give', 'importance', 'feedback', '.', 'ask', 'customer', 'services', 'properly', 'done', '.', 'work', 'properly', 'per', 'customer', '\\\\', '?', 'satisfactions', '.', 'single', 'day', '10cars', 'coming', 'need', 'ask', '4', '5', '6', 'customer', 'colors', 'satisfaction', 'improved', '.'], ['us', '.'], ['till', \"n't\", 'get', 'servicing', 'us', 'ask', 'servicing', ',', 'good', 'us', '.'], ['service', 'improved', '.', 'give', 'servicing', '.'], ['develop', 'get'], ['feedback', 'car', 'servicing', '.'], ['get', 'less', 'us', 'service', 'improve', '.'], ['received', 'feedback', '4', 'months', '.', 'car', 'new', '.', 'us', 'servicing', 'visit', 'last', 'tuesday', 'till', 'service', 'center', '.', '3', '4', 'days', '.'], ['receive', 'servicing', 'us', 'servicing', 'us', '.'], ['lanson', 'dealership', ',', 'service', 'take', 'customer', 'car', 'condition', 'experience', 'good', '.'], ['ask', 'us', 'car', 'servicing', 'sums', 'email', '.'], ['customer', 'ask', 'service', 'service', 'done', 'problem', '.'], ['received', 'feedback', 'service', 'center', 'nobody', 'ask', 'servicing', '.', 'facing', 'problem', 'car', 'running', 'finely', '.'], ['improvement', 'feedback', '.', 'ask', 'complaints', 'improvement', 'meaning', '.', 'formulates', '.', 'car', 'alignments', 'problem', 'one', 'half', 'month', 'servicing', 'nobody', 'came', 'take', 'car', '.', 'said', 'send', 'driver', '.', 'ask', 'complaints', 'solve', 'satisfied', 'customer', '.', 'reasonability'], ['millennium', 'toyota', 'feedback', 'inform', 'faults', '.', 'like', 'share', 'problems', 'customer', '.', 'servicing', 'time', 'inform', 'us', '.', 'things', 'needs', 'shored', 'customer', 'feedback', '.'], ['us', 'know', 'satisfied', 'servicing', 'servicing', 'done', 'properly', '.'], ['problem', 'car', '\\\\', '?', 'work', '\\\\', '?', 'check', 'details', 'job', 'card', 'needs', 'done', '.'], ['servicing', '.', 'car', 'mileage', 'goes', 'servicing', '.'], ['.', 'us', 'know', 'facing', 'problem', '\\\\', '?', 'anytechnical', 'problem', 'car', '\\\\', '?', 'improvement', 'wait', '\\\\', '?', 'ask', 'questions', 'also', 'give', 'us', 'one', 'emergency', 'number', 'face', 'problem', 'road', '.'], ['customer', 'wo', \"n't\", 'get', 'feedback', 'center', '.', 'feedback', 'service', '.', 'share', 'problem', 'complaint', 'get', 'solution', 'next', 'time', 'work', 'needs', 'done', 'properly', 'equally', 'import', 'feedback', '.', 'customer', '\\\\', '?', 'time', 'feedback', 'service', 'center', 'work', 'properly', '.'], ['getting', 'feedback', 'servicing', '.', 'us', 'feedback', 'share', 'problems', 'take', 'actions', '.', 'improve', 'feedback', 'service', '.'], ['\\\\', '?', 'get', 'feedback', 'shinrai', 'toyota', '.', 'servicing', 'asked', 'service', 'proper', '.', 'taken', 'money', 'car', 'delivered', 'home', '\\\\', '?', '.']]\n"
     ]
    }
   ],
   "source": [
    "def clean_corpus(x1):\n",
    "    x_new = []\n",
    "    for x in x1:\n",
    "        if 'no improvement' in x:\n",
    "            continue\n",
    "        else:\n",
    "            x_new.append(x)\n",
    "    return x_new\n",
    "\n",
    "def clean_str(string):\n",
    "    \"\"\"\n",
    "    Tokenization/string cleaning for all datasets except for SST.\n",
    "    Every dataset is lower cased except for TREC\n",
    "    \"\"\"\n",
    "    string = re.sub(r\"[^A-Za-z0-9(),!?\\'\\`]\", \" \", string)     \n",
    "    string = re.sub(r\"\\'s\", \" \\'s\", string) \n",
    "    string = re.sub(r\"\\'ve\", \" \\'ve\", string) \n",
    "    string = re.sub(r\"n\\'t\", \" n\\'t\", string) \n",
    "    string = re.sub(r\"\\'re\", \" \\'re\", string) \n",
    "    string = re.sub(r\"\\'d\", \" \\'d\", string) \n",
    "    string = re.sub(r\"\\'ll\", \" \\'ll\", string) \n",
    "    string = re.sub(r\",\", \" , \", string) \n",
    "    string = re.sub(r\"!\", \" ! \", string) \n",
    "    string = re.sub(r\"\\(\", \" \\( \", string) \n",
    "    string = re.sub(r\"\\)\", \" \\) \", string) \n",
    "    string = re.sub(r\"\\?\", \" \\? \", string) \n",
    "    string = re.sub(r\"\\s{2,}\", \" \", string)    \n",
    "    return string.strip().lower()\n",
    "\n",
    "\n",
    "def process_corpus(x1,stopwords):\n",
    "    # split three categories: 1 no improvemnt 2 with noun 3 others\n",
    "    doc_noimprove = []\n",
    "    clean_sen = []\n",
    "    for x in x1:\n",
    "        if 'no improvement' in x or 'respondent' in x:\n",
    "            doc_noimprove.append(x)\n",
    "        else:\n",
    "            sents = sent_tokenize(x)\n",
    "            sen_list = []\n",
    "            for sent in sents:\n",
    "                word_list = nltk.word_tokenize(sent)\n",
    "                word_list = [word for word in word_list if word not in stop_words]\n",
    "                sen_list = sen_list + word_list\n",
    "            clean_sen.append(sen_list)\n",
    "    return clean_sen\n",
    "\n",
    "def should_nn_v(x1, pos_nn, pos_vv):\n",
    "    pos_new = nltk.pos_tag(nltk.word_tokenize(x1))\n",
    "    nn_list = []\n",
    "    vv_list = []\n",
    "    for token in pos_new:\n",
    "        if token[1] in pos_nn: #and token[0] in wv.vocab:\n",
    "            nn_list.append(token[0])\n",
    "        if token[1] in pos_vv:\n",
    "            vv_list.append(token[0])\n",
    "    print nn_list\n",
    "    print vv_list\n",
    "    print x1\n",
    "    \n",
    "nn_corpus = []\n",
    "\n",
    "stop_words = stopwords.words('english')\n",
    "rule_10_words = ['follow', 'up','call', 'calls']\n",
    "stop_words = stop_words + rule_10_words\n",
    "new_content = process_corpus(content, stop_words)\n",
    "print new_content\n",
    "#doc1, doc2, doc3, doc4 = process_corpus(content)\n",
    "\n",
    "\n",
    "#pos_nn = ['NN', 'NNS']\n",
    "#pos_vv = ['VB']\n",
    "#print 'no comments', len(doc1)\n",
    "#print 'single sentence without nn', len(doc3)\n",
    "#print 'multi-sentence', len(doc4)\n",
    "#for doc_sing in doc2:\n",
    "    #should_nn_v(doc_sing, pos_nn, pos_vv)\n",
    "    "
   ]
  },
  {
   "cell_type": "code",
   "execution_count": 20,
   "metadata": {},
   "outputs": [
    {
     "ename": "NameError",
     "evalue": "name 'nn_extracted' is not defined",
     "output_type": "error",
     "traceback": [
      "\u001b[0;31m---------------------------------------------------------------------------\u001b[0m",
      "\u001b[0;31mNameError\u001b[0m                                 Traceback (most recent call last)",
      "\u001b[0;32m<ipython-input-20-798c9e3b3200>\u001b[0m in \u001b[0;36m<module>\u001b[0;34m()\u001b[0m\n\u001b[1;32m      7\u001b[0m     \u001b[0mdf\u001b[0m \u001b[0;34m=\u001b[0m \u001b[0mCounter\u001b[0m\u001b[0;34m(\u001b[0m\u001b[0mtext\u001b[0m\u001b[0;34m)\u001b[0m\u001b[0;34m\u001b[0m\u001b[0m\n\u001b[1;32m      8\u001b[0m     \u001b[0;32mreturn\u001b[0m \u001b[0mdf\u001b[0m\u001b[0;34m\u001b[0m\u001b[0m\n\u001b[0;32m----> 9\u001b[0;31m \u001b[0mdf\u001b[0m \u001b[0;34m=\u001b[0m \u001b[0mdf_count\u001b[0m\u001b[0;34m(\u001b[0m\u001b[0mnn_extracted\u001b[0m\u001b[0;34m)\u001b[0m\u001b[0;34m\u001b[0m\u001b[0m\n\u001b[0m\u001b[1;32m     10\u001b[0m \u001b[0;32mprint\u001b[0m \u001b[0mdf\u001b[0m\u001b[0;34m\u001b[0m\u001b[0m\n",
      "\u001b[0;31mNameError\u001b[0m: name 'nn_extracted' is not defined"
     ]
    }
   ],
   "source": [
    "from collections import Counter\n",
    "def df_count(x1):\n",
    "    # split three categories: 1 no improvemnt 2 with noun 3 others\n",
    "    text = []\n",
    "    for ab in x1:\n",
    "        text = text + ab\n",
    "    df = Counter(text)\n",
    "    return df\n",
    "df = df_count(nn_extracted)\n",
    "print df"
   ]
  },
  {
   "cell_type": "code",
   "execution_count": 14,
   "metadata": {
    "scrolled": true
   },
   "outputs": [
    {
     "ename": "NameError",
     "evalue": "name 'nn_extracted' is not defined",
     "output_type": "error",
     "traceback": [
      "\u001b[0;31m---------------------------------------------------------------------------\u001b[0m",
      "\u001b[0;31mNameError\u001b[0m                                 Traceback (most recent call last)",
      "\u001b[0;32m<ipython-input-14-3cc52067eccb>\u001b[0m in \u001b[0;36m<module>\u001b[0;34m()\u001b[0m\n\u001b[1;32m     10\u001b[0m             \u001b[0mtest_corpus\u001b[0m\u001b[0;34m[\u001b[0m\u001b[0mxth\u001b[0m\u001b[0;34m]\u001b[0m \u001b[0;34m=\u001b[0m \u001b[0;34m[\u001b[0m\u001b[0mstemmer\u001b[0m\u001b[0;34m.\u001b[0m\u001b[0mstem\u001b[0m\u001b[0;34m(\u001b[0m\u001b[0mdoc\u001b[0m\u001b[0;34m[\u001b[0m\u001b[0mith\u001b[0m\u001b[0;34m]\u001b[0m\u001b[0;34m)\u001b[0m \u001b[0;32mfor\u001b[0m \u001b[0mith\u001b[0m \u001b[0;32min\u001b[0m \u001b[0midx\u001b[0m\u001b[0;34m]\u001b[0m\u001b[0;34m\u001b[0m\u001b[0m\n\u001b[1;32m     11\u001b[0m     \u001b[0;32mreturn\u001b[0m \u001b[0mtest_corpus\u001b[0m\u001b[0;34m\u001b[0m\u001b[0m\n\u001b[0;32m---> 12\u001b[0;31m \u001b[0mnn_clean\u001b[0m \u001b[0;34m=\u001b[0m \u001b[0mfilter_ne\u001b[0m\u001b[0;34m(\u001b[0m\u001b[0mnn_extracted\u001b[0m\u001b[0;34m,\u001b[0m \u001b[0mdf\u001b[0m\u001b[0;34m)\u001b[0m\u001b[0;34m\u001b[0m\u001b[0m\n\u001b[0m\u001b[1;32m     13\u001b[0m \u001b[0mdf\u001b[0m \u001b[0;34m=\u001b[0m \u001b[0mdf_count\u001b[0m\u001b[0;34m(\u001b[0m\u001b[0mnn_clean\u001b[0m\u001b[0;34m)\u001b[0m\u001b[0;34m\u001b[0m\u001b[0m\n\u001b[1;32m     14\u001b[0m \u001b[0mdict_map\u001b[0m \u001b[0;34m=\u001b[0m \u001b[0mdict\u001b[0m\u001b[0;34m(\u001b[0m\u001b[0mdf\u001b[0m\u001b[0;34m.\u001b[0m\u001b[0mmost_common\u001b[0m\u001b[0;34m(\u001b[0m\u001b[0;34m)\u001b[0m\u001b[0;34m)\u001b[0m\u001b[0;34m\u001b[0m\u001b[0m\n",
      "\u001b[0;31mNameError\u001b[0m: name 'nn_extracted' is not defined"
     ]
    }
   ],
   "source": [
    "import heapq\n",
    "import os\n",
    "from nltk.stem.porter import *\n",
    "stemmer = PorterStemmer()\n",
    "def filter_ne(test_corpus, df):  # assuming each review contain one aspect\n",
    "    for xth, doc in enumerate(test_corpus):\n",
    "        if len(doc)>1:\n",
    "            df_words = [df[word] for word in doc]\n",
    "            idx =  heapq.nlargest(1, xrange(len(df_words)), key=df_words.__getitem__)\n",
    "            test_corpus[xth] = [stemmer.stem(doc[ith]) for ith in idx]\n",
    "    return test_corpus\n",
    "nn_clean = filter_ne(nn_extracted, df)\n",
    "df = df_count(nn_clean)\n",
    "dict_map = dict(df.most_common())\n",
    "print df\n",
    "print type(nn_clean[0])\n",
    "\n",
    "def write_file(corpus, idx_list, word):\n",
    "    f1 = open('cluster/%s/%s_comment.txt' % (word, word), 'w+')\n",
    "    for idx in idx_list:\n",
    "        f1.write('%s\\n' %corpus[idx])\n",
    "    f1.close()\n",
    "    \n",
    "    \n",
    "def main_category(df_list, nn_clean, corpus):\n",
    "    os.mkdir(\"cluster\")\n",
    "    name_list = {}\n",
    "    major_list = [word for word in df_list if df_list[word]>3]\n",
    "    print major_list\n",
    "    for word in major_list:\n",
    "        os.mkdir(\"cluster/%s\" %word)\n",
    "        idx_set = []\n",
    "        for idx, doc in enumerate(nn_clean):\n",
    "            if word in doc:\n",
    "                idx_set.append(idx)\n",
    "        write_file(doc_nn, idx_set, word)\n",
    "        name_list[word] = idx_set\n",
    "    return name_list\n",
    "\n",
    "name_list = main_category(dict_map, nn_clean,doc_nn)\n",
    "print name_list['space']"
   ]
  },
  {
   "cell_type": "markdown",
   "metadata": {
    "scrolled": true
   },
   "source": [
    "# Split Large Cluster"
   ]
  },
  {
   "cell_type": "code",
   "execution_count": 15,
   "metadata": {
    "collapsed": true
   },
   "outputs": [],
   "source": [
    "from nltk.corpus import wordnet as wn\n",
    "from itertools import product\n",
    "def sim_check_word(word1,word2):\n",
    "    syns1 = wn.synsets(word1)\n",
    "    syns2 = wn.synsets(word2)\n",
    "    sims = []\n",
    "    for sense1, sense2 in product(syns1, syns2):\n",
    "        d = wn.path_similarity(sense1, sense2)\n",
    "        sims.append((d))\n",
    "    return max(sims)\n",
    "\n",
    "def sim_check_list(list1,list2):\n",
    "    sims = []\n",
    "    for word in list1:\n",
    "        for word2 in list2:\n",
    "            sims.append(sim_check_word(word, word2))\n",
    "    return max(sims)\n",
    "\n",
    "\n",
    "def l2_extract(corpus, idx_list):\n",
    "    num = 0\n",
    "    other_content = []\n",
    "    adj_batchlist = []\n",
    "    local_content = []\n",
    "    for idx in idx_list:\n",
    "        doc = corpus[idx]\n",
    "        local_content.append(doc)\n",
    "        adj_list = []\n",
    "        for word in doc.split():\n",
    "            try:\n",
    "                tmp = [wn.synsets(word)[hh].pos() for hh in range(len(wn.synsets(word)))] \n",
    "            except IndexError:\n",
    "                tmp = None\n",
    "            if 'a' in tmp:\n",
    "                adj_list.append(word)\n",
    "        adj_batchlist.append(adj_list)\n",
    "    \n",
    "    \n",
    "    return adj_batchlist, local_content\n",
    "\n",
    "tt_list, local_content = l2_extract(doc_nn, name_list['space'])\n",
    "\n",
    "\n"
   ]
  },
  {
   "cell_type": "code",
   "execution_count": 16,
   "metadata": {},
   "outputs": [
    {
     "name": "stdout",
     "output_type": "stream",
     "text": [
      "[['more', 'sitting'], [], ['comfortable'], ['center'], [], ['improved'], ['proper', 'much'], ['no', 'sitting'], ['small'], ['more', 'clean'], ['little', 'big', 'available'], ['other', 'less'], ['separate', 'available'], ['good'], [], [], [], ['separate'], ['much', 'least'], [], ['away'], [], ['available'], [], ['proper'], ['less'], ['improved', 'small', 'much'], ['small'], ['little', 'more'], ['sitting', 'more'], ['separate'], ['small', 'large', 'comfortable'], ['improved', 'other', 'all'], ['more'], ['visible'], ['small', 'big'], [], ['on'], ['more', 'broad', 'short'], ['fast'], [], ['available'], ['center', 'rough', 'no', 'outside', 'less', 'no', 'unclean'], ['improved', 'more'], ['limited'], ['less'], ['proper', 'available'], [], ['some'], [], [], [], ['sitting', 'less'], [], ['net'], ['clean'], ['clean', 'kept', 'clean', 'sitting', 'proper', 'clean'], ['good'], ['hot', 'clean', 'little'], ['large', 'better'], ['center', 'limited', 'standing', 'standing', 'outside', 'large', 'better'], ['sitting', 'medical', 'more', 'good'], ['dirty', 'changed'], ['less'], ['open', 'good', 'sitting'], ['big'], ['some', 'some'], ['connected', 'no', 'sitting', 'all'], ['clean'], ['clean'], ['comfortable'], ['proper'], ['large'], ['more', 'better', 'small', 'square', 'fit', 'more'], ['short', 'small'], ['clean', 'like'], ['cold', 'cold', 'least', 'cold'], ['different'], ['little', 'informed', 'much'], ['improved', 'much', 'found'], [], ['more', 'proper'], ['larger', 'better'], ['good', 'separate', 'outside', 'clean', 'comfortable'], ['cool'], [], [], ['center', 'sitting'], ['more', 'less'], ['clean'], ['left', 'increased', 'helpful'], ['uncomfortable', 'able', 'small'], ['available'], ['little', 'less', 'small', 'big'], ['separate'], ['different'], ['first'], ['more'], [], ['much', 'no', 'concrete', 'on'], ['clean', 'clean'], ['available', 'center', 'available'], ['big', 'comfortable', 'good', 'like', 'seated'], [], ['more', 'small'], ['on'], ['clean']]\n"
     ]
    }
   ],
   "source": [
    "print tt_list"
   ]
  },
  {
   "cell_type": "code",
   "execution_count": 17,
   "metadata": {
    "collapsed": true
   },
   "outputs": [],
   "source": [
    "set_rule = [['clean', 'net', 'cleaning', 'dirty'], ['more', 'large', 'less', 'much', 'small', 'big'], ['sitting', 'standing'], ['different', 'separated', 'separate'],['comfortable']]\n",
    "def space_split_run(adj_list, set_rule):\n",
    "    labels = []\n",
    "    for tmp_set in adj_list:\n",
    "        if len(tmp_set) > 0:\n",
    "            scores = []\n",
    "            for rule_list in set_rule:\n",
    "                scores.append(sim_check_list(tmp_set, rule_list))\n",
    "            if max(scores) > 0.5:\n",
    "                labels.append(scores.index(max(scores)))\n",
    "            else:\n",
    "                labels.append(1)\n",
    "        else:\n",
    "            labels.append(1)\n",
    "    return labels\n",
    "idx_labels = space_split_run(tt_list,set_rule)\n",
    "\n",
    "def write_all(content_list, idx_labels, keyword):\n",
    "    for i in range(-1, max(idx_labels)+2):\n",
    "        f1 = open('cluster/%s/%s_%d.txt' %(keyword, keyword,i),  'w+')\n",
    "        for idx, doc in enumerate(content_list):\n",
    "            if idx_labels[idx] == i:\n",
    "                f1.write('%s\\n' % (content_list[idx]))\n",
    "        f1.close()\n",
    "write_all(local_content, idx_labels, 'space')\n",
    "                "
   ]
  },
  {
   "cell_type": "code",
   "execution_count": 12,
   "metadata": {},
   "outputs": [
    {
     "name": "stdout",
     "output_type": "stream",
     "text": [
      "[1, 1, 4, -1, 1, -1, 1, 2, 1, 0, 1, 1, 3, -1, 1, 1, 1, 3, 1, 1, -1, 1, -1, 1, -1, 1, 1, 1, 1, 1, 3, 1, -1, 1, -1, 1, 1, -1, 1, -1, 1, -1, 0, 1, -1, 1, -1, 1, -1, 1, 1, 1, 1, 1, 0, 0, 0, -1, 0, 1, 1, 1, 0, 1, 2, 1, -1, 2, 0, 0, 4, -1, 1, 1, 1, 0, -1, 3, 1, 1, 1, 1, 1, 0, -1, 1, 1, 2, 1, 0, -1, 1, -1, 1, 3, 3, -1, 1, 1, 1, 0, -1, 1, 1, 1, -1, 0]\n"
     ]
    }
   ],
   "source": [
    "print idx_labels"
   ]
  },
  {
   "cell_type": "code",
   "execution_count": 61,
   "metadata": {
    "collapsed": true
   },
   "outputs": [],
   "source": []
  },
  {
   "cell_type": "code",
   "execution_count": null,
   "metadata": {
    "collapsed": true
   },
   "outputs": [],
   "source": []
  },
  {
   "cell_type": "code",
   "execution_count": null,
   "metadata": {
    "collapsed": true
   },
   "outputs": [],
   "source": []
  }
 ],
 "metadata": {
  "kernelspec": {
   "display_name": "Python 2",
   "language": "python",
   "name": "python2"
  },
  "language_info": {
   "codemirror_mode": {
    "name": "ipython",
    "version": 2
   },
   "file_extension": ".py",
   "mimetype": "text/x-python",
   "name": "python",
   "nbconvert_exporter": "python",
   "pygments_lexer": "ipython2",
   "version": "2.7.13"
  }
 },
 "nbformat": 4,
 "nbformat_minor": 2
}
