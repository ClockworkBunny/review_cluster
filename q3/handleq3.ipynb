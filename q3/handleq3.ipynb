{
 "cells": [
  {
   "cell_type": "code",
   "execution_count": 1,
   "metadata": {
    "collapsed": true
   },
   "outputs": [],
   "source": [
    "import numpy as np\n",
    "import cPickle\n",
    "import nltk\n",
    "from nltk.corpus import stopwords\n",
    "from collections import Counter\n",
    "from sklearn.metrics.pairwise import pairwise_distances\n",
    "import itertools\n",
    "import string\n",
    "from nltk.tokenize import sent_tokenize\n",
    "from nltk.stem.porter import *\n",
    "import os\n",
    "#import pyemd\n",
    "#loading word embeddings\n",
    "#wv = KeyedVectors.load_word2vec_format(\"../w2v/w2vemb.bin\", binary=True)"
   ]
  },
  {
   "cell_type": "markdown",
   "metadata": {},
   "source": [
    "# Visualize functions"
   ]
  },
  {
   "cell_type": "code",
   "execution_count": 2,
   "metadata": {
    "collapsed": true
   },
   "outputs": [],
   "source": [
    "def write_file(n_clusters_, labels, corpus, mapping_dict, test_corpus):\n",
    "    for indice_cluster in range(n_clusters_):\n",
    "        # print indice_cluster\n",
    "        idx_list = np.where(labels == indice_cluster)[0]\n",
    "        f1 = open('cluster_%s/%dth_cluster.txt' % (question_class, indice_cluster), 'w+')\n",
    "        for idx in idx_list:\n",
    "            f1.write('%s %s\\n' % (corpus[mapping_dict[idx] - 1], test_corpus[idx]))\n",
    "    f1.close()\n",
    "\n",
    "\n",
    "def write_ne(nes, question_class, mapping_dict):\n",
    "    f1 = open('ne_%s.txt' % question_class, 'w+')\n",
    "    for idx, doc in enumerate(nes):\n",
    "        f1.write('%s %s\\n' % (mapping_dict[idx], ' '.join(doc)))\n",
    "    f1.close()    \n",
    "\n",
    "def wmd_compute(x1, x2):\n",
    "    return wv.wmdistance(x1, x2)\n",
    "\n",
    "def analyze_cluster(n_clusters_, labels, corpus, mapping_dict, test_corpus, filename):\n",
    "    num = 0\n",
    "    other_content = []\n",
    "    for indice_cluster in range(n_clusters_):\n",
    "        idx_list = np.where(labels == indice_cluster)[0]\n",
    "        if len(idx_list) > 4:\n",
    "            f1 = open('%s_%s/%dth_cluster.txt' % (filename, question_class, indice_cluster), 'w+')\n",
    "            for idx in idx_list:\n",
    "                f1.write('%s %s\\n' % (corpus[mapping_dict[idx] - 1], test_corpus[idx]))\n",
    "            f1.close()\n",
    "        if len(idx_list) < 4:\n",
    "            num = num + len(idx_list)\n",
    "            for idx in idx_list:\n",
    "                other_content.append(corpus[mapping_dict[idx] - 1])\n",
    "    f1 = open('%s_%s/other_cluster.txt' % (filename, question_class), 'w+')\n",
    "    for doc in other_content:\n",
    "        f1.write('%s\\n' % doc)\n",
    "    f1.close()\n",
    "    print num"
   ]
  },
  {
   "cell_type": "markdown",
   "metadata": {},
   "source": [
    "# Reading Raw text"
   ]
  },
  {
   "cell_type": "code",
   "execution_count": 3,
   "metadata": {},
   "outputs": [
    {
     "name": "stdout",
     "output_type": "stream",
     "text": [
      "length of content 309\n",
      "['earlier , i had given my car to servicing they told me , \\\\? we will give complete details within 1 or 2 day or till monday \\\\? . after that they committed me that we will complete the servicing till friday handover car to you but it was not completed . they completed servicing on next friday . previously they checked problem and they were aware about my car door issue . after that they had not given me proper time frame . they should know how much time it will take to deliver the car back . they should say , \\\\? sir it will take 15 days , so please adjust to do your work . they finally gave our car on saturday .', 'they should explain everything', 'they should give proper explanation .', \"they are not providing the correct information . they do n't have a capability to estimate what problem is there in the system .\", 'after resolving the customer query customer should be satisfied after trial on car .', 'when customer come in showroom that time staff should quickly respond to customer and staff should give proper timing information about the servicing of car .', 'they should not say lie to the customer what is the fact they should say that only', 'the problem should be solved in the service center itself we should not need to visit outside , because the vehicle is manufactured there itself so we are aware that they will use the original parts but in other place we are not aware they are using the original material or not .', 'they should not do false commitments to the customer , they should clearly update the customer how much time they need to do service .', 'staffs must behave politely and friendly with customers staffs must attend the customers properly , a staff must be made available at the entrance to receive the customers and give proper guidance to there queries', 'the quality of service advisor should be good and service advisor should satisfy the customers .', 'if the service advisor makes any commitment then they must fulfill their commitments or at first only tell us if you cannot do it', 'they should give proper information and rates should be clear and need to inform when car will be delivered .', 'there should be transparency . means not only tire but any part customer should understand it completely and should be resolved within time .', 'technically , the required information and knowledge is not in them . i think the trainings are not done properly or else they might have given the training but the person \\\\? s understanding level was not up to the mark . advisor must look into this , if they can convince the customer and they must understand the issue .', 'if there is any car problem , they must explain properly to customers . they should tell us what needs to be done in case of any issue .', \"they should update the customer about the issues of vehicle they found after the vehicle handed over by a customer , if needed they should make a call to the customer for the same so the customer ca n't elevate the staff .\", 'dealership staff should explain the customers properly . if we ask them to fix any extra part then they mention that we will get the part only after ordering it for this we will have to pay in advance . so instead of this they should have all the parts available with them .', \"they should update the customers about the issue of car , as customer can only upper part of the car , customer ca n't see that what are they doing below the car .\", 'when we go there they themselves did not check the car , they asked parties about the issues in car . even after asking to the parties they should check car because they might not know parts . they are solving issues whatever parties is saying but they should also pay attention on other parts . they should advise us that this part is poor and we need to replace it so should we replace it or not . just i had done servicing and my car is making noise so they should upfront tell us . they did not give explanation .', 'amana toyota motors and dealership is not just a small company it \\\\? s a vast and huge one . if a customer is coming with any issues in their car then instead of giving reason to them for not doing try to provide exact information to the customers as well as explain the same in details .', 'they doesn \\\\? t have time to explain to customer .', \"they don \\\\? t advice us anything . they work on problems which we mentioned them . they have trained executives so they should take a ride of our vehicle to check actual problem . they should also check that is there any other problem in vehicle rather than we mentioned but they do n't do this we have to inform them . they should tell us by them self that what is need to change in car , what should repair in car .\", 'they should advise properly . they should check everything after that if you find any issue this is wrong . .', 'during the servicing time when everyone explain about servicing i think sometime it is like that only which is no need to say . i think just they are saying for making money . one incident was happened with me that my car was bend from front side , they said that it will not repair . they said that we will do balancing but the ring will not repair also they charge for that . if anything is there service center guys should explain properly to the customers is there any benefits of doing servicing or not or if we do the servicing then what problem can occur should explain .', 'they should do improvements on the explanations which they provide . like when i had given my car for servicing for the 1st time they told that oil needs to be changed , but again in the 2nd servicing they told oil needs to be changed . when asked that why is the oil to changed they did not tell anything . so they should provide explanations for the customer \\\\? s queries .', 'service advisor should have the knowledge about servicing , as the advisor not have the knowledge of greasing .', 'staff and mechanic should properly check and also trail the vehicle in roadside and all proper details information given to customer it was very help for the customer', 'dealership staff should give advice explanation about the services . after changing any spare parts , the car has used for 10 , 000 km , we give the car for servicing then they should check that the spare part which is replaced is in proper condition or not . so due to which we do not have any issues like break down etc . while using the car for long travel .', 'staff are not working properly and they are not give proper information about the car .', 'some sounds come out from the because of the ac blow problem of my vehicle . i ask them about this but they didn \\\\? t give proper answer about the problem . they said that it \\\\? s a chargeable and you can come when you get free but why has the problem they didn \\\\? t tell me so we can take of this . now the problem has automatically reduced .', 'they should repair our car in all service center those are under toyota . they should not tell the customer to visit the service center were the early servicing done .', '1 . the behavior of the staff should be good towards the customers 2 . they have to take fen change for regular customer', \"there should be an experience advisor . this people are not having it . and the advisors are not having much knowledge and they were asking to us . if we asked them to do the work they should complete the work and should satisfied us . every one is ready to give their advise . if customer is satisfied then he will give the feedback happily . i am not satisfied with your millennium toyota which is on klayan shil phata road . i am satisfied with thane 's toyota . here people are not much older . we are getting all families in thane .\", '1 . they have to explain clearly and understandable to the customers regarding the condition of the vehicle', 'the management should be more strong and responsible regarding the appointment with us and our visit to the dealership .', 'service advisor should be more matured . and experienced . they should have options before working on any thing . they should specify advantages and disadvantages . there are such options which an advisor donor know . they worked on my car without asking me . they donor have experienced staff .', 'they should respond according to response from customers . they should provide the results considering customer outputs . then check if customer is happy or not , required output was given or not etc .', \"if we go for one small work they did n't told us about further work , that 's need to improve . they did n't give us detail i think that is missing which they should provide and improvement should be their . if we go to service center they should check all the problem that any problem is their or not . if anyone is new and he do n't know about vehicle so they should check and inform this problem is also their must repair it .\", 'all the staff are not aware of the servicing details as only 6 out of 10 staff are aware of this . so instead all the staff need to well known about the service details .', 'no improvement require', 'receiving ins not good and they have to give the details clearly', 'they should proper explanation , when we call for service appointment . instead they could do the facility of booking it online .', 'service advisor should give unbiased advice to the customer as they suggest us something else in 1 service and sudden on next service they suggest us something else , they should have objective criteria for advisers , they should check the vehicle properly at the time of servicing .', 'the receptionist should concentrate on customer in correct way , they update exact charges to customer which they going to take .', \"in your place having lots of issue of service advisor . they are just continued with their phone calls . they do n't have proper knowledge of car handling . they are not handling properly and also not giving feedback on time to time . they even did not informed us by calling in between as this work has done and this has to be done . all things are getting missed so we informed them by calling so they fill embarrassed . after this they start to search . we have given this feedback to managing director .\", 'they should improve on giving the explanations on the customer \\\\? s queries .', 'you have to think how to improve it .', 'they don \\\\? t know what they are advising to us . we have to explain them what is the actual problem . if we have any problem but they got any other problem , then they did not listen to us . my car engine is making noise that also i had to told him .', 'workshop staff and supervisors don \\\\? t cooperate with each other . mechanical person doesn \\\\? t listen anything to supervisor which i have seen by myself that supervisor told them to work properly but mechanic did not listen to him . supervisor don \\\\? t check car if mechanic person says vehicle is done so he gave us vehicle without checking . we customer face issue by their internal problems . they should appoint a person on supervisor who is neutral and speak clearly with everyone . all are young generation so they keep fighting regarding their work .', 'if there is some problem in the car then the advisor is telling us that this has to be change . he wants to change each and every thing from our end . if they did not understand any thing after checking so they asked to change it . my car had problem with the light so they asked to change it . they should tell us properly .', 'they should have a person at service center who have the knowledge of navigation system and who can help the customer on it . all staff should knowledgeable .', 'we had asked some questions to them then they did not gave proper answers of that questions . it is like about the average , option so they did not answered in proper way . their answers should be satisfactory .', \"first one they should provide information about the customer \\\\? s query . staff don \\\\? t have information as well as they are not aware . if we are asking something to them then they are telling you can do coating , you can do paint for shining . the package is only rs 12000 you can take it . how to drive car , how to keep the car , where we have to give attention , about the engine , about the safety . where we have done servicing of car or toyota 's service only will have done at toyota . do not brought it any other service center . any number is available these are all basic things , company have to tell these to their customers . they are not telling these .\", \"customer should get right advise which is not getting . they do n't have the idea about the car . like how to drive the fortunar car so the maintenance and mileage will increase . they should have all the information .\", 'there is some issue with the advisor team , their behavior is not good , and they are rude . they should understand the customer \\\\? s complaints . they should look into the same and not ignore their complaints . mechanics are doing his work , what they want . advisor doesn \\\\? t even bother to check their work . they play games their .', 'they should do proper servicing or washing of the car in the first visit . we should not need to come again and again for the same work . they should work properly , the car which are visiting there should be properly checked', 'i want to tell something if anything is required in service they don \\\\? t inform us anything . for example if we tell them that headlights socket broken then they don \\\\? t inform us that wiring is broken of headlamps .', 'they have to give the proper information to which the customer can understand', 'they should fulfill their commitment and customer should not follow up them they should proactively update the customer about the problems .', 'there is should be transparency . if we want to install any part they force us to take this or that and about the charges .', 'dealership staff should be friendly . they should provide all the information . should check the car and should provide all the information related to it .', 'dealership do not give proper explanation to the customers . they do not tell or explain while giving the car for servicing nor while taking it back after servicing . they only say that the bill is ready so i myself ask them if there is any query . they only tell that everything is serviced instead of giving the explanation .', \"they have to understand the customer 's problem 2the management should concentrate on their business\", 'they should tell me how better i can drive to improve the performance of my car and what are the things i can do to maintain the vehicle in good condition', 'service advisor should ask the customer that the customer is satisfied with the answer giving by service advisor or not and if service advisor not able to understand customer problem , so they should allow the customer to speak with their manager .', 'details should be elaborated properly and the timing should be maintained properly .', 'the management should give proper training to their staff . 2 \\\\) they are unable to realize the problem of the vehicle when we given complained to them .', 'staff is bogus this time . old staff was nice . staff should answer us properly and they should solve us every complaint . we call them 4 5 times but they never call us .', 'they should give proper information about the service because once they told me that wheel alignment should be done as soon i reached home they say brake pad need to be changed which will cost 6000rs they should provide correct information', 'if we ask any questions from the dealership staff they do not answer properly . they do not give complete information about small parts of the car .', 'service advisor should proactively give the explanation to the customer of the work which needed to be done on a car .', 'there should be some arrangement for looking at the vehicle when they do the oil servicing . because we need to see that the oil which they use is the same oil which is written on bill .', 'you can tell us what all work is required to be done in the car . what is beneficial for the car . like at my time i only asked every thing and then they told me instead they should tell everything on their own . for everything they must tell us what all we can do', 'whenever we take our car for servicing the service advisors there do not advise us properly . what they do is suppose any part of the car is working fine they will ask us to change that part . part that is supposed to be changed is not done which the owner also know there is some defect . give proper training to service advisor and tell them they have to be friendly with customers . they must focus on what customer is telling .', 'lot of smell is coming from my car from the time i have taken the car . me and my friend took the car at the same time and same model , everything is same , when his car is riding there is no smell but in my car has the smell . this same thing i told them also on which they said this is normal and i did not get any resolution . when i checked with my friend he confirmed that there is no smell . my suggestion is that they must investigate completely and only then they must answer the customer . if customer is saying some thing they must pay attention to it and then they must answer it .', 'they should appoint knowledgeable person in toyota company .', 'staff should take their responsibility . we are taking the car then what issues are facing or not all this feedback hey should take from the person who is driving the car . there is nothing like time to time work . once the car went to inside then we don \\\\? t know work in process or not inside . they asked to sand one person inside and he is not working in other place as well but only he is doing cat walk from here to there . everyone is busy in doing cat walk . no one is looking in proper way . they should ask us as what problem we are facing in car and should note down . all details and all things should have done properly .', 'no improvement require all are fine', 'just they can be little more manageable to improve', 'after servicing the car they should guide to customer told to pending work . they should proper detail information give to customer .', 'service center people do not know that how time it would take for servicing so they do not commit the customers . they should tell the customers about the time taken for the service . they should check the availability of their technician their work load . they should also check if the servicing is done properly or not .', 'those staff given explanation they should have proper training about \\\\? how to explain to customer . they should aware about difference of vehicle like innova is different fortuner is different also their services are different . if they are aware about it then they can explain to customers it .', 'they should drop the customer to their place .', 'they should first listen completely to the customers then give the answer accordingly . if we are complaining on any issue they should work on that .', 'in few cases they are charging from additional bases so they should inform customer prior . intimation is required when charging any additional than service .', \"in between or internal communication or guidance with the customer if dealership will improve it then it would be good . if they give explanation in details about the works which is need to do do n't get time to time the proper information . when a car entered they should guide that this works need to do now and this works if will done later then also it will be oaky .\", 'we are not understand the car problem , staff should self check the car .', 'when we go the services center they should give good services . waiting time work should be done . they said done work in guarantee period another then they take 7days . they should done over work in one day . but they more money to done our work in one day .', 'they need to tell the details about the things that require doing on car to the owner of the car or the person who goes on behalf of the owner .', \"the behavior of staffs is very bad . they are very impolite . they did n't tell me properly what i will do . it is need to be improved .\", 'the dealership staffs were not doing completing the servicing work , they are doing half work and going other places , then we are searching him and call him . customers service should be better and correct , the staffs should be behave with the customers properly .', 'they should improve in explanation advice . expects are not good . in my family we have 8 to 9 car of different brand . toyota only not giving explanation . they are not giving explanation properly . they think that we don \\\\? t know how to driver car they have all information .', 'detailed explanation is must . all charges are very his . the detailed explanation needed for all parts service charges . service center guys need to work honestly then it will be good not a money minded .', \"they order spare part which they brought from bangalore due that it will be one day late . so after one went to dealership they told we have ordered after 5 o'clock so it will take time for spare parts to receive . staff must inform prior and explain the details .\", 'no improvement require', 'staff behavior its not good they should improve their behavior', 'in car there is any problem inside they are not repair that properly when they cleaning the car they are not asking for us car is damaged or not .', 'when we go for the car servicing they unnecessary they ask for the expensive servicing of the card . e . g . some new clearing like dry cleaning system the launched for cleaning the seats which cost rs 1500 which is not needed according to me', 'they have to give the clarity information regarding do the delivering of the vehicle', 'dealing should be good . in service center there should be experience person .', 'the car work which i hold that work they not do on that they do extra work . some people went to do the phone call . some people went to told for lunch time . without any time they wont home own they proper time . searching the document they attend another customers', 'they should give extra information in detail about our car servicing', 'service center need to deliver on time without customer waiting . sometimes they delivered most of the time out . if more vehicle is came for service then they delayed customers are waiting for very long time . this needs to be improve .', \"i repairs my car 's clutch plate , then also i face same problem , so service center should check car properly before giving it to customers .\", 'they satisfy customer after knowing the reason of dissatisfaction . they should not guide wrong to customer .', 'while servicing time they are not properly explain with our car . after servicing , i taken away my car on the way i switched on my cars headlight , but it is not on , immediately i called them , they are told me you are come tomorrow . . they should be explained properly when we are came there .', \"basically a customer is very much dependent on dealership staffs about car insurance , on basis of staff 's convincing they take the decision for insurance . when our car gets the damage then staffs are unable to tell the exact information . when i want to take insurance claim then they put down my requirements but at the time when insurance co . staff visit to dealership then staff not able to explain to them about my car part damaged , due to the reason i did the claim but i am not getting claim .\", 'the dealership staff never gives the proper information about the services charges . they never gives the correct details about their services . they need to improve in this aspects .', 'they should satisfied customer properly . they should guide customer properly do not pay extra money .', 'dealership staff need to tell us how much will be the cost for service when they will deliver . if the give proper explanation on first side it will be good .', 'during car servicing dealership staff given same explanation or advice . so staff should show them to senior that how staff are working . after taking appointment also we have to wait for 20 to 25 mints .', 'they well know that after 5 years what are the problem will be arise in car . so they explain us properly in advance it will be good .', 'no improvement require', 'staff should have the general knowledge . staff should know the electronic because they have to explain about the car system , type how its work . they need to appointment these types of people staff .', \"service advisor do n't do the work for their own mine . first listen the customer problem then they do work .\", \"i had faced one problem i . e . when i went to take the car they people did n't explained me anything about the car . i do n't know what is the c system in inova car . staff did n't explain the customers about the car had to 7000 km and i have to know what is c system and which system is used because if customer is going to take the car , staff should tell him the experience . staff should pay attention as he know the customer is new to car . they should ask the customers that is there any problem in the car , is all system is know to you \\\\? they had given the car of lakh rs . but i do n't know how to do automatic gare to manual gare .\", \"there is a less workers \\\\( boy 's \\\\) , should be provide more workers . one person handles 10 cars . we do n't have a time to talk anyone .\", 'which part have bolt which they not get other then they put . so they not told me to not use the car . they put all tires new after come to lakh now it was damaged . then i told them then they told me boll was gone which is not there .', 'the staff are misguide us they should not to misguide us . they should be told us right things . which services good services for us like .', 'i had taken the appointment on before 28th they had rejected the appointment and they had sent me back . when we the customers service center . speed of the service', \"while for servicing they do n't give right explanation to us . each time while coming must explain like how to drive to avoid problem . must give correct details explanation by service staff .\", 'explain properly about the servicing and all . explain everything about the vehicle what servicing they are doing , which , where need putting , what should be doing for servicing , only in that place . explanation should be properly .', 'service centre persons should change the staff . they should charge the penalty for staff . customer satisfaction must be needed . professional showroom must be provided in service centers .', \"while giving explanation the staff knowledge was not proper . it means they said take car from dsk but it any problem occur like cash or insurance claim or any issue they suggest to go other dealership . so it should not happen it any work you ca n't do then you should inform us previously only .\", 'responded said that ican not give you of that opened answer .', 'they have a proper knowledge whoever servicing the car the person have to know when he delivered the car .', 'they are not doing explanation properly . they should explain us . they should explain as it is .', 'they provide good explanation . they are lieing . moll of the times they should clear the things and they should tell truth . this should be improved .', 'advisor who explained about the car it must be detailed . if we faced any problem that time phone must be work . after that they called so it is deficit for decide what to do', \"dealership explanation should be improved . they should provide proper information about vehicle . but the fact is i my self have to tell all the problem . we ca n't provide all the information about the problem . we can tell only general information .\", 'they behave good with customer .', 'in servicing time if they are changed any parts of our cars then they should be given information to the customer . the advisors explanation should be satisfied . they told us parts should be changed . that time they should be checking the parts and what is this damage this explanation should be told the customer .', 'maintenance must be there work should be done on commuted time . whatever the reason is there .', 'if waiting time is more then 1 hour then staff should in from us because we have to go to office if they take more time then it will have problem . if we come from take more time they at affects my job . if car have any problem then they should inform us without argument . they are only telling that they are giving free service but they are not implementing it . if they don \\\\? t want to give policy they should not keep it .', 'the car features they should be guide properly . they should also guide us how to driving .', 'staff is very careless . labor talking to the customer . service advisor should concentrate on them they done the work they doing properly or not .', \"in car which problem is their they should proper advice to them . they should first inform them which problem is their because customer can face problem . that 's why proper information should be provide .\", 'they should improve explanation when we visit service center with car we have to search them nobody available there to attend us . they take more time for paper work . we have to explain them car problem . they are not explaining or giving advice to customer .', \"they should be checking the car . they should be good advice . they should have to check there car what 's the problem in car .\", 'service centers advisor should be call the customer and confirmed . which time coming to the service center . if customer coming to late , then they should be attend the customer and then after attended other customer .', 'they should give proper advice to the customers . if any parts of the car are not working they should repaired it they should not tell to replace them . they should not scads the customer that to change the parts or replace it of the car . because taken charge more money from the customers . they should give proper suggestion .', 'everything depend on advisor which we leave the car on the advisor , so in inside staff how the doing work who doing proper so this work had advisor to take care of it he customer it should he has advisor responsibility because where they work there we are not allowed and has to stand there . they should not paint out the customer and done the work . they should not point out on work which they take the work they should be complete . advisor has to be date car about now they doing the work and which they done the work . which are proper or not , they should use their authority', 'dealership staff should have the fully knowledge about the vehicle . if we are complaining about the maintenance park , they are not aware about the thing they are not able to tell the issues of our vehicle part . they should given proper training about the vehicle fast training everything', 'when we buy any expensive car that time we had issue that time we had issue that time service advisor will give to some excuses or reasons that will not good customer will never satisfied ever .', 'which they work they tell us , that works only do . if charges will be less , it will be good', \"staff should give proper information to customer . if customer do n't have information that any part is in warranty . so they should inform to customer . without reason they keep car for 2 day in showroom . they told us that guaranty warranty is not clear . so your car is over here . nobody is responsible person over there . there should be improvement in explanation advice of staff .\", 'everything should be improved .', \"had a problem and the parts was n't available . so i told them to inform me as soon as the parts are available they asked for the advance money for the parts . must explain in a better way .\", 'there should be knowledgable tecnician , also they should be given to proper information . not the information to bussiness purpose .', 'dealership staff must explain and guide us properly . must provide detailed printouts of the amount charged . if any parts needed to be changed then must inform the rate of it .', 'they have to give proper response and information .', 'advisor talk rudely . should talk properly . time does not know how much time it will take for servicing . for 10 minutes work they take 4hrs . they should give proper advise .', 'dealership staff need to explain all the problems . we are paying 7000 rs for service so they have to explain all the service charges how they charging and how much for each parts', 'there advisor is properly not to the customer . this talking language should be improved .', 'which problem they tell to the customer they should understand it solve their problem .', 'while i taken away my car at servicing center then they told me here servicing more car reaming , now we are not taken . while i taken appointment then they told me tomorrow bring your car if there already more cars for servicing then they should be called and refused . if we are taken the appointment then they are one place put the customers otherwise they call the customers . today not come tomorrow you will come . i given this complaint it should be solved . if servicing our car completed at one day they put it two days . but all works doing it properly otherwise customers went at again and again to solve the problem his cars . they work properly our car then customer will be satisfied .', 'if any person will go their then they should give satisfied to them . like for example their language should be removed when customer go their they should ask tea or coffee to them .', 'when we visit for servicing the car they give explanation regarding it i felt same problem in it when we take car for servicing and if there is any issue or we have to keep car for one day there only they should inform about it after servicing they should not tell about it because for that we have to take car again to servicing center .', 'improvement should be this that the customer are telling their work and they people prepare a list and take our rig nature and they are not giving the copy of it to us one copy should be given to customer so that how customer will know what they had written so anew copy should be provided .', 'advisor should give knowledge to there workers . so that the they guide the customer .', 'they should increase the staff . so they can explain the problem of the car to customers .', 'in last servicing we told them while break the car some noise comes in right side of the car . which not solve it . if customer some problem told them they should be solve it in that time .', \"my smile pack was finished that i do n't know so they have to inform me about the same . after car servicing they told me . so they clear all the things before servicing .\", 'the advertiser should tell the same thing as the timing servicing or tell more than two hours so that we can get the train on the go . advisor should advertise this . tell the right time . so that we do not have to weed', 'nowadays the car is new and all parts are new too . so the staff of showroom and even dealership staff must explain to us in detail . because the staff know the proper details of new model car', 'they were not given all the details about the vehicle . they should be give all the details and also they will suggest about new accessories foe the vehicle .', \"they do n't answer properly to us . first they say something after service they something else . they do n't response properly .\", 'while for the service they must give explanation and guide us how to maintain properly .', \"improvement needed but i do n't want to give suggestion .\", \"in current service center happen also in next service what happening . they should be told us they should be explaining properly about customer 's any queries .\", 'before serving our car they should be given full information to the customer about our car like which parts are changed , why it changed that it .', 'they should satisfy the customer properly they should explain everything in detail .', 'when we give our car to them for servicing and return back . so , if has any issue comes in the car , so they should be call us and asked about the issue we resolve or not .', 'which instruction gives them \\\\? they should be complete it which problem of the car wants to tell them again again .', 'service center should do dealing properly . parts are not available at service center . so they should order the parts .', 'staff should be completely trained . and there workshop they should allow o come car owner driver so that they see how they wash and tell them also other the three machine they should take care about it . which person have in counter , they should be explain everything to the customer which they complaint to them .', 'mahindra provides there very worst services but they have a different way . they check it by driving the car also open the bonnet . in this service center it \\\\? s not happen which should be done . advisor should be check the car personally tell what is the problem . they should tell face to face what is the problem this thing if change then we will get benefit or not . one time i asked them that using 100rs shampoo then they reply me if you want to put it then put otherwise live it . then they talk like that they don \\\\? t have manners how to talk . maruti people have different way to talk .', 'after servicing our car while we are taken returned our car then they are not told us . information about our car they should be given he informants on to the customer .', 'in car which work are require they should doing those work . they should not force to the customers that to do this work . they should not doing extra work in the car . for that reason we has to pay extra charge engineer break should like that only they should give complete detail to the customer and also not force them', 'advisor should give proper advice they should appoint good employees', 'they should understand basic things also explain to the customer . what they want to explain they only focus such things .', 'my car part had one problem then i told the service center , changed my car parts , but they told me not problem at parts and not necessary to changed it , you are run away your car . if customer wants their cars changed it otherwise they told the solution to the customer .', \"before giving the car to the customer they had to check it one 's then they have to give it .\", 'they not explain me . they not told me accurately what has to repair in car what problem has there in it . in which services have what work had to done . when we have to take the car they not explain me anything .', 'they have to give the proper information regarding the dinting .', \"how much we ask that much only they explain to us . them self they do n't explain the extra thinks . because we are new . we do n't get any idea but them self they should tell something to us .\", 'they should communicate clearly with customers . there should me transparency in advance . they should explain properly any tips to customer of technical parts .', 'there are taking more time . they should give car on committed time . they are giving after 2 3 hours of committed time .', 'while coming for the service the customer doesn \\\\? t know the process . that time they must completely explain the details of servicing', 'explanation and advice which is given by staff should be improve they should entertain customer and listen there problems some person are there who don \\\\? t talk well with customer .', 'they have to give the proper response 2 . they have to change the key part 3 . they should not give wrong information and should give proper explanation', \"in my vehicle there was ac related problem . it \\\\? s not solving yet . they kept my vehicle for four day 's either then the adviser should checked properly , what problem in ac .\", 'in car which work is done they should inform about that work that work should be done .', 'they have to give proper explanations when customers visits to the service center . 2 . they have to inform regarding the new version of vehicles to the customers', 'when i visited their service center that time i was completed my 70 , 000 km . that time service advisor self advise me after 5 6 thousand km you should change your break paddle . when you complete 5000 or 6000 km then visit again that time we will change it . when i was visit after completed my 5000 km to their service center then i remembered they told me after 5000 km they will change my cars break paddle . but that time service advisor told me your break paddle is in still good condition . we will change it when you completing your another 5000 km . when i visited after completing my 70 , 000 km that time if they properly estimated or advise how long break paddle where in good condition . if they give wrong estimated or wrong advice customer not comfortability drive the vehicle . they should be properly estimate or give correct advice to the customer .', 'those mechanics who are working over there , they should be more expert , so that they can detect the fault . good mechanic is needed , those who are there , they are not expert .', 'information should be given properly .', 'when customer gone there for car servicing then they should not ignore to a customer and also they should attained properly . car servicing should be doing properly .', 'for the work i have taken my car they have not done the work properly . the mechanics are also not good . they did not provide proper service and also did not see that the work has completed or not but they should see this . they must appoint a man whom has more idea about car servicing because if he had more idea he can solve these problems easily .', 'i had problem with my ac of my car . first they said problem with pipe then i changed it . then also it was not been solved on second time i had problem with some other parts to change it . then also the car problem have not been solved . the advisor used to change all the problem of the car once at a time .', 'we are not satisfied with the suggestions given by the dealership they should give it more better .', 'the staff should have more knowledge about the technology .', \"experience staff should be there . and excellent staff should be there . staff should be increase . if staff 's are more while service it will not take time .\", 'they have to give proper explanations .', 'the customer needs to get genuine explanation from the staff . once my car wheel alignment problem a raised . they said my 500 discount be received . but in bill they should tyre change , shockpsar change they added me many charges .', 'the advisor of service center should be very responsible .', 'they have to give proper explanations .', 'there the advisors do not tell anything . for any work of car , they must tell us before they add anything to the car . once they first only added . in normal servicing they should first tell us and the place it . it should not be like this they first add on their own and then tell us . i told them this should be included in this but they said no it comes separately . they must ask if they should add or no .', 'they are not giving the information in clarity . so they have to give correct information .', 'they should avail the details of the problem to the customer . while servicing the car .', 'dealership staff must explanation properly to the customer . the time of spare parts purchase must be informed to us .', \"first time i taken toyota car , i don \\\\? t know anything about it so , staff should explained us how much km used the car , then it required to change the parts and servicing also . service should be improved so it 's good for the customer .\", 'while servicing the car the charges shown on the job car should be similar and there should be no additions charges the bill amount should be similar it should not be more .', 'the staff should have a very clear idea about the spare parts rate . if we ask for the rate of the parts they fumble ask for here there in which are time get wasted . my suggestion is to be there engineer should be available .', 'dealership staff not responding us properly . toyota is very big brand . but staff not attending us properly they don \\\\? t have a proper knowledge to talk with owners derivers . they have to trained properly .', 'advisor explain wrong things . it should be improve .', 'at the time of servicing they should do only that work which is needed not take extra charges for that work .', 'advisor was dash my car in first servicing . now which i done the dry clean which was also not proper . they not done the worked properly .', 'while giving information the staff needs to be experienced . because if we ask any questions they say that let me concern with my sir . this should not be happen .', 'the service advisor should be active .', 'it will be good for my car but after that i did not feel any charges in my car . they take huge amount for it . so after paying huge amount it there is no benefit out of it then this is not good they should not suggest us like this . if somebody asks then only they suggest then it \\\\? s ok .', \"one staff member given my proper advise and staff not given me proper advise he did n't explained me properly . they told me your bill will come something amount but we get some other amount in bill . so they should told us exact amount they told me to changed raile so i told them to changed it then they changed it but they did n't returned my old raile . when i asked about it they said it was not there .\", 'advisor should explain the customer properly . then only the customer satisfied with it . he may be satisfied with the bill also . the car work should be done proper . they should arrange some tea for the customer .', 'they should allow the customers to be present at the servicing place so that we can learn many things about servicing . when they tight a \\\\? natboltu \\\\? then we can see and understand how to tight and which pressure is needed .', 'they should inform the charges to the customer in detail . examination needs to be done after servicing . trail facility needs to be given to customer after the servicing completed . whatever the problem comes needs to shared with the customer . because once the service completed and the vehicle took to doorstep and then the problem arise is not good to them . the servicing needs to be done properly while handovering to customer .', 'when i explained my problem about my car they took a smooth road drive for checking but i have to drive in rough road also . so as per me complain about the sound in suspension not get when they check my car in smooth road . i want to improve their ability to capture our problem to resolve them .', 'they should update all things to customers and should suggest how the customer can protect their car from the scratches', 'if car have any problem they should inform the customer about the same properly .', 'they told us tom paint in below the car and to make polish on a bonnet . so every time they use to tell this . they told us only one time so one day we went and made all the service .', 'staff need to explain all things properly . they called us said that the service was finished , so come collect the car , but when we went to collect the car that time car was not able to start . than they said that come again \\\\? tomorrow \\\\? we will check do the service again . they have to check need to do test drive before calling the customer because its waste of our time to come again .', 'they should improve their behavior . commitments should be followed . customers should be respected . we have purchased car by paying money , we are not thief .', 'they should inform each and every thing related to car . only that much information needs to be provided which is asked .', 'they should advise the customer how to improve the performance of the vehicle .', \"they do n't give any advice . only do the repairing works .\", 'everything is fine but the professional guide should be better . they always tell to change but change becomes costly . they should do the servicing without changing . the time when the car is given after testing should be better . the professional engineer should check the car before handing it over to the customer .', 'in my car a light has been broken and when i mention the same to staff they directly said me it might me from your end only the light broken . need not to speak like this instead they need to check the car completely and find how it has broken and convey the same with customer . even a service manager was not responded me properly when i went and about to buy the car . a person has willing to buy the car but the staff has not provided relevant answers for the query raised whereas they need to clearly make the customers understand .', 'explanation given by staffs needs to improve . they don \\\\? t do work as per given instructions . work which we said they should complete that everything . they should confirm this that customers all the work should be done which they don \\\\? t complete . they didn \\\\? t complete work which i told them in my last service .', 'while giving the car for services we mention all the issues persist over the car but the dealership staff need to look after on all each parts that is there any other problem in the car and need to resolve the same as well .', 'there should be a staff available who gave satisfactory answers to customers and explained properly about the problem . it means they just said as you come here we will do this will do that and all . we do not want such type of service need good service .', 'i left my car at dealership that the car side mirror has been loose as it was not fitted properly . since last 2 services i have mentioning it but yet they not resolved it and when i asked the same to local dealers they said it will charge rs . 10000 . actually the insurance which we take due to this reason only that if we have any such issues we can claim it . but when it is not in use then there is no use of insurance to our car .', 'if we ask any query related to spare parts to the dealership staffs they promptly answer us , but similarly if we ask query regarding insurance claims they did not to answers properly and behave as if they are less knowledgeable on the particular part . due to this i was not satisfied on their responses .', 'advisor should update the customer time to time about the problems of the vehicle .', 'they have to explain about the servicing timings clearly .', 'they should have a person at the service center who can guide the customer when customer visit the service center .', 'they should not cheat with the customer , they should fill proper oil in vehicle and should attend the customer who come first .', 'when the customers approach the staff numbers they have to immediately attend them instead of keeping on wait .', 'in servicing time they should proper information given to customer . when customer gives the servicing that time they should show to customer what was work they are doing in servicing also explained the issue of car .', 'they are trying to give more and more information in advance like do the service of this thing , which should be proper . if customers says i want this things then they try to convince the customers that do the service of this thing and that thing . they should look first what the customer is needed , not to force them .', 'earlier i was servicing my car at chennai lanson dealership . they have not mentioned anything to me regarding my car issues i . e . brake pad , tires etc . i clearly mention them what all problems i have in my car . when servicing the if they find anything faulty then they can do that well and inform us later . as per innova car we do services on the basis of km . and the dealership should clarify customers regarding their car service those who have newly cars .', 'there is need of service advisor . in my car there is a issue in mobile oil it was reduce . they didn \\\\? t rectify that thing even they did not understand that issue . they should listen to the customers suppose we explain any issue regarding the car like any error or any mistake then they should also check itself .', 'they should give proper training to their advisor . i had waited long time for last servicing . the service paper which we filled on the name of the person he did not done the work , someone else done . in this advisor should do correction . there should one person who guide correctly . at espirit toyota there is no one who guide properly .', 'they should concentrate on servicing and asvisor should give full knowledge to customer about the service .', 'no improvement require', '1 \\\\) they need to evaluation before starting guessing on thing .', 'you should impalement good schemes . they should inform us if any problem arise in future within the car . just watching the car they should let us no if we are riding wrong manner . they should informed us the correct manner of riding .', 'they should sound technical . they should clearly tell the customers what was the problem in the vehicle even they should give genetic advise to the customers .', \"they should be explained that customer is always right and they can talk however they want to amongst each other , but when they talk to a customer they have to talk nicely . they should talk politely with the customers without being rude to them . if a customer does not understand something clearly , they cannot be rude to the customers even without explaining them . when you get rude to a customer without giving them a proper explanation , it 's totally wrong . customer is god , you cannot back answer them . more than half of the staff member does not know how to talk to the customer .\", 'staff should be communicated with the customers , which staff talk good they talk with us then further work will be done good . the most important is the same . when driver visited the service center then staff should be call to me because i am the car owner , because driver not have that much knowledge about car . if any servicing required in the car then they told to me . if any work needed in the car then they should ask to me because i am car owner after that do the work which is they want .', \"the staff members should be educated and should know how to deal with the customers and how to do their work . when staff members should know about the car features . the people who handle the car should have a proper training regarding the same . the staff should be trained properly as to how to satisfy a customer . it 's important for them to know that how the should talk to people . when i had a problem with my pendrive , then the way they spoke to me was n't appropriate .\", 'they should correct advise to the customers', 'they should explain about the requirement documents or things which is then want or didn \\\\? t want . anything problem when have then should told about that .', 'they should properly brief the customer about the issues the problems of the car .', 'staff are not giving proper information about servicing . they should give us detail about the work they are going to do at the time of servicing .', 'advisor should inform beforehand that the process i going to take time . whatever 1 or 2 hours it would take .', 'every thing is ok but they should do there work properly . because after 400 500 km running the same problem started again so it should be improve you can take more time we will adjust but work should be done nicely .', '1 \\\\) they have to provide clear and clarity information 2 \\\\) if the staff did any mistake they have to accept it and they have to rectify the problem .', 'rishi toyota service center had not explained me or haven \\\\? t advise me about my car problem . they haven \\\\? t advised me the interior major problem . they haven \\\\? t explained the car problem or technical problem because of that the problem a raised . they should check technically and then they should discuss with the customer .', \"commercial toyota service center service advisor always are in hurry so they did n't talk toyota . customer so much service advisor should give proper advise to a customer like what servicing wane car when require change in it such kind of thing they should inform to a customers .\", 'staff should have proper knowledge .', 'when we go there then they only asked that car have any problem \\\\? in car have no so much excess problem but if we have doubt for some little things another then we want some technician advise , so there are our person so you can ask him like when people gone there , so there should be have normal technical advisor which provide us advise . i got an outside , when we put 1000 1500 diesel that time in starting mix a oil because of it overage is good engine work properly , such kind of small thing and doubts we known from an outside persons . such thing no body told us to your side they was take direct car key and car also and gone an inside after that they call me and said your car was ready , take your key and give me your gate pass and go from there if in my car have some major problem then we report on counter but if i have small problem , so that time nobody available there for this they should kept someone , so if will good for us . if someone car go there , so in your side someone and ask \\\\? sir \\\\? you want to ask something another then any advise you want to give or any suggestion you want so such 4 5 small thing we should ask to him . on there i have some technical doubts like in my car have auto meter which is not work properly and in car show fuel average , so if i want to ask about some technical and in my car which have button or switches , how to use it . there is have no any technical assistant to guide us , specially when we purchase new car , so in first servicing we want someone who give us advise like you should also put one more filter on upside . this thing i know to local mechanic such kind of small things to tell us there have no any person . if we will get technical advisor so it will good . i didn \\\\? t get service advisor or technician number if i got a number so it will good for ask small small doubts . if in my car engine have some problem and also some noise are come so call to technician advisor and ask him to what to do another then at least when we go indorepur for car servicing so we can call and ask who technician provide me service in that time till now i didn \\\\? t get any number if i got technical assistance regularly so in one year i will comfortable to use car because i drive my slowly , i didn \\\\? t drive my car so fast .', 'the tone of manger is not proper while taking to the customer . the any they need to take need to be in proper manner they should not talk with customer in that manner . i am also a businessman and i don \\\\? t talk with my customer in had manner . they should take with the customers in soft manner . so that they can visit again i don \\\\? t like to go their . they need to treat us properly . they needs to improve on their while taking . they need to look on the customer facility also .', 'according to me they should provide information to customer about the material parts . the part what they fix needs to be showed to the customer openly . customer doesn \\\\? t know what parts are fixed . while retuning the car we itself don \\\\? t know that what problem are been fixed \\\\? they should show to the customer about the new parts and the old parts . how servicing are done by the service center needs to be understand by the customer .', 'if we asked staff for our any doubts they don \\\\? t know anything , they told to us you can asked at head office . they must be aware all the problems .', 'no improvement require', 'they change ac air filter but did not give me proper information about it . last servicing they give all details .', 'while taking the car they should give full information . after servicing they give free offers , but we do not know the offers and they do not provide offers coupons . the other customer got the offers , but our servicing time i haven \\\\? t got the offer , they said it is finished . and there was a offer on charges but no one said this even staff and distributor .', 'no improvement require', 'dealership staff not explained anything to a customer . they should explain differently about insurance .', 'in lanson dealership they should appoint well stilled technician . a small work problem are handled by me brat the technician over there cant cable to handle it at the time of trail the experience technician can able to understand . works needs to be trained properly .', 'there is any problem of vehicle , they have to rectify the problem , with out giving the explanstions', 'the polishing what they do need to be look like the details changed . they said solve this problem in future while polishing time the car should look like the new one . they should change in that manner they say as per that posh what all need to be changed and what are not to change . they should know what parts are been fixed and why it is fixed needs to shared with the customer . like such a small things they needs to faces and work avoid kingly for better results .', 'customer only tell the problems of car which they knows but they should also give imformation that what work should be needed in car .', 'which advisor give a advice which is not proper for this customer was not satisfied . they not provide proper service to us . which agreement done , they should be complete it . which they coating was planed , it should be complete .', 'they need to repair the tyre , the things of the first time . no need of during the wrong explanation . they need to do right service on first time .', 'they should be guide to the customer properly .', 'no improvement require', 'the advisor should not give wrong information to the owner in service centre . only the owners can give full and correct information . if the advisor is giving any advice about the parts are damaged it needs to the changed and they wont trust on advisors advice . the use the owners for that advice . if the owners car has stopped at middle of the road then only he come to know that the advisor has given the wrong advice . the advisor should not say to change the parts immediately it need to the repaired , this thing should not repeat once again in the service centre .', 'they should give more time to a customer , it should be well told that the service need to be said in the car .', 'every staff should be good experience and clarity . each and every customer should get clear information about the service . every staff should not show the personal problem on their face while customer comes for service', 'they should appoint skilled mechanic and engineer at rudra toyota who can study the problem of the vehicle . and who can explain and elaborate the problem in front of the customer . they should appoint skilled advisor who have deep knowledge of car and technology .', \"1 . they should give the service explanation to the customer in detail . 2 . each and every customer they should give clear information about the service , because do not know about the mechanical line they do n't know what parts needs to be changed so the staff should give clear information to the customer .\", 'staff should know the customer vehicle id detail', 'after servicing they should check a car properly then hand over a car to customer', 'nippon dealership they do not explain properly . if they change some parts it needs to be shared with the customer . the changed parts need to be given on full explanations . annamalai dealership they explain properly to the customer .', 'after the service completed they give a explanations but the explanations should be clear and in a better way should be given to the customer .', 'dealership staff who explanation another then advise or which time they told an appointment both time was different and they told me you not came on time . so who people take appointment and who seat in dust , both co ordination was less . so which information they provide us which was wrong .', 'the clear explanations give by staff to customs about the problems . whatever problem said by us needs to done properly . this service needs to be improved .', 'service center manager is not good he is arrogant . the main advisor is also not good . if advisor is wrong then how they can do right work . he was running here and there . there should be one system of work .', 'they should improve on their work explainations . if the car parts are not available in the service center they should call and inform to the customer . they should inform us to the customer about their speakers parts are not available .', 'advisor should check a car properly .', \"they should explain all the details about the car but till now they have n't done it , they should explain small small things because when we go for long drive it will easy for us .\", 'they should explain all the detail of car to customer like about music system , light i don \\\\? t know how to use it . they should explain it .', 'there should give correct information to customers', 'in first servicing only they should explain clear to the customer .', 'in service center their engineer are little bit confuse in it should be improve they are not provide proper information i feel they had some personal problem they not talk properly . their engineer should be improve .', \"the staff behaviour is not good . the way they speak is not proper . the toyota company they represent that is very cheap . the behaviour and staff quality is not proper . it has a standard for the toyota because it is not one level . the staff are not as per the standard . they behave like a working in small shop . we are paying this much amount then we have rught to complaint on it . even branch manager also do n't know how to behave \\\\? they should improve on the behaviour .\", 'staff should co operative us . staffs are less they should assure as that they will give car to us . they should not give us reason like staff are less it will take 4 5 hrs .', 'the staff needs to share the information about the service time . they should deliver the car within the given time .']\n"
     ]
    }
   ],
   "source": [
    "question_class = 'q3'\n",
    "fname = '..//data//%s.txt' % question_class\n",
    "with open(fname) as f:\n",
    "    content = f.readlines()\n",
    "# you may also want to remove whitespace characters like `\\n` at the end of each line\n",
    "content = [x.strip() for x in content]\n",
    "print 'length of content', len(content)\n",
    "f.close()\n",
    "print content"
   ]
  },
  {
   "cell_type": "code",
   "execution_count": 4,
   "metadata": {
    "collapsed": true,
    "scrolled": false
   },
   "outputs": [],
   "source": [
    "# # split comment with multi-sentence into multi-comments\n",
    "# content_new = []\n",
    "# for comment in content:\n",
    "#     sents = sent_tokenize(comment)\n",
    "#     if len(sents) > 1:\n",
    "#         for i in range(len(sents)):\n",
    "#             content_new.append(sents[i])\n",
    "#     else:\n",
    "#         content_new.append(comment)\n",
    "# print 'length of new content', len(content_new)\n",
    "# # print content_new\n",
    "    "
   ]
  },
  {
   "cell_type": "code",
   "execution_count": 5,
   "metadata": {},
   "outputs": [
    {
     "name": "stdout",
     "output_type": "stream",
     "text": [
      "[('it', 'PRP'), ('is', 'VBZ'), ('10', 'CD'), ('km', 'NN'), ('far', 'RB'), ('away', 'RB'), ('from', 'IN'), ('city', 'NN'), ('it', 'PRP'), ('should', 'MD'), ('be', 'VB'), ('nearby', 'JJ'), ('city', 'NN'), ('within', 'IN'), ('2', 'CD'), ('3', 'CD'), ('km', 'NN'), ('.', '.')]\n"
     ]
    }
   ],
   "source": [
    "pos_new = nltk.pos_tag(nltk.word_tokenize(\"it is 10 km far away from city it should be nearby city within 2 3 km . \"))\n",
    "print pos_new"
   ]
  },
  {
   "cell_type": "code",
   "execution_count": 6,
   "metadata": {},
   "outputs": [
    {
     "name": "stdout",
     "output_type": "stream",
     "text": [
      "worker\n"
     ]
    }
   ],
   "source": [
    "stemmer = PorterStemmer()\n",
    "print stemmer.stem(\"worker\")"
   ]
  },
  {
   "cell_type": "code",
   "execution_count": 7,
   "metadata": {},
   "outputs": [
    {
     "name": "stdout",
     "output_type": "stream",
     "text": [
      "Comment with nn 295\n",
      "no comments 8\n",
      "Comment without nn 6\n"
     ]
    }
   ],
   "source": [
    "\n",
    "def rule_q1(sen, ne):\n",
    "    clean_ne = list(set(ne))\n",
    "#     remove_words = [\"improv\", \"custom\", \"servic\", \"peopl\",\"person\",\"facil\",\"avail\",\"good\",\\\n",
    "#                     \"center\",\"centr\",\"car\", \"dealership\", \"vehicl\", \"toyota\", \"problem\",\"work\", \"much\",\\\n",
    "#                    \"thing\", \"possibl\",\"need\"]   #stemmed\n",
    "    remove_words = ['custom', 'car', 'vehicl','servic', 'toyota','thing','good',\\\n",
    "                    'day','center','centre', 'dealership','time']\n",
    "    clean_ne = [word for word in clean_ne if word not in remove_words]\n",
    "    \n",
    "    save_words = ['inform','tell','advis', 'understand', 'advic','call','answer', 'correct', 'guid',\\\n",
    "                  'train','suggest', 'respons', 'commit','solv', 'queri', 'updat','attend', 'deliv',\\\n",
    "                  'wait','mention','listen','resolv','respond', 'share', 'commun','confirm',\\\n",
    "                  'behavior', 'behav', 'properly', 'proper']  #stemmed\n",
    "    clean_ne = clean_ne + [stemmer.stem(word) for word in sen.split() if stemmer.stem(word) in save_words]\n",
    "    clean_ne = list(set(clean_ne))\n",
    "    \n",
    "    # rules to merge keywords:\n",
    "    if 'share' in clean_ne:\n",
    "        clean_ne[clean_ne.index('share')] = 'inform'\n",
    "    if 'tell' in clean_ne:\n",
    "        clean_ne[clean_ne.index('tell')] = 'inform'\n",
    "    if 'behav' in clean_ne:\n",
    "        clean_ne[clean_ne.index('behav')] = 'behavior'\n",
    "    if 'advic' in clean_ne:\n",
    "        clean_ne[clean_ne.index('advic')] = 'advis'\n",
    "    if 'queri' in clean_ne:\n",
    "        clean_ne[clean_ne.index('queri')] = 'question'\n",
    "    if 'properly' in clean_ne:\n",
    "        clean_ne[clean_ne.index('properly')] = 'proper'\n",
    "    if 'worker' in clean_ne:\n",
    "        clean_ne[clean_ne.index('worker')] = 'staff'\n",
    "\n",
    "        \n",
    "    # rules to split keywords:\n",
    "    if 'inform' in clean_ne and 'information' in sen:\n",
    "        clean_ne[clean_ne.index('inform')] = 'information'\n",
    "    if 'respons' in clean_ne:\n",
    "        if ('responsibility'in sen or 'responsibilities' in sen or 'responsible' in sen):\n",
    "            clean_ne[clean_ne.index('respons')] = 'responsibility'\n",
    "        else:\n",
    "            clean_ne[clean_ne.index('respons')] = 'respond'\n",
    "    if 'listen' in clean_ne:\n",
    "        clean_ne[clean_ne.index('listen')] = 'respond' \n",
    "    \n",
    "    clean_ne = list(set(clean_ne))\n",
    "    return clean_ne\n",
    "\n",
    "def clean_corpus(x1):\n",
    "    x_new = []\n",
    "    for x in x1:\n",
    "        if 'no improvement' in x:\n",
    "            continue\n",
    "        else:\n",
    "            x_new.append(x)\n",
    "    return x_new\n",
    "\n",
    "def process_corpus(x1, pos_tags, general_stop):\n",
    "    # split three categories: 1 no improvemnt 2 with noun 3 others\n",
    "    doc_noimprove = []\n",
    "    doc_nn = []\n",
    "    nn_extracted = []\n",
    "    doc_other = []\n",
    "    for x in x1:\n",
    "        if 'no improvement' in x:\n",
    "            doc_noimprove.append(x)\n",
    "        else:\n",
    "                nn_list = []\n",
    "                sen = x\n",
    "                pos_new = nltk.pos_tag(nltk.word_tokenize(sen))\n",
    "                for token in pos_new:\n",
    "                    if token[1] in pos_tags and not token[0] in general_stop:\n",
    "                        nn_list.append(token[0])\n",
    "                #stemming\n",
    "                for counter,word in enumerate(nn_list):\n",
    "                    nn_list[counter] = stemmer.stem(word)\n",
    "                # apply rule\n",
    "                nn_list = rule_q1(sen, nn_list)\n",
    "                    \n",
    "                if nn_list != []:\n",
    "                    nn_extracted.append(nn_list)\n",
    "                    doc_nn.append(sen)\n",
    "                else:\n",
    "                    doc_other.append(sen)\n",
    "    return doc_noimprove, [doc_nn, nn_extracted], doc_other\n",
    "        \n",
    "nn_corpus = []\n",
    "\n",
    "# English stop words lists\n",
    "stop_words = stopwords.words('english')\n",
    "punctuation_list = [unicode(i) for i in string.punctuation]\n",
    "for punctuation in punctuation_list:\n",
    "    stop_words.append(punctuation)\n",
    "\n",
    "pos_tags = ['NN', 'NNS','JJ','JJR','JJS']\n",
    "\n",
    "doc1, doc2, doc3 = process_corpus(content, pos_tags, stop_words)\n",
    "\n",
    "doc_nn, nn_extracted = doc2[0], doc2[1]\n",
    "print 'Comment with nn', len(doc_nn)\n",
    "print 'no comments', len(doc1)\n",
    "print 'Comment without nn', len(doc3)"
   ]
  },
  {
   "cell_type": "code",
   "execution_count": 8,
   "metadata": {},
   "outputs": [
    {
     "name": "stdout",
     "output_type": "stream",
     "text": [
      "Counter({'staff': 80, 'problem': 73, 'proper': 62, 'inform': 61, 'information': 48, 'work': 46, 'advisor': 43, u'part': 38, u'explan': 38, u'advis': 32, u'detail': 29, u'issu': 25, 'person': 20, u'knowledg': 18, 'understand': 17, 'call': 15, 'need': 15, 'respond': 15, 'answer': 13, u'anyth': 13, 'correct': 13, u'everyth': 13, u'charg': 13, u'guid': 13, 'much': 13, u'train': 12, 'question': 12, 'new': 11, 'wrong': 11, 'suggest': 11, u'avail': 11, u'peopl': 10, 'clear': 10, u'solv': 10, 'behavior': 10, 'reason': 9, 'place': 9, 'first': 9, 'way': 9, u'mechan': 8, 'small': 8, u'someth': 8, u'manag': 8, 'right': 8, 'extra': 7, u'updat': 7, 'attend': 7, 'system': 7, u'deliv': 7, u'engin': 7, u'awar': 7, u'complet': 7, 'money': 7, u'commit': 7, u'wait': 6, u'chang': 6, 'mention': 6, 'owner': 6, 'km': 6, u'experi': 6, 'bill': 6, u'resolv': 6, u'appoint': 6, 'full': 5, 'amount': 5, 'visit': 5, 'responsibility': 5, 'better': 5, 'side': 5, 'rs': 5, u'advanc': 5, u'insur': 5, u'abl': 5, 'last': 5, u'improv': 5, 'due': 5, 'oil': 5, u'compani': 4, 'exact': 4, u'manner': 4, 'hour': 4, 'give': 4, u'attent': 4, 'talk': 4, 'idea': 4, 'showroom': 4, u'clariti': 4, 'one': 4, u'differ': 4, u'technic': 4, 'drive': 4, u'requir': 4, 'spare': 4, u'condit': 4, u'rate': 3, 'feedback': 3, u'gener': 3, u'commun': 3, 'next': 3, 'phone': 3, 'claim': 3, u'process': 3, 'till': 3, 'light': 3, 'free': 3, 'number': 3, 'long': 3, u'facil': 3, 'tomorrow': 3, u'nobodi': 3, 'normal': 3, 'face': 3, u'nois': 3, u'mainten': 3, 'come': 3, u'everyon': 3, u'readi': 3, 'member': 3, u'less': 3, u'complaint': 3, 'old': 3, u'confirm': 3, 'road': 3, 'technician': 3, 'ac': 3, 'e': 3, u'depend': 2, 'case': 2, 'level': 2, u'guy': 2, 'lanson': 2, u'insid': 2, u'technolog': 2, u'dri': 2, u'famili': 2, 'use': 2, u'doubt': 2, u'basi': 2, u'type': 2, u'aris': 2, 'ok': 2, 'huge': 2, 'end': 2, u'anyon': 2, 'get': 2, 'rude': 2, u'lot': 2, u'averag': 2, 'order': 2, 'innova': 2, 'paper': 2, u'offic': 2, 'break': 2, 'half': 2, 'front': 2, u'year': 2, 'happen': 2, 'care': 2, 'filter': 2, u'unabl': 2, 'major': 2, u'qualiti': 2, 'bonnet': 2, u'instruct': 2, 'tea': 2, u'option': 2, 'kind': 2, 'counter': 2, 'self': 2, u'clean': 2, 'fact': 2, 'fine': 2, u'busi': 2, 'local': 2, u'result': 2, 'sir': 2, u'import': 2, 'job': 2, 'key': 2, u'addit': 2, 'co': 2, u'mistak': 2, 'basic': 2, u'sound': 2, u'align': 2, u'centr': 2, u'perform': 2, 'pad': 2, 'document': 2, 'driver': 2, u'someon': 2, u'mani': 2, 'well': 2, u'exampl': 2, u'expens': 2, 'model': 2, u'languag': 2, u'littl': 2, u'transpar': 2, u'benefit': 2, u'intern': 2, u'damag': 2, 'actual': 2, u'materi': 2, u'repair': 2, u'profession': 2, 'brand': 2, u'satisfactori': 2, 'home': 2, u'guidanc': 2, u'futur': 2, 'trail': 2, u'scratch': 1, 'particular': 1, u'abil': 1, 'go': 1, u'roadsid': 1, 'tecnician': 1, 'young': 1, u'decis': 1, 'smile': 1, 'chennai': 1, u'fals': 1, 'ican': 1, u'electron': 1, u'affect': 1, u'relev': 1, 'vast': 1, 'button': 1, 'list': 1, 'adjust': 1, 'team': 1, u'pleas': 1, 'upper': 1, u'fortun': 1, u'natur': 1, 'direct': 1, u'commerci': 1, u'upsid': 1, 'cost': 1, u'pass': 1, u'oaki': 1, 'current': 1, 'version': 1, 'told': 1, u'deriv': 1, u'genet': 1, 'agreement': 1, u'satisfi': 1, u'middl': 1, u'excess': 1, 'strong': 1, 'boy': 1, u'greas': 1, 'broken': 1, 'prior': 1, u'activ': 1, u'friendli': 1, u'unbias': 1, u'mobil': 1, 'fen': 1, 'wane': 1, 'live': 1, 'criteria': 1, u'commut': 1, 'today': 1, 'door': 1, u'hurri': 1, u'examin': 1, u'chargeabl': 1, 'behalf': 1, u'sometim': 1, 'ride': 1, 'cat': 1, u'purpos': 1, u'employe': 1, 'want': 1, u'explanst': 1, 'travel': 1, u'comfort': 1, 'gate': 1, u'still': 1, 'date': 1, u'accessori': 1, u'author': 1, u'switch': 1, 'worst': 1, u'faulti': 1, 'help': 1, 'meter': 1, u'incid': 1, u'bangalor': 1, u'7day': 1, u'polici': 1, 'thane': 1, 'labor': 1, u'pendriv': 1, u'speaker': 1, 'main': 1, u'overag': 1, u'return': 1, u'handl': 1, 'auto': 1, u'wast': 1, u'somebodi': 1, u'oper': 1, 'name': 1, u'arrog': 1, 'clutch': 1, u'careless': 1, 'truth': 1, 'fortunar': 1, 'distributor': 1, 'saturday': 1, u'safeti': 1, 'klayan': 1, 'god': 1, 'diesel': 1, 'millennium': 1, 'dsk': 1, u'navig': 1, u'rail': 1, 'friday': 1, 'standard': 1, u'base': 1, 'ask': 1, 'card': 1, 'g': 1, 'mahindra': 1, u'outsid': 1, u'confus': 1, u'think': 1, u'origin': 1, 'manger': 1, u'dint': 1, u'suspens': 1, 'ring': 1, 'defect': 1, 'least': 1, 'paint': 1, 'man': 1, 'friend': 1, u'printout': 1, u'copi': 1, 'park': 1, u'scheme': 1, u'provid': 1, 'bother': 1, 'older': 1, 'shampoo': 1, 'second': 1, u'pressur': 1, u'arrang': 1, u'minut': 1, u'toward': 1, 'beforehand': 1, 'mine': 1, 'dash': 1, u'packag': 1, 'receptionist': 1, u'mint': 1, 'lie': 1, 'mix': 1, 'interior': 1, 'donor': 1, u'noth': 1, 'even': 1, u'object': 1, 'regular': 1, u'excus': 1, 'phata': 1, 'behaviour': 1, 'pipe': 1, 'businessman': 1, 'senior': 1, 'shop': 1, 'show': 1, 'cheap': 1, 'asvisor': 1, 'rough': 1, u'penalti': 1, u'tire': 1, u'explain': 1, u'solut': 1, 'fuel': 1, 'plate': 1, u'satisfact': 1, u'increas': 1, u'excel': 1, 'bad': 1, 'frame': 1, u'seat': 1, u'disadvantag': 1, 'concern': 1, u'entranc': 1, u'wire': 1, 'expert': 1, 'espirit': 1, 'maruti': 1, 'tyre': 1, 'lakh': 1, u'advertis': 1, 'rudra': 1, u'bodi': 1, 'c': 1, 'fault': 1, u'misguid': 1, 'load': 1, 'period': 1, 'walk': 1, 'speak': 1, u'slowli': 1, 'rishi': 1, 'mark': 1, 'workshop': 1, u'dissatisfact': 1, 'amana': 1, 'thousand': 1, u'resolut': 1, u'headlamp': 1, 'argument': 1, 'present': 1, 'cash': 1, 'air': 1, u'will': 1, 'error': 1, 'pack': 1, u'purchas': 1, u'advantag': 1, u'convinc': 1, 'cant': 1, 'sudden': 1, u'costli': 1, u'in': 1, 'rig': 1, 'id': 1, 'trial': 1, u'parti': 1, u'headlight': 1, u'dealer': 1, 'natboltu': 1, 'inova': 1, 'wheel': 1, u'assist': 1, u'coffe': 1, 'hand': 1, 'director': 1, u'capabl': 1, 'dust': 1, u'appropri': 1, 'lunch': 1, u'paddl': 1, u'execut': 1, u'ordin': 1, u'aspect': 1, 'polish': 1, u'handov': 1, 'speed': 1, 'blow': 1, u'earli': 1, u'ream': 1, 'big': 1, u'mileag': 1, u'game': 1, 'bit': 1, 'like': 1, 'manual': 1, u'necessari': 1, u'output': 1, 'soft': 1, u'motor': 1, u'cabl': 1, 'thief': 1, u'guaranti': 1, 'mirror': 1, u'guarante': 1, 'trust': 1, u'cooper': 1, u'estim': 1, 'deficit': 1, u'machin': 1, 'boll': 1, 'discount': 1, u'unnecessari': 1, u'coupon': 1, 'gare': 1, u'automat': 1, u'warranti': 1, u'rectifi': 1, 'hey': 1, 'fast': 1, u'happi': 1, 'music': 1, 'head': 1, u'properli': 1, u'offer': 1, u'hr': 1, 'neutral': 1, 'line': 1, 'smooth': 1, u'intim': 1, 'anew': 1, 'similar': 1, u'featur': 1, u'supervisor': 1, 'shil': 1, 'deep': 1, 'moll': 1, u'imform': 1, 'check': 1, 'tone': 1, u'tip': 1, 'branch': 1, 'smell': 1, 'nice': 1, 'poor': 1, u'matur': 1, u'genuin': 1, 'monday': 1, u'benefici': 1})\n"
     ]
    }
   ],
   "source": [
    "from collections import Counter\n",
    "def df_count(x1):\n",
    "    text = []\n",
    "    for ab in x1:\n",
    "        text = text + ab\n",
    "    df = Counter(text)\n",
    "    return df\n",
    "df = df_count(nn_extracted)\n",
    "print df"
   ]
  },
  {
   "cell_type": "markdown",
   "metadata": {
    "scrolled": false
   },
   "source": [
    "# rule-based clustering"
   ]
  },
  {
   "cell_type": "code",
   "execution_count": 9,
   "metadata": {},
   "outputs": [
    {
     "name": "stdout",
     "output_type": "stream",
     "text": [
      "respons\n"
     ]
    }
   ],
   "source": [
    "stemmer = PorterStemmer()\n",
    "print stemmer.stem(\"response\")"
   ]
  },
  {
   "cell_type": "code",
   "execution_count": 10,
   "metadata": {},
   "outputs": [
    {
     "name": "stdout",
     "output_type": "stream",
     "text": [
      "No. of clustered sentences: 192\n",
      "No. of unclustered sentences: 103\n"
     ]
    }
   ],
   "source": [
    "def write_file(corpus, idx_list, word):\n",
    "    if not os.path.isdir(\"cluster_rule/%s\" %word):\n",
    "            os.mkdir(\"cluster_rule/%s\" %word)\n",
    "    f1 = open('cluster_rule/%s/%s_comment.txt' % (word, word), 'w+')\n",
    "    for idx in idx_list:\n",
    "        f1.write('%s\\n' %corpus[idx])\n",
    "    f1.close()\n",
    "\n",
    "if (not os.path.isdir(\"cluster_rule\")):\n",
    "    os.mkdir(\"cluster_rule\")\n",
    "name_list = {}\n",
    "clustered_index = []\n",
    "\n",
    "# rule list order: high priority to low priority\n",
    "cluster_rule_list = [ 'detail','updat','advis', 'commit', 'behavior', 'knowledg','train', 'guid', 'question',\\\n",
    "                     'information','inform', 'respond']\n",
    "for word in cluster_rule_list:\n",
    "    idx_set = []\n",
    "    for idx, doc in enumerate(nn_extracted):\n",
    "        if word in doc and idx not in clustered_index:\n",
    "            idx_set.append(idx)\n",
    "        write_file(doc_nn, idx_set, word)\n",
    "        name_list[word] = idx_set\n",
    "        clustered_index = clustered_index + idx_set\n",
    "\n",
    "clustered_index = set(clustered_index)\n",
    "unclustered_index = list(set(range(len(nn_extracted))) - clustered_index)\n",
    "print \"No. of clustered sentences:\", len(clustered_index)\n",
    "print \"No. of unclustered sentences:\", len(unclustered_index)\n"
   ]
  },
  {
   "cell_type": "markdown",
   "metadata": {
    "collapsed": true
   },
   "source": [
    "# LSI Model"
   ]
  },
  {
   "cell_type": "code",
   "execution_count": 11,
   "metadata": {},
   "outputs": [
    {
     "name": "stderr",
     "output_type": "stream",
     "text": [
      "Using TensorFlow backend.\n"
     ]
    }
   ],
   "source": [
    "from gensim import corpora\n",
    "from gensim.models import TfidfModel\n",
    "from gensim.models import LsiModel\n",
    "from gensim.similarities import MatrixSimilarity\n",
    "from sklearn.metrics.pairwise import cosine_similarity\n",
    "\n",
    "nn_extracted = [nn_extracted[i] for i in unclustered_index]\n",
    "doc_nn = [doc_nn[i] for i in unclustered_index]\n",
    "\n",
    "dictionary = corpora.Dictionary(nn_extracted)\n",
    "corpus_gensim = [dictionary.doc2bow(doc) for doc in nn_extracted]\n",
    "tfidf = TfidfModel(corpus_gensim)\n",
    "corpus_tfidf = tfidf[corpus_gensim]\n",
    "\n",
    "lsi = LsiModel(corpus_tfidf, id2word=dictionary, num_topics=50)\n",
    "lsi_proj = lsi[corpus_tfidf]\n",
    "\n",
    "\n",
    "lsi_index = MatrixSimilarity(lsi_proj)\n",
    "similarity_matrix = np.array([lsi_index[lsi[corpus_tfidf[i]]]\n",
    "                                for i in range(len(nn_extracted))])\n",
    "\n",
    "# convert similarity_matrix from -1~1 to 0~1\n",
    "def f(x):\n",
    "    return (x+1)/2\n",
    "f = np.vectorize(f, otypes=[np.float])\n",
    "similarity_matrix = f(similarity_matrix)     "
   ]
  },
  {
   "cell_type": "code",
   "execution_count": 12,
   "metadata": {},
   "outputs": [
    {
     "data": {
      "text/plain": [
       "[(0,\n",
       "  u'0.658*\"explan\" + 0.430*\"proper\" + 0.254*\"problem\" + 0.243*\"advisor\" + 0.222*\"work\" + 0.188*\"staff\" + 0.126*\"need\" + 0.124*\"clear\" + 0.114*\"everyth\" + 0.105*\"first\"'),\n",
       " (1,\n",
       "  u'0.584*\"problem\" + -0.380*\"explan\" + 0.335*\"staff\" + -0.281*\"proper\" + 0.244*\"understand\" + 0.204*\"part\" + 0.196*\"issu\" + 0.162*\"anyth\" + 0.136*\"resolv\" + 0.110*\"manag\"'),\n",
       " (2,\n",
       "  u'-0.771*\"advisor\" + -0.255*\"work\" + 0.226*\"explan\" + -0.178*\"wrong\" + -0.173*\"responsibility\" + 0.159*\"problem\" + -0.139*\"languag\" + -0.133*\"manag\" + 0.119*\"staff\" + 0.107*\"need\"'),\n",
       " (3,\n",
       "  u'-0.783*\"everyth\" + -0.355*\"need\" + -0.283*\"place\" + 0.194*\"proper\" + 0.149*\"problem\" + -0.110*\"confirm\" + -0.099*\"complet\" + 0.084*\"explan\" + -0.082*\"instruct\" + -0.079*\"advisor\"'),\n",
       " (4,\n",
       "  u'0.451*\"understand\" + 0.388*\"manag\" + -0.322*\"issu\" + -0.214*\"call\" + -0.213*\"resolv\" + -0.212*\"part\" + -0.170*\"work\" + -0.163*\"mention\" + -0.155*\"extra\" + 0.154*\"busi\"'),\n",
       " (5,\n",
       "  u'0.340*\"issu\" + 0.314*\"call\" + 0.309*\"resolv\" + -0.304*\"anyth\" + 0.290*\"understand\" + -0.228*\"everyth\" + 0.223*\"manag\" + -0.197*\"work\" + -0.182*\"first\" + -0.169*\"staff\"'),\n",
       " (6,\n",
       "  u'0.411*\"part\" + -0.302*\"call\" + 0.296*\"transpar\" + -0.287*\"problem\" + -0.205*\"attend\" + 0.193*\"charg\" + 0.186*\"avail\" + 0.185*\"understand\" + 0.141*\"clear\" + 0.136*\"suggest\"'),\n",
       " (7,\n",
       "  u'-0.313*\"issu\" + 0.265*\"attend\" + 0.245*\"charg\" + 0.241*\"work\" + -0.236*\"explan\" + 0.229*\"proper\" + 0.214*\"extra\" + -0.208*\"advisor\" + 0.196*\"understand\" + 0.189*\"manag\"'),\n",
       " (8,\n",
       "  u'0.453*\"first\" + 0.319*\"clear\" + 0.274*\"need\" + 0.217*\"wrong\" + 0.210*\"right\" + -0.200*\"problem\" + 0.196*\"manag\" + -0.191*\"everyth\" + 0.165*\"tomorrow\" + 0.155*\"call\"'),\n",
       " (9,\n",
       "  u'-0.344*\"place\" + 0.273*\"issu\" + -0.257*\"suggest\" + 0.203*\"manag\" + -0.195*\"solv\" + 0.184*\"anyth\" + 0.180*\"first\" + -0.177*\"tomorrow\" + -0.177*\"advisor\" + 0.165*\"resolv\"'),\n",
       " (10,\n",
       "  u'0.446*\"place\" + -0.397*\"suggest\" + -0.248*\"staff\" + -0.224*\"clear\" + -0.208*\"attend\" + 0.179*\"anyth\" + -0.159*\"confirm\" + 0.158*\"solv\" + 0.157*\"part\" + -0.148*\"improv\"'),\n",
       " (11,\n",
       "  u'0.433*\"suggest\" + -0.317*\"staff\" + 0.241*\"manag\" + -0.233*\"person\" + 0.222*\"issu\" + -0.209*\"attend\" + -0.189*\"experi\" + 0.188*\"problem\" + 0.170*\"improv\" + -0.156*\"understand\"'),\n",
       " (12,\n",
       "  u'0.370*\"suggest\" + 0.354*\"need\" + -0.247*\"everyth\" + -0.219*\"clear\" + 0.200*\"charg\" + 0.193*\"wrong\" + -0.190*\"responsibility\" + -0.187*\"part\" + 0.186*\"right\" + -0.158*\"appoint\"'),\n",
       " (13,\n",
       "  u'0.333*\"understand\" + 0.308*\"clear\" + -0.272*\"manag\" + -0.223*\"avail\" + -0.213*\"advanc\" + -0.210*\"right\" + 0.194*\"first\" + -0.170*\"wrong\" + 0.165*\"way\" + 0.153*\"place\"'),\n",
       " (14,\n",
       "  u'0.406*\"person\" + 0.313*\"experi\" + 0.253*\"place\" + 0.204*\"suggest\" + 0.190*\"languag\" + 0.176*\"proper\" + 0.175*\"tea\" + -0.158*\"extra\" + 0.157*\"appoint\" + 0.153*\"less\"'),\n",
       " (15,\n",
       "  u'0.270*\"attend\" + 0.269*\"oil\" + -0.235*\"manag\" + -0.218*\"charg\" + 0.217*\"proper\" + -0.201*\"anyth\" + 0.201*\"first\" + -0.180*\"explan\" + 0.179*\"place\" + -0.175*\"extra\"'),\n",
       " (16,\n",
       "  u'0.426*\"anyth\" + -0.268*\"charg\" + -0.244*\"bill\" + -0.230*\"clear\" + 0.228*\"insur\" + 0.211*\"suggest\" + -0.203*\"problem\" + 0.174*\"much\" + -0.163*\"extra\" + -0.135*\"person\"'),\n",
       " (17,\n",
       "  u'-0.326*\"need\" + 0.276*\"work\" + 0.234*\"reason\" + -0.205*\"oil\" + -0.193*\"km\" + 0.191*\"solv\" + 0.182*\"right\" + -0.171*\"bill\" + 0.163*\"place\" + -0.154*\"ok\"'),\n",
       " (18,\n",
       "  u'0.351*\"place\" + 0.285*\"manag\" + 0.273*\"wait\" + 0.266*\"attend\" + 0.180*\"number\" + -0.179*\"solv\" + -0.171*\"right\" + -0.159*\"proper\" + -0.157*\"everyth\" + 0.152*\"oil\"'),\n",
       " (19,\n",
       "  u'-0.353*\"need\" + 0.231*\"charg\" + 0.212*\"right\" + -0.194*\"advanc\" + -0.194*\"work\" + -0.174*\"avail\" + 0.170*\"transpar\" + 0.169*\"wrong\" + -0.159*\"understand\" + -0.140*\"suggest\"'),\n",
       " (20,\n",
       "  u'0.334*\"responsibility\" + -0.295*\"manag\" + 0.292*\"staff\" + 0.268*\"appoint\" + -0.236*\"languag\" + -0.203*\"anyth\" + -0.188*\"person\" + 0.170*\"speed\" + 0.163*\"visit\" + 0.134*\"need\"'),\n",
       " (21,\n",
       "  u'0.323*\"bill\" + -0.315*\"wait\" + 0.251*\"oil\" + 0.212*\"arrang\" + -0.208*\"experi\" + -0.188*\"transpar\" + 0.187*\"avail\" + 0.171*\"insur\" + 0.153*\"anyth\" + -0.152*\"number\"'),\n",
       " (22,\n",
       "  u'-0.244*\"advanc\" + -0.241*\"wrong\" + 0.240*\"solv\" + 0.216*\"mechan\" + -0.199*\"extra\" + 0.185*\"wait\" + -0.176*\"place\" + 0.163*\"idea\" + -0.158*\"year\" + 0.154*\"need\"'),\n",
       " (23,\n",
       "  u'0.286*\"km\" + 0.263*\"reason\" + 0.236*\"much\" + 0.234*\"ok\" + -0.230*\"clear\" + 0.193*\"less\" + -0.184*\"appoint\" + -0.181*\"anyth\" + -0.181*\"responsibility\" + -0.171*\"languag\"'),\n",
       " (24,\n",
       "  u'0.358*\"languag\" + -0.274*\"experi\" + 0.259*\"advanc\" + 0.233*\"wait\" + 0.187*\"tea\" + 0.179*\"year\" + 0.177*\"appoint\" + -0.167*\"excel\" + -0.167*\"increas\" + 0.156*\"coffe\"'),\n",
       " (25,\n",
       "  u'0.266*\"answer\" + 0.252*\"avail\" + 0.225*\"wait\" + -0.196*\"advanc\" + 0.195*\"type\" + 0.195*\"satisfactori\" + 0.191*\"issu\" + -0.160*\"last\" + -0.156*\"year\" + 0.144*\"long\"'),\n",
       " (26,\n",
       "  u'-0.298*\"advanc\" + 0.249*\"languag\" + -0.219*\"experi\" + -0.216*\"come\" + -0.213*\"year\" + -0.197*\"tomorrow\" + -0.181*\"way\" + 0.179*\"confirm\" + 0.157*\"appoint\" + -0.154*\"wait\"'),\n",
       " (27,\n",
       "  u'0.264*\"km\" + 0.263*\"ok\" + -0.239*\"wrong\" + 0.217*\"last\" + 0.183*\"confirm\" + -0.178*\"appoint\" + 0.173*\"side\" + 0.165*\"solv\" + -0.160*\"speed\" + -0.146*\"new\"'),\n",
       " (28,\n",
       "  u'-0.310*\"experi\" + 0.191*\"less\" + -0.185*\"excel\" + -0.185*\"increas\" + -0.173*\"new\" + -0.172*\"dri\" + -0.172*\"clean\" + 0.153*\"languag\" + -0.147*\"expens\" + -0.140*\"appoint\"'),\n",
       " (29,\n",
       "  u'0.261*\"mechan\" + 0.204*\"wrong\" + -0.199*\"rs\" + 0.195*\"expert\" + 0.195*\"fault\" + 0.189*\"less\" + 0.181*\"reason\" + 0.143*\"clear\" + -0.142*\"staff\" + 0.140*\"idea\"'),\n",
       " (30,\n",
       "  u'-0.341*\"mechan\" + -0.276*\"expert\" + -0.276*\"fault\" + 0.179*\"answer\" + 0.170*\"first\" + -0.167*\"staff\" + -0.148*\"languag\" + 0.147*\"experi\" + -0.147*\"extra\" + 0.136*\"reason\"'),\n",
       " (31,\n",
       "  u'0.225*\"work\" + 0.225*\"speed\" + -0.215*\"proper\" + 0.214*\"much\" + 0.207*\"appoint\" + -0.194*\"responsibility\" + -0.181*\"charg\" + 0.169*\"km\" + 0.167*\"bill\" + 0.159*\"arrang\"'),\n",
       " (32,\n",
       "  u'-0.282*\"responsibility\" + -0.245*\"avail\" + -0.228*\"order\" + 0.200*\"advanc\" + -0.185*\"way\" + 0.166*\"year\" + -0.152*\"ok\" + 0.141*\"first\" + -0.138*\"come\" + -0.131*\"right\"'),\n",
       " (33,\n",
       "  u'0.299*\"responsibility\" + 0.249*\"confirm\" + 0.181*\"fault\" + 0.181*\"expert\" + 0.180*\"mechan\" + 0.166*\"answer\" + 0.160*\"new\" + 0.141*\"wrong\" + 0.140*\"tire\" + 0.140*\"boll\"'),\n",
       " (34,\n",
       "  u'-0.232*\"road\" + -0.232*\"sound\" + -0.232*\"abil\" + -0.232*\"smooth\" + -0.232*\"suspens\" + -0.232*\"rough\" + -0.222*\"drive\" + 0.221*\"issu\" + -0.197*\"resolv\" + -0.151*\"speed\"'),\n",
       " (35,\n",
       "  u'-0.288*\"languag\" + -0.221*\"increas\" + -0.221*\"excel\" + -0.212*\"experi\" + 0.207*\"showroom\" + 0.207*\"satisfact\" + 0.207*\"penalti\" + 0.207*\"profession\" + 0.207*\"centr\" + 0.207*\"person\"'),\n",
       " (36,\n",
       "  u'-0.900*\"hand\" + 0.308*\"lie\" + 0.308*\"fact\" + -0.000*\"activ\" + 0.000*\"qualiti\" + -0.000*\"awar\" + -0.000*\"ok\" + -0.000*\"doubt\" + -0.000*\"head\" + -0.000*\"offic\"'),\n",
       " (37,\n",
       "  u'0.637*\"lie\" + 0.637*\"fact\" + 0.435*\"hand\" + -0.000*\"qualiti\" + 0.000*\"languag\" + -0.000*\"showroom\" + -0.000*\"penalti\" + -0.000*\"centr\" + -0.000*\"satisfact\" + -0.000*\"profession\"'),\n",
       " (38,\n",
       "  u'-0.255*\"ok\" + -0.207*\"awar\" + 0.190*\"much\" + 0.162*\"mani\" + 0.156*\"clutch\" + 0.156*\"repair\" + 0.156*\"plate\" + 0.151*\"rs\" + -0.147*\"head\" + -0.147*\"offic\"'),\n",
       " (39,\n",
       "  u'0.451*\"clutch\" + 0.451*\"repair\" + 0.451*\"plate\" + -0.157*\"document\" + -0.143*\"explanst\" + -0.124*\"want\" + -0.124*\"requir\" + 0.098*\"profession\" + 0.098*\"satisfact\" + 0.098*\"penalti\"'),\n",
       " (40,\n",
       "  u'0.250*\"facil\" + -0.249*\"matur\" + -0.249*\"advantag\" + -0.249*\"donor\" + -0.249*\"option\" + -0.249*\"disadvantag\" + 0.201*\"tone\" + 0.201*\"manner\" + 0.201*\"manger\" + 0.201*\"talk\"'),\n",
       " (41,\n",
       "  u'0.402*\"explanst\" + -0.242*\"clutch\" + -0.242*\"repair\" + -0.242*\"plate\" + -0.156*\"document\" + 0.142*\"confirm\" + -0.131*\"nice\" + -0.131*\"old\" + -0.129*\"complaint\" + -0.126*\"solv\"'),\n",
       " (42,\n",
       "  u'-0.216*\"extra\" + -0.184*\"awar\" + 0.177*\"advantag\" + 0.177*\"matur\" + 0.177*\"donor\" + 0.177*\"disadvantag\" + 0.177*\"option\" + -0.158*\"speed\" + 0.154*\"money\" + -0.130*\"head\"'),\n",
       " (43,\n",
       "  u'0.259*\"explanst\" + -0.226*\"misguid\" + 0.187*\"transpar\" + 0.184*\"wrong\" + 0.178*\"oil\" + -0.174*\"activ\" + -0.174*\"qualiti\" + -0.164*\"order\" + 0.159*\"complaint\" + -0.159*\"confirm\"'),\n",
       " (44,\n",
       "  u'-0.228*\"option\" + -0.228*\"matur\" + -0.228*\"donor\" + -0.228*\"advantag\" + -0.228*\"disadvantag\" + 0.207*\"misguid\" + 0.180*\"transpar\" + 0.156*\"careless\" + 0.156*\"labor\" + -0.153*\"wrong\"'),\n",
       " (45,\n",
       "  u'0.285*\"misguid\" + -0.232*\"wrong\" + -0.215*\"less\" + 0.198*\"profession\" + 0.198*\"satisfact\" + 0.198*\"centr\" + 0.198*\"penalti\" + 0.198*\"showroom\" + 0.182*\"commut\" + 0.182*\"mainten\"'),\n",
       " (46,\n",
       "  u'-0.550*\"explanst\" + 0.347*\"necessari\" + 0.347*\"solut\" + -0.245*\"tire\" + -0.245*\"boll\" + -0.189*\"new\" + 0.123*\"rs\" + -0.114*\"km\" + -0.107*\"deliv\" + -0.107*\"long\"'),\n",
       " (47,\n",
       "  u'-0.283*\"solut\" + -0.283*\"necessari\" + -0.280*\"tire\" + -0.280*\"boll\" + -0.198*\"insur\" + -0.184*\"new\" + 0.164*\"transpar\" + 0.158*\"order\" + -0.140*\"labor\" + -0.140*\"careless\"'),\n",
       " (48,\n",
       "  u'0.218*\"much\" + 0.211*\"phone\" + 0.204*\"awar\" + -0.180*\"labor\" + -0.180*\"careless\" + 0.175*\"deficit\" + -0.148*\"insur\" + 0.148*\"doubt\" + 0.148*\"offic\" + 0.148*\"head\"'),\n",
       " (49,\n",
       "  u'0.216*\"mani\" + 0.194*\"boll\" + 0.194*\"tire\" + -0.172*\"deliv\" + -0.172*\"long\" + -0.164*\"misguid\" + 0.159*\"wrong\" + -0.149*\"necessari\" + -0.149*\"solut\" + 0.134*\"second\"')]"
      ]
     },
     "execution_count": 12,
     "metadata": {},
     "output_type": "execute_result"
    }
   ],
   "source": [
    "lsi.print_topics(50)"
   ]
  },
  {
   "cell_type": "markdown",
   "metadata": {},
   "source": [
    "# LDA Model"
   ]
  },
  {
   "cell_type": "code",
   "execution_count": 13,
   "metadata": {},
   "outputs": [],
   "source": [
    "# from gensim import corpora\n",
    "# from gensim.models import TfidfModel\n",
    "# from gensim.models import LdaModel\n",
    "# from gensim.similarities import MatrixSimilarity\n",
    "# from sklearn.metrics.pairwise import cosine_similarity\n",
    "\n",
    "# nn_extracted = [nn_extracted[i] for i in unclustered_index]\n",
    "# doc_nn = [doc_nn[i] for i in unclustered_index]\n",
    "\n",
    "# dictionary = corpora.Dictionary(nn_extracted)\n",
    "# corpus_gensim = [dictionary.doc2bow(doc) for doc in nn_extracted]\n",
    "# tfidf = TfidfModel(corpus_gensim)\n",
    "# corpus_tfidf = tfidf[corpus_gensim]\n",
    "\n",
    "# # extract 100 LDA topics, using 20 full passes, no online updates\n",
    "# lda = LdaModel(corpus=corpus_tfidf, id2word=dictionary, num_topics=50, update_every=0, passes=20)\n",
    "# lda_proj = lda[corpus_tfidf]\n",
    "\n",
    "# lda_index = MatrixSimilarity(lda_proj)\n",
    "# similarity_matrix = np.array([lda_index[lda[corpus_tfidf[i]]]\n",
    "#                                 for i in range(len(nn_extracted))])"
   ]
  },
  {
   "cell_type": "code",
   "execution_count": 14,
   "metadata": {},
   "outputs": [],
   "source": [
    "# lda.print_topics()"
   ]
  },
  {
   "cell_type": "code",
   "execution_count": 15,
   "metadata": {},
   "outputs": [
    {
     "name": "stdout",
     "output_type": "stream",
     "text": [
      "Estimated number of clusters: 5\n",
      "103\n",
      "clusters written to folder: cluster_q3\n"
     ]
    }
   ],
   "source": [
    "from sklearn.cluster import SpectralClustering\n",
    "import os\n",
    "\n",
    "n_clusters_ = 5\n",
    "sc = SpectralClustering(n_clusters=n_clusters_, affinity='precomputed').fit(similarity_matrix)\n",
    "labels = sc.labels_\n",
    "print('Estimated number of clusters: %d' % n_clusters_)\n",
    "print len(labels)\n",
    "\n",
    "def write_file(n_clusters_, labels, doc_nn, nn_extracted):\n",
    "    if (not os.path.isdir(\"cluster_%s\" %question_class)):\n",
    "        os.mkdir(\"cluster_%s\" %question_class)\n",
    "    for indice_cluster in range(n_clusters_):\n",
    "        # print indice_cluster\n",
    "        idx_list = np.where(labels == indice_cluster)[0]\n",
    "        f1 = open('cluster_%s/%dth_cluster.txt' % (question_class, indice_cluster), 'w+')\n",
    "        for idx in idx_list:\n",
    "            f1.write('%s %s\\n' % (doc_nn[idx], nn_extracted[idx]))\n",
    "    f1.close()\n",
    "    print(\"clusters written to folder: cluster_%s\" %question_class)\n",
    "    \n",
    "write_file(n_clusters_, labels, doc_nn, nn_extracted)"
   ]
  }
 ],
 "metadata": {
  "kernelspec": {
   "display_name": "python2_pf",
   "language": "python",
   "name": "python2_pf"
  },
  "language_info": {
   "codemirror_mode": {
    "name": "ipython",
    "version": 2
   },
   "file_extension": ".py",
   "mimetype": "text/x-python",
   "name": "python",
   "nbconvert_exporter": "python",
   "pygments_lexer": "ipython2",
   "version": "2.7.13"
  }
 },
 "nbformat": 4,
 "nbformat_minor": 2
}
