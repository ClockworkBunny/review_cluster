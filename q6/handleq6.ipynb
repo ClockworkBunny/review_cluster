{
 "cells": [
  {
   "cell_type": "code",
   "execution_count": 1,
   "metadata": {
    "collapsed": true
   },
   "outputs": [],
   "source": [
    "import numpy as np\n",
    "import cPickle\n",
    "import nltk\n",
    "from nltk.corpus import stopwords\n",
    "from collections import Counter\n",
    "from sklearn.metrics.pairwise import pairwise_distances\n",
    "import itertools\n",
    "import string\n",
    "from nltk.tokenize import sent_tokenize\n",
    "from nltk.stem.porter import *\n",
    "from nltk.tag import StanfordNERTagger\n",
    "from collections import Counter\n",
    "import sys\n",
    "import os\n",
    "#import pyemd\n",
    "#loading word embeddings\n",
    "#wv = KeyedVectors.load_word2vec_format(\"../w2v/w2vemb.bin\", binary=True)"
   ]
  },
  {
   "cell_type": "markdown",
   "metadata": {},
   "source": [
    "# Visualize functions"
   ]
  },
  {
   "cell_type": "code",
   "execution_count": 2,
   "metadata": {
    "collapsed": true
   },
   "outputs": [],
   "source": [
    "def write_clusters(n_clusters_, labels, corpus, mapping_dict, test_corpus):\n",
    "    for indice_cluster in range(n_clusters_):\n",
    "        # print indice_cluster\n",
    "        idx_list = np.where(labels == indice_cluster)[0]\n",
    "        f1 = open('cluster_%s/%dth_cluster.txt' % (question_class, indice_cluster), 'w+')\n",
    "        for idx in idx_list:\n",
    "            f1.write('%s %s\\n' % (corpus[mapping_dict[idx] - 1], test_corpus[idx]))\n",
    "    f1.close()\n",
    "\n",
    "\n",
    "def write_ne(nes, question_class, mapping_dict):\n",
    "    f1 = open('ne_%s.txt' % question_class, 'w+')\n",
    "    for idx, doc in enumerate(nes):\n",
    "        f1.write('%s %s\\n' % (mapping_dict[idx], ' '.join(doc)))\n",
    "    f1.close()    \n",
    "\n",
    "def wmd_compute(x1, x2):\n",
    "    return wv.wmdistance(x1, x2)\n",
    "\n",
    "def analyze_cluster(n_clusters_, labels, corpus, mapping_dict, test_corpus, filename):\n",
    "    num = 0\n",
    "    other_content = []\n",
    "    for indice_cluster in range(n_clusters_):\n",
    "        idx_list = np.where(labels == indice_cluster)[0]\n",
    "        if len(idx_list) > 4:\n",
    "            f1 = open('%s_%s/%dth_cluster.txt' % (filename, question_class, indice_cluster), 'w+')\n",
    "            for idx in idx_list:\n",
    "                f1.write('%s %s\\n' % (corpus[mapping_dict[idx] - 1], test_corpus[idx]))\n",
    "            f1.close()\n",
    "        if len(idx_list) < 4:\n",
    "            num = num + len(idx_list)\n",
    "            for idx in idx_list:\n",
    "                other_content.append(corpus[mapping_dict[idx] - 1])\n",
    "    f1 = open('%s_%s/other_cluster.txt' % (filename, question_class), 'w+')\n",
    "    for doc in other_content:\n",
    "        f1.write('%s\\n' % doc)\n",
    "    f1.close()\n",
    "    print num\n",
    "\n",
    "def analyse_location(content):\n",
    "    st = StanfordNERTagger('/data2/Stanford_tools/stanford-ner-2017-06-09/classifiers/english.all.3class.distsim.crf.ser.gz',\n",
    "                       '/data2/Stanford_tools/stanford-ner-2017-06-09/stanford-ner.jar',  encoding='utf-8')\n",
    "    location_words = []\n",
    "    print \"Analyzing Location words, this may take a while...\"\n",
    "    i = 1\n",
    "    for sen in content:\n",
    "        tokenized_text = nltk.word_tokenize(sen)\n",
    "        classified_text = st.tag(tokenized_text)\n",
    "        for word in classified_text:\n",
    "            if word[1] == 'LOCATION':\n",
    "                location_words.append(word[0])\n",
    "        sys.stdout.write(\"\\r\" + \"%d/%d\\r\" %(i,len(content)))\n",
    "        sys.stdout.flush()\n",
    "        i+=1\n",
    "    location_freq = Counter(location_words)\n",
    "    print location_freq\n",
    "    return location_freq\n",
    "# location_words =  location_freq.most_common(64):\n",
    "#[(u'Nagpur', 21), (u'Nagercoil', 14), (u'Tirunelveli', 14), (u'Surat', 13), (u'Jamnagar', 12), (u'Kolhapur', 12), (u'Patna', 11), (u'Road', 11), (u'Pondicherry', 10), (u'Noida', 9), (u'Jaipur', 9), (u'Bhuj', 9), (u'Pune', 8), (u'Lucknow', 8), (u'Madurai', 8), (u'Palakkad', 8), (u'Jabalpur', 8), (u'Ahmedabad', 7), (u'Gandhinagar', 7), (u'Kanyakumari', 7), (u'Karad', 7), (u'Raipur', 7), (u'Satara', 6), (u'Delhi', 6), (u'city', 6), (u'Aurangabad', 6), (u'Bhubaneswar', 6), (u'Lanson', 6), (u'Salem', 6), (u'Chennai', 5), (u'Navsari', 5), (u'&', 5), (u'Kerala', 5), (u'Dehradun', 5), (u'Varchha', 5), (u'Shillong', 5), (u'Nashik', 5), (u'Guwahati', 5), (u'Gandhi', 5), (u'Ajmer', 5), (u'City', 5), (u'MIDC', 5), (u'Coimbatore', 5), (u'Mumbai', 5), (u'Rourkela', 4), (u'Kanpur', 4), (u'Dibrugarh', 4), (u'Kozhikode', 4), (u'Udaipur', 4), (u'Vasai', 4), (u'Palghar', 4), (u'Khandawara', 4), (u'Andheri', 4), (u'Dealership', 4), (u'Jodhpur', 4), (u'Bangalore', 4), (u'Gandhidham', 4), (u'Ahmadabad', 4), (u'Dindigul', 4), (u'Nagar', 4), (u'Kolkata', 4), (u'Trichy', 4), (u'Ambikapur', 4), (u'Margaon', 4)]\n",
    "\n",
    "\n",
    "def df_count(x1):\n",
    "    text = []\n",
    "    for ab in x1:\n",
    "        text = text + ab\n",
    "    df = Counter(text)\n",
    "    return df\n",
    "\n",
    "    "
   ]
  },
  {
   "cell_type": "markdown",
   "metadata": {},
   "source": [
    "# Reading Raw text"
   ]
  },
  {
   "cell_type": "code",
   "execution_count": 3,
   "metadata": {},
   "outputs": [
    {
     "name": "stdout",
     "output_type": "stream",
     "text": [
      "length of content 1377\n"
     ]
    }
   ],
   "source": [
    "question_class = 'q6'\n",
    "fname = '..//data//%s.txt' % question_class\n",
    "with open(fname) as f:\n",
    "    content = f.readlines()\n",
    "# you may also want to remove whitespace characters like `\\n` at the end of each line\n",
    "content = [x.strip() for x in content]\n",
    "print 'length of content', len(content)\n",
    "f.close()\n",
    "\n",
    "with open('..//data//q6_original.txt') as f:\n",
    "        content_original = f.readlines()\n",
    "content_original = [x.strip() for x in content_original]\n",
    "f.close()"
   ]
  },
  {
   "cell_type": "markdown",
   "metadata": {},
   "source": [
    "# Extract locations"
   ]
  },
  {
   "cell_type": "code",
   "execution_count": 4,
   "metadata": {},
   "outputs": [
    {
     "name": "stdout",
     "output_type": "stream",
     "text": [
      "location words extracted\n",
      "Number of sentences containing location words: 574\n"
     ]
    }
   ],
   "source": [
    "#location_freq = analyse_location(content_original)\n",
    "location_freq = Counter({u'Nagpur': 21, u'Nagercoil': 14, u'Tirunelveli': 14, u'Surat': 13, u'Jamnagar': 12, u'Kolhapur': 12, u'Patna': 11, u'Road': 11, u'Pondicherry': 10, u'Noida': 9, u'Jaipur': 9, u'Bhuj': 9, u'Pune': 8, u'Lucknow': 8, u'Madurai': 8, u'Palakkad': 8, u'Jabalpur': 8, u'Ahmedabad': 7, u'Gandhinagar': 7, u'Kanyakumari': 7, u'Karad': 7, u'Raipur': 7, u'Satara': 6, u'Delhi': 6, u'city': 6, u'Aurangabad': 6, u'Bhubaneswar': 6, u'Lanson': 6, u'Salem': 6, u'Chennai': 5, u'Navsari': 5, u'&': 5, u'Kerala': 5, u'Dehradun': 5, u'Varchha': 5, u'Shillong': 5, u'Nashik': 5, u'Guwahati': 5, u'Gandhi': 5, u'Ajmer': 5, u'City': 5, u'MIDC': 5, u'Coimbatore': 5, u'Mumbai': 5, u'Rourkela': 4, u'Kanpur': 4, u'Dibrugarh': 4, u'Kozhikode': 4, u'Udaipur': 4, u'Vasai': 4, u'Palghar': 4, u'Khandawara': 4, u'Andheri': 4, u'Dealership': 4, u'Jodhpur': 4, u'Bangalore': 4, u'Gandhidham': 4, u'Ahmadabad': 4, u'Dindigul': 4, u'Nagar': 4, u'Kolkata': 4, u'Trichy': 4, u'Ambikapur': 4, u'Margaon': 4, u'Tuticorin': 3, u'Nagarkovil': 3, u'Banaras': 3, u'Mansarovar': 3, u'Borivali': 3, u'Nanded': 3, u'Durgapur': 3, u'Vashin': 3, u'Karkala': 3, u'Malappuram': 3, u'Yavatmal': 3, u'Gujrat': 3, u'Porbandar': 3, u'Nandurbar': 3, u'Chhattisgarh': 3, u'Hosur': 3, u'Bokaro': 3, u'Bombay': 3, u'Rajkot-Jamnagar': 3, u'Faizabad': 3, u'Thanjavur': 3, u'Toyota': 3, u'Rishikesh': 3, u'Sharayu': 3, u'Mysore': 3, u'Varaccha': 3, u'Theni': 3, u'Pathankot': 3, u'nagar': 3, u'Bihar': 3, u'Madgaon': 3, u'Cuttack': 3, u'Haldwani': 3, u'Highland': 3, u'Karaikudi': 3, u'Hospet': 3, u'Rudrapur': 3, u'Kannur': 3, u'Annamalai': 2, u'Nalasopara': 2, u'Batala': 2, u'Tejpur': 2, u'Shinrai': 2, u'Deharadun': 2, u'Pala': 2, u'Kanchipuram': 2, u'Velachery': 2, u'Alwar': 2, u'Malegaon': 2, u'Indore': 2, u'Vagholi': 2, u'Morvi': 2, u'Shilong': 2, u'Worli': 2, u'Kalyan': 2, u'Mira': 2, u'Kasargod': 2, u'Pathanamthitta': 2, u'Tambaram': 2, u'Kashipur': 2, u'Chembur': 2, u'Raigarh': 2, u'North': 2, u'Shirdi': 2, u'Mallur': 2, u'Pudukkottai': 2, u'Rajahmundry': 2, u'Vardha': 2, u'Gondiya': 2, u'Thutukudi': 2, u'Gwalior': 2, u'Bikaner': 2, u'Dindugul': 2, u'Vilaspur': 2, u'Ludhiana': 2, u'Parbhani': 2, u'Idukki': 2, u'Thalacherry': 2, u'Buldhana': 2, u'Vashi': 2, u'Rajasthan': 2, u'Varkkala': 2, u'Thoothukudi': 2, u'Khar': 2, u'Banaskata': 2, u'Kumbakonam': 2, u'Patia': 2, u'Mehsana': 2, u'Dahisar': 2, u'Thane': 2, u'Rampur': 2, u'Avinashi': 2, u'Bellary': 2, u'Alibaug': 2, u'Agra': 2, u'Vellapanchavati': 2, u'Nippon': 2, u'Amravati': 2, u'Bhivadi': 2, u'Nagarcoil': 2, u'Bhubaneshwar': 2, u'Naka': 2, u'Kundapura': 2, u'Varachha': 2, u'Thrissur': 2, u'Mandya': 2, u'Morabi': 2, u'Hadapsar': 2, u'Vishakhapatnam': 1, u'Nagor': 1, u'Marthandam': 1, u'Varasa': 1, u'Jilla': 1, u'Ushmanabad': 1, u'Hazira': 1, u'Koyampattur': 1, u'Bengal': 1, u'Itanagar': 1, u'Cherthala': 1, u'Meerut': 1, u'Rajivghandi': 1, u'Chidawa': 1, u'Narooli': 1, u'Kochi': 1, u'Avadi': 1, u'Khandwa': 1, u'Patiala': 1, u'Sadra': 1, u'Hadwani': 1, u'Ramghat': 1, u'Balladur': 1, u'Tirupathur': 1, u'Jogeshwari': 1, u'Vadakkara': 1, u'Ramnathpuram': 1, u'Chalakkudi': 1, u'Chakkara': 1, u'Singanallur': 1, u'Jalandhar': 1, u'Muradabad': 1, u'Raigunj': 1, u'Sitapur': 1, u'Kushaiguda': 1, u'Pudhiya': 1, u'Burshanpur': 1, u'Kozhilcode': 1, u'Waggle': 1, u'East': 1, u'Annanagar': 1, u'Kankavali': 1, u'Bhavan': 1, u'Churchgate': 1, u'Kananad': 1, u'Angaadi': 1, u'Kasaragoda': 1, u'Bhoisar': 1, u'Anagul': 1, u'Palampur': 1, u'Rudra': 1, u'Thirupattur': 1, u'Pur': 1, u'Bhasmat': 1, u'Palighar': 1, u'Barista': 1, u'Namakal': 1, u'Usmanabad': 1, u'Trichur': 1, u'Arthur': 1, u'Pritampura': 1, u'Green': 1, u'Gour': 1, u'Pattambhi': 1, u'Thallacherry': 1, u'MC': 1, u'Gorakhpur': 1, u'Manjiri': 1, u'Pali': 1, u'Anand': 1, u'Ashapur': 1, u'Kotharud': 1, u'Bokhara': 1, u'Adajan': 1, u'Mirut': 1, u'Ropar': 1, u'Sharapur-Rajpur': 1, u'Naganiroad': 1, u'Trishul': 1, u'Irinjalakuda': 1, u'Bardoli': 1, u'Bhosari': 1, u'Kamti': 1, u'Nakodar': 1, u'Khuhadi': 1, u'Tirur': 1, u'Shilphata': 1, u'Adoor': 1, u'Baitul': 1, u'Baitun': 1, u'Muzafferpur': 1, u'Tamluk': 1, u'Yelanka': 1, u'Bazapur': 1, u'Etawah': 1, u'Pimpri': 1, u'Rajirapalli': 1, u'Beguni': 1, u'Kanoor': 1, u'Parle': 1, u'Gomathi': 1, u'Sitabadi': 1, u'Rajarampuri': 1, u'Pavas': 1, u'Chattarpur': 1, u'Palam': 1, u'Virar': 1, u'Pondani': 1, u'Latoor': 1, u\"''Sona\": 1, u'Nasik': 1, u'Kadalur': 1, u'Aathur': 1, u'Raigad': 1, u'Kottayam': 1, u'Nilambur': 1, u'Warli': 1, u'Vatapattamam': 1, u'Hadapasar': 1, u'Mahu': 1, u'Tamiya': 1, u'Durg': 1, u'Kollour': 1, u'Faizbabad': 1, u'Banpur': 1, u'Rahta': 1, u'Boisar': 1, u'Vadkanjery': 1, u'Amarkantan-Jabalpur': 1, u'Uppala': 1, u'Maphasa': 1, u'Hajirta': 1, u'White': 1, u'Gargya': 1, u'Kamlanagar': 1, u'Ramnagar': 1, u'Katappana': 1, u'Bardhhaman': 1, u'Morbee': 1, u'Kaswasd': 1, u'Tomak': 1, u'Manjeri': 1, u'Trichendur': 1, u'Sikandar': 1, u'Khammam': 1, u'Vaniyambadi': 1, u'Ahmednagar': 1, u'Vellore': 1, u'Telitparamba': 1, u'Pendha': 1, u'Pimpalgaon': 1, u'Kharghar': 1, u'Ponto': 1, u'Indirapuram': 1, u'Bigone': 1, u'Shankermate': 1, u'Noapara': 1, u'Sahib': 1, u'Mahanagarpalica': 1, u'Irriki': 1, u'Motipuram': 1, u'Which': 1, u'Sajanpur': 1, u'Ozargaon': 1, u'Bomvaom': 1, u'Ajira': 1, u'Chatainaka': 1, u'Chandpur': 1, u'Addapal': 1, u'Eragipalam': 1, u'Varadha': 1, u'Nandhanam': 1, u'highway': 1, u'Town': 1, u'Aknoor': 1, u'Faridkot': 1, u'Taluka': 1, u'Yavat': 1, u'Maharashtra': 1, u'Colaba': 1, u'Raypur': 1, u'Adichira': 1, u'Chatapur': 1, u'Kolara': 1, u'Bilaspur': 1, u'Whitefield': 1, u'Virudhunagar': 1, u'Talasory': 1, u'Barboli': 1, u'Patel': 1, u'south': 1, u'Bhimavaram': 1, u'Asansol': 1, u'kanpur': 1, u'Kukkur': 1, u'Gomatinagar': 1, u'Dhavada': 1, u'Kankarwar': 1, u'Dwarka': 1, u'District': 1, u'Semnad': 1, u'Gangapur': 1, u'Angamally': 1, u'Mansoor': 1, u'Kolaghat': 1, u'Taratala': 1, u'Kurla': 1, u'Hojai': 1, u'Pottai': 1, u'Mallapuram': 1, u'Vairna': 1, u'Puducherry': 1, u'Elathur': 1, u'Chemanna': 1, u'Ardiya': 1, u'Panikoili': 1, u'Thodibuia': 1, u'Linkingroad': 1, u'Bardi': 1, u'Pogal': 1, u'Haryana': 1, u'Allapi': 1, u'Wardha': 1, u'Bandra': 1, u'Varacha': 1, u'Mahakali': 1, u'Khetpur': 1, u'Gangawa': 1, u'Baramati': 1, u'Azamgarh': 1, u'Chindawara': 1, u'Kinadhykidav': 1, u'Daruheda': 1, u'Kohianady': 1, u'Mhape': 1, u'Hardaloo': 1, u'Karkal': 1, u'Kutulli': 1, u'Mardhgao': 1, u'Rajapalayam': 1, u'Latur': 1, u'Dhanbad': 1, u'Varachaa': 1, u'Tara': 1, u'Tilichaerry': 1, u'Balabhgarh': 1, u'Hingewadi': 1, u'Shiroor': 1, u'Nagarkoveli': 1, u'Bhopal': 1, u'Kadaloure': 1, u'Dhanabad': 1, u'Masrur': 1, u'Renukot': 1, u'Nadakkavu': 1, u'Patana': 1, u'Vashind': 1, u'Ekkattuthangal': 1, u'Paanoor': 1, u'Chikkudi': 1, u'Jila': 1, u'Azartganj': 1, u'Podi': 1, u'Palankadi': 1, u'Kanniyakumari': 1, u'Kumbhakonam': 1, u'Basistha': 1, u'Bagalkote': 1, u'Neral': 1, u'Kasaragod': 1, u'Nishandine': 1, u'Sengalpatta': 1, u'Kandivali': 1, u'Kuddapah': 1, u'Mandoli': 1, u'Malda': 1, u'Thirumangai': 1, u'Sangrur': 1, u'Srirampur': 1, u'Hoogly': 1, u'Kamothe': 1, u'Kalahandi': 1, u'Nagaon': 1, u'Ramanathapuram': 1, u'Mundarkkaya': 1, u'Shirai': 1, u'Sonnur': 1, u'Grand': 1, u'Abids': 1, u'Brahrampur': 1, u'Orissa': 1, u'Gurgaon': 1, u'KR': 1, u'Dombivli': 1, u'Burhanpur': 1, u'Tinsukia': 1, u'Malapuram': 1, u'Sellum': 1, u'Bewar': 1, u'Dharmapuri': 1, u'Bathinja': 1, u'Panthalam': 1, u'Cidko': 1, u'Jalana': 1, u'Khola': 1, u'Kangra': 1, u'Kanooz': 1, u'Jhansi': 1, u'Perambattur': 1, u'Ramnade': 1, u'Solapur': 1, u'Thuraipakkam': 1, u'Sagarpada': 1, u'Thiravalla': 1, u'Pattukottai': 1, u'Vadodara': 1, u'Thiroor': 1, u'Guiney': 1, u'Naroda': 1, u'Lahore': 1, u'Temple': 1, u'Vijayawada': 1, u'Tilwara': 1, u'Tumkur': 1, u'Sindhudurg': 1, u'Maniktala': 1, u'Kamatee': 1, u'Tata': 1, u'Dhagya': 1, u'Calicut': 1, u'Kodampakkam': 1, u'Suryapet': 1, u'Udhampur': 1, u'Assam': 1, u'Peraij': 1, u'Rajiv': 1, u'Dinajpur': 1, u'Bodhguya': 1, u'Vapi': 1, u'Kerla': 1, u'Field': 1, u'Ghaziabad': 1, u'Bedbihar': 1, u'Vattapalav': 1, u'Gajuwaka': 1, u'Bhubheneshwar': 1, u'Sibsagar': 1, u'Kumar': 1, u'Vadalur': 1, u'Kodadha': 1, u'Koturekara': 1, u'Yelhanka': 1, u'Kakkannad': 1, u'Chikhalthana': 1, u'Bilayat': 1, u'Araria': 1, u'Antara': 1, u'Kanchirapally': 1, u'Vorli': 1, u'Jalgaon': 1, u'Koria': 1, u'Airport': 1, u'Plaghar': 1, u'Palanpur': 1, u'Jakat': 1, u'Madhgev': 1, u'Vijay': 1, u'Harsha': 1, u'Nimkathana': 1, u'Kolam': 1, u'Panaji': 1, u'Sambalpur': 1, u'Chinchwad': 1, u'Sriparampattur': 1, u'Vasant': 1, u'Srigonda': 1, u'Kottarakkara': 1, u'Teribram': 1, u'Sundar': 1, u'Trangala': 1, u'Irutto': 1, u'Tanjour': 1, u'Varanasi': 1, u'Chitradurga': 1, u'Chandrapur': 1, u'Trivandrum': 1, u'Udaynagar': 1, u'Om': 1, u'ROPAR': 1, u'Vagali': 1, u'Haldia': 1, u'Gangnagar': 1, u'Koduvila': 1, u'Podigaru': 1, u'Vile': 1, u'Bhoiser': 1, u'Ooty': 1, u'Jharsuguda': 1, u'Visakhapatnam': 1, u'Majestic': 1, u'Vatika': 1, u'Rajpura': 1, u'Tapasvi': 1, u'Kakud': 1, u'Karamandal': 1, u'India': 1, u'Punjab': 1, u'Kamrej': 1, u'Thirupur': 1, u'Koyambedu': 1, u'Metro': 1, u'Mawoo': 1, u'Nabha': 1, u'Shrirampur': 1, u'Kurukshetra': 1, u'Marthalli': 1, u'Morbi': 1, u'Govandi': 1, u'Anshavad': 1, u'Hebbala': 1, u'Ernakulum': 1, u'Alappuzha': 1, u'Kenya': 1, u'Chariali': 1, u'Ramnadu': 1, u'Kanjipuram': 1, u'Magadi': 1, u'Howrah': 1, u'Gadag': 1, u'Chandranagar': 1, u'Ratlam': 1, u'Gurueayoor': 1, u'Aram': 1, u'Velur': 1, u'Manjeeri': 1, u'Phypumu': 1, u'Iringali': 1, u'Kharadi': 1, u'Poonamalle': 1, u'Attavalli': 1, u'Nausara': 1, u'Kagadi': 1, u'Mahapa': 1, u'Payyanur': 1, u'South': 1, u'Tumbthakatte': 1, u'Nagarcooil': 1, u'Allahabad': 1, u'Revdegaon': 1, u'Barashi': 1, u'Nizan': 1, u'S.B': 1, u'Ankaleshwar': 1, u'Kondodi': 1, u'Vaishali': 1, u'Mathuman': 1, u'Punnarlu': 1, u'Makhmallabad': 1, u'Sulur': 1, u'Hindustan': 1, u'Makar': 1, u'Thamarashery': 1, u'Kollam': 1, u'Vasna': 1, u'Liva': 1, u'Madakpura': 1, u'Highway': 1, u'Chandigarh': 1, u'Sreerampur': 1, u'Alanaputtam': 1, u'Maninagar': 1, u'Dadar': 1, u'Dharamapuri': 1, u'Shirur': 1, u'Great': 1, u'Sundargarde': 1, u'Metapallam': 1, u'Vaikom': 1, u'Gummidipoondi': 1, u'Gungarh': 1, u'Thalippurampil': 1, u'Nerul': 1, u'Cuddalore': 1, u'PATNA': 1, u'Kalappalam': 1, u'Mogappair': 1, u'Rajkot': 1, u'Burmunda': 1, u'Ashok': 1, u'Srivilliputhur': 1, u'Nirander': 1, u'Tirupatur': 1, u'Nanavati': 1, u'Village': 1, u'Bhandup': 1, u'Jubilihills': 1})\n",
    "location_words = location_freq.most_common()\n",
    "location_words = [word[0] for word in location_words if word[0] not in \\\n",
    "                  ['Road','city', '&','City','Dealership','Toyota','Highway','highway', 'south','District','district',\\\n",
    "                  'Which','Town', 'Airport', '']]\n",
    "\n",
    "def process_locations(content_original):\n",
    "    location_extracted = []  # location words\n",
    "    doc_location = []   # original sentences\n",
    "    location_idx = []   # index in content_original\n",
    "    for i, sen in enumerate(content_original):\n",
    "        location_list = [word for word in sen.split() if word in location_words]\n",
    "        location_list = list(set(location_list))       \n",
    "        if location_list != []:\n",
    "            location_extracted.append(location_list)\n",
    "            doc_location.append(sen)\n",
    "            location_idx.append(i)\n",
    "    return location_extracted, doc_location, location_idx\n",
    "        \n",
    "location_extracted, doc_location, location_idx =process_locations(content_original)     \n",
    "print \"location words extracted\"\n",
    "print \"Number of sentences containing location words: %d\" %len(location_extracted)"
   ]
  },
  {
   "cell_type": "markdown",
   "metadata": {},
   "source": [
    "## Cluster location words"
   ]
  },
  {
   "cell_type": "code",
   "execution_count": 5,
   "metadata": {},
   "outputs": [
    {
     "name": "stdout",
     "output_type": "stream",
     "text": [
      "filtering location words\n",
      "No. of clustered locations:334\n",
      "No. of others locations:240\n",
      "location clustered\n"
     ]
    }
   ],
   "source": [
    "import heapq\n",
    "import os\n",
    "    \n",
    "def filter_location(test_corpus, df):  # assuming each review contain one aspect\n",
    "    print \"filtering location words\"\n",
    "    for xth, doc in enumerate(test_corpus):\n",
    "        if len(doc)>1:\n",
    "            df_words = [df[word] for word in doc]\n",
    "#             df_words = []\n",
    "#             for word in doc:\n",
    "#                 if df[word] == 1:\n",
    "#                     df_words.append(1000)\n",
    "#                 else:\n",
    "#                     df_words.append(df[word])\n",
    "#             idx =  heapq.nsmallest(1, xrange(len(df_words)), key=df_words.__getitem__) #use smallest df to represent\n",
    "            idx =  heapq.nlargest(1, xrange(len(df_words)), key=df_words.__getitem__) #use largest df to represent\n",
    "            test_corpus[xth] = [doc[ith] for ith in idx]\n",
    "    return test_corpus\n",
    "\n",
    "def write_file(corpus, idx_list, word, count):\n",
    "    if not os.path.isdir(\"cluster/location\"):\n",
    "            os.mkdir(\"cluster/location\")\n",
    "    f1 = open('cluster/location/%d_%s.txt' %(count, word), 'w+')\n",
    "    for idx in idx_list:\n",
    "        f1.write('%s\\n' %corpus[idx])\n",
    "    f1.close()\n",
    "    \n",
    "def location_category(df_list, location_clean, corpus):\n",
    "    if (not os.path.isdir(\"cluster\")):\n",
    "        os.mkdir(\"cluster\")\n",
    "    clustered_idx = []\n",
    "    major_location = [word for word in df_list if df_list[word] > 1]\n",
    "    for word in major_location:\n",
    "        idx_set = []\n",
    "        for idx, doc in enumerate(location_clean):\n",
    "            if word in doc:\n",
    "                idx_set.append(idx)\n",
    "        count = len(idx_set)\n",
    "        clustered_idx = clustered_idx + idx_set\n",
    "        write_file(corpus, idx_set, word, count)\n",
    "    clustered_idx = set(clustered_idx)\n",
    "    print \"No. of clustered locations:%d\"%len(clustered_idx)\n",
    "    unclustered_idx = list(set(range(len(location_clean))) - clustered_idx)\n",
    "    write_file(corpus, unclustered_idx, 'others', len(unclustered_idx))\n",
    "    print \"No. of others locations:%d\"%len(unclustered_idx)\n",
    "\n",
    "        \n",
    "location_clean = filter_location(location_extracted, location_freq)\n",
    "df = df_count(location_clean)\n",
    "df_dic = dict(df.most_common())\n",
    "\n",
    "location_category(df_dic, location_clean,doc_location)\n",
    "print \"location clustered\"\n"
   ]
  },
  {
   "cell_type": "markdown",
   "metadata": {},
   "source": [
    "# Process non-location comments"
   ]
  },
  {
   "cell_type": "code",
   "execution_count": 6,
   "metadata": {
    "scrolled": false
   },
   "outputs": [
    {
     "name": "stdout",
     "output_type": "stream",
     "text": [
      "non-location sentences:803\n",
      "length of new content 1755\n"
     ]
    }
   ],
   "source": [
    "content_nonlocation = [content[i] for i in range(len(content)) if i not in location_idx]\n",
    "print \"non-location sentences:%d\"%len(content_nonlocation)       \n",
    "# split comment with multi-sentence into multi-comments\n",
    "content_new = []\n",
    "for comment in content_nonlocation:\n",
    "    sents = sent_tokenize(comment)\n",
    "    if len(sents) > 1:\n",
    "        for i in range(len(sents)):\n",
    "            content_new.append(sents[i])\n",
    "    else:\n",
    "        content_new.append(comment)\n",
    "print 'length of new content', len(content_new)\n",
    "# print content_new\n",
    "    "
   ]
  },
  {
   "cell_type": "markdown",
   "metadata": {},
   "source": [
    "## Extract keywords"
   ]
  },
  {
   "cell_type": "code",
   "execution_count": 7,
   "metadata": {},
   "outputs": [
    {
     "name": "stdout",
     "output_type": "stream",
     "text": [
      "[('it', 'PRP'), ('is', 'VBZ'), ('10', 'CD'), ('km', 'NN'), ('far', 'RB'), ('away', 'RB'), ('from', 'IN'), ('city', 'NN'), ('it', 'PRP'), ('should', 'MD'), ('be', 'VB'), ('nearby', 'JJ'), ('city', 'NN'), ('within', 'IN'), ('2', 'CD'), ('3', 'CD'), ('km', 'NN'), ('.', '.')]\n"
     ]
    }
   ],
   "source": [
    "pos_new = nltk.pos_tag(nltk.word_tokenize(\"it is 10 km far away from city it should be nearby city within 2 3 km . \"))\n",
    "print pos_new"
   ]
  },
  {
   "cell_type": "code",
   "execution_count": 8,
   "metadata": {},
   "outputs": [
    {
     "name": "stdout",
     "output_type": "stream",
     "text": [
      "compani\n"
     ]
    }
   ],
   "source": [
    "stemmer = PorterStemmer()\n",
    "print stemmer.stem(\"company\")"
   ]
  },
  {
   "cell_type": "code",
   "execution_count": 9,
   "metadata": {},
   "outputs": [
    {
     "name": "stdout",
     "output_type": "stream",
     "text": [
      "signle sentence with nn 1290\n",
      "no comments 23\n",
      "single sentence without nn 442\n",
      "[['jodhpur'], ['panchayat', 'road'], ['road'], [u'condit', 'road'], ['board'], [u'issu', 'traffic'], ['area'], [u'staff'], ['area', 'tv', 'etc', 'cushion', u'chair', u'wait'], ['aundh'], ['showroom'], [u'deliveri', u'charg'], [u'branch'], [u'clean'], [u'entri', 'highway', 'gate'], ['town', u'citi', u'distanc', u'branch', u'area'], ['traffic', 'branch'], ['shop', u'henc'], [u'sunshin'], ['borivali'], ['sinhgad', 'road'], ['vishakhapatnam'], ['district'], [u'hadups', 'road'], [u'citi'], [u'bypass', 'road', 'area'], ['need', u'citi', 'showroom', 'outskirt', u'farmer'], ['wagholi', 'shirur'], [u'citi', 'nashik'], [u'citi', 'area'], ['showroom'], [u'park', 'road'], ['water', u'hole', 'session', u'lodg', 'road'], ['weather', 'fogg', 'winter', 'way', 'board'], [u'branch', 'area'], ['howrah'], [u'close', u'open'], [u'respond'], ['taratala'], ['hingewadi'], ['town'], [u'citi'], [u'citi', u'insid'], ['mud', u'road'], [u'road', u'anyth'], ['town'], [u'collect'], ['drop', u'nobodi'], ['road'], [u'citi', 'want', 'area'], ['medinipur', 'junction'], ['town'], ['branch'], ['branch'], ['buy'], ['check'], [u'other', 'hyundai'], [u'citi'], [u'citi'], [u'citi', u'insid'], ['shilphata'], [u'citi', u'outsid'], ['worker'], ['way'], [u'bu'], ['metro'], [u'insid'], [u'citi'], ['nashik', u'outsid'], ['nashik'], [u'citi', 'dealer', u'bypass', 'corner'], ['hindi'], ['road', u'govern'], ['bongaigaon'], [u'nagor'], ['root'], [u'citi'], [u'citi', u'outsid', u'insid'], [u'colleg', 'type', 'road'], ['adimali', 'idukki', 'kattappana', 'koduvila'], ['highway', 'road'], [u'outsid', 'showroom', 'rush', 'highway', u'provis'], ['boy', u'insid'], [u'bodi', 'shop'], [u'thing', u'citi'], [u'citi'], ['better', 'showroom'], ['ship', 'dealer', 'road'], [u'citi'], [u'citi'], [u'citi', 'land'], [u'citi', 'showroom'], [u'increas', u'citi', 'showroom'], ['space'], ['work', u'qualiti'], [u'roadsid', 'traffic', 'help', 'area'], [u'issu'], ['mani', 'nagar'], [u'improv'], ['showroom'], [u'agenc'], ['paint'], ['bhubaneshwar'], ['road', 'highway'], ['drop', u'driver', 'pick'], ['drop', 'swift', 'pick'], [u'provis'], ['pick'], ['pick'], ['road', u'govern'], [u'charg'], ['highway'], [u'line', 'workshop'], ['traffic', 'area'], ['e'], [u'resid', u'bypass'], ['kalitala'], ['dsk', 'area'], [u'noth'], [u'citi'], [u'hr'], [u'citi'], [u'citi'], ['drop', 'driver', 'pick'], [u'citi'], [u'popul'], [u'number'], [u'safeti'], ['traffic', 'area'], ['area'], ['morena'], ['area'], ['etawah'], [u'noth'], ['market', u'valu'], ['delhi'], [u'citi', u'bypass'], [u'bu'], [u'bu', 'drop', 'stop', 'pick'], [u'citi', u'outsid'], [u'citi'], ['paan', 'road', 'sardarpura'], ['pickup', 'drop', 'pick'], ['need'], [u'bu'], [u'bu', 'drop', 'stop', u'situat', 'pick'], ['panchshil'], [u'roadsid', 'board', 'highway', 'sign'], ['water', 'mud'], ['way'], [u'citi'], [u'citi'], [u'arrang', 'tea', u'coffe', u'bu'], ['tea', u'coffe', u'transport'], ['rush'], ['space'], [u'citi'], [u'citi'], [u'manag', 'talk'], [u'citi', 'pickup', 'drop', 'pick'], ['road'], ['need'], [u'citi'], [u'outsid'], ['case', u'citi'], [u'citi', 'area'], [u'citi', 'showroom'], [u'citi'], [u'citi', 'showroom', 'area'], [u'citi', u'distanc'], [u'carri', 'monday'], [u'pocket', u'rupe', 'toll'], ['checkup', u'rupe'], [u'someth'], ['toll'], ['town'], [u'noth'], [u'deliveri', 'drop'], [u'improv'], ['till'], [u'citi'], [u'work'], [u'citi'], ['town', u'middl', u'bypass'], [u'citi'], ['traffic'], ['traffic', 'area'], [u'hole', 'road'], [u'citi', 'showroom'], ['profit', u'citi', 'showroom'], [u'citi'], ['area'], ['thing'], [u'address'], [u'indic'], [u'citi', 'dealer'], [u'citi', 'rush'], ['way'], [u'citi'], [u'citi'], [u'citi', 'showroom'], ['road'], [u'insid'], [u'bu', 'stand', u'meter'], ['highway'], ['mhapsa', 'highway'], ['rush'], ['rudrapur'], ['showroom', u'insid', 'area'], ['sale', 'area'], ['need', 'cut', 'highway', 'way'], ['itanagar'], ['road', 'area'], [u'wash'], [u'progress', 'work', 'board', 'highway'], [u'citi', 'cut'], [u'citi'], ['airport', u'hospit'], ['auto'], [u'transport'], ['patna'], ['patna'], ['sellum'], [u'namak'], ['sellum', u'citi', u'conveni'], [u'bu', 'stop', u'anyth'], [u'bu'], [u'bu', 'pickup', 'drop', 'stop', 'pick'], ['area'], [u'citi'], ['road'], ['wardha'], ['area'], [u'branch'], [u'difficulti', 'work', u'citi', u'insid', 'area'], [u'increas'], ['workshop'], ['area'], [u'distanc'], [u'everyth'], [u'insid', u'outsid', 'road'], ['bokaro'], ['drop'], ['town'], ['toll', 'rs'], [u'bu', 'stop'], [u'sourc'], [u'bu', 'stop'], ['area'], ['area'], ['borivali'], ['morvi'], ['morvi'], [u'citi'], [u'sattelit', 'durgapur', u'distanc', u'resid', 'asansol'], [u'citi'], [u'citi'], ['albet'], [u'bu', 'transport'], [u'arrang', 'transport'], ['station'], ['man'], ['station'], ['navratri'], [u'issu', u'everyon'], ['dealer', 'showroom', 'number', 'area'], ['dealer', 'area'], ['turn'], [u'distanc'], ['goa'], ['madgaon'], [u'citi', 'showroom', 'area'], [u'shop', u'someth', u'area'], ['drop', u'someon'], [u'area'], ['pitopur', 'pitampura', 'mango'], ['market', 'area'], [u'someth', 'crowd'], ['mud', 'road'], ['road'], ['make', 'district'], ['madhur'], [u'bu', 'stop'], ['area', u'tirunelv'], [u'citi'], [u'citi', 'outside'], ['drop', 'area', 'give'], ['area'], ['surat'], [u'issu'], ['water', 'highway', 'road'], [u'citi', 'unit'], [u'issu', 'nut'], ['board', 'name'], [u'kilomet', u'citi', 'brand', u'everyon', 'infinium'], [u'citi'], [u'citi', u'distanc'], [u'condit', u'entranc'], ['rajendra', 'road'], ['road'], [u'citi'], [u'citi', 'drop'], ['auto', u'citi', 'rs'], [u'citi', 'amount', 'bill', 'drop'], [u'bodi', 'shop'], [u'bodi', 'shop'], [u'bodi', 'shop', 'nizampet', 'harsha'], [u'conveni', u'anyth'], [u'citi', u'outsid'], [u'conveni'], ['food', u'driver'], ['anaamalai'], ['way', 'kanyakumari'], ['rod', 'road'], [u'insid'], [u'citi', 'outer', 'area'], ['daud'], [u'citi', u'everyth'], [u'citi', 'showroom', u'insid'], ['area'], ['showroom', 'come', 'due'], [u'citi', 'showroom'], [u'improv'], [u'everyth'], [u'kilomet'], [u'citi', u'henc'], [u'area'], ['pathanamthitta'], ['area'], [u'local'], [u'increas', 'compound'], ['space'], [u'issu', 'turn'], [u'park'], ['one'], [u'offic'], ['worli', 'area'], ['pickup', 'pick'], [u'citi', u'outsid'], ['outlet', u'branch'], ['e'], [u'citi', 'highway', 'road'], ['taxi', u'bu', u'citi', u'transport', 'area'], ['pala'], [u'improv'], ['kollam'], [u'citi'], ['number'], [u'hous'], ['thodupuzha'], [u'kilomet'], [u'kilomet'], ['town', 'vengara'], [u'citi'], [u'kilomet', u'citi'], [u'kilomet'], ['town'], [u'citi', 'eragipalam'], ['town', 'area'], ['area'], ['shop', 'road'], ['road'], [u'qualiti'], ['town', 'area'], ['kattappana'], ['opinion'], ['person', 'bit'], [u'kilomet'], [u'kilomet'], [u'citi'], ['proper', u'citi'], [u'pottam'], ['town', 'area'], ['tamarsheri'], ['space'], [u'afterward', u'deliv'], ['front', u'move'], ['sit', u'client', 'hand', 'area'], [u'bike'], [u'insid', 'area'], ['market', 'area'], [u'villag'], ['town', 'outer'], ['town'], ['town', 'showroom', 'option'], ['wheeler', u'park', 'space'], ['front'], ['nagaon', u'bypass'], [u'insid'], ['road'], [u'villag', 'area'], ['road'], ['harbor', 'diamond', u'local', 'road'], ['road'], ['showroom', 'way'], ['map', 'board', 'road'], [u'insid'], ['site', u'bypass'], ['vadodara', 'infinium'], [u'everyth'], [u'drop', u'pick'], [u'kucheeri', 'etc', 'teribram'], [u'kilometr'], [u'insid'], [u'industri', 'area', 'allunga'], ['town'], [u'villag', u'outsid'], [u'citi', 'away', u'conveni'], ['traffic', 'guard', u'word', 'road'], [u'inconvi'], ['drop', 'pick'], ['drop'], ['traffic', u'bypass', 'road'], ['area'], [u'other'], ['food'], ['bhubaneswar', 'area'], ['food'], ['pali'], [u'citi', 'transport'], ['one'], ['area'], [u'citi', u'henc', u'outsid'], ['corner', u'offic', 'area'], [u'citi'], ['guwahati'], ['kolar'], ['highway'], [u'cycl', 'motor'], ['space'], ['canteen', 'lunch'], [u'distanc', u'creat'], ['ahmedabad'], [u'book', 'call'], [u'need'], [u'outsid', 'road'], [u'even', 'amana', u'morn', 'kaunur'], [u'bu', 'drop', 'pick'], [u'talasori'], [u'conveni'], [u'citi', 'siddhartha', 'road'], [u'thalaseeri', 'outlet'], ['varacha'], ['traffic', 'area'], [u'citi', u'insid'], ['area'], [u'type'], [u'resid'], ['way'], ['area'], ['park', 'airport', u'circu', u'rubi', 'area'], [u'other', 'call'], [u'employe'], ['kottamanglam'], ['town', u'outsid'], [u'citi'], [u'boy', u'instruct', u'wash', u'cleanli'], [u'kilomet', u'citi', 'highway'], ['showroom', u'rang'], ['sunday', 'oil'], ['staff', 'kuddapah', u'surround', 'clean', 'area'], ['town', 'area'], ['udhampur'], ['area'], [u'citi'], ['junagadh'], [u'citi'], [u'citi', u'conveni'], ['kanpur'], ['koikor'], [u'thamarasseri', u'issu', 'way'], ['burger'], ['mgf', 'road'], ['area'], ['uludhumalaipettai'], ['e'], [u'erod', u'issu', 'showroom'], [u'citi', 'driver', u'expens', 'toll'], ['site'], ['traffic', 'face'], [u'citi'], [u'citi'], ['dwarka'], ['food', u'restaur'], ['canteen'], [u'hour'], [u'citi'], [u'citi', u'insid'], ['town', 'area'], [u'live', 'katiar'], ['katiar'], ['purniar', 'katiar'], ['away', 'rajkot'], [u'citi'], [u'showroom'], [u'citi'], ['pickup', 'drop', 'pick'], ['pickup', 'drop', 'pick'], ['sivagangai', 'road'], ['station'], ['nagor'], ['board'], ['sector'], [u'outsid', 'highway', 'road'], ['help', 'yelhanka'], ['showroom'], [u'person'], [u'bu', 'pickup', 'drop', 'stop', 'pick'], [u'citi'], ['point', 'satpur'], [u'distanc'], ['area'], ['road'], ['town', u'charg', 'area'], [u'noth'], ['feel', 'market'], ['dessert'], ['tamilnadu'], [u'insid', 'road'], [u'someth', 'drop', 'pick'], [u'issu', u'citi', u'conveni'], [u'citi'], ['bomvaom'], [u'improv', u'way'], [u'attitud'], ['showroom', 'area', 'asansol', u'insid', 'one'], ['tea', u'arrang', 'area'], [u'hr', 'tea', u'coffe'], ['shop'], ['showroom', 'road'], ['gate'], ['board'], ['area'], [u'citi', 'wise'], ['food', u'citi', 'canteen'], [u'citi', 'ananda'], ['bill'], ['yashavanthapura', 'vijayanagar'], [u'citi', u'outsid'], [u'citi', u'insid'], ['baitul'], ['dehradun'], ['highway'], [u'erod', 'outer'], ['area'], [u'citi'], [u'citi'], [u'citi'], [u'citi', 'way'], ['board', 'highway'], [u'food', 'canteen', 'area'], ['shop', u'insid', 'drop', u'driver', u'citi', 'pickup', 'pick', 'highway'], ['road', 'ladyar'], [u'citi'], [u'thing', u'wast'], [u'hour'], ['drop', 'pick'], ['drop'], [u'buse'], [u'need'], [u'citi'], ['yashavanthpura'], ['loan'], [u'citi', 'road', 'half'], ['aara', 'road'], ['toal', 'thier', 'naka'], ['toal'], [u'chang', u'connect', 'highway'], [u'morn'], [u'morn'], ['traffic'], ['patialo', 'samana', 'pioneer'], ['area'], ['highway', 'road', 'danger'], [u'citi'], [u'citi', 'hyundai'], [u'improv'], ['bhandup', 'kurla'], [u'increas'], [u'sector', u'showroom'], ['load', 'work', 'sale', 'person', u'morn', u'everyth', u'sunni'], [u'distanc', 'area'], [u'villag', 'area'], [u'road', u'damag'], [u'properli', 'road'], [u'villag'], [u'offic'], ['garb'], [u'segment'], [u'distanc'], [u'ghodband', 'road'], ['reveal', 'infinium'], ['reveal', 'narola', 'infinium'], ['reclean'], ['area'], ['area'], ['e'], ['highway'], ['water', u'agenc', u'manag', u'govern'], ['closer', u'citi', 'bit', 'way'], [u'citi', 'kollam', 'highway'], [u'villag', 'jargon', u'chowdhuri', u'citi'], ['auto', 'person', 'return', 'outer'], [u'arrang', 'drop'], [u'citi', 'line', 'nagger', 'area'], [u'citi'], [u'minut', 'transport'], [u'connect'], ['drop'], [u'sourc'], [u'erod'], ['drop', 'pick'], ['auto'], [u'citi', 'area'], ['mayapuri'], [u'citi', u'offic'], [u'offic'], [u'citi'], ['plate', 'number'], ['week', 'camp'], [u'thing'], ['patna'], [u'citi', u'henc'], ['road', u'govern'], [u'citi'], [u'citi'], [u'citi'], ['naamkum', 'kotmor'], ['vision'], [u'travel'], [u'citi', 'area'], ['cobra', u'sale', 'area'], [u'citi'], ['showroom'], [u'complaint', u'attent', 'labor'], ['manger', 'talk'], ['hour'], [u'offic', u'complaint'], [u'citi'], [u'citi'], ['traffic', 'jaam'], [u'citi', 'showroom', u'nobodi', u'insid', 'mahindra'], [u'citi', u'insid'], [u'bu'], ['thirvaluvar', u'poonamal', u'glass', 'reason', u'part', u'chang'], ['drop', 'honda', 'pick'], ['forward', 'honda', 'anand'], [u'villag'], ['min'], ['town', u'outsid'], ['town', 'margay', u'insid'], [u'chang'], [u'condit', 'road'], ['road'], ['front', 'road', 'gap'], ['bilaspur'], ['showroom', 'hyundai'], [u'citi', u'villag'], [u'citi'], [u'citi'], ['kharghar'], ['kundapura'], ['help'], ['kundapura'], [u'citi'], ['token'], ['showroom', 'visit'], ['amount', 'tax', 'toll'], [u'entranc', 'traffic'], ['person', u'troubl', u'secur'], [u'guidanc', u'henc'], [u'somebodi'], ['board'], ['malappuram'], [u'citi'], ['plaza', u'charg', 'toll'], [u'citi', u'charg'], ['array', 'road'], [u'villag', u'citi'], [u'bridg'], [u'henc'], ['auto', u'bu', u'citi'], ['pickup', 'drop', u'henc', 'pick'], ['drop'], [u'citi'], [u'bu'], [u'citi'], [u'distanc'], ['area'], ['taxi', u'bu', 'rickshaw', 'britannia'], [u'drop', u'henc'], ['town'], ['town', 'work'], [u'restaur'], ['food', 'canteen'], ['food'], ['part', 'work', u'suppli'], ['town'], [u'outlet'], [u'citi', u'henc'], [u'villag', 'taluka', u'henc'], [u'citi'], ['transport', 'area'], ['area'], [u'issu', 'head', 'area'], [u'citi'], [u'villag', 'grace', 'akola'], ['usmanabad'], ['bit'], ['showroom', u'distanc', 'batter'], ['baitun'], ['area'], [u'holiday', 'rest'], ['test', 'trial', 'sunday', u'henc', 'drive'], [u'henc', 'bosari', u'expens', u'citi'], [u'citi'], ['bit', u'park'], [u'park'], ['way', 'road'], ['water', 'season', u'raini', 'area'], ['drop', 'pick'], [u'citi'], ['pune', 'kekari', u'insid', 'maphasa', u'citi', u'kollwal'], [u'improv'], ['irangalakuda'], ['proper', 'irangalakuda'], ['path'], [u'issu', 'way'], ['mod'], ['area'], [u'citi'], [u'citi', u'outsid', 'way'], [u'brocad'], ['work'], ['month'], ['money'], ['hour', u'futil'], [u'driver'], ['tax', 'toll'], [u'outsid'], ['kolhapur'], ['gaon', 'nandurbar'], [u'villag'], ['area'], [u'citi'], ['good', 'colaba'], ['goa'], [u'offic'], [u'citi', 'madhgaon'], ['bardhhaman'], [u'hr'], [u'deliveri'], ['member', 'drop', u'charg'], [u'villag'], [u'bhusav'], ['dule'], ['shop', 'paint', 'showroom'], ['way', 'flyover', u'construct'], ['work', u'resid', 'flyover'], ['bit'], ['nagercoil'], ['bit', 'area'], [u'citi'], ['touch', u'citi', 'hyundai', 'maruti'], ['ahmedabad', u'hous'], ['b'], ['naroda', 'highway'], ['showroom', 'area'], ['food', 'canteen'], ['room', 'show'], [u'citi'], ['driver'], ['return'], [u'padpadgan', 'area'], [u'hous'], ['ravindra', 'havalahalii'], ['need', 'drop'], ['head', 'quarter', 'district'], ['town'], ['town'], [u'bu'], ['space'], ['sound', 'box', u'colour', 'etc', u'chang', 'mobil'], [u'1day', 'take'], ['pick', u'bu', 'drop', 'stop', 'staff'], [u'improv', u'charg'], ['pay', 'tax', 'thing', u'part', u'outsid', 'labour', u'charg'], [u'part', 'spare', 'labour', u'charg'], [u'part', 'labour', u'charg'], [u'citi'], ['lunch', u'outsid', 'canteen'], ['bit'], ['road'], [u'insid', u'kilometr'], ['transport'], ['price', u'charg'], [u'need', u'charg'], ['price', u'part', 'market'], ['price', u'part', 'market'], [u'need', u'warranti', u'part', u'charg'], ['room', 'g', 'show'], [u'local', 'road'], ['g'], ['road', u'construct'], [u'safeti'], ['road', u'construct'], [u'construct'], [u'chanc', 'area'], ['guard', u'secur'], [u'premis', u'cross', 'staff'], ['area'], ['area'], ['town', 'area'], ['naka', 'dhule', 'chauhan', 'toll'], ['naka', u'distanc', 'toll', 'rs'], ['tolnaka', u'charg'], ['tolnaka', u'insid', u'citi'], ['chattarpur'], ['chattarpur'], ['work'], [u'insid', 'half'], ['ushmanabad'], [u'citi'], ['drop', 'pick'], [u'bu'], ['area'], ['front', u'garbag', 'area'], ['road'], ['drop'], ['symbol', 'land', u'direct', 'mark'], [u'citi', 'showroom'], [u'citi', u'showroom'], [u'transport'], [u'hour'], [u'offic'], [u'entri', u'driver', u'insid', u'difficulti'], [u'thallacherri'], ['singur', 'area'], ['nabha'], ['palampur'], [u'morbe'], ['innova', u'park', 'area'], [u'coat', u'outsid'], ['clamor', 'jamuria', u'hous'], ['bill', 'counter'], ['space'], [u'henc'], [u'staff'], [u'hour'], ['dust', u'outsid', u'particl'], [u'citi'], ['showroom'], ['kondava'], ['profit'], ['hadapsur', 'traffic', 'dsk'], ['item', u'snack', u'roadsid'], ['drop', 'pick'], [u'roadsid', u'insid'], ['gadh'], ['kolara'], ['road', u'govern'], [u'henc', u'troubl'], [u'citi'], [u'area'], [u'dirti', 'area', 'gind', 'water', u'outsid', 'dust', 'come'], ['airport'], ['mansarovar'], ['thane', 'highway'], ['drop', u'outsid', 'sunlight'], ['drop', 'pick'], [u'citi', u'insid'], [u'circl'], ['road'], ['gate', u'worker'], ['number', u'staff'], [u'machin'], [u'chang', u'insid', 'panipat'], ['traffic', 'area'], ['space'], ['space'], ['staff'], ['space'], ['midc'], ['area'], [u'citi', 'drop', 'outer', 'transport'], [u'citi', u'everyon', 'transport'], [u'deliveri', 'transport', 'pick'], ['lunch', 'hotel'], ['town'], [u'citi'], [u'hous'], ['workshop'], ['drop'], ['batala'], [u'citi'], [u'bu', 'drop', u'stop'], ['summer', u'outsid'], [u'insid', u'outsid'], [u'citi'], ['person'], ['taxi', 'auto'], ['traffic'], [u'citi'], ['rohini'], ['drop', 'pick'], [u'citi', 'drop', u'someon'], ['head', u'offic', 'life', 'maruti', 'branch'], [u'process', 'branch'], [u'conveni'], ['space'], ['space', 'room', 'show'], ['showroom'], [u'mainten', u'outsid'], ['road', 'area'], [u'citi', 'area'], ['sonipat'], [u'citi', u'outsid', 'area'], [u'insid', 'road'], [u'citi', u'insid'], [u'citi'], ['road'], ['owner', 'road'], ['dust', 'road', 'sit'], ['road'], ['risk', 'highway', 'pm'], [u'citi', u'outsid'], ['risk'], [u'zone'], [u'insid'], ['drop', 'pick'], [u'citi', 'eroad', u'insid'], [u'purpos'], [u'outsid', 'area'], ['area'], [u'citi'], [u'citi', 'reason', u'insid'], [u'behav', 'way', 'area'], ['sunday'], [u'citi'], ['camp'], ['road', 'area'], ['area'], [u'shade'], [u'citi', u'insid'], [u'citi', u'insid', 'staff'], ['staff'], [u'citi'], [u'thing'], [u'snack', 'area', u'drink', 'water', u'citi', u'morn'], ['traffic', u'henc', u'road'], [u'citi', u'outsid'], ['food', u'arrang', u'snack', u'restaur', u'hour'], [u'citi', 'highway'], [u'kilomet'], [u'kilomet'], ['innova', 'mehsana', 'district', 'level'], [u'access'], [u'citi', u'navig'], [u'villag'], ['pick'], ['sector'], [u'condit', u'road', u'inconveni', 'space'], [u'bu', 'stop', u'permiss', 'area'], [u'hous'], ['nalagarh'], [u'citi'], ['road', 'space'], [u'citi'], [u'issu', u'citi', 'traffic'], [u'citi'], [u'citi'], [u'hous'], ['drop', 'pick'], [u'hous'], [u'hous'], [u'emerg'], ['area'], [u'local'], ['approx'], ['area'], ['canteen', 'area', 'auto'], ['drop', 'pick'], ['drop', 'pick'], [u'thing'], [u'distanc'], [u'improv', 'outside', u'citi'], [u'noth'], [u'citi', u'insid'], [u'citi'], ['way'], [u'citi'], ['rajendra', 'area'], [u'option'], ['showroom', u'noth', 'outside'], ['taxi', 'auto'], [u'citi', 'work'], [u'hous'], ['e'], ['drop', 'pick'], [u'owner', u'issu', 'area'], ['shop', 'town', u'citi', 'area'], ['need'], ['area'], ['corner', 'road', 'borad'], ['dealerdhip', 'highway'], ['help', 'area'], [u'distanc'], [u'henc'], [u'appoint', 'reach'], ['ramanathapuram'], ['area', 'road', u'hous'], [u'citi', u'insid', u'outsid', 'area'], ['dearship', 'road'], ['road'], ['shillong'], [u'congest', 'road'], ['shillong', 'traffic'], ['meghalaya', u'shill'], ['summit', 'area'], ['heart', u'local'], ['airport'], ['daruheda'], [u'citi'], ['area'], ['area'], ['traffic', 'area'], ['traffic'], [u'connect', 'highway'], [u'difficulti'], ['pick', 'drop', 'area'], ['sir', 'drop', 'pick'], [u'distanc'], ['road', 'area'], ['work', 'hand'], ['area'], [u'thing'], [u'issu', 'amana'], [u'citi', 'kasaragod'], ['thing', 'showroom', u'citi'], [u'citi'], ['thing', 'drop', 'pick'], [u'poonamalle'], [u'ekkattuthang'], [u'bu'], [u'distanc', u'henc'], ['way'], ['traffic', u'road'], [u'rang'], ['way'], [u'read', 'water', u'book', 'room'], ['town', 'shop', 'year', u'month'], [u'citi', u'insid'], [u'citi', 'hyundai', 'maruti'], ['town', u'citi', 'area'], [u'issu'], ['drop', 'pick'], [u'bu'], [u'arrang', 'drop', 'pick'], ['mansarovar'], [u'kilomet', 'mansarovar'], [u'middl', 'jaipur'], [u'kilomet', u'hous'], ['east', 'highway', 'virar'], ['ship', 'dealer'], ['transport'], [u'bu', 'train', 'drop'], [u'citi'], [u'drop', 'train'], ['pathankot'], ['kushaiguda'], [u'citi', 'pune'], [u'busi'], ['number'], [u'wait'], ['showroom', u'conveni', 'highway'], ['banglor', 'bombay', 'highway'], ['chidambaram', u'pondicherri', 'lanson'], [u'cuddalor', u'henc'], ['town'], [u'feel', u'offic', 'comfort', u'advanc'], ['town', 'outside'], ['uber', u'cab', 'ola'], ['town', 'showroom', 'dhanbad', 'highway'], ['town', 'showroom'], ['way', 'highway'], ['town', u'insid', 'unit'], ['town', 'way'], [u'citi', 'part', 'tiruppur', 'annamalai', 'area'], ['front', 'tax'], ['tax', 'rs'], [u'arrang', 'tax', 'toll'], ['station', 'kolhapur', u'outsid'], [u'conveni', 'kolhapur'], ['highway'], [u'citi', 'outlet'], [u'citi'], [u'citi'], [u'citi', 'outlet'], ['traffic', u'wast'], ['loaction', 'suber', u'offic'], ['work', 'way', 'metro'], ['traffic'], ['rajendra'], [u'citi'], ['allahabad', u'hous'], ['rajendra', 'transport'], [u'better', 'showroom'], ['rajendra'], [u'citi'], [u'solut'], ['chakan'], [u'arrang', 'chowrasta', 'shamshbad', u'area'], ['shop', 'work', 'honda', 'workshop', 'compton', u'emerg', 'suzuki', 'navsari'], [u'insid', 'bhivadi'], ['town'], ['drop', u'ladi', 'pick'], ['town'], ['town'], ['innova', 'honda', 'nagercoil', 'kanyakumari', 'tuner'], [u'polic'], ['showroom', u'park', 'road'], ['traffic', u'circl'], [u'improv'], ['nh'], ['area'], ['area'], ['kanchipuram', 'lanson'], ['ramp', u'henc'], ['satan'], ['area'], ['viva', 'mp'], ['area'], ['satan'], [u'condit', 'road', 'repair'], [u'jubilihil', u'abid'], ['kunj', 'vihar'], ['area'], [u'citi'], ['sachet'], ['airport'], ['bodhguya'], ['thiravalla'], ['panthalam', 'door'], [u'insid'], ['area'], ['break', 'tea', u'coffe'], ['food', u'hotel'], [u'increas', u'posit', u'sale', 'road'], [u'kozhilcod', u'koduv'], ['mehsana'], [u'capit', u'let', u'duranc', 'maruti', 'showroom'], [u'thing'], [u'need', 'kadalur', 'lanson', u'equip'], ['palakkad'], ['line', 'bug', 'road', 'area'], ['trivandram', 'kollam', 'varkkala', 'maruti'], ['traffic', 'area'], ['showroom', 'varaccha'], ['showroom', 'varaccha'], ['patna'], [u'insid', 'showroom', 'patna', 'road', 'saguna'], ['road'], [u'insid'], ['workshop', 'way'], ['work', u'qualiti'], [u'citi'], [u'arrang', 'area'], [u'commit'], ['shirrai'], ['mahalaxmi'], [u'insid'], ['rey', u'insid', 'green', 'landmark', 'road', 'cotton'], [u'citi'], [u'citi', 'drop'], [u'nearbi'], ['hosur'], ['dharamapuri'], [u'charg'], ['naka', 'toll'], [u'bangalor', u'charg'], ['hosur', u'charg'], ['area'], ['noida'], ['hill'], ['harsha'], ['guiney'], ['marthandam'], ['diesel', u'wast'], ['sector', u'distanc', 'area', 'marathi', 'hindi', u'outsid', 'showroom'], [u'citi'], [u'citi', u'comfort'], ['thane', u'ghodbund'], ['line'], ['thane', u'waggl', 'space'], ['traffic'], ['line'], [u'improv'], ['madhuban'], ['khar', u'travel'], [u'industri', 'area'], ['person', u'insid', 'one'], [u'roadsid'], [u'insid', 'road'], ['jogeshwari'], [u'station'], ['jogeshwari', u'parl', 'andheri'], [u'thing', 'phone'], ['margaon'], ['front', u'premis', u'develop'], ['way', u'road'], ['bhandup'], ['road', 'highway'], [u'villag', u'outsid'], [u'citi'], ['nandurbar'], [u'stay'], [u'distanc'], ['town'], [u'hous'], ['darbhanga', 'bhagalpur', 'purniya'], ['patna'], ['showroom'], ['mardhgao', 'vairna'], ['bit'], [u'posit', 'mardhgao'], [u'sourc', u'somebodi'], ['brand', u'sourc'], [u'even'], [u'sourc', 'workload', 'view', u'someth', 'point'], ['throughput'], ['millennium'], ['malad'], ['millennium'], ['kandivali', 'borivali'], [u'advantag'], ['anandpur', 'ropar'], ['space'], ['gummidipoondi'], ['thing'], ['use'], [u'workshop', 'wheeler', 'work'], ['workshop', 'maruti', 'area'], [u'distanc', 'aravali'], ['workshop'], ['highway'], ['pickup', 'pick'], [u'improv'], ['chenampet', u'citi'], ['thampuram', 'thuraipakkam', u'guid'], ['tumkur', 'road'], ['mumbai'], ['mumbai'], [u'bridg'], [u'bridg'], [u'bridg', u'govern'], [u'distanc', u'sale', 'record', 'amravati', 'part', 'bhandara'], ['chandpur', 'varadha', 'traffic'], [u'kamate'], [u'frontag', u'park', 'area'], [u'appoint', u'increas', u'coloni', 'space'], [u'meter', 'highway'], ['self', 'highway'], [u'danger'], ['turn', u'safeti'], [u'improv', 'highway'], [u'improv', u'frontag'], [u'accid', 'traffic'], ['god', 'bichnoli', 'showroom', 'district'], ['dvaraka'], ['chalakkudi', 'book', 'option'], ['option'], [u'deliveri', 'irinjalakuda', 'trishul', 'district'], [u'distanc'], ['ernakulum'], ['mavelikkara'], [u'hing', 'midc'], [u'citi'], ['nagpur'], [u'citi', u'insid'], ['wade', 'road'], ['ect'], ['showroom', 'alapuz'], ['alapuz'], [u'lavat'], ['kochi'], ['sharayu'], ['goa'], [u'exchang', u'resid', 'south'], ['area'], ['area', 'compound']]\n"
     ]
    }
   ],
   "source": [
    "\n",
    "def rule_q1(sen, ne, location_words):\n",
    "    clean_ne = list(set(ne))\n",
    "#     remove_words = [\"improv\", \"custom\", \"servic\", \"peopl\",\"person\",\"facil\",\"avail\",\"good\",\\\n",
    "#                     \"center\",\"centr\",\"car\", \"dealership\", \"vehicl\", \"toyota\", \"problem\",\"work\", \"much\",\\\n",
    "#                    \"thing\", \"possibl\",\"need\"]   #stemmed\n",
    "    remove_words = ['dealership','locat', 'servic', 'center','km','car','place', 'custom', 'toyota', \\\n",
    "                    'facil','time', 'problem', 'centr','home', 'side','vehicl','peopl', 'lot', 'compani',\\\n",
    "                   'day',]\n",
    "    clean_ne = [word for word in clean_ne if word not in remove_words]\n",
    "    \n",
    "    save_words = [\"pick\", 'pickup', 'drop', 'insid','outsid'] + location_words  #stemmed\n",
    "    clean_ne = clean_ne + [stemmer.stem(word) for word in sen.split() if stemmer.stem(word) in save_words]\n",
    "    \n",
    "    # rules to merge keywords:\n",
    "    if 'out side' in sen:\n",
    "        clean_ne.append('outside')\n",
    "    if 'pickup' in clean_ne:\n",
    "        clean_ne[clean_ne.index('pickup')] = 'pick'\n",
    "        \n",
    "    clean_ne = list(set(clean_ne))\n",
    "    return clean_ne\n",
    "\n",
    "\n",
    "def process_corpus(x1, pos_tags, general_stop, location_words):\n",
    "    # split three categories: 1 no improvemnt 2 with noun 3 others\n",
    "    doc_noimprove = []\n",
    "    doc_nn = []\n",
    "    nn_extracted = []\n",
    "    doc_other = []\n",
    "    for x in x1:\n",
    "        if 'no improvement' in x:\n",
    "            doc_noimprove.append(x)\n",
    "        else:\n",
    "                nn_list = []\n",
    "                sen = x\n",
    "                pos_new = nltk.pos_tag(nltk.word_tokenize(sen))\n",
    "                for token in pos_new:\n",
    "                    if token[1] in pos_tags and not token[0] in general_stop:\n",
    "                        nn_list.append(token[0])\n",
    "                #stemming\n",
    "                for counter,word in enumerate(nn_list):\n",
    "                    nn_list[counter] = stemmer.stem(word)\n",
    "                #apply rule\n",
    "                nn_list = rule_q1(sen, nn_list, location_words)\n",
    "                    \n",
    "                if nn_list != []:\n",
    "                    nn_extracted.append(nn_list)\n",
    "                    doc_nn.append(sen)\n",
    "                else:\n",
    "                    doc_other.append(sen)\n",
    "    return doc_noimprove, [doc_nn, nn_extracted], doc_other\n",
    "        \n",
    "nn_corpus = []\n",
    "\n",
    "# English stop words lists\n",
    "stop_words = stopwords.words('english')\n",
    "punctuation_list = [unicode(i) for i in string.punctuation]\n",
    "for punctuation in punctuation_list:\n",
    "    stop_words.append(punctuation)\n",
    "\n",
    "pos_tags = ['NN', 'NNS']\n",
    "                  \n",
    "doc1, doc2, doc3 = process_corpus(content_new, pos_tags, stop_words, location_words)\n",
    "\n",
    "doc_nn, nn_extracted = doc2[0], doc2[1]\n",
    "print 'signle sentence with nn', len(doc_nn)\n",
    "print 'no comments', len(doc1)\n",
    "print 'single sentence without nn', len(doc3)\n",
    "print nn_extracted"
   ]
  },
  {
   "cell_type": "code",
   "execution_count": 10,
   "metadata": {},
   "outputs": [
    {
     "name": "stdout",
     "output_type": "stream",
     "text": [
      "Counter({u'citi': 234, 'area': 148, 'road': 97, 'drop': 61, 'showroom': 54, u'insid': 53, 'pick': 43, 'town': 42, 'highway': 39, u'outsid': 35, 'traffic': 30, u'bu': 29, 'way': 25, u'distanc': 22, u'henc': 19, 'space': 18, u'charg': 17, 'work': 16, u'villag': 15, u'issu': 15, u'transport': 15, u'hous': 14, u'improv': 14, u'kilomet': 13, u'thing': 13, 'shop': 13, 'toll': 11, u'offic': 11, 'food': 11, 'need': 11, 'stop': 11, u'conveni': 10, u'part': 10, 'pickup': 10, 'board': 10, u'branch': 10, u'park': 9, u'arrang': 9, u'staff': 9, 'water': 8, u'bypass': 8, 'auto': 8, 'workshop': 8, u'driver': 8, 'bit': 8, 'canteen': 8, u'hour': 7, 'person': 7, u'govern': 6, 'market': 6, 'tax': 6, u'number': 6, 'front': 6, 'district': 6, u'noth': 6, u'increas': 6, 'maruti': 6, 'dealer': 6, 'patna': 6, u'roadsid': 5, u'sourc': 5, 'tea': 5, 'airport': 5, u'chang': 5, 'outer': 5, u'someth': 5, 'hyundai': 5, 'station': 5, 'sale': 5, u'local': 5, 'outlet': 5, u'morn': 5, 'rajendra': 5, u'everyth': 5, u'resid': 5, u'condit': 5, u'deliveri': 5, u'line': 5, 'e': 5, 'sector': 4, 'room': 4, 'help': 4, 'one': 4, 'infinium': 4, u'construct': 4, 'option': 4, 'honda': 4, 'outside': 4, u'bridg': 4, u'bodi': 4, 'naka': 4, u'coffe': 4, 'taxi': 4, 'rush': 4, 'rs': 4, 'lanson': 3, 'katiar': 3, 'borivali': 3, 'sunday': 3, 'gate': 3, u'erod': 3, 'kollam': 3, 'thane': 3, 'lunch': 3, 'mansarovar': 3, u'anyth': 3, u'connect': 3, u'safeti': 3, 'goa': 3, u'difficulti': 3, 'turn': 3, u'qualiti': 3, 'nashik': 3, 'labour': 3, 'price': 3, 'show': 3, 'corner': 3, u'snack': 3, 'dust': 3, 'mud': 3, 'etc': 3, 'bill': 3, u'restaur': 3, 'innova': 3, 'kolhapur': 3, u'everyon': 3, u'other': 3, 'head': 3, u'hr': 3, u'wast': 3, u'book': 3, 'mehsana': 2, u'middl': 2, 'hosur': 2, 'millennium': 2, 'risk': 2, 'mardhgao': 2, 'month': 2, 'kanyakumari': 2, 'flyover': 2, 'mumbai': 2, 'harsha': 2, u'even': 2, u'wait': 2, 'boy': 2, 'metro': 2, 'danger': 2, 'call': 2, 'type': 2, 'train': 2, 'jogeshwari': 2, u'hole': 2, 'ahmedabad': 2, u'agenc': 2, 'sit': 2, u'travel': 2, 'comfort': 2, 'irangalakuda': 2, u'secur': 2, 'talk': 2, u'meter': 2, 'better': 2, u'frontag': 2, u'somebodi': 2, 'compound': 2, 'profit': 2, 'dsk': 2, 'reason': 2, 'pune': 2, 'g': 2, 'midc': 2, 'bhandup': 2, u'rang': 2, 'feel': 2, u'wash': 2, 'owner': 2, 'asansol': 2, 'paint': 2, u'circl': 2, 'hotel': 2, u'nobodi': 2, 'sellum': 2, u'posit': 2, u'provis': 2, 'kattappana': 2, 'kundapura': 2, 'shillong': 2, 'camp': 2, u'clean': 2, 'away': 2, 'satan': 2, 'reveal': 2, u'entranc': 2, u'rupe': 2, 'point': 2, 'morvi': 2, 'come': 2, 'hindi': 2, 'chattarpur': 2, 'nagercoil': 2, 'amana': 2, 'wheeler': 2, 'site': 2, 'return': 2, 'amount': 2, u'someon': 2, 'hand': 2, 'tolnaka': 2, u'nagor': 2, 'nandurbar': 2, u'entri': 2, u'expens': 2, 'half': 2, 'cut': 2, u'complaint': 2, u'manag': 2, 'toal': 2, 'unit': 2, 'varaccha': 2, u'industri': 2, 'guard': 2, u'premis': 2, 'brand': 2, u'troubl': 2, u'kilometr': 2, 'proper': 2, 'ship': 2, 'alapuz': 2, 'worker': 2, u'appoint': 2, 'land': 2, u'emerg': 2, 'diesel': 1, 'rod': 1, 'ladyar': 1, 'anand': 1, 'guwahati': 1, u'chair': 1, u'abid': 1, u'zone': 1, 'kondava': 1, 'tv': 1, 'ramanathapuram': 1, 'maphasa': 1, 'wardha': 1, u'bike': 1, 'kanchipuram': 1, u'ghodbund': 1, 'dhule': 1, 'sound': 1, u'congest': 1, 'dessert': 1, 'gind': 1, 'vihar': 1, 'amravati': 1, 'level': 1, 'harbor': 1, u'1day': 1, 'bilaspur': 1, 'fogg': 1, 'chakan': 1, 'mahalaxmi': 1, 'kasaragod': 1, u'poonamalle': 1, u'direct': 1, 'sign': 1, 'burger': 1, 'medinipur': 1, u'navig': 1, 'marathi': 1, u'access': 1, u'thallacherri': 1, 'aravali': 1, 'bokaro': 1, u'lodg': 1, u'let': 1, u'address': 1, 'path': 1, 'bichnoli': 1, u'valu': 1, 'box': 1, 'dharamapuri': 1, 'trivandram': 1, 'jaipur': 1, 'outskirt': 1, 'trial': 1, 'ect': 1, 'throughput': 1, 'koduvila': 1, 'opinion': 1, 'bhandara': 1, u'chanc': 1, 'akola': 1, u'cuddalor': 1, 'kotmor': 1, 'kharghar': 1, 'navratri': 1, u'attitud': 1, 'motor': 1, 'mobil': 1, 'use': 1, 'dvaraka': 1, 'reclean': 1, 'visit': 1, 'allunga': 1, u'live': 1, u'kucheeri': 1, 'trishul': 1, u'capit': 1, 'diamond': 1, 'door': 1, 'malad': 1, u'glass': 1, 'sinhgad': 1, 'palampur': 1, u'accid': 1, u'word': 1, 'ravindra': 1, 'suber': 1, 'mp': 1, 'pathanamthitta': 1, u'cab': 1, u'purpos': 1, 'root': 1, 'satpur': 1, u'employe': 1, u'talasori': 1, 'give': 1, u'process': 1, 'yashavanthpura': 1, u'indic': 1, 'ernakulum': 1, 'want': 1, 'sir': 1, 'winter': 1, 'kaunur': 1, u'polic': 1, 'till': 1, 'naroda': 1, 'map': 1, 'pitampura': 1, 'marthandam': 1, 'ropar': 1, u'attent': 1, u'commit': 1, 'banglor': 1, 'purniya': 1, 'taratala': 1, 'man': 1, u'coat': 1, 'mhapsa': 1, 'mango': 1, 'green': 1, 'south': 1, 'mayapuri': 1, 'paan': 1, 'thuraipakkam': 1, 'allahabad': 1, u'namak': 1, 'approx': 1, u'move': 1, u'cross': 1, 'margaon': 1, u'equip': 1, 'labor': 1, u'carri': 1, u'farmer': 1, 'junagadh': 1, 'clamor': 1, u'holiday': 1, u'sattelit': 1, 'good': 1, 'junction': 1, 'rohini': 1, 'itanagar': 1, u'koduv': 1, 'break': 1, 'rudrapur': 1, 'kekari': 1, 'workload': 1, 'name': 1, 'singur': 1, 'token': 1, 'bhagalpur': 1, 'sharayu': 1, 'surat': 1, 'quarter': 1, u'chowdhuri': 1, 'margay': 1, 'kolara': 1, 'dearship': 1, 'vijayanagar': 1, 'havalahalii': 1, 'jamuria': 1, 'vishakhapatnam': 1, 'rey': 1, 'god': 1, 'kuddapah': 1, u'drink': 1, u'advanc': 1, u'situat': 1, 'gaon': 1, u'morbe': 1, u'afterward': 1, u'sunshin': 1, 'mahindra': 1, 'sardarpura': 1, 'kunj': 1, 'varkkala': 1, 'bhivadi': 1, 'purniar': 1, 'manger': 1, 'kanpur': 1, u'exchang': 1, 'dehradun': 1, u'instruct': 1, 'array': 1, u'brocad': 1, u'open': 1, 'britannia': 1, 'mavelikkara': 1, u'circu': 1, 'summit': 1, 'sachet': 1, 'season': 1, 'rickshaw': 1, 'kurla': 1, 'shirur': 1, 'kolar': 1, 'grace': 1, 'b': 1, u'shill': 1, 'patialo': 1, 'shilphata': 1, u'minut': 1, u'kozhilcod': 1, 'counter': 1, 'narola': 1, 'andheri': 1, 'yelhanka': 1, 'saguna': 1, u'deliv': 1, u'properli': 1, 'vairna': 1, u'padpadgan': 1, 'tiruppur': 1, 'min': 1, 'self': 1, 'vadodara': 1, 'take': 1, 'nagger': 1, 'navsari': 1, u'parl': 1, u'shade': 1, 'samana': 1, 'reach': 1, 'aundh': 1, 'koikor': 1, 'varacha': 1, 'chowrasta': 1, u'segment': 1, 'jaam': 1, 'chauhan': 1, 'madgaon': 1, 'nabha': 1, 'malappuram': 1, 'face': 1, 'cobra': 1, 'bosari': 1, u'kamate': 1, 'etawah': 1, 'session': 1, 'madhgaon': 1, u'permiss': 1, 'nalagarh': 1, 'dhanbad': 1, u'thamarasseri': 1, 'durgapur': 1, 'guiney': 1, u'solut': 1, 'hingewadi': 1, u'busi': 1, u'duranc': 1, 'chenampet': 1, 'loaction': 1, u'buse': 1, 'plate': 1, 'mgf': 1, u'pocket': 1, u'mainten': 1, 'batter': 1, 'cushion': 1, 'ananda': 1, 'batala': 1, 'darbhanga': 1, u'sunni': 1, 'udhampur': 1, u'cleanli': 1, 'taluka': 1, 'tuner': 1, 'vision': 1, 'view': 1, u'respond': 1, 'nut': 1, 'irinjalakuda': 1, 'thodupuzha': 1, 'panipat': 1, 'shirrai': 1, u'close': 1, u'bangalor': 1, u'particl': 1, 'sonipat': 1, 'closer': 1, u'inconveni': 1, u'progress': 1, 'bhubaneshwar': 1, 'madhuban': 1, u'cycl': 1, 'spare': 1, 'naamkum': 1, 'swift': 1, 'kochi': 1, u'popul': 1, 'compton': 1, 'ramp': 1, u'pottam': 1, 'baitul': 1, 'item': 1, 'baitun': 1, 'mani': 1, 'heart': 1, 'load': 1, 'chalakkudi': 1, 'loan': 1, u'suppli': 1, u'kollwal': 1, u'coloni': 1, u'damag': 1, 'anandpur': 1, 'nagaon': 1, 'due': 1, 'mark': 1, 'tamarsheri': 1, 'bhubaneswar': 1, 'life': 1, 'palakkad': 1, 'meghalaya': 1, u'rubi': 1, u'poonamal': 1, 'gap': 1, 'hadapsur': 1, 'eroad': 1, 'case': 1, 'colaba': 1, 'thirvaluvar': 1, u'advantag': 1, 'panchshil': 1, 'thampuram': 1, u'nearbi': 1, 'dealerdhip': 1, u'tirunelv': 1, 'jargon': 1, u'develop': 1, 'pay': 1, 'make': 1, 'thiravalla': 1, 'member': 1, 'teribram': 1, u'behav': 1, 'week': 1, 'nh': 1, 'bomvaom': 1, 'oil': 1, 'howrah': 1, u'futil': 1, 'adimali': 1, 'chandpur': 1, u'colour': 1, 'usmanabad': 1, 'nagpur': 1, 'gummidipoondi': 1, u'inconvi': 1, u'client': 1, 'landmark': 1, 'worli': 1, 'summer': 1, 'money': 1, 'sivagangai': 1, 'nizampet': 1, 'touch': 1, 'idukki': 1, 'rest': 1, 'siddhartha': 1, 'yashavanthapura': 1, 'borad': 1, u'pondicherri': 1, u'hing': 1, 'east': 1, 'noida': 1, u'read': 1, 'delhi': 1, u'ladi': 1, 'gadh': 1, 'mod': 1, 'shamshbad': 1, 'kadalur': 1, u'thalaseeri': 1, u'collect': 1, 'annamalai': 1, 'morena': 1, 'kalitala': 1, 'crowd': 1, 'nagar': 1, 'bongaigaon': 1, 'pali': 1, 'pala': 1, 'thier': 1, u'guid': 1, 'pioneer': 1, 'virar': 1, u'machin': 1, u'garbag': 1, 'bardhhaman': 1, u'colleg': 1, 'daruheda': 1, 'tumkur': 1, 'kottamanglam': 1, 'pathankot': 1, 'albet': 1, 'plaza': 1, u'waggl': 1, u'surround': 1, 'stand': 1, 'panthalam': 1, u'hadups': 1, 'checkup': 1, 'repair': 1, 'bodhguya': 1, 'ola': 1, 'garb': 1, u'lavat': 1, u'warranti': 1, 'weather': 1, 'daud': 1, 'wade': 1, 'bombay': 1, 'pitopur': 1, 'sunlight': 1, u'bhusav': 1, 'hill': 1, 'vengara': 1, 'forward': 1, 'aara': 1, 'suzuki': 1, 'buy': 1, 'rajkot': 1, u'ekkattuthang': 1, 'khar': 1, 'dule': 1, 'madhur': 1, 'tamilnadu': 1, 'eragipalam': 1, 'bug': 1, 'wagholi': 1, 'viva': 1, 'wise': 1, u'dirti': 1, 'uludhumalaipettai': 1, 'record': 1, 'chidambaram': 1, 'pm': 1, 'uber': 1, u'creat': 1, 'kandivali': 1, u'ghodband': 1, 'year': 1, 'drive': 1, u'hospit': 1, 'check': 1, 'cotton': 1, 'kushaiguda': 1, u'guidanc': 1, 'anaamalai': 1, u'raini': 1, 'test': 1, 'panchayat': 1, 'dwarka': 1, 'jodhpur': 1, 'monday': 1, 'symbol': 1, u'stay': 1, 'varadha': 1, 'phone': 1, u'jubilihil': 1, 'ushmanabad': 1})\n"
     ]
    }
   ],
   "source": [
    "\n",
    "df = df_count(nn_extracted)\n",
    "print df"
   ]
  },
  {
   "cell_type": "markdown",
   "metadata": {},
   "source": [
    "# Decide category for each comment"
   ]
  },
  {
   "cell_type": "code",
   "execution_count": 11,
   "metadata": {
    "collapsed": true,
    "scrolled": false
   },
   "outputs": [],
   "source": [
    "# import heapq\n",
    "# import os\n",
    "# def filter_rule_q1(doc, xth, test_corpus, original_corpus = doc_nn):\n",
    "#     apply_rule = False\n",
    "#     # print original_corpus[xth]\n",
    "#     # rules (priority from high to low)\n",
    "#     if 'app' in doc:\n",
    "#         test_corpus[xth] = ['app']\n",
    "#         print \"rule_app applied\"\n",
    "#         apply_rule = True\n",
    "#     elif 'without_appointment' in doc:\n",
    "#         test_corpus[xth] = ['without_appointment']\n",
    "#         print \"rule_without_appointment applied\"\n",
    "#         apply_rule = True\n",
    "        \n",
    "#     return apply_rule\n",
    "    \n",
    "# def filter_ne(test_corpus, df):  # assuming each review contain one aspect\n",
    "#     for xth, doc in enumerate(test_corpus):\n",
    "#         if len(doc)>1:\n",
    "#             apply_rule = filter_rule_q1(doc, xth, test_corpus)\n",
    "#             if not apply_rule:\n",
    "#                 df_words = [df[word] for word in doc]\n",
    "#                 idx =  heapq.nlargest(1, xrange(len(df_words)), key=df_words.__getitem__)\n",
    "#                 test_corpus[xth] = [doc[ith] for ith in idx]\n",
    "#     return test_corpus\n",
    "\n",
    "# nn_clean = filter_ne(nn_extracted, df)\n",
    "# df = df_count(nn_clean)\n",
    "# dict_map = dict(df.most_common())\n",
    "# print df\n",
    "\n",
    "# def write_file(corpus, idx_list, word):\n",
    "#     if not os.path.isdir(\"cluster/%s\" %word):\n",
    "#             os.mkdir(\"cluster/%s\" %word)\n",
    "#     f1 = open('cluster/%s/%s_comment.txt' % (word, word), 'w+')\n",
    "#     for idx in idx_list:\n",
    "#         f1.write('%s\\n' %corpus[idx])\n",
    "#     f1.close()\n",
    "    \n",
    "    \n",
    "# def main_category(df_list, nn_clean, corpus):\n",
    "#     if (not os.path.isdir(\"cluster\")):\n",
    "#         os.mkdir(\"cluster\")\n",
    "#     name_list = {}\n",
    "#     clustered_index = []\n",
    "#     major_list = [word for word in df_list if df_list[word]>2]\n",
    "#     print \"majot list:\\n\", major_list\n",
    "#     for word in major_list:\n",
    "#         idx_set = []\n",
    "#         for idx, doc in enumerate(nn_clean):\n",
    "#             if word in doc:\n",
    "#                 idx_set.append(idx)\n",
    "#         write_file(doc_nn, idx_set, word)\n",
    "#         name_list[word] = idx_set\n",
    "#         clustered_index = clustered_index + idx_set\n",
    "#     clustered_index = set(clustered_index)\n",
    "#     unclustered_index = list(set(range(len(nn_clean))) - clustered_index)\n",
    "#     name_list['others'] = unclustered_index\n",
    "#     write_file(doc_nn, unclustered_index, 'others')\n",
    "#     return name_list\n",
    "\n",
    "# name_list = main_category(dict_map, nn_clean,doc_nn)\n",
    "# # print name_list['call']"
   ]
  },
  {
   "cell_type": "markdown",
   "metadata": {
    "collapsed": true
   },
   "source": [
    "## clustering using LSI"
   ]
  },
  {
   "cell_type": "code",
   "execution_count": 12,
   "metadata": {},
   "outputs": [
    {
     "name": "stderr",
     "output_type": "stream",
     "text": [
      "Using TensorFlow backend.\n"
     ]
    }
   ],
   "source": [
    "from gensim import corpora\n",
    "from gensim.models import TfidfModel\n",
    "from gensim.models import LsiModel\n",
    "from gensim.similarities import MatrixSimilarity\n",
    "from sklearn.metrics.pairwise import cosine_similarity\n",
    "\n",
    "dictionary = corpora.Dictionary(nn_extracted)\n",
    "corpus_gensim = [dictionary.doc2bow(doc) for doc in nn_extracted]\n",
    "tfidf = TfidfModel(corpus_gensim)\n",
    "corpus_tfidf = tfidf[corpus_gensim]\n",
    "lsi = LsiModel(corpus_tfidf, id2word=dictionary, num_topics=100)\n",
    "lsi_proj = lsi[corpus_tfidf]\n",
    "lsi_index = MatrixSimilarity(lsi[corpus_tfidf])\n",
    "similarity_matrix = np.array([lsi_index[lsi[corpus_tfidf[i]]]\n",
    "                                for i in range(len(nn_extracted))])\n"
   ]
  },
  {
   "cell_type": "code",
   "execution_count": 13,
   "metadata": {},
   "outputs": [
    {
     "name": "stdout",
     "output_type": "stream",
     "text": [
      "[[  1.00000000e+00   1.11391917e-02  -3.11717833e-03 ...,   9.24258977e-02\n",
      "    2.50012660e-03  -4.14082743e-02]\n",
      " [  1.11391898e-02   1.00000000e+00   9.89447773e-01 ...,  -3.57378391e-03\n",
      "   -5.34445047e-04   3.94051149e-03]\n",
      " [ -3.11717810e-03   9.89447713e-01   1.00000012e+00 ...,   1.38030387e-03\n",
      "    7.84471631e-05  -1.88279152e-03]\n",
      " ..., \n",
      " [  9.24258903e-02  -3.57378367e-03   1.38030387e-03 ...,   1.00000000e+00\n",
      "   -3.40678744e-05   1.39136054e-02]\n",
      " [  2.50012637e-03  -5.34452498e-04   7.84397125e-05 ...,  -3.40678453e-05\n",
      "    1.00000012e+00   8.19447339e-01]\n",
      " [ -4.14082780e-02   3.94051149e-03  -1.88279897e-03 ...,   1.39136016e-02\n",
      "    8.19447339e-01   9.99999940e-01]]\n",
      "[[ 1.          0.5055696   0.49844141 ...,  0.54621295  0.50125006\n",
      "   0.47929586]\n",
      " [ 0.50556959  1.          0.99472389 ...,  0.49821311  0.49973278\n",
      "   0.50197026]\n",
      " [ 0.49844141  0.99472386  1.00000006 ...,  0.50069015  0.50003922\n",
      "   0.4990586 ]\n",
      " ..., \n",
      " [ 0.54621295  0.49821311  0.50069015 ...,  1.          0.49998297\n",
      "   0.5069568 ]\n",
      " [ 0.50125006  0.49973277  0.50003922 ...,  0.49998297  1.00000006\n",
      "   0.90972367]\n",
      " [ 0.47929586  0.50197026  0.4990586  ...,  0.5069568   0.90972367\n",
      "   0.99999997]]\n"
     ]
    }
   ],
   "source": [
    "print similarity_matrix\n",
    "\n",
    "def f(x):\n",
    "    return (x+1)/2\n",
    "f = np.vectorize(f, otypes=[np.float])\n",
    "similarity_matrix = f(similarity_matrix)     # convert similarity_matrix from -1~1 to 0~1\n",
    "print similarity_matrix"
   ]
  },
  {
   "cell_type": "code",
   "execution_count": 14,
   "metadata": {},
   "outputs": [
    {
     "name": "stdout",
     "output_type": "stream",
     "text": [
      "Estimated number of clusters: 10\n",
      "1290\n",
      "clusters written to folder: cluster_q6\n"
     ]
    }
   ],
   "source": [
    "from sklearn.cluster import SpectralClustering\n",
    "import os\n",
    "\n",
    "n_clusters_ = 10\n",
    "sc = SpectralClustering(n_clusters=n_clusters_, affinity='precomputed').fit(similarity_matrix)\n",
    "labels = sc.labels_\n",
    "print('Estimated number of clusters: %d' % n_clusters_)\n",
    "print len(labels)\n",
    "\n",
    "def write_file(n_clusters_, labels, doc_nn, nn_extracted):\n",
    "    if (not os.path.isdir(\"cluster_%s\" %question_class)):\n",
    "        os.mkdir(\"cluster_%s\" %question_class)\n",
    "    for indice_cluster in range(n_clusters_):\n",
    "        # print indice_cluster\n",
    "        idx_list = np.where(labels == indice_cluster)[0]\n",
    "        f1 = open('cluster_%s/%dth_cluster.txt' % (question_class, indice_cluster), 'w+')\n",
    "        for idx in idx_list:\n",
    "            f1.write('%s %s\\n' % (doc_nn[idx], nn_extracted[idx]))\n",
    "    f1.close()\n",
    "    print(\"clusters written to folder: cluster_%s\" %question_class)\n",
    "    \n",
    "write_file(n_clusters_, labels, doc_nn, nn_extracted)"
   ]
  }
 ],
 "metadata": {
  "kernelspec": {
   "display_name": "python2_pf",
   "language": "python",
   "name": "python2_pf"
  },
  "language_info": {
   "codemirror_mode": {
    "name": "ipython",
    "version": 2
   },
   "file_extension": ".py",
   "mimetype": "text/x-python",
   "name": "python",
   "nbconvert_exporter": "python",
   "pygments_lexer": "ipython2",
   "version": "2.7.13"
  }
 },
 "nbformat": 4,
 "nbformat_minor": 2
}
