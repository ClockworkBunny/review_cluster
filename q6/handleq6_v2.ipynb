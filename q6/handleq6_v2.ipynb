{
 "cells": [
  {
   "cell_type": "code",
   "execution_count": 1,
   "metadata": {
    "collapsed": true
   },
   "outputs": [],
   "source": [
    "import numpy as np\n",
    "import cPickle\n",
    "import nltk\n",
    "from nltk.corpus import stopwords\n",
    "from collections import Counter\n",
    "from sklearn.metrics.pairwise import pairwise_distances\n",
    "import itertools\n",
    "import string\n",
    "from nltk.tokenize import sent_tokenize\n",
    "from nltk.stem.porter import *\n",
    "from nltk.tag import StanfordNERTagger\n",
    "from collections import Counter\n",
    "import sys\n",
    "import os\n",
    "#import pyemd\n",
    "#loading word embeddings\n",
    "#wv = KeyedVectors.load_word2vec_format(\"../w2v/w2vemb.bin\", binary=True)"
   ]
  },
  {
   "cell_type": "markdown",
   "metadata": {},
   "source": [
    "# Visualize functions"
   ]
  },
  {
   "cell_type": "code",
   "execution_count": 2,
   "metadata": {
    "collapsed": true
   },
   "outputs": [],
   "source": [
    "def write_clusters(n_clusters_, labels, corpus, mapping_dict, test_corpus):\n",
    "    for indice_cluster in range(n_clusters_):\n",
    "        # print indice_cluster\n",
    "        idx_list = np.where(labels == indice_cluster)[0]\n",
    "        f1 = open('cluster_%s/%dth_cluster.txt' % (question_class, indice_cluster), 'w+')\n",
    "        for idx in idx_list:\n",
    "            f1.write('%s %s\\n' % (corpus[mapping_dict[idx] - 1], test_corpus[idx]))\n",
    "    f1.close()\n",
    "\n",
    "\n",
    "def write_ne(nes, question_class, mapping_dict):\n",
    "    f1 = open('ne_%s.txt' % question_class, 'w+')\n",
    "    for idx, doc in enumerate(nes):\n",
    "        f1.write('%s %s\\n' % (mapping_dict[idx], ' '.join(doc)))\n",
    "    f1.close()    \n",
    "\n",
    "def wmd_compute(x1, x2):\n",
    "    return wv.wmdistance(x1, x2)\n",
    "\n",
    "def analyze_cluster(n_clusters_, labels, corpus, mapping_dict, test_corpus, filename):\n",
    "    num = 0\n",
    "    other_content = []\n",
    "    for indice_cluster in range(n_clusters_):\n",
    "        idx_list = np.where(labels == indice_cluster)[0]\n",
    "        if len(idx_list) > 4:\n",
    "            f1 = open('%s_%s/%dth_cluster.txt' % (filename, question_class, indice_cluster), 'w+')\n",
    "            for idx in idx_list:\n",
    "                f1.write('%s %s\\n' % (corpus[mapping_dict[idx] - 1], test_corpus[idx]))\n",
    "            f1.close()\n",
    "        if len(idx_list) < 4:\n",
    "            num = num + len(idx_list)\n",
    "            for idx in idx_list:\n",
    "                other_content.append(corpus[mapping_dict[idx] - 1])\n",
    "    f1 = open('%s_%s/other_cluster.txt' % (filename, question_class), 'w+')\n",
    "    for doc in other_content:\n",
    "        f1.write('%s\\n' % doc)\n",
    "    f1.close()\n",
    "    print num\n",
    "\n",
    "def analyse_location(content):\n",
    "    st = StanfordNERTagger('/data2/Stanford_tools/stanford-ner-2017-06-09/classifiers/english.all.3class.distsim.crf.ser.gz',\n",
    "                       '/data2/Stanford_tools/stanford-ner-2017-06-09/stanford-ner.jar',  encoding='utf-8')\n",
    "    location_words = []\n",
    "    print \"Analyzing Location words, this may take a while...\"\n",
    "    i = 1\n",
    "    for sen in content:\n",
    "        tokenized_text = nltk.word_tokenize(sen)\n",
    "        classified_text = st.tag(tokenized_text)\n",
    "        for word in classified_text:\n",
    "            if word[1] == 'LOCATION':\n",
    "                location_words.append(word[0])\n",
    "        sys.stdout.write(\"\\r\" + \"%d/%d\\r\" %(i,len(content)))\n",
    "        sys.stdout.flush()\n",
    "        i+=1\n",
    "    location_freq = Counter(location_words)\n",
    "    print location_freq\n",
    "    return location_freq\n",
    "# location_words =  location_freq.most_common(64):\n",
    "#[(u'Nagpur', 21), (u'Nagercoil', 14), (u'Tirunelveli', 14), (u'Surat', 13), (u'Jamnagar', 12), (u'Kolhapur', 12), (u'Patna', 11), (u'Road', 11), (u'Pondicherry', 10), (u'Noida', 9), (u'Jaipur', 9), (u'Bhuj', 9), (u'Pune', 8), (u'Lucknow', 8), (u'Madurai', 8), (u'Palakkad', 8), (u'Jabalpur', 8), (u'Ahmedabad', 7), (u'Gandhinagar', 7), (u'Kanyakumari', 7), (u'Karad', 7), (u'Raipur', 7), (u'Satara', 6), (u'Delhi', 6), (u'city', 6), (u'Aurangabad', 6), (u'Bhubaneswar', 6), (u'Lanson', 6), (u'Salem', 6), (u'Chennai', 5), (u'Navsari', 5), (u'&', 5), (u'Kerala', 5), (u'Dehradun', 5), (u'Varchha', 5), (u'Shillong', 5), (u'Nashik', 5), (u'Guwahati', 5), (u'Gandhi', 5), (u'Ajmer', 5), (u'City', 5), (u'MIDC', 5), (u'Coimbatore', 5), (u'Mumbai', 5), (u'Rourkela', 4), (u'Kanpur', 4), (u'Dibrugarh', 4), (u'Kozhikode', 4), (u'Udaipur', 4), (u'Vasai', 4), (u'Palghar', 4), (u'Khandawara', 4), (u'Andheri', 4), (u'Dealership', 4), (u'Jodhpur', 4), (u'Bangalore', 4), (u'Gandhidham', 4), (u'Ahmadabad', 4), (u'Dindigul', 4), (u'Nagar', 4), (u'Kolkata', 4), (u'Trichy', 4), (u'Ambikapur', 4), (u'Margaon', 4)]\n",
    "\n",
    "\n",
    "def df_count(x1):\n",
    "    text = []\n",
    "    for ab in x1:\n",
    "        text = text + ab\n",
    "    df = Counter(text)\n",
    "    return df\n",
    "\n",
    "    "
   ]
  },
  {
   "cell_type": "markdown",
   "metadata": {},
   "source": [
    "# Reading Raw text"
   ]
  },
  {
   "cell_type": "code",
   "execution_count": 3,
   "metadata": {},
   "outputs": [
    {
     "name": "stdout",
     "output_type": "stream",
     "text": [
      "length of content 1377\n"
     ]
    }
   ],
   "source": [
    "question_class = 'q6'\n",
    "fname = '..//data//%s.txt' % question_class\n",
    "with open(fname) as f:\n",
    "    content = f.readlines()\n",
    "# you may also want to remove whitespace characters like `\\n` at the end of each line\n",
    "content = [x.strip() for x in content]\n",
    "print 'length of content', len(content)\n",
    "f.close()\n",
    "\n",
    "with open('..//data//q6_original.txt') as f:\n",
    "        content_original = f.readlines()\n",
    "content_original = [x.strip() for x in content_original]\n",
    "f.close()"
   ]
  },
  {
   "cell_type": "code",
   "execution_count": 4,
   "metadata": {
    "scrolled": false
   },
   "outputs": [
    {
     "name": "stdout",
     "output_type": "stream",
     "text": [
      "length of new content 3366\n"
     ]
    }
   ],
   "source": [
    "# split to single sentences\n",
    "content_new = []\n",
    "for comment in content:\n",
    "    sents = sent_tokenize(comment)\n",
    "    if len(sents) > 1:\n",
    "        for i in range(len(sents)):\n",
    "            content_new.append(sents[i])\n",
    "    else:\n",
    "        content_new.append(comment)\n",
    "print 'length of new content', len(content_new)\n",
    "# print content_new\n",
    "    "
   ]
  },
  {
   "cell_type": "markdown",
   "metadata": {},
   "source": [
    "## Extract keywords"
   ]
  },
  {
   "cell_type": "code",
   "execution_count": 5,
   "metadata": {},
   "outputs": [
    {
     "name": "stdout",
     "output_type": "stream",
     "text": [
      "[('it', 'PRP'), ('is', 'VBZ'), ('10', 'CD'), ('kilometer', 'NN'), ('far', 'RB'), ('away', 'RB'), ('from', 'IN'), ('city', 'NN'), ('it', 'PRP'), ('should', 'MD'), ('be', 'VB'), ('nearby', 'JJ'), ('city', 'NN'), ('within', 'IN'), ('2', 'CD'), ('3', 'CD'), ('km', 'NN'), ('.', '.')]\n"
     ]
    }
   ],
   "source": [
    "pos_new = nltk.pos_tag(nltk.word_tokenize(\"it is 10 kilometer far away from city it should be nearby city within 2 3 km . \"))\n",
    "print pos_new"
   ]
  },
  {
   "cell_type": "code",
   "execution_count": 14,
   "metadata": {},
   "outputs": [
    {
     "name": "stdout",
     "output_type": "stream",
     "text": [
      "market\n"
     ]
    }
   ],
   "source": [
    "stemmer = PorterStemmer()\n",
    "print stemmer.stem(\"market\")"
   ]
  },
  {
   "cell_type": "code",
   "execution_count": 7,
   "metadata": {},
   "outputs": [
    {
     "name": "stdout",
     "output_type": "stream",
     "text": [
      "signle sentence with nn 2559\n",
      "no comments 25\n",
      "single sentence without nn 782\n",
      "[['jodhpur'], ['kolhapur'], ['panchayat', 'road'], ['road'], [u'condit', 'road'], ['district'], ['kolhapur'], ['kankavali', 'room'], ['board'], [u'issu', 'traffic'], [u'staff'], ['tv', 'etc', u'chair', 'cushion', u'wait'], ['aundh'], ['showroom'], ['km'], [u'branch'], ['mira', 'road', 'branch'], [u'staff', u'respons'], [u'distanc', 'branch'], ['km'], [u'deliveri', u'charg'], ['nagar', 'km', 'shirdi'], [u'resid'], [u'resid'], ['km'], ['shirdi', 'rahta', 'shrirampur'], [u'branch'], [u'clean'], [u'entri', 'highway', 'gate'], [u'velacheri', u'branch'], ['town', u'citi', u'distanc', u'branch'], ['traffic', 'branch'], ['shop', u'henc'], [u'citi'], [u'highway'], [u'sunshin'], ['km'], ['vasai', 'palghar', 'vashi'], ['driver', 'diesel', u'charg', 'palghar'], ['till', 'brand', 'visit', 'friend'], [u'everyon'], ['borivali'], ['sinhgad', 'road'], ['km'], ['vishakhapatnam'], ['district'], ['km'], ['haldia'], [u'hadups', 'road'], ['salem', u'branch'], [u'citi', 'km'], [u'bypass', 'road'], ['need', u'citi', 'showroom', 'outskirt', u'farmer'], ['wagholi', 'shirur'], ['km'], [u'chang', u'distanc', u'resid'], ['sundar', 'gour', 'raurkela'], ['highway'], [u'citi', 'thanjavur', 'road', u'bypass'], [u'offic'], [u'distanc'], [u'offic', u'besid'], ['road', 'point'], [u'citi', 'nashik'], [u'citi'], ['showroom'], ['sriparampattur', u'branch'], [u'park', 'road'], ['water', u'hole', 'session', u'lodg', 'road'], ['barista'], ['weather', 'fogg', 'winter', 'highway', 'board'], [u'branch'], ['howrah'], ['thirupattur', u'branch'], [u'close', u'open'], ['town'], ['district'], [u'respond'], ['taratala'], ['km'], ['hingewadi', u'km'], [u'branch'], ['sector', 'nagar'], ['district'], ['malegaon'], ['town'], ['revdegaon'], [u'villag', 'highway'], ['drop', 'srigonda', 'taluka', 'pick', 'hadapsar', 'tapasvi'], [u'citi'], [u'citi', u'insid'], ['dinajpur', 'raigunj', 'malda'], ['mud', u'road'], [u'road', u'anyth'], ['town', u'km'], [u'collect'], ['drop', u'nobodi', u'km'], ['road'], [u'citi', 'want'], ['interior'], ['road'], ['hadapsar'], [u'rickshaw', u'buse'], ['road'], [u'insid'], ['medinipur', 'junction'], ['town'], ['branch'], ['branch'], ['buy'], ['check'], [u'km'], [u'km'], [u'other', 'hyundai'], ['kerala', u'sale', u'hous'], ['rajarampuri', 'kolhapur'], [u'citi'], [u'citi', 'km'], [u'citi', u'insid'], ['shilphata'], [u'citi', u'outsid'], ['worker'], ['way'], [u'bu'], ['metro'], ['suryapet', 'khammam'], [u'insid'], [u'km'], [u'citi'], ['nashik', u'outsid'], ['nashik'], ['town', 'guwahati', u'bypass', 'hazard', u'commun'], ['karad', u'km'], [u'citi', 'dealer', u'bypass', 'corner'], ['nagpur', u'outsid'], [u'distanc', 'road', u'km'], ['hindi'], ['road', u'govern'], ['branch'], ['kanyakumari'], ['part', 'workshop'], ['bongaigaon'], ['perambattur', 'tambram', 'km'], [u'nagor'], ['dibrugarh'], ['driver'], ['tinsukia'], ['root'], [u'citi', 'km'], [u'citi', u'outsid', u'insid', 'km'], [u'colleg', 'type', 'road'], ['adimali', 'idukki', 'kattappana', 'koduvila'], ['highway', 'road'], [u'citi', u'bangalor', 'yelanka'], ['audi'], [u'km'], [u'distanc', u'km'], [u'outsid', 'showroom', 'rush', 'highway', u'provis'], ['boy', u'insid'], [u'bodi', 'shop'], [u'thing', u'citi'], [u'citi'], ['better', 'showroom'], [u'colleg', 'gangawa', 'road', 'point'], ['ship', 'dealer', 'road'], ['face'], [u'citi', u'insid'], [u'minut'], ['km'], ['show'], ['showroom', 'sadra', 'karkadoma'], [u'citi'], [u'citi'], [u'citi', 'land'], [u'citi', 'showroom'], [u'increas', u'citi', 'showroom'], ['sambalpur', 'dealer', 'point'], ['noapara', 'dealer', 'kalahandi', 'point'], [u'bu', 'stop', 'kanjipuram'], ['maniktala'], [u'distanc', 'suzuki', 'maruti'], ['space'], ['work', u'qualiti'], [u'roadsid', 'traffic', 'help'], ['cuttack', 'rourkela', 'space'], [u'issu'], ['churu', u'bikan', 'district'], ['km'], ['mani', 'nagar'], [u'improv'], ['showroom'], [u'agenc'], ['paint'], ['bhubaneshwar'], [u'citi', 'dealer'], ['rs'], [u'charg'], [u'improv'], [u'minut'], [u'citi'], ['karad'], ['karad'], ['karad', u'km'], ['road', 'highway'], [u'citi'], [u'citi'], [u'bu', 'stop', 'lanson'], [u'arrang', u'restaur', 'lunch'], [u'hotel', 'km'], ['town', 'tamiya'], ['chindwara', u'bypass', 'km'], ['parasia', 'km'], ['parasiya', 'chindawara', u'middl', 'tamiya'], ['drop', u'driver', 'pick'], ['drop', 'swift', 'pick'], [u'provis'], ['pick'], ['pick'], ['food', 'madurai', 'kampaloor'], ['road', u'govern'], ['town', 'road', u'trichi', u'bypass'], [u'charg'], ['midc', u'valu'], ['road', 'way', u'bypass'], ['km'], ['highway'], [u'bikan'], [u'citi', 'drop', 'pick'], [u'brand', 'hundai'], [u'citi'], [u'line', 'workshop'], ['traffic'], ['gandhinagar', 'ahmedabad'], ['gandhinagar', 'work'], ['ahmedabad'], [u'speaker', u'nois'], ['speaker', 'ahmedabad', 'visit'], [u'issu', 'gandhinagar'], ['satara', 'km'], ['satara'], [u'stay', 'bewar', 'jila', 'rajasthan'], ['ajmer', 'bewar'], ['hospet'], [u'distanc'], [u'otherwis', 'dealer', 'branch', u'citi'], ['km', 'gomatinagar'], ['km'], ['e'], [u'resid', u'bypass', 'km'], ['kalitala'], ['dsk'], [u'citi'], [u'issu', 'highway'], [u'citi', 'highway'], [u'hour'], ['auto', u'citi', 'period', 'km', 'rs'], [u'toward'], ['hr', u'minut', 'km'], [u'inconveni'], [u'bypass', 'highway'], ['chidawa', 'nimkathana'], ['need'], [u'hour'], [u'noth'], ['bilaspur', 'raipur', 'bilayat'], ['raipur', u'month'], [u'part', 'bilayat'], ['raipur'], ['sikandar'], [u'citi'], [u'hr'], [u'citi'], [u'citi'], ['drop', 'driver', 'pick'], [u'citi'], [u'popul'], [u'number'], [u'safeti'], ['traffic'], ['km'], [u'citi'], ['help', 'honda', 'karkala', 'mahindra', 'maruti', 'showroom'], ['take'], ['drop', 'gwalior'], ['highway', 'road'], [u'citi', u'benefit'], ['jhansi', 'road'], ['morena'], ['km'], [u'villag'], ['km'], [u'citi', 'nandurbar'], [u'citi', 'outside', 'km'], ['etawah'], [u'citi', 'highway'], ['highway'], [u'noth'], ['market', u'valu'], ['cuttack', 'esprit', 'dealer', 'point'], ['patia', 'bhubaneswar'], ['delhi'], ['km'], [u'part'], ['km', 'varanasi'], ['renukot', 'antara'], [u'anyon', u'visit'], [u'toplin'], ['rajendra', u'toplin', 'km'], ['jharkhand', u'toplin', 'bihar'], ['darghati', 'highway', 'doha'], [u'citi', u'bypass'], ['uttarakhand', 'rudrapur', 'haldwani', 'station'], ['rudrapur'], ['highway'], ['market'], [u'bu', 'km'], [u'bu', 'drop', 'stop', 'pick'], [u'citi', u'outsid'], [u'citi'], ['paan', 'road', 'sardarpura'], ['pickup', 'drop', 'pick'], ['help', u'tumbthakatt'], ['need'], [u'bu'], [u'bu', 'drop', 'stop', u'situat', 'pick'], [u'anywher'], ['kr', 'road'], ['panchshil'], [u'roadsid', 'board', 'highway', 'sign'], ['water', 'mud'], ['way'], ['buldhana'], ['km'], [u'citi'], ['patna'], ['gandhi', 'nagar', 'vaishali'], [u'citi'], ['traffic', 'way'], ['rto', u'offic', 'highway'], [u'citi'], [u'citi'], [u'arrang', 'tea', u'coffe', u'bu'], ['tea', u'coffe', u'transport'], ['vorli'], ['banner', 'road'], ['rush'], ['space'], [u'citi'], [u'citi'], [u'manag', 'talk'], [u'citi', 'pickup', 'drop', 'pick'], ['road'], ['need'], [u'citi', 'km'], [u'outsid'], ['case', u'citi'], [u'citi'], [u'citi', 'showroom'], ['road'], ['sewer', 'road'], ['road'], ['meerut', 'road'], [u'citi'], [u'citi', 'dhanabad'], [u'citi'], [u'citi', 'showroom'], ['pudukkottai'], [u'outsid', 'road'], ['road'], ['till', u'distanc', 'km', 'kumbhakonam'], [u'citi'], [u'citi', u'distanc'], [u'carri', 'monday'], [u'pocket', u'rupe', 'toll'], ['checkup', u'rupe'], [u'someth'], ['toll'], ['town', 'km'], [u'noth'], [u'deliveri', 'drop'], [u'improv'], [u'issu', 'map', u'googl'], [u'map', 'help', u'googl'], ['map', 'end', u'googl', 'graveyard', u'build', 'road'], ['end', 'road'], [u'citi', u'offic', u'relat', 'mr'], ['map', 'parikh', u'googl', u'direct'], ['part'], [u'citi'], ['rameshwaram', 'km'], ['km', 'ramnathpuram'], [u'citi'], [u'citi'], [u'citi'], [u'even', 'auto', u'bu'], ['raipur', 'one'], ['till'], [u'citi'], [u'work'], [u'citi'], [u'citi'], [u'citi', u'outsid'], ['karkal', u'citi'], ['town', u'middl', u'bypass'], [u'citi'], ['traffic'], ['traffic'], [u'sale'], ['showroom', 'dehradun'], [u'capit', 'dehradun'], ['rishikesh', 'dehradun'], ['hardaloo'], ['rishikesh', 'deharadun'], [u'citi'], ['dehradun'], ['rajpur', 'road', 'zone'], [u'hole', 'road'], [u'citi', 'showroom'], ['profit', u'citi', 'showroom'], ['lucknow'], ['pune', 'km'], ['district', 'ropar'], [u'citi'], [u'outskirt'], [u'pass'], [u'citi', 'patna'], ['thing'], [u'address'], [u'indic'], [u'distanc', 'karaikudi', 'km'], ['km'], [u'conveni', 'karaikudi'], [u'wagl', u'estat', 'vashind'], ['dealer', 'point'], ['approx', 'stay'], [u'km'], [u'conveni', 'nagao', 'dealer', 'point'], ['guwahati', u'resid', 'dibrugarh'], [u'citi', 'dealer'], [u'citi', 'rush'], [u'citi'], ['anshavad', 'kankarwar', u'resid', 'road'], ['way'], [u'citi'], [u'citi'], [u'citi', 'showroom'], ['road'], [u'insid'], [u'bu', 'stand', u'meter'], ['highway'], ['mhapsa', 'highway'], ['rush'], ['rudrapur'], ['road'], ['showroom', u'insid'], [u'citi'], [u'capit', u'insid'], [u'citi', u'outsid'], ['sale'], [u'improv', u'insid', 'km', u'citi'], ['need', 'cut', 'highway', 'way'], ['vijayawada'], [u'quali', u'class'], ['itanagar'], ['road'], [u'citi', 'k', u'scout'], ['koraput', 'jaipur'], ['point'], [u'wash'], [u'progress', 'work', 'board', 'highway'], [u'citi', 'cut'], [u'citi'], [u'coimbator', 'road'], ['airport', u'hospit'], [u'distanc', 'km'], ['km'], ['district'], [u'statu', u'citi', u'puducherri', 'gandhi', 'showroom', 'rajiv'], ['auto'], [u'transport'], ['km'], [u'citi', 'km', u'villag'], ['town', u'citi'], [u'coloni', 'metapallam', 'road'], ['end', 'patna'], ['tax'], ['tax'], ['patna'], ['patna'], ['banaskata', 'gujrat', 'district', 'palanpur'], ['sellum'], [u'namak'], ['sellum', u'citi', u'conveni'], [u'bu', 'stop', u'anyth'], [u'bu'], [u'bu', 'pickup', 'drop', 'stop', 'pick'], [u'citi'], [u'bangalor', 'km', 'highway', 'hinjewadi'], ['road'], ['station'], ['station'], ['road', 'velur', 'km'], ['wardha'], ['rajpura', 'road'], [u'citi'], [u'citi', 'help'], [u'branch'], [u'difficulti', 'work', u'insid', u'citi'], [u'increas'], ['km'], ['workshop'], ['khar', 'santacruz', u'parl', 'workshop'], ['need', u'villag'], ['km'], [u'citi', 'dealer'], ['dealer'], ['front', 'drop'], [u'distanc'], [u'everyth'], ['impact', 'station', 'feedback', u'year'], ['station'], [u'anyth'], [u'everyth', 'station'], [u'hour'], [u'part', 'vapi', 'km'], [u'insid', u'outsid', 'road'], ['bokaro'], ['drop'], ['linkingroad', 'highway'], ['traffic'], ['showroom', 'tata'], ['town', 'km'], ['toll', 'rs'], ['vardha', 'road'], ['km'], [u'bu', 'stop'], [u'sourc'], [u'bu', 'stop'], ['km'], ['station'], [u'citi'], [u'citi'], ['vidharbh', 'district'], [u'henc', u'someon', 'district'], ['camp', 'district'], ['gondiya', 'nagpur', 'km'], ['borivali'], ['morvi'], ['morvi'], ['dealer', 'km'], ['district'], ['amana', 'malapuram'], [u'bia', u'middl', 'malappuram', 'road', u'pass'], [u'conveni'], ['malappuram'], [u'citi'], [u'sattelit', 'durgapur', u'distanc', u'resid', 'asansol'], [u'citi', u'outsid'], [u'km'], ['need'], ['morabi'], [u'citi'], [u'citi'], ['albet'], ['varchha'], [u'issu', 'auto'], ['road'], [u'bu', 'transport'], [u'arrang', 'transport'], [u'citi'], ['km'], ['pala', u'km'], ['station'], ['man'], ['station'], ['navratri'], [u'issu', u'everyon'], ['showroom', 'number', 'dealer'], ['dealer'], ['turn'], ['km'], [u'distanc', 'km'], ['goa'], ['madgaon'], ['mallapuram', 'manjiri'], ['km', 'malapuram'], ['mallapuram', 'district'], ['road', 'mahu'], ['work'], [u'conveni', 'sengalpatta', 'traffic', u'hour'], ['motipuram', u'km'], [u'citi', 'showroom'], [u'shop', 'food', u'someth'], ['drop', u'someon'], ['pitopur', 'pitampura', 'mango'], ['market'], [u'someth', 'crowd'], ['mud', 'road'], ['road'], ['make', 'district'], ['madhur'], [u'bu', 'stop'], [u'tirunelv'], [u'citi'], [u'citi', 'km', 'infinium'], ['station', 'bhuj'], ['surendra', 'nagar', 'vapi'], ['rajkot', 'hour', 'infinium', 'half', 'ahmadabad', u'wherev'], ['rajkot', 'km'], ['jamnagar', 'rajkot'], ['dwarka', 'jamnagar', 'porbandar', 'beguni'], ['koyambedu', 'lanson', 'space'], [u'villag', 'es', 'lanson', 'nandanam', 'space'], [u'arrang', u'park', 'space'], ['thing'], ['morbi', 'traffic', u'hour'], ['thiruvallur', 'harsha'], ['vellapanchavati'], [u'citi', 'outside'], ['drop', 'give'], ['surat'], [u'issu'], ['need'], ['water', 'highway', 'road'], [u'citi', 'unit'], [u'issu', 'nut', 'km'], [u'citi', 'gandhidham', u'expens', 'infinium'], ['diesel'], ['bhuj', 'km'], [u'hour'], ['porbandar'], ['board', 'name'], ['km', u'hous'], ['station', 'month'], [u'issu', 'bhuj', 'km'], ['twice', 'month', u'citi', 'inform'], ['station'], [u'citi', 'brand', u'everyon', 'km', 'infinium'], [u'citi'], ['town'], ['town', 'vijay'], ['vattapalav', u'resid', 'help', 'palakkad'], [u'citi'], ['pick'], [u'citi', 'uppala', 'chemanna'], ['town'], [u'caurom', u'depart', u'accessori'], ['product'], ['product', 'get', 'outside', 'space'], ['outside'], ['outside'], [u'citi', u'distanc', 'km'], [u'condit', u'entranc'], ['town', 'owner', 'workshop', 'surat'], ['drop', 'pick'], ['rajendra', 'road'], ['road'], [u'citi'], [u'citi', 'drop'], ['auto', u'citi', 'rs'], [u'citi', 'amount', 'bill', 'drop'], [u'bodi', 'shop'], [u'bodi', 'shop'], [u'bodi', 'shop', 'nizampet', 'harsha'], [u'hour', u'hous', 'travel', u'durat', 'tuticorin', u'tirunelv'], ['tuticorin'], ['dealer', 'km'], ['road', 'vatapattamam'], ['naroda'], [u'citi'], ['town', u'pondicherri'], ['food', u'conveni', u'anyth'], [u'citi', u'outsid'], [u'citi', u'everyth', u'bangalor'], [u'conveni'], ['food', u'driver'], ['gandhidham', 'km'], ['bhuj'], ['varachha'], ['surat', u'citi', 'station', 'traffic', 'km'], ['jakat', 'station'], [u'citi', u'marthal', 'road'], ['anaamalai', 'km'], ['way', 'kanyakumari'], ['rod', 'road'], [u'insid'], [u'citi', 'outer'], ['daud'], [u'citi', u'everyth'], [u'citi', 'showroom', u'insid'], [u'issu'], ['drop', u'charg', 'pick'], [u'repair', 'space'], ['ship', 'dealer', 'chembur'], ['km'], ['line', 'andheri'], [u'citi', 'branch'], [u'product', 'charkala', 'nagar', 'shambhosh', 'highway', 'kasaragod'], ['showroom', 'come', 'due'], [u'citi', 'showroom'], ['town'], [u'improv'], [u'everyth'], ['km'], ['town', 'alanaputtam', 'allapi'], [u'sale'], ['need', 'showroom', 'station'], ['surat', u'station', 'km'], [u'citi', u'henc'], ['town'], ['town', 'km'], [u'citi', 'rampur'], ['pathanamthitta'], ['thodibuia', u'municip', u'hous'], ['punnarlu', 'koturekara'], ['nippon', 'km'], ['e'], ['manelikra', 'kayamkulam'], [u'local'], [u'increas', 'compound'], ['space'], [u'issu', 'turn'], [u'park'], ['km', 'one'], ['km'], ['kottarakkara'], [u'offic'], ['worli'], ['pickup', 'pick'], ['pathankot', u'km'], [u'citi', u'outsid'], ['katappana'], ['district'], ['outlet', u'branch'], ['e'], ['town', 'kananad'], ['bhilai'], ['station'], [u'citi', 'year'], ['km'], ['kondatti', 'malappuram'], [u'citi', 'showroom', 'malappuram', 'km'], ['exact'], [u'citi', 'highway', 'road'], ['taxi', u'bu', u'transport', u'citi'], ['pala'], [u'citi'], ['showroom', 'chirur'], ['showroom', 'pondani'], [u'improv'], [u'hour'], ['district'], ['part', 'border', 'outlet', 'district'], ['nippon', 'part', 'kerla'], [u'branch'], ['kollam'], [u'citi'], ['drop', 'pick'], ['nippon', 'district'], ['trichur', u'vadkanjeri', 'district'], ['number'], [u'hous'], ['thodupuzha'], ['km'], ['km'], ['town', 'vengara'], [u'citi'], [u'citi', 'km'], ['km'], ['town'], [u'citi', 'eragipalam'], ['town'], [u'distanc', 'km'], ['panvel', 'highway', 'sion'], ['shop', 'road'], ['road'], [u'qualiti'], ['town', 'km'], ['km'], ['palakkad'], ['pattambhi', 'sonnur'], [u'villag'], ['km'], ['km'], ['km'], ['get'], [u'citi', 'highway'], ['road'], ['heart', u'citi'], ['kattappana'], ['opinion'], ['person', 'bit'], ['km'], ['km'], [u'citi'], ['proper', u'citi'], [u'pottam'], ['town', 'km'], ['tamarsheri'], ['space'], [u'afterward', u'deliv'], ['front', u'move'], ['hand', u'client', 'sit'], [u'bike'], [u'insid'], ['market'], [u'villag'], ['town', 'outer'], ['town'], ['market'], [u'bikan', 'station'], ['hotel'], ['town', 'showroom', 'option'], ['wheeler', u'park', 'space'], ['front'], ['nagaon', u'bypass'], [u'insid'], ['road'], [u'villag'], ['road'], ['harbor', 'diamond', u'local', 'road'], ['road'], [u'leav'], ['road'], ['azartganj'], ['showroom', 'highway'], [u'villag'], ['rush', 'lucknow'], ['corner'], ['road'], [u'citi'], [u'circl'], ['need'], ['kharagpur'], [u'distanc'], ['kolkata', 'region', u'other', 'kharagpurpur'], [u'increas', u'sale'], [u'distanc'], ['map', 'board', 'road'], ['earuttubita', 'kanjrallipali'], ['idukki'], ['rathod', 'sari', 'vapi', u'stay'], ['rathod', 'surat', 'vapi'], [u'insid'], ['site', u'bypass'], ['kunnamkulam'], [u'templ'], ['vadodara', 'infinium'], [u'everyth'], [u'drop', u'pick'], ['batala'], ['town'], ['km'], [u'rang', 'km', u'hous'], ['e'], [u'alavakkod', 'chandranagar'], [u'kucheeri', 'etc', 'teribram'], [u'kilometr'], ['jam', 'nagar'], ['dwarka'], ['rajkot'], ['showroom', 'jam', 'nagar', 'porbandar'], ['chikkudi'], ['use', 'jay'], ['petrol'], [u'insid'], [u'industri', 'allunga'], ['kolkata', 'saini', 'board', 'sign'], ['turn', 'way'], ['turn', u'someth', 'road', 'sign'], [u'nirand', 'malappuram', 'manjeeri'], ['shop', u'citi', 'work'], ['kadalur', u'pondicherri', 'km'], [u'pondicherri'], ['town'], [u'villag', u'outsid'], [u'citi', 'away', u'conveni'], ['traffic', 'guard', u'word', 'road'], [u'inconvi'], ['drop', 'pick'], ['drop'], ['renolt', 'mc', u'hous', 'honda', u'soit', 'showroom', u'everyon', 'road'], ['traffic', u'bypass', 'road'], ['kanyakumari', u'tirunelv'], ['kanyakumari'], [u'other'], ['food'], [u'citi', 'k', u'pimpl'], [u'everyon'], ['bhubaneswar'], ['calicut', 'km'], ['km'], ['water'], ['food'], ['pali'], [u'citi', 'transport'], ['one'], [u'citi', u'henc', u'outsid'], ['corner', u'offic'], ['kakkannad'], ['dombivli'], [u'citi', 'millennium'], [u'velacheri'], [u'citi'], ['guwahati'], ['palakkad'], ['kolar'], ['highway'], [u'cycl', 'motor'], ['space'], [u'distanc'], ['km'], [u'citi'], ['lucknow'], ['peraij'], [u'increas', u'citi'], ['food', 'lunch'], [u'distanc', u'creat'], ['ahmedabad'], ['km'], [u'bu'], ['thirumangai', 'benefit'], [u'book', 'call'], [u'need'], [u'drop', 'way'], [u'outsid', 'road'], [u'even', 'amana', u'morn', 'kaunur'], [u'bu', 'drop', 'pick'], [u'talasori'], [u'conveni'], [u'citi', 'siddhartha', 'road', 'km'], [u'thalaseeri', 'outlet'], ['varacha'], ['bhosari', u'distanc'], ['traffic'], [u'insid'], [u'outsid'], [u'citi', u'insid'], ['kerala', 'payyanur', 'district'], ['town', 'payyanur'], ['srirampur', u'bypass'], ['howrah', 'srirampur'], ['topsel'], [u'kalamasseri', u'kodgingilu', 'parur'], [u'type'], [u'resid', 'km'], ['sector'], ['road'], [u'citi', 'highway'], ['delhi'], [u'resid'], [u'outsid'], ['dsk'], ['sharayu'], ['kotharud'], ['sharayu'], ['west', 'south'], [u'citi', 'km'], [u'talki', 'bhavan'], ['highway'], ['lanson'], [u'drop'], [u'highway'], ['park', 'airport', u'rubi', u'circu'], [u'other', 'call'], [u'employe'], ['kottamanglam'], ['town', u'outsid'], [u'citi'], [u'boy', u'instruct', u'wash', u'cleanli'], ['delearship'], [u'citi'], ['lanson'], ['highway'], [u'citi', 'highway', 'km'], ['showroom', u'rang', 'km'], ['sunday', 'oil', 'km'], ['help', 'chitradurga'], ['km'], [u'citi'], ['kuddapah', u'surround', 'clean', 'staff'], ['surat'], [u'distanc'], [u'citi', u'insid'], ['town', u'shill'], ['shillong', 'highland', u'outsid'], ['town'], [u'distanc', 'balladur', 'km', 'help'], ['udhampur'], ['km'], [u'citi'], [u'namakk'], ['salem'], ['tuticorin', u'tirunelv'], [u'transport'], ['tuticorin'], ['nakodar', 'jalandhar'], ['junagadh', 'km'], ['field'], [u'citi'], [u'citi', u'conveni'], [u'experi', 'jaipur'], ['dust', 'need', u'infrastructur'], ['kanpur'], ['km'], ['km', 'koikor'], [u'thamarasseri', u'issu', 'highway'], ['town', 'jharsuguda', u'bypass', 'avail'], ['kanchipuram'], ['burger'], ['mgf', 'road'], ['uludhumalaipettai'], ['e'], [u'erod', u'issu', 'showroom', 'km'], [u'citi', 'driver', u'expens', 'toll'], [u'citi'], ['site'], ['traffic', 'face'], [u'citi'], [u'citi'], ['dwarka', 'km'], [u'km'], [u'henc'], ['mandya'], [u'mysor', 'mandya'], ['kandivali', 'dahisar', 'borivali'], [u'kozhikod'], ['panikoili'], ['food', u'restaur'], ['food'], [u'hour'], [u'citi'], ['madurai', 'dindugul'], ['hour'], ['showroom', 'dindugul'], ['amana', u'thalacherri'], ['kanoor', 'km', 'amano'], [u'citi', u'insid'], ['angaadi'], ['dealearship', 'lucknow', 'agra'], ['town'], [u'live', 'katiar'], ['katiar'], ['purniar', 'katiar'], ['away', 'rajkot'], [u'citi'], [u'showroom'], [u'citi', 'km'], ['pickup', 'drop', 'pick'], ['pickup', 'drop', 'pick'], ['km'], ['sivagangai', 'road'], ['km', u'hous'], ['chennai'], ['sengalpatt'], ['bhimavaram'], ['bhimvaram', 'km'], [u'rajahmundri', 'saturday'], ['week', u'part'], ['week'], ['bhimavaramu', u'satisfact'], ['station', 'km'], ['km'], ['amravati', 'work'], [u'train', 'staff'], ['nagor'], ['ashapur'], ['chauraha', 'road', 'gajipur'], ['board'], ['sector'], ['parbhani'], ['latur', 'parbhani'], ['road', 'dinkar'], [u'citi', 'highland', u'outsid'], ['shilong', u'citi', 'highland', u'insid', u'hous'], [u'outsid', 'highway', 'road'], [u'thalacherri'], ['paanoor'], ['face'], ['road', 'maruti'], [u'citi', 'jamnagar'], ['help', 'yelhanka'], ['showroom'], ['pattukottai', 'tanjour', u'hour'], ['indirapuram'], [u'person'], ['drop', 'stop', 'km', u'bu', 'pickup', 'pick'], [u'citi', 'airport', 'road'], [u'citi'], ['point', 'satpur'], ['km'], [u'distanc'], ['road'], ['town', u'charg'], [u'noth'], ['feel', 'market'], ['dessert'], [u'citi'], ['person'], ['auto', 'rickshaw'], ['road'], [u'bypass'], ['drop', u'henc', 'pick'], ['tamilnadu'], [u'insid', 'road'], ['km'], [u'someth', 'drop', 'pick'], [u'issu', u'citi', u'conveni'], [u'citi'], [u'citi'], ['km'], ['bomvaom'], [u'improv', u'way'], [u'attitud'], ['showroom', 'asansol', u'insid', 'one'], [u'arrang', 'tea'], [u'hr', 'tea', u'coffe'], ['shop'], ['showroom', 'road'], ['gate'], ['thanjavur'], ['board'], [u'citi', 'wise'], [u'palac'], ['food', u'citi', 'km'], [u'citi', 'ananda'], ['bill'], [u'hous'], ['km'], [u'citi', 'gomathi', 'nagar'], ['yashavanthapura', 'vijayanagar'], [u'citi', u'outsid'], [u'citi', u'insid'], ['road'], ['baitul'], ['dehradun'], ['highway'], [u'erod', 'outer'], [u'citi'], [u'citi', 'km'], [u'citi', 'km'], [u'citi', 'way', 'km'], ['board', 'highway'], [u'purchas', u'fortun', 'cost'], [u'citi', 'haldwani', u'henc', 'showroom', u'sale'], [u'year'], [u'showroom'], [u'citi', 'ramnagar', 'jodhpur', 'kashipur'], ['haldwani'], [u'ramnag', 'haldwani', 'jodhpur', 'kashipur'], ['hadwani'], ['muradabad', u'minut', u'henc', 'road'], [u'citi', u'henc', 'kashipur'], [u'bellari', 'km'], ['help'], ['gate', 'road'], ['surat', 'varchha'], ['omr', 'chennai', u'outsid', 'ecr', 'road'], [u'purpos'], [u'citi'], ['talanagar', 'road'], ['road'], ['km'], [u'km'], ['town', u'pondicherri'], [u'food'], ['workshop', 'road'], ['km'], ['showroom', 'jalana'], ['malai', u'hour', 'marai'], ['e'], ['thambaram'], [u'banara', 'tara', 'bit', 'way'], ['pot', 'way', u'condit', u'hole', u'toward', 'hadapasar', 'road', 'kharadi'], ['chennai', 'way', 'road'], [u'rout', 'road'], ['town'], ['virudhunagar', 'madurai', 'kovilpatti'], ['kovilpatti'], ['shop', u'insid', 'drop', u'driver', 'km', u'citi', 'pickup', 'pick', 'highway'], ['nagercoil', 'kanniyakumari', u'tirunelv'], [u'km'], ['nagercoil'], ['road', 'ladyar'], ['brand', 'district'], ['karad', 'dsk', 'km'], ['station'], [u'accid', 'km'], ['durgapur', 'type'], ['men', u'advantag', 'staff'], [u'citi', 'km'], [u'thing', u'wast'], [u'hour'], ['drop', 'pick'], ['drop'], [u'buse'], [u'need'], ['district'], ['satara', u'outsid', 'dsk', 'km'], [u'citi', 'km'], ['drop', 'friend'], ['tv', u'newspap', u'hour'], ['madurai', 'theni', u'resid', 'podi'], ['theni'], [u'citi', 'km'], ['yashavanthpura'], ['loan'], [u'citi', 'road', 'half'], ['aara', 'road'], ['toal', 'thier', 'naka'], ['toal'], [u'chang', u'connect', 'highway'], ['bhoisar', 'road'], ['palghar', 'boisar'], ['saraswat'], ['vapi'], [u'morn'], [u'morn'], ['traffic'], ['patialo', 'samana', 'pioneer'], ['highway', 'road', 'danger'], [u'citi'], [u'citi', 'hyundai'], ['dwarka', 'good', 'delhi'], ['km', 'dharmapuri'], [u'improv'], ['bhandup', 'kurla'], [u'increas'], [u'sector', u'showroom'], ['yavat'], ['load', 'work', 'sale', 'person', u'morn', u'everyth', u'sunni'], ['nagarcoil', 'km', u'tirunelv'], ['nagarcooil', 'land', u'news'], [u'distanc'], [u'villag'], [u'road', u'damag'], [u'properli', 'road'], ['gangnagar', 'branch', 'road'], [u'villag'], [u'offic'], ['garb'], ['pur', 'sultan'], [u'segment'], [u'distanc', 'km'], [u'ghodband', 'road'], ['reveal', 'infinium'], ['reveal', 'narola', 'km', 'infinium'], ['reclean'], ['e'], ['highway'], ['water', u'agenc', u'manag', u'govern'], ['closer', u'citi', 'bit', 'way'], [u'citi', 'kollam', 'highway'], [u'villag', 'jargon', u'chowdhuri', u'citi'], ['auto', 'person', 'return', 'outer'], [u'arrang', 'drop'], [u'citi', 'line', 'nagger'], ['district', 'koria'], [u'citi'], [u'minut', 'transport'], ['gurgaon', 'showroom'], ['ok', 'noida'], ['km'], ['showroom', 'nagar', 'pune', 'road'], ['e'], ['km'], ['kalappalam'], ['month'], ['telitparamba', 'km', 'kannur'], ['etc', u'tilichaerri', 'check'], [u'connect'], ['drop'], [u'sourc'], [u'erod'], ['drop', 'km', 'pick'], ['madurai', u'trichi', u'tirunelv'], ['ramnadu'], [u'signatur', u'bill', 'form'], [u'sorri'], ['auto'], [u'citi'], ['mayapuri'], [u'trichi', 'highway'], [u'citi', 'bit'], ['sector', u'citi', u'automobil', 'gwalior'], [u'citi', u'offic'], [u'offic'], [u'citi'], ['plate', 'number'], ['week', 'camp'], [u'thing'], ['patna'], [u'citi', u'henc', 'km'], ['dahisar', 'naka'], ['kkuda'], [u'accid', 'road'], [u'tree'], ['road', u'govern'], [u'citi'], [u'insid', 'food', 'tea', 'jabalpur', 'km', 'water', u'outsid', u'arrang'], [u'citi'], [u'citi'], ['naamkum', 'kotmor'], ['vision'], [u'travel'], [u'citi'], ['cobra', u'sale'], [u'citi'], ['showroom', 'km'], ['zone', 'madgaon'], ['sport', 'tourist', 'madgaon'], ['madgaon'], [u'complaint', u'attent', 'labor'], ['manger', 'talk'], ['hour'], ['km'], [u'offic', u'complaint'], [u'citi', 'trivandrum', 'heart'], [u'citi'], [u'citi'], [u'citi', 'km'], ['traffic', 'jaam'], [u'citi', 'showroom', u'nobodi', u'insid', 'mahindra'], [u'citi', u'insid'], ['aurangabad', 'disk', 'sasaram'], [u'bu'], ['thirvaluvar', u'poonamal', u'glass', 'reason', u'part', u'chang'], ['drop', 'honda', 'pick'], ['forward', 'honda', 'anand'], ['vanali', u'distanc', 'road', 'transport', 'mumbai'], [u'villag'], ['min'], ['town', u'outsid'], ['town', 'margay', u'insid'], [u'chang'], [u'bikan'], [u'drop', u'staff'], [u'rupe', 'rickshaw'], ['drop', 'sagarpada', 'pick'], [u'condit', 'road'], ['road'], ['front', 'road', 'gap'], [u'citi'], ['pune'], ['karad'], [u'stay'], ['bilaspur'], ['showroom', 'hyundai'], [u'citi', u'villag'], [u'citi', 'km'], [u'citi'], ['irutto'], ['kharghar'], ['kundapura'], ['help'], ['kundapura'], ['district', 'bhubaneswar'], [u'citi'], ['token'], ['showroom', 'visit'], ['amount', 'tax', 'toll'], [u'palliat'], [u'palliat'], [u'palliat'], [u'capit', 'chhattisgarh'], ['showroom', 'nagercoil'], [u'entranc', 'traffic'], ['person', u'troubl', u'secur'], ['district', 'khandawara', u'indor', 'burshanpur', u'citi', 'road'], [u'guidanc', u'henc'], [u'somebodi'], ['board'], ['malappuram'], ['chatapur', 'bihar', 'km', u'stay'], [u'conveni'], ['muzafferpur', 'rudra', 'patna', 'km'], [u'showroom'], ['ardiya', 'bursela', 'kariyar', 'madakpura', 'shifon'], ['buddha'], [u'suffer'], ['purniya'], ['brand', 'tata', 'mahindra', 'thing', 'maruti', 'fort'], ['district'], ['km'], ['km'], [u'villag', u'farmer', 'district', u'citi'], ['junner', 'shiroor', 'baramati'], ['bandra', u'scratch', 'rush', 'get'], ['road', 'bkc'], [u'citi'], ['plaza', u'charg', 'toll'], [u'citi', u'charg'], ['km'], ['array', 'road'], ['km'], [u'villag', 'km', u'citi'], ['chinchwad', 'pimpri'], [u'bridg'], [u'henc'], ['pickup', 'drop', 'pick'], [u'drop'], ['sambhapur'], [u'appoint'], ['pm'], [u'citi', u'henc'], ['auto', u'bu', u'citi'], ['pickup', 'drop', u'henc', 'pick'], ['drop'], [u'citi'], [u'bu'], [u'citi'], [u'villag', 'grace', 'kilo'], ['drop', 'pick'], ['start', 'traffic'], [u'villag'], [u'distanc', u'henc', 'mundarkkaya', 'ermelo'], [u'distanc', 'km'], ['taxi', u'bu', 'rickshaw', 'britannia'], [u'drop', u'henc'], ['town'], ['town', 'work'], ['outside'], ['sangli', 'road'], ['km'], ['km'], [u'restaur'], ['food'], ['food'], ['part', 'work', u'suppli'], ['nagercoil', u'henc', u'tirunelv'], ['kumar', 'nagercoil'], ['road'], ['town'], [u'churchgat', 'point'], ['point'], ['shinrai'], ['mathuman', u'purchas'], ['bombay'], [u'outlet'], [u'citi', u'henc'], [u'villag', 'taluka', u'henc'], ['km'], ['dindigul'], ['dindigul', 'showroom'], ['dindigul'], [u'citi'], ['showroom', 'maharashtra'], [u'famili'], [u'attent', 'market', u'visibl'], [u'advertis', 'showroom'], ['petrol', u'brand', 'pump'], ['tower'], [u'outsid', 'nagpur', 'km'], ['transport'], [u'issu', 'head'], ['thalippurampil'], [u'citi', 'km'], [u'villag', 'grace', 'km', 'akola'], ['usmanabad'], [u'citi', u'grass', 'akola'], ['chowk'], ['bit', 'km'], ['showroom', u'distanc', 'batter'], [u'grass'], ['baitun'], ['km'], ['innova', 'crust', 'district'], ['district'], ['ghotkar', 'kai', 'wadi', 'road', 'grace'], [u'holiday', 'rest'], ['test', 'trial', 'sunday', u'henc', 'drive'], [u'henc', 'bosari', u'expens', u'citi'], [u'citi'], [u'corner', 'vardha', 'road'], ['bit', u'park'], [u'park'], ['way', 'road'], ['water', 'season', u'raini'], ['kanyakumari', 'km', u'tirunelv'], ['showroom'], ['need'], [u'capit', 'panaji'], [u'rang', 'km'], [u'offic', 'panaji'], ['panaji'], ['km', 'south', 'panaji'], [u'citi'], [u'km'], ['camp'], ['vashin'], ['drop', 'pick'], [u'villag', 'grace', 'km', 'akola'], ['vashin'], [u'citi'], ['pune', 'kekari', u'insid', 'maphasa', u'citi', u'kollwal'], [u'improv'], ['irangalakuda'], ['proper', 'irangalakuda'], ['path'], [u'issu', 'way'], [u'citi'], [u'citi'], ['mod'], [u'citi'], [u'citi', u'outsid', 'highway'], ['nagpur'], [u'brocad'], ['work'], ['km', 'month'], ['money'], ['ghaziabad', 'noida'], ['sector', 'noida'], ['hour', u'futil'], [u'driver'], ['line'], ['worli'], ['wadala', 'matunga', 'dadar'], [u'citi'], [u'citi', u'insid'], ['tax', 'toll'], ['margaon', u'citi', u'wast', 'hour'], ['margaon', 'babysit', 'goad', 'point'], ['rd', 'traffic'], [u'hingan', u'busi', 'midc'], ['bit', 'prabhadevi', 'andheri'], [u'outsid'], ['kolhapur'], ['gaon', 'nandurbar'], ['shirai', 'wasai', 'shinrai', u'lakozi'], [u'villag'], [u'citi'], ['good', 'colaba'], ['goa'], [u'offic'], [u'citi', 'madhgaon'], ['bardhhaman'], [u'hr'], [u'deliveri'], ['member', 'drop', u'charg'], [u'villag'], [u'bhusav'], ['dule'], ['shop', 'paint', 'showroom'], [u'citi'], ['patia', 'bhubaneswar'], ['way', 'flyover', u'construct'], ['work', u'resid', 'flyover'], ['bit'], [u'villag', 'nagercoil'], ['drop', u'charg'], ['barashi', 'road'], [u'movi'], ['nagercoil'], ['km'], ['thane', u'compar', 'kannur'], ['till', 'showroom', 'km'], ['diesel', 'km'], [u'expens'], ['camp', u'sangamn', 'district'], [u'sangamn', 'shrirampur', 'month'], ['bit'], [u'citi'], ['touch', u'citi', 'hyundai', 'maruti'], ['km'], ['km'], ['tirupathur', u'vellor'], ['tirupatur'], ['work', 'km', 'get'], ['ahmedabad', 'km', u'hous'], ['b'], ['naroda', 'highway'], ['dwarka', 'outlet', u'galaxi'], ['mothi', 'traffic', 'nagar'], ['howrah', u'resid'], ['chunchura', 'nagar'], ['showroom'], ['food'], ['room', 'show'], [u'citi'], ['driver'], ['return'], [u'padpadgan'], [u'hous'], ['ravindra', 'havalahalii'], ['km'], ['need', 'drop'], ['km'], ['head', 'quarter', 'district'], ['town', 'km'], ['town'], [u'bu'], [u'citi'], ['patel', 'road', 'nagar'], ['space'], ['sound', 'box', u'colour', 'etc', u'chang', 'mobil'], [u'1day', 'take'], ['pick', u'bu', 'drop', 'stop', 'staff'], [u'improv', u'charg'], ['pay', 'tax', 'thing', u'part', u'outsid', 'labour', u'charg'], [u'part', 'spare', 'labour', u'charg'], [u'part', 'labour', u'charg'], ['thutukudi', u'tirunelv', 'month', 'staff'], ['thutukudi', 'maruti'], [u'citi'], ['food', 'lunch', u'outsid'], [u'villag', 'kolhapur', 'dsk', u'km'], [u'villag', 'pickup', 'drop', 'pick'], ['bit'], ['road'], [u'insid', u'kilometr'], ['transport'], ['road'], [u'henc', 'brode'], ['hojai', 'branch'], ['price', u'charg'], [u'need', u'charg'], ['price', u'part', 'market'], ['price', u'part', 'market'], [u'need', u'warranti', u'part', u'charg'], ['room', 'g', 'show'], [u'local', 'road'], ['g'], ['road', u'construct'], [u'safeti'], ['road', u'construct'], [u'construct'], [u'chanc'], ['guard', u'secur'], [u'premis', u'cross', 'staff'], ['road'], ['station'], ['km'], [u'coimbator'], [u'cherri', 'valla', 'tirchiroad'], ['town'], ['naka', 'dhule', 'chauhan', 'toll'], ['naka', u'distanc', 'toll', 'rs'], ['tolnaka', u'charg'], ['tolnaka', u'insid', u'citi'], ['chattarpur'], ['chattarpur'], ['work', 'km'], [u'insid', 'km', 'half'], [u'difficulti'], ['station'], ['pickup', 'drop', 'pick'], ['use'], ['showroom'], ['person', 'drop', u'desir'], ['drop', u'respons'], ['showroom', u'anyth'], [u'depart'], ['sharayu', 'bavdan', 'highway'], [u'citi'], ['plant', 'mahindra'], [u'rathor', 'vapi'], ['navsari'], ['workshop'], ['ushmanabad'], [u'citi'], ['drop', 'pick'], [u'bu'], ['front', u'garbag'], [u'coimbator', 'thirupur'], ['km'], ['e'], ['km'], ['road'], ['drop'], ['symbol', 'land', u'direct', 'mark'], ['kolkata'], [u'citi', 'showroom'], [u'citi', u'showroom'], [u'transport'], [u'hour'], [u'offic'], [u'entri', u'driver', u'insid', u'difficulti'], [u'thallacherri'], ['singur'], ['nabha'], ['gorakhpur', 'tata', 'hyundai', 'bengal', 'maruthi', 'showroom'], [u'increas', 'west', 'showroom'], ['palampur'], ['aathur'], ['vilupurum', u'resid'], ['vilupuram'], [u'morbe'], ['innova', u'park'], [u'coat', u'outsid'], ['orissa', u'pankag'], ['campaign'], [u'chang', 'oil'], ['clamor', 'jamuria', u'hous'], ['bill', 'counter'], ['space'], [u'henc'], [u'staff'], [u'hour'], ['dust', u'outsid', u'particl'], [u'capit', u'word', 'board', 'road'], ['person'], [u'citi'], ['showroom'], ['kondava'], ['profit'], ['hadapsur', 'traffic', 'dsk'], ['item', u'snack', u'roadsid'], ['drop', 'pick'], [u'roadsid', u'insid'], ['gadh'], ['km'], ['kolara'], ['road', u'govern'], [u'citi', 'punjab'], ['showroom', 'karaikudi'], ['karaikudi', u'trichi'], ['km'], [u'henc', u'troubl'], [u'citi'], ['jalgaon', u'chang', 'district', u'chowdhuri'], ['jalgaon', 'raver', 'option', 'petrol', 'work', 'diesel'], [u'dirti', 'gind', 'water', u'outsid', 'dust', 'come'], ['km'], ['airport'], ['mansarovar'], ['thane', 'highway'], ['drop', u'outsid', 'sunlight'], ['drop', 'km', 'pick'], ['dhavada', u'citi'], [u'align'], ['rathnagiri'], ['station'], ['km'], [u'citi', u'insid'], [u'circl'], ['road'], ['gate', u'worker'], ['km'], ['number', u'staff'], [u'machin'], [u'chang', u'insid', 'panipat'], ['rajkot', 'infinium'], ['morbi', 'tuner', 'inn', 'ova'], ['traffic'], [u'insid'], [u'everyth'], ['space'], ['space'], ['staff'], ['space'], ['km'], ['midc'], ['farm', 'district'], ['auto'], [u'citi', 'drop', 'outer', 'transport'], [u'citi', u'everyon', 'transport'], [u'deliveri', 'transport', 'pick'], ['lunch', 'hotel'], ['town'], [u'citi'], [u'hous'], ['workshop'], ['km'], ['drop'], ['batala'], [u'citi'], [u'bu', 'drop', u'stop'], [u'citi', 'kanpur'], [u'citi', u'middl'], ['claim'], [u'showroom', u'deduct', 'burden'], ['summer', u'outsid'], [u'insid', u'outsid'], [u'citi'], ['person'], ['taxi', 'auto'], ['sharayu', u'citi'], ['km', u'hous'], [u'citi', u'insid'], ['traffic'], [u'citi'], ['tejpur', 'assam', 'gargya', 'km'], ['rohini'], ['sibsagar', 'borah', u'resid', 'dibrugarh'], ['drop', 'pick'], [u'citi', 'drop', u'someon'], ['head', u'offic', 'life', 'maruti', 'branch'], [u'process', 'branch'], [u'conveni'], ['space'], ['space', 'room', 'show'], ['showroom'], [u'mainten', u'outsid'], [u'distanc', u'resid'], ['night'], ['araria', 'bihar'], ['sharayu', u'citi', u'insid'], ['km', u'hous'], [u'citi', u'insid'], ['drop', 'pick'], ['road'], [u'citi'], ['sonipat'], [u'citi', u'outsid'], ['guwahati', u'citi', u'insid'], ['come'], [u'improv', 'infinium'], ['traffic', 'infinium'], [u'citi', 'road', 'gandhinagar'], [u'insid', 'road'], [u'citi', u'insid'], [u'citi', 'km'], ['road'], ['owner', 'road'], ['dust', 'road', 'sit'], ['road'], ['km'], ['risk', 'highway', 'pm'], [u'citi', u'outsid'], ['risk'], ['km', u'zone'], [u'insid'], ['km'], [u'citi'], [u'citi', 'traffic', 'km', 'hour'], ['road'], ['drop', 'pick'], [u'citi', 'eroad', u'insid'], [u'purpos'], [u'outsid'], [u'outsid', 'bedbihar'], [u'citi'], [u'citi', 'reason', u'insid'], ['trichendur'], [u'behav', 'way'], ['sunday'], ['drop', 'pick'], ['airport', 'chowk'], ['km'], ['kangra', 'palam', 'pur'], [u'citi', 'km'], ['camp'], ['rourkela', u'middl'], ['rajkot', 'infinium'], ['till', 'jamnagar', 'km'], ['road'], ['surat', 'ajeera'], ['km'], ['varasa'], ['profit'], ['km', 'crowd'], ['km'], [u'differ', u'outsid'], [u'someon', u'outsid'], ['nanavati'], ['wish', 'vita', 'karad'], ['km', u'hour'], ['way'], [u'satisfact'], ['hour', 'km'], ['vadalur', u'bu', 'stop'], [u'bu', 'chennai', 'driver'], ['auto'], ['take'], [u'shade'], ['warli', 'road', 'ray'], ['taxi', u'citi', u'outsid'], [u'hous'], ['burmunda', 'rasungar', 'bhubaneswar'], [u'citi', u'insid'], [u'citi', u'insid', 'staff'], ['staff'], [u'citi'], [u'thing'], [u'citi', 'outer', 'lanson'], ['water', u'citi', u'snack', u'morn', u'drink'], ['traffic', u'henc', u'road'], [u'citi', u'outsid'], [u'villag'], [u'villag'], ['surat', u'citi', u'kilometr'], ['food', u'arrang', u'snack', u'restaur', u'hour'], ['nagpur', 'km'], ['bardi'], ['kancheepuram', 'lanson'], ['rajivghandi', 'showroom'], ['showroom', 'part'], [u'citi', 'highway'], ['km'], ['km'], ['innova', 'mehsana', 'district', 'level'], [u'access'], [u'citi', u'navig'], [u'villag'], ['pick'], ['delhi', 'preetvihar'], ['rajpura', 'road'], ['sector'], ['km'], [u'wherea', 'km'], [u'condit', u'road', u'inconveni', 'space'], [u'bu', 'stop', u'permiss'], [u'hous'], ['nalagarh'], ['km'], ['number'], ['palghar'], ['vasai', 'plaghar'], [u'citi'], ['road', 'space'], [u'citi'], [u'hous'], [u'citi', 'bokaro'], ['bokaro', 'maruti'], [u'issu', u'citi', 'traffic'], [u'citi'], [u'citi', 'km'], ['pathankot'], ['pune', u'km'], ['week', 'water', 'oil', 'bardoli'], ['week', 'journey'], [u'hous'], ['drop', 'pick'], [u'hous'], [u'textil', 'patia', 'nanavati', 'market', u'citi'], ['km', u'hous'], [u'emerg'], ['km'], ['lucknow'], [u'arrang', 'camp'], [u'local'], [u'citi', 'showroom', 'lanson', u'motor'], ['showroom', 'tata', 'mahindra', 'maruti'], ['showroom', u'distanc'], ['showroom'], ['approx'], ['km'], ['sreerampur'], [u'coimbator', 'annamalai'], [u'henc', 'highway'], [u'hous', 'km', 'singanallur'], ['food', 'auto'], ['drop', 'pick'], ['drop', 'pick'], [u'thing'], ['fa'], ['gandhinagar', u'capit', 'gujrat'], ['gandhinagar', 'km', 'infinium'], ['km'], [u'start', u'product'], ['station'], ['year'], [u'citi', u'everyth'], [u'citi'], ['showroom'], ['drop', 'type', u'transport', 'chikhalthana', 'pick'], [u'distanc'], [u'improv', 'outside', u'citi'], [u'noth'], [u'citi', u'insid'], [u'citi'], ['way'], ['km', 'jaipur'], [u'citi', 'showroom', 'jaipur'], ['food', 'workshop'], ['food', 'want'], ['km'], ['tomak', 'road'], ['chandigarh', 'road', 'patiala'], ['showroom', 'delhi', 'road'], ['showroom', 'rampur'], ['showroom', 'delhi', 'road'], [u'distanc', 'infinium'], [u'charg'], [u'issu'], [u'citi'], [u'citi', u'distanc', 'wise', u'construct'], [u'citi'], ['basistha', 'chariali'], [u'ford', u'audi'], [u'citi', 'end', u'bypass'], ['showroom', 'ham'], ['km'], [u'anyth'], [u'citi'], ['rajendra'], [u'option'], ['showroom', u'noth', 'outside'], ['taxi', 'auto'], [u'citi', 'work'], [u'hous'], ['e'], ['drop', 'pick'], [u'owner', u'issu'], ['shop', 'town', u'citi'], [u'erod', u'citi', u'bypass', 'road'], ['showroom'], [u'villag'], ['km'], ['km'], ['need'], ['jilla', 'branch', 'till'], ['elathur', 'palankadi', 'nadakkavu', u'henc', u'palac', u'branch'], ['kottayam'], ['corner', 'road', 'borad'], ['jodhpur', 'km'], ['srivilliputhur'], [u'citi', 'end', u'reach'], [u'thamarasheri', u'colleg'], ['dealerdhip', 'highway'], [u'pondicherri', 'lanson', 'km'], ['cidko'], ['sharayu', 'one'], ['aurangabad', 'person', 'midc', u'citi'], ['help'], [u'distanc', 'km'], [u'henc'], [u'appoint', 'reach'], ['ramanathapuram'], ['road', u'hous'], [u'citi', u'insid', u'outsid'], ['cuttack', 'bhubaneshwar'], ['dearship', 'road'], ['innova', u'part'], [u'part'], ['till', 'travel', u'resid', 'thoothukudi', u'tirunelv'], ['thoothukudi'], ['vijayawada'], ['road'], ['shillong'], [u'congest', 'road'], ['shillong', 'traffic'], ['meghalaya', u'shill'], ['summit'], ['km', u'hous'], ['heart', u'local'], ['airport'], [u'increas'], ['adajan', 'station', 'hajira'], [u'respons'], [u'citi'], [u'headach', 'reason', u'anyon'], ['buy', 'hajira'], ['station'], ['hajira'], ['innova', u'option'], [u'increas'], ['mandoli', 'road'], ['varachha'], ['gajuwaka'], ['daruheda'], [u'agenc', 'faizbabad'], ['faizabad', u'hous'], ['way'], [u'sum', 'cost', u'travel', 'lucknow'], ['balabhgarh'], ['showroom', 'space'], [u'citi'], ['traffic'], ['traffic'], [u'connect', 'highway'], [u'difficulti'], ['drop', 'pick'], ['sir', 'drop', 'pick'], [u'distanc', 'km'], ['road'], ['work', 'hand'], [u'thing'], ['makar', 'road', 'pure'], ['pcmc', 'dsr'], ['happen', 'drop', 'pick'], ['chinchwad', 'pimpri', 'pcmc'], ['station'], ['showroom'], ['km'], [u'issu', 'amana'], [u'citi', 'kasaragod'], ['dindigul', 'madurai', u'distanc'], ['hotel', u'henc'], ['thing', 'showroom', u'citi'], [u'citi', 'km'], ['thing', 'drop', 'pick'], ['till', u'tirunelv', u'resid', u'hour', 'half'], ['nagarkovil'], [u'poonamalle'], [u'ekkattuthang'], ['km'], [u'bu'], [u'distanc', u'henc'], [u'henc'], ['mahanagarpalica', 'jamnagar', u'citi'], [u'citi', 'sr', 'hindustan', u'relianc', u'io', u'industri', u'requir'], ['jamnagar'], [u'citi', 'jamnagar', 'rajkot', u'everyon'], ['sub', u'requir'], [u'distanc', 'km'], ['jamnagar', 'rajkot', 'highway'], ['showroom', 'workshop', 'maruti', 'road'], ['rajkot', u'hour', 'jamnagar', 'station', 'traffic', 'road', 'highway'], [u'even', u'morn', u'hour'], [u'deliveri', 'rajkot', 'reason', 'jamnagar', 'traffic', 'road', 'showroom', 'highway', u'substat'], ['jamnagar', 'hey'], ['workshop', 'jamnagar', u'citi'], ['nexa', 'maruti'], ['way'], ['traffic', u'road'], [u'rang', 'km'], [u'distric'], [u'sevic', u'spot', u'sale'], ['way'], [u'read', 'water', u'book', 'room'], ['town', 'shop', 'year', u'month'], [u'citi', u'insid'], [u'citi', 'hyundai', 'maruti'], ['town', u'citi'], [u'issu'], ['drop', 'pick'], [u'bu'], [u'arrang', 'drop', 'pick'], [u'chang', 'pur'], ['mansarovar'], ['mansarovar', 'km'], [u'middl', 'jaipur'], ['km', u'hous'], ['east', 'highway', 'virar'], ['ship', 'dealer'], ['drop', u'driver', 'pick'], ['transport'], [u'bu', 'train', 'drop'], [u'citi'], [u'drop', 'train'], ['pathankot'], ['town', u'henc'], ['vasai', 'highway'], [u'difficulti', 'drop', 'pick'], [u'travel', u'sourc'], [u'wast', u'hour'], [u'citi'], ['west', 'highway', u'entrenc'], ['rikshaw', 'auto'], [u'difficulti', 'drop', u'sourc', 'pick'], [u'citi', u'limit'], [u'difficulti', 'pickup', 'drop', 'pick'], ['kushaiguda'], [u'citi'], [u'citi', 'pune'], ['km'], [u'busi'], ['number'], [u'wait'], [u'citi'], ['showroom', u'conveni', 'highway'], ['banglor', 'bombay', 'highway'], ['chidambaram', u'pondicherri', 'lanson'], ['km'], [u'cuddalor', u'henc'], ['need'], ['km'], [u'citi'], [u'citi'], ['maninagar', 'highway', 'narooli'], [u'upsid'], ['road', u'construct'], [u'open', 'highway'], [u'direct'], [u'need', 'highway'], ['line', 'highway'], ['km', u'insid'], [u'chang', u'direct'], ['rs'], ['journey', 'diesel'], ['driver', u'charg'], ['raigad', 'alibaug'], ['alibaug'], [u'citi', 'alibaug'], ['town'], [u'feel', u'offic', 'comfort', u'advanc'], [u'drop'], ['plaza', 'toll'], [u'citi', u'conveni', u'everyon', u'insid'], ['drop'], ['town', 'outside'], ['uber', u'cab', 'ola'], ['town', 'showroom', 'dhanbad', 'highway'], ['town', 'showroom'], ['way', 'highway'], ['town', u'insid', 'unit'], ['town', 'km', 'way'], [u'citi', 'part', 'tiruppur', 'annamalai'], [u'indic', u'road'], ['jabalpur'], [u'citi', 'tilwara', 'jabalpur', 'point'], [u'turn', 'right', 'jabalpur', 'road', u'indic'], ['way', 'point'], ['india'], [u'roadsid', u'outsid'], ['app', 'system', u'gp'], ['e'], ['g'], [u'citi'], [u'citi', 'system'], [u'app', u'board', u'indic', 'sign'], ['front', 'tax'], ['tax', 'rs'], [u'arrang', 'tax', 'toll'], ['interior', u'citi', 'showroom'], [u'shop', 'till', 'wasan', 'vashi', 'govandi'], ['panvel', 'stop', 'station', 'work', u'bu'], ['station', 'kolhapur', u'outsid'], [u'conveni', 'kolhapur'], ['highway'], ['traffic'], ['pick', 'till', 'drop', 'infinium'], [u'henc'], [u'citi', 'outlet'], [u'citi'], [u'citi'], [u'citi', 'outlet'], ['traffic', u'wast'], ['loaction', 'suber', u'offic'], ['work', 'way', 'metro'], ['traffic'], ['rajendra'], [u'citi'], ['allahabad', 'km', u'hous'], ['rajendra', 'transport'], [u'better', 'showroom'], ['rajendra'], [u'citi'], [u'solut'], [u'citi', 'outer'], [u'bu'], [u'bu'], ['chakan'], [u'arrang', 'shamshbad', 'chowrasta'], ['shop', 'work', 'honda', 'workshop', 'compton', u'emerg', 'suzuki', 'navsari'], [u'insid', 'bhivadi'], ['itava'], ['town'], ['drop', u'ladi', 'pick'], ['town'], ['town'], ['innova', 'honda', 'nagercoil', 'kanyakumari', 'tuner'], [u'polic'], ['showroom', u'park', 'road', 'km'], ['town'], ['head', u'quarter', 'district'], [u'sale', 'point'], ['traffic', u'circl'], [u'improv'], ['nh'], ['kanchipuram', 'lanson'], ['ramp', u'henc'], ['km'], ['satan'], ['viva', 'mp'], ['satan'], ['person', 'room', u'wait'], [u'condit', 'road', 'repair'], [u'jubilihil', u'abid'], ['kunj', 'vihar'], ['tempura', u'purpos', 'km', 'patti'], ['tempura'], ['money', u'travel', 'easel', u'purpos', u'compar'], ['easel', u'charg'], ['food', u'qualiti'], ['vilaspur'], [u'camp'], [u'machin', 'camp', u'compar'], [u'suggest', 'ambikapur'], ['vilaspur'], [u'expens'], ['person', u'offic', 'td', u'sale', 'ambikapur'], [u'citi'], [u'citi'], ['km'], ['ato', 'showroom', 'makhmallabad', 'masrur'], ['showroom', u'bridg', 'highway'], ['ozargaon', u'distanc', 'pimpalgaon', 'gangapur', u'yeval', u'minut', 'road'], ['shop', 'work', 'makhmallabad'], ['traffic'], [u'prioriti'], ['station', 'maruti'], ['showroom'], ['sachet'], [u'increas', u'park', 'road', 'space'], ['airport'], ['bodhguya'], ['thiravalla'], ['panthalam', 'door'], [u'insid'], ['break', 'tea', u'coffe'], ['food', u'hotel'], [u'increas', u'posit', u'sale', 'road'], ['nagercoil'], ['showroom', 'nagercoil'], [u'kozhilcod', u'koduv'], [u'kalamass', 'thrissur', u'kudayil', 'iringali'], [u'insid', 'km'], [u'citi'], ['ship'], [u'citi'], ['km'], ['km'], ['driver'], [u'park'], ['km'], ['mehsana'], [u'conveni'], ['town'], ['km'], ['stop', 'top', 'drop', 'return'], ['arthur', 'salem'], [u'capit', u'let', u'duranc', 'maruti', 'showroom'], [u'thing', 'km'], [u'tirunelv', 'diesel', u'wast', 'nagercoil'], [u'need', 'kadalur', 'lanson', 'km', u'equip'], ['gandhi', 'nagar'], ['ahmadabad', u'appoint'], ['count'], ['ahmadabad', 'drop', u'outsid', 'pick'], [u'rate', u'part'], ['fill', 'yesterday', u'cabl', 'rs'], ['discount'], ['infinium'], ['self', 'drop', 'km', 'pick'], ['ajmer'], [u'territori'], ['jilla'], ['jilla'], [u'citi', 'ajmer'], [u'citi', u'insid'], ['palakkad'], [u'citi', 'bit'], [u'insid'], ['vagali', 'airport', 'road', 'nagar'], ['line', 'bug', 'road'], ['thiroor'], ['stay'], ['ratlam'], ['rajpalk'], [u'month'], ['staff'], ['trivandram', 'kollam', 'varkkala', 'maruti', 'km'], ['gandhidham'], ['km'], ['road'], ['thiruvannamalai', 'lanson'], [u'jungl'], ['drop', 'walk'], ['drop', 'km'], ['traffic'], ['showroom', 'varaccha'], ['km'], ['showroom', 'varaccha'], ['patna'], [u'insid', 'showroom', 'patna', 'road', 'saguna'], [u'citi'], ['drop'], [u'hour'], [u'citi', 'drop'], ['drop', 'pick'], [u'citi', 'branch'], ['drop', 'pick'], ['papad', u'showroom', 'gunj', 'noida'], ['option', 'noida'], ['workshop', 'gunj'], [u'mysor', 'magadi', 'road'], ['road'], [u'insid'], ['workshop', 'way'], ['work', u'qualiti'], ['km'], [u'citi'], [u'arrang'], [u'commit'], ['shirrai'], ['mahalaxmi'], [u'insid'], ['rey', u'insid', 'green', 'landmark', 'road', 'cotton'], [u'citi'], [u'citi', 'drop'], [u'nearbi'], ['hosur'], ['dharamapuri'], [u'charg'], ['naka', 'toll'], [u'bangalor', u'charg'], ['hosur', u'charg'], ['kondodi'], ['road'], ['km'], ['noida'], ['hill'], [u'bu', 'stop', 'ksrtc'], ['harsha'], ['km'], ['guiney'], ['marthandam'], ['diesel', u'wast'], [u'insid'], [u'glass', 'sheet', u'noth', 'trade'], [u'transfer', u'everyth'], [u'everyth'], [u'citi', u'insid'], [u'citi'], ['sector', u'distanc', 'marathi', 'hindi', u'outsid', 'showroom'], [u'citi'], [u'citi', u'comfort'], ['thane', u'ghodbund'], ['line'], ['thane', u'waggl', 'space'], ['traffic'], ['line'], ['sunday'], [u'citi'], ['km'], ['jd', 'land', 'road'], ['set'], ['showroom', 'sale'], ['showroom'], ['lunch', 'hotel'], [u'improv'], ['madhuban'], ['khar', u'travel'], [u'industri'], ['person', u'insid', 'one'], [u'roadsid'], [u'insid', 'road'], ['km'], ['km', 'raipur'], ['raipur', u'distanc', 'km', 'face'], ['jogeshwari'], [u'station'], ['jogeshwari', u'parl', 'andheri'], [u'thing', 'phone'], [u'villag'], ['pune', 'vagholi', 'outside', u'mean'], ['road', 'taffic'], [u'villag', u'fortun'], ['vagholi'], ['town'], ['beniroad'], [u'distanc'], ['margaon'], ['front', u'premis', u'develop'], ['way', u'road'], ['bhandup'], ['road', 'highway'], ['pritampura'], [u'villag', u'outsid'], [u'citi'], ['nandurbar'], ['km', u'stay'], [u'distanc', 'km'], ['water'], ['space'], ['town'], ['km', u'hous'], ['darbhanga', 'bhagalpur', 'purniya'], ['patna'], ['showroom'], ['mardhgao', 'vairna'], ['bit'], [u'posit', 'mardhgao'], [u'sourc', u'somebodi'], ['brand', u'sourc'], [u'even'], [u'sourc', 'workload', 'view', u'someth', 'point'], ['km'], ['throughput', 'km'], ['km'], ['way'], ['millennium'], ['malad'], ['millennium'], ['kandivali', 'borivali'], [u'advantag'], ['anandpur', 'ropar'], ['space'], ['dear', 'jwalaji', 'daliriya', 'kangadha'], ['gummidipoondi'], ['km'], [u'citi'], ['thing'], ['use'], [u'workshop', 'wheeler', 'work'], ['workshop', 'maruti'], [u'distanc', 'aravali'], ['workshop'], ['highway'], ['pickup', 'pick'], [u'bu', 'stand', 'nagpur'], [u'citi'], ['jam', 'traffic'], ['nearer', u'hurri', u'citi', 'constraint'], ['nearer', u'citi'], [u'improv'], ['chenampet', u'citi'], ['thampuram', 'thuraipakkam', u'guid'], ['tumkur', 'road'], ['mumbai'], ['mumbai'], ['shop', u'bodi', 'work', 'thiruvallur', 'harsha'], [u'faculti', 'harsha', 'drop', u'park', 'pick', 'thiruvallur'], [u'bridg'], [u'bridg'], [u'bridg', u'govern'], [u'citi', u'outsid'], [u'line', 'showroom', 'nagpur'], ['nagpur'], [u'distanc', u'sale', 'record', 'amravati', 'part', 'bhandara'], ['chandpur', 'varadha', 'traffic'], ['km'], [u'kamate'], ['road'], [u'frontag', u'park'], [u'appoint', u'increas', u'coloni', 'space'], [u'meter', 'highway'], ['self', 'highway'], [u'danger'], ['turn', u'safeti'], [u'improv', 'highway'], [u'improv', u'frontag'], [u'accid', 'traffic'], ['god', 'bichnoli', 'showroom', 'district'], ['dvaraka'], ['km'], ['chalakkudi', 'book', 'option', 'km'], ['option'], [u'deliveri', 'irinjalakuda', 'trishul', 'district'], [u'distanc', 'km'], ['kerala'], ['ernakulum'], [u'insid'], ['grater', 'noida'], ['grater', 'noida', 'road'], [u'citi', u'distanc'], [u'perform', u'distanc', 'letter'], ['kochi'], ['mavelikkara'], [u'hing', 'midc'], [u'citi'], ['nagpur'], [u'citi', u'insid'], ['wade', 'road'], ['ect'], [u'outsid'], ['worli', 'mumbai'], ['showroom', 'alapuz'], ['alapuz'], [u'lavat'], ['front'], ['nodal'], ['kochi'], ['sharayu'], ['goa'], [u'exchang', u'resid', 'south'], ['compound']]\n"
     ]
    }
   ],
   "source": [
    "\n",
    "def rule_q1(sen, ne):\n",
    "    clean_ne = list(set(ne))\n",
    "#     remove_words = [\"improv\", \"custom\", \"servic\", \"peopl\",\"person\",\"facil\",\"avail\",\"good\",\\\n",
    "#                     \"center\",\"centr\",\"car\", \"dealership\", \"vehicl\", \"toyota\", \"problem\",\"work\", \"much\",\\\n",
    "#                    \"thing\", \"possibl\",\"need\"]   #stemmed\n",
    "    remove_words = ['dealership','locat', 'servic', 'center', 'car','place', 'custom', 'toyota', \\\n",
    "                    'facil','time', 'problem', 'centr','home', 'side','vehicl','peopl', 'lot', 'compani',\\\n",
    "                   'day','area','dealer']\n",
    "    clean_ne = [word for word in clean_ne if word not in remove_words]\n",
    "    \n",
    "    save_words = [\"pick\", 'pickup', 'drop', 'insid','outsid', 'eat']  #stemmed\n",
    "    clean_ne = clean_ne + [stemmer.stem(word) for word in sen.split() if stemmer.stem(word) in save_words]\n",
    "    \n",
    "    # rules to merge keywords:\n",
    "    if 'out side' in sen:\n",
    "        clean_ne.append('outside')\n",
    "    if 'high way' in sen:\n",
    "        if 'way' in clean_ne:\n",
    "            clean_ne[clean_ne.index('way')] = 'highway'\n",
    "        else:\n",
    "            clean_ne.append('highway')\n",
    "    if 'pickup' in clean_ne:\n",
    "        clean_ne[clean_ne.index('pickup')] = 'pick'\n",
    "    if 'busstop' in clean_ne:\n",
    "        clean_ne[clean_ne.index('busstop')] = 'bu'\n",
    "    if 'eat' in clean_ne:\n",
    "        clean_ne[clean_ne.index('eat')] = 'food'\n",
    "    if 'canteen' in clean_ne:\n",
    "        clean_ne[clean_ne.index('canteen')] = 'food'\n",
    "    if 'kilomet' in clean_ne:\n",
    "        clean_ne[clean_ne.index('kilomet')] = 'km'\n",
    "    if 'market' in clean_ne:\n",
    "        clean_ne[clean_ne.index('market')] = 'shop'   \n",
    "    clean_ne = list(set(clean_ne))\n",
    "    return clean_ne\n",
    "\n",
    "\n",
    "def process_corpus(x1, pos_tags, general_stop):\n",
    "    # split three categories: 1 no improvemnt 2 with noun 3 others\n",
    "    doc_noimprove = []\n",
    "    doc_nn = []\n",
    "    nn_extracted = []\n",
    "    doc_other = []\n",
    "    for x in x1:\n",
    "        if 'no improvement' in x:\n",
    "            doc_noimprove.append(x)\n",
    "        else:\n",
    "                nn_list = []\n",
    "                sen = x\n",
    "                pos_new = nltk.pos_tag(nltk.word_tokenize(sen))\n",
    "                for token in pos_new:\n",
    "                    if token[1] in pos_tags and not token[0] in general_stop:\n",
    "                        nn_list.append(token[0])\n",
    "                #stemming\n",
    "                for counter,word in enumerate(nn_list):\n",
    "                    nn_list[counter] = stemmer.stem(word)\n",
    "                #apply rule\n",
    "                nn_list = rule_q1(sen, nn_list)\n",
    "                    \n",
    "                if nn_list != []:\n",
    "                    nn_extracted.append(nn_list)\n",
    "                    doc_nn.append(sen)\n",
    "                else:\n",
    "                    doc_other.append(sen)\n",
    "    return doc_noimprove, [doc_nn, nn_extracted], doc_other\n",
    "        \n",
    "nn_corpus = []\n",
    "\n",
    "# English stop words lists\n",
    "stop_words = stopwords.words('english')\n",
    "punctuation_list = [unicode(i) for i in string.punctuation]\n",
    "for punctuation in punctuation_list:\n",
    "    stop_words.append(punctuation)\n",
    "\n",
    "pos_tags = ['NN', 'NNS']\n",
    "                  \n",
    "doc1, doc2, doc3 = process_corpus(content_new, pos_tags, stop_words)\n",
    "\n",
    "doc_nn, nn_extracted = doc2[0], doc2[1]\n",
    "print 'signle sentence with nn', len(doc_nn)\n",
    "print 'no comments', len(doc1)\n",
    "print 'single sentence without nn', len(doc3)\n",
    "print nn_extracted"
   ]
  },
  {
   "cell_type": "code",
   "execution_count": 8,
   "metadata": {},
   "outputs": [
    {
     "name": "stdout",
     "output_type": "stream",
     "text": [
      "Counter({u'citi': 405, 'km': 309, 'road': 195, 'showroom': 110, 'drop': 103, 'highway': 77, u'insid': 75, 'pick': 69, 'town': 67, u'outsid': 56, u'distanc': 52, 'traffic': 45, u'bu': 40, 'district': 37, u'henc': 35, u'villag': 34, 'station': 32, 'way': 31, u'hous': 30, u'hour': 29, 'space': 27, u'branch': 27, 'work': 25, u'charg': 24, 'food': 22, 'part': 22, u'issu': 22, 'need': 21, u'bypass': 19, u'resid': 19, 'dealer': 18, u'transport': 18, u'offic': 17, u'conveni': 17, 'shop': 17, 'stop': 17, 'workshop': 17, u'improv': 17, 'maruti': 16, 'point': 16, 'auto': 15, u'thing': 15, 'infinium': 15, u'staff': 15, 'nagar': 15, u'sale': 14, 'pickup': 14, 'driver': 14, 'lanson': 13, u'tirunelv': 13, u'arrang': 13, u'park': 13, 'person': 13, 'board': 13, 'toll': 12, 'water': 12, 'help': 12, u'increas': 12, 'bit': 12, 'jamnagar': 12, u'everyth': 11, 'rajkot': 11, 'nagercoil': 11, 'e': 11, u'chang': 10, 'market': 10, 'till': 10, 'outside': 10, 'patna': 10, u'month': 9, 'surat': 9, 'nagpur': 9, u'line': 9, 'sector': 8, 'airport': 8, 'tax': 8, 'front': 8, 'camp': 8, u'everyon': 8, 'noida': 8, 'rs': 8, u'sourc': 7, u'difficulti': 7, 'sharayu': 7, u'capit': 7, 'travel': 7, 'outer': 7, 'diesel': 7, 'pune': 7, u'number': 7, 'option': 7, u'noth': 7, 'outlet': 7, 'kolhapur': 7, 'karad': 7, 'brand': 7, u'stay': 7, u'roadsid': 6, u'middl': 6, u'govern': 6, 'madurai': 6, 'tea': 6, 'lucknow': 6, 'vapi': 6, 'room': 6, 'kanyakumari': 6, 'gandhinagar': 6, 'turn': 6, u'condit': 6, u'anyth': 6, 'dsk': 6, 'hyundai': 6, 'one': 6, u'construct': 6, u'hotel': 6, u'minut': 6, 'innova': 6, u'someth': 6, 'honda': 6, 'rajendra': 6, 'raipur': 6, u'pondicherri': 6, 'delhi': 6, u'morn': 6, u'deliveri': 6, 'rush': 6, 'malappuram': 6, u'wast': 6, 'jaipur': 5, 'ahmedabad': 5, 'end': 5, 'map': 5, 'dehradun': 5, 'lunch': 5, u'year': 5, 'midc': 5, 'mahindra': 5, 'harsha': 5, 'corner': 5, u'local': 5, u'bridg': 5, u'bodi': 5, 'bhubaneswar': 5, 'week': 5, u'expens': 5, 'taxi': 5, 'naka': 5, 'dwarka': 5, 'guwahati': 4, 'mumbai': 4, u'direct': 4, 'sign': 4, u'even': 4, 'borivali': 4, 'bhuj': 4, 'palghar': 4, 'visit': 4, 'type': 4, 'dindigul': 4, u'purpos': 4, u'trichi': 4, u'indic': 4, 'chennai': 4, 'sunday': 4, 'gate': 4, 'product': 4, 'haldwani': 4, u'erod': 4, u'bangalor': 4, 'thane': 4, u'coimbator': 4, 'reason': 4, u'rang': 4, u'qualiti': 4, 'tata': 4, u'bikan': 4, u'rickshaw': 4, 'grace': 4, 'karaikudi': 4, 'madgaon': 4, 'show': 4, 'get': 4, 'etc': 4, 'palakkad': 4, 'amana': 4, 'jabalpur': 4, 'panaji': 4, 'bill': 4, u'restaur': 4, u'someon': 4, u'coffe': 4, 'half': 4, 'head': 4, 'hr': 4, 'tuticorin': 4, 'ship': 4, 'face': 4, u'googl': 4, u'other': 4, 'jodhpur': 4, u'appoint': 4, 'land': 4, 'dust': 4, 'goa': 3, 'zone': 3, 'nippon': 3, 'bihar': 3, 'alibaug': 3, u'compar': 3, 'katiar': 3, 'jilla': 3, 'bokaro': 3, u'wait': 3, 'akola': 3, 'use': 3, 'pur': 3, u'hole': 3, u'accid': 3, 'kolkata': 3, 'heart': 3, 'kashipur': 3, u'agenc': 3, 'satara': 3, 'patia': 3, 'margaon': 3, 'rudrapur': 3, 'pathankot': 3, u'train': 3, u'connect': 3, u'safeti': 3, 'profit': 3, 'millennium': 3, 'vasai': 3, 'g': 3, u'toplin': 3, 'south': 3, 'owner': 3, u'circl': 3, 'andheri': 3, 'return': 3, 'nashik': 3, 'price': 3, 'labour': 3, 'petrol': 3, 'gandhidham': 3, u'snack': 3, 'jam': 3, 'hajira': 3, 'thiruvallur': 3, u'respons': 3, 'kollam': 3, u'rupe': 3, 'mud': 3, 'highland': 3, 'come': 3, 'ajmer': 3, 'oil': 3, 'howrah': 3, 'nandurbar': 3, 'worli': 3, 'ahmadabad': 3, 'kerala': 3, u'book': 3, 'take': 3, 'dibrugarh': 3, 'shillong': 3, 'mansarovar': 3, 'gandhi': 3, u'colleg': 3, 'porbandar': 3, 'cuttack': 3, 'west': 3, u'industri': 3, u'palliat': 3, u'kilometr': 3, 'salem': 3, 'mehsana': 2, u'secur': 2, 'tv': 2, 'annamalai': 2, 'kanchipuram': 2, 'varachha': 2, 'risk': 2, 'motor': 2, 'flyover': 2, 'bilaspur': 2, 'kasaragod': 2, u'mysor': 2, u'fortun': 2, 'rathod': 2, 'cost': 2, u'pass': 2, 'tempura': 2, 'vijayawada': 2, u'valu': 2, 'boy': 2, 'k': 2, 'outskirt': 2, 'chinchwad': 2, u'depart': 2, 'compound': 2, 'parbhani': 2, 'metro': 2, 'makhmallabad': 2, u'grass': 2, 'call': 2, 'gujrat': 2, u'glass': 2, u'advantag': 2, u'word': 2, 'mallapuram': 2, 'want': 2, u'satisfact': 2, 'varchha': 2, u'anyon': 2, 'naroda': 2, 'irangalakuda': 2, u'attent': 2, 'srirampur': 2, 'purniya': 2, 'sit': 2, 'varaccha': 2, 'talk': 2, 'approx': 2, u'meter': 2, 'pimpri': 2, u'busi': 2, 'mandya': 2, 'better': 2, 'feel': 2, u'farmer': 2, u'frontag': 2, 'good': 2, u'somebodi': 2, 'vilaspur': 2, 'theni': 2, 'hadapsar': 2, 'system': 2, 'tamiya': 2, u'palac': 2, 'morbi': 2, u'entranc': 2, 'app': 2, 'bhandup': 2, 'rishikesh': 2, 'kanpur': 2, 'shinrai': 2, u'wash': 2, u'open': 2, 'paint': 2, 'friend': 2, u'nobodi': 2, 'kannur': 2, 'sellum': 2, 'vardha': 2, 'bewar': 2, u'shill': 2, u'posit': 2, u'toward': 2, u'provis': 2, 'kattappana': 2, 'kundapura': 2, 'interior': 2, 'navsari': 2, 'rourkela': 2, u'parl': 2, 'bilayat': 2, u'reach': 2, 'malapuram': 2, 'aurangabad': 2, 'jalgaon': 2, 'hosur': 2, u'clean': 2, 'dindugul': 2, 'thanjavur': 2, 'dahisar': 2, 'durgapur': 2, 'comfort': 2, 'ropar': 2, 'kochi': 2, 'satan': 2, u'buse': 2, 'amravati': 2, 'batala': 2, u'requir': 2, 'gwalior': 2, 'taluka': 2, 'tuner': 2, 'danger': 2, 'kovilpatti': 2, u'inconveni': 2, 'ambikapur': 2, 'shrirampur': 2, 'bhubaneshwar': 2, 'vagholi': 2, 'mardhgao': 2, 'journey': 2, 'gunj': 2, 'pm': 2, 'morvi': 2, 'away': 2, 'asansol': 2, u'coloni': 2, 'jogeshwari': 2, 'hindi': 2, 'chattarpur': 2, 'nearer': 2, 'wheeler': 2, 'worker': 2, 'thutukudi': 2, u'velacheri': 2, 'shirdi': 2, u'purchas': 2, 'site': 2, 'panvel': 2, 'rajpura': 2, 'audi': 2, 'amount': 2, 'check': 2, u'speaker': 2, 'hand': 2, 'tolnaka': 2, u'chowdhuri': 2, u'nagor': 2, u'entri': 2, 'money': 2, 'idukki': 2, 'cut': 2, u'thalacherri': 2, 'self': 2, 'vashi': 2, u'complaint': 2, 'easel': 2, 'kadalur': 2, u'sangamn': 2, u'benefit': 2, u'manag': 2, u'emerg': 2, 'toal': 2, 'nanavati': 2, 'pala': 2, 'unit': 2, u'machin': 2, 'reveal': 2, 'pcmc': 2, 'payyanur': 2, 'quarter': 2, 'plaza': 2, 'rampur': 2, 'stand': 2, u'repair': 2, 'guard': 2, 'bombay': 2, 'grater': 2, 'crowd': 2, 'start': 2, u'premis': 2, 'suzuki': 2, 'buy': 2, 'khar': 2, 'wise': 2, u'troubl': 2, 'kandivali': 2, 'proper': 2, 'alapuz': 2, 'thoothukudi': 2, 'vashin': 2, 'chowk': 2, u'talki': 1, 'pattambhi': 1, u'vellor': 1, 'palampur': 1, u'gp': 1, 'dear': 1, 'hospet': 1, 'rod': 1, u'rathor': 1, 'anand': 1, 'india': 1, u'chair': 1, 'disk': 1, 'dhule': 1, 'rd': 1, 'dvaraka': 1, u'sorri': 1, 'ramanathapuram': 1, 'maphasa': 1, 'wardha': 1, u'bike': 1, u'scratch': 1, 'kuddapah': 1, 'td': 1, u'bhusav': 1, 'tirchiroad': 1, 'bandra': 1, 'sound': 1, 'thambaram': 1, 'kumar': 1, 'chidawa': 1, 'dessert': 1, 'rey': 1, 'gind': 1, 'assam': 1, u'scout': 1, 'tirupatur': 1, 'patiala': 1, 'vihar': 1, 'ladyar': 1, 'exact': 1, 'kottayam': 1, 'azartganj': 1, 'level': 1, 'harbor': 1, 'dharmapuri': 1, 'kharagpur': 1, 'sonnur': 1, 'calicut': 1, 'kumbhakonam': 1, 'fogg': 1, 'kalappalam': 1, u'galaxi': 1, 'mahu': 1, 'batter': 1, 'kerla': 1, u'hingan': 1, 'jalana': 1, u'rate': 1, 'medinipur': 1, u'kodgingilu': 1, 'vellapanchavati': 1, 'bengal': 1, 'marathi': 1, u'sum': 1, 'feedback': 1, 'aara': 1, 'patti': 1, u'access': 1, u'abid': 1, 'vidharbh': 1, 'taffic': 1, u'thallacherri': 1, 'uppala': 1, 'pritampura': 1, 'masrur': 1, 'men': 1, u'lodg': 1, 'gangapur': 1, 'kariyar': 1, u'let': 1, u'address': 1, 'path': 1, 'bichnoli': 1, 'ajeera': 1, 'box': 1, 'trial': 1, 'discount': 1, 'trivandram': 1, 'sikandar': 1, 'trichur': 1, 'nagarkovil': 1, 'koduvila': 1, 'opinion': 1, 'rajiv': 1, 'hadapasar': 1, u'chanc': 1, u'mainten': 1, u'employe': 1, 'mc': 1, 'campaign': 1, 'kotmor': 1, 'ermelo': 1, 'khammam': 1, 'gummidipoondi': 1, u'attitud': 1, 'bhimavaram': 1, 'vorli': 1, 'kalahandi': 1, u'visibl': 1, 'naamkum': 1, 'rahta': 1, 'shilong': 1, 'summer': 1, 'shirai': 1, 'gondiya': 1, u'commun': 1, 'allapi': 1, u'afterward': 1, 'dhavada': 1, u'live': 1, 'delearship': 1, 'parasiya': 1, 'plaghar': 1, 'nexa': 1, 'balabhgarh': 1, 'diamond': 1, 'bhavan': 1, 'kharagpurpur': 1, u'relat': 1, 'mira': 1, 'daruheda': 1, 'malad': 1, u'quali': 1, 'sinhgad': 1, u'nirand': 1, 'saguna': 1, 'ok': 1, 'paanoor': 1, 'malai': 1, 'gangawa': 1, u'kalamasseri': 1, 'palankadi': 1, 'wade': 1, 'valla': 1, 'srivilliputhur': 1, u'nearbi': 1, 'ravindra': 1, 'morabi': 1, 'jwalaji': 1, 'mp': 1, 'pathanamthitta': 1, 'mr': 1, 'chindawara': 1, 'kondava': 1, 'muzafferpur': 1, 'root': 1, 'satpur': 1, 'uttarakhand': 1, 'hardaloo': 1, 'iringali': 1, 'give': 1, u'process': 1, 'ernakulum': 1, 'thodibuia': 1, 'view': 1, 'shamshbad': 1, 'earuttubita': 1, 'daliriya': 1, 'chandranagar': 1, u'prioriti': 1, 'adajan': 1, 'sr': 1, 'winter': 1, 'hinjewadi': 1, u'polic': 1, 'hojai': 1, 'goad': 1, 'pure': 1, 'pondani': 1, 'gargya': 1, 'alanaputtam': 1, 'bkc': 1, 'angaadi': 1, u'spot': 1, 'hazard': 1, u'pimpl': 1, 'fa': 1, 'pitampura': 1, 'ova': 1, u'commit': 1, 'chikkudi': 1, u'tumbthakatt': 1, 'man': 1, 'kaunur': 1, 'koria': 1, u'read': 1, 'mhapsa': 1, 'peraij': 1, 'inform': 1, 'mango': 1, 'green': 1, 'bhivadi': 1, 'mayapuri': 1, 'pay': 1, 'jakat': 1, 'punnarlu': 1, 'paan': 1, 'thuraipakkam': 1, 'allahabad': 1, u'namak': 1, u'behav': 1, u'jungl': 1, 'ramnathpuram': 1, u'movi': 1, 'chemanna': 1, u'move': 1, 'manjiri': 1, 'count': 1, 'beguni': 1, u'equip': 1, u'suffer': 1, 'kondodi': 1, u'famili': 1, u'hospit': 1, 'labor': 1, 'margay': 1, u'infrastructur': 1, 'vilupuram': 1, 'teribram': 1, 'clamor': 1, u'holiday': 1, u'sattelit': 1, 'workload': 1, 'sambhapur': 1, 'yashavanthpura': 1, 'junction': 1, 'tourist': 1, 'tanjour': 1, u'estat': 1, 'antara': 1, 'itanagar': 1, 'kayamkulam': 1, 'ozargaon': 1, 'break': 1, 'vanali': 1, 'sundar': 1, 'kekari': 1, 'jd': 1, 'barashi': 1, 'cotton': 1, 'metapallam': 1, 'charkala': 1, 'dombivli': 1, 'samana': 1, 'rohini': 1, 'token': 1, 'bhagalpur': 1, 'bhandara': 1, 'brode': 1, 'vita': 1, 'guiney': 1, 'balladur': 1, u'ghodbund': 1, 'bhoisar': 1, 'kolara': 1, 'kakkannad': 1, 'dealearship': 1, 'plant': 1, 'vijayanagar': 1, 'havalahalii': 1, 'thiruvannamalai': 1, 'ect': 1, 'linkingroad': 1, 'happen': 1, u'differ': 1, 'jamuria': 1, 'topsel': 1, 'es': 1, 'vishakhapatnam': 1, 'tejpur': 1, 'raigunj': 1, 'god': 1, 'dealerdhip': 1, 'closer': 1, 'gajuwaka': 1, 'bhimvaram': 1, 'farm': 1, u'yeval': 1, 'anandpur': 1, 'palam': 1, 'kankavali': 1, u'textil': 1, 'nagarcooil': 1, u'drink': 1, u'advanc': 1, u'wherea': 1, u'situat': 1, u'templ': 1, 'chauraha': 1, 'gaon': 1, u'morbe': 1, 'ecr': 1, 'wasai': 1, 'marai': 1, 'thirupattur': 1, 'jila': 1, 'dinkar': 1, u'sunshin': 1, 'haldia': 1, 'kkuda': 1, 'sardarpura': 1, 'kunj': 1, 'varkkala': 1, 'vijay': 1, 'tilwara': 1, 'purniar': 1, 'manger': 1, 'dearship': 1, u'carri': 1, u'exchang': 1, 'tapasvi': 1, 'ardiya': 1, u'instruct': 1, 'array': 1, u'brocad': 1, 'banglor': 1, 'agra': 1, 'vattapalav': 1, 'britannia': 1, 'perambattur': 1, 'sheet': 1, u'poonamalle': 1, 'top': 1, 'chembur': 1, 'burshanpur': 1, u'circu': 1, 'thiroor': 1, 'taratala': 1, 'chandpur': 1, 'summit': 1, 'rajivghandi': 1, 'thirumangai': 1, 'rest': 1, 'pump': 1, 'sachet': 1, 'ashapur': 1, 'karkala': 1, 'kharadi': 1, 'tinsukia': 1, 'shirur': 1, 'chakan': 1, 'nakodar': 1, 'raigad': 1, u'1day': 1, 'b': 1, 'sadra': 1, 'burger': 1, 'ato': 1, u'tree': 1, u'sunni': 1, 'patialo': 1, 'shilphata': 1, 'chindwara': 1, 'raurkela': 1, u'colour': 1, 'vashind': 1, 'churu': 1, u'kozhilcod': 1, 'sengalpatta': 1, 'bhilai': 1, 'pudukkottai': 1, u'kalamass': 1, 'ghaziabad': 1, u'kozhikod': 1, u'anywher': 1, 'yelhanka': 1, 'indirapuram': 1, 'warli': 1, u'cuddalor': 1, 'panchshil': 1, u'properli': 1, 'border': 1, u'padpadgan': 1, 'muradabad': 1, 'counter': 1, 'sport': 1, 'bardoli': 1, 'min': 1, 'wasan': 1, u'rout': 1, 'mundarkkaya': 1, 'vadodara': 1, 'koraput': 1, 'motipuram': 1, u'build': 1, 'season': 1, 'nagger': 1, 'sonipat': 1, 'rikshaw': 1, u'shade': 1, 'singur': 1, 'kai': 1, 'banaskata': 1, 'aundh': 1, 'koikor': 1, 'kottarakkara': 1, 'trivandrum': 1, 'varacha': 1, 'chitradurga': 1, 'mathuman': 1, u'ekkattuthang': 1, u'segment': 1, u'class': 1, 'chauhan': 1, u'guid': 1, 'barista': 1, 'nabha': 1, 'rathnagiri': 1, 'vaishali': 1, 'burmunda': 1, 'kr': 1, 'parur': 1, 'yavat': 1, 'cidko': 1, 'chikhalthana': 1, 'cobra': 1, 'kurla': 1, 'crust': 1, 'rto': 1, 'nodal': 1, u'kamate': 1, 'etawah': 1, 'session': 1, 'madhgaon': 1, u'permiss': 1, 'nalagarh': 1, u'marthal': 1, 'dhanbad': 1, 'impact': 1, u'nois': 1, u'solut': 1, 'hingewadi': 1, 'shiroor': 1, u'duranc': 1, u'thamarasheri': 1, 'chenampet': 1, 'loaction': 1, u'caurom': 1, 'trade': 1, 'malegaon': 1, 'plate': 1, 'dsr': 1, 'katappana': 1, 'mgf': 1, 'sunlight': 1, 'rajpalk': 1, u'pocket': 1, 'aravali': 1, 'patel': 1, 'shambhosh': 1, 'cushion': 1, 'ananda': 1, u'vadkanjeri': 1, 'banner': 1, u'dirti': 1, u'banara': 1, 'thrissur': 1, 'karkadoma': 1, u'relianc': 1, 'sengalpatt': 1, 'udhampur': 1, 'twice': 1, 'ghotkar': 1, 'bavdan': 1, 'vision': 1, u'substat': 1, u'respond': 1, 'viva': 1, 'set': 1, 'gour': 1, 'nut': 1, u'entrenc': 1, 'basistha': 1, 'buddha': 1, 'thodupuzha': 1, 'panipat': 1, 'kangra': 1, u'close': 1, 'noapara': 1, u'particl': 1, u'kucheeri': 1, u'statu': 1, 'renolt': 1, 'kharghar': 1, u'progress': 1, 'yesterday': 1, u'experi': 1, 'meerut': 1, 'suryapet': 1, 'bedbihar': 1, u'signatur': 1, 'right': 1, 'jharkhand': 1, 'manelikra': 1, 'madhuban': 1, u'cycl': 1, 'raver': 1, 'spare': 1, 'punjab': 1, 'faizbabad': 1, u'news': 1, 'pattukottai': 1, 'rudra': 1, 'swift': 1, 'bhimavaramu': 1, u'popul': 1, 'hundai': 1, 'narooli': 1, 'throughput': 1, 'trichendur': 1, 'omr': 1, 'region': 1, 'compton': 1, 'ramp': 1, u'pottam': 1, 'talanagar': 1, 'baitul': 1, 'item': 1, 'baitun': 1, 'mani': 1, u'cab': 1, 'papad': 1, 'load': 1, u'suggest': 1, 'sagarpada': 1, u'indor': 1, 'irinjalakuda': 1, 'chalakkudi': 1, 'pot': 1, 'period': 1, 'walk': 1, 'jharsuguda': 1, u'kollwal': 1, u'advertis': 1, u'damag': 1, 'junner': 1, 'sari': 1, 'elathur': 1, 'sibsagar': 1, 'nagaon': 1, u'territori': 1, 'velur': 1, 'ksrtc': 1, 'mark': 1, 'tamarsheri': 1, u'besid': 1, u'mean': 1, 'chunchura': 1, 'madakpura': 1, 'orissa': 1, 'koturekara': 1, 'chandigarh': 1, 'life': 1, 'vilupurum': 1, 'graveyard': 1, 'amano': 1, 'meghalaya': 1, u'poonamal': 1, 'surendra': 1, 'narola': 1, 'hadapsur': 1, 'sreerampur': 1, 'aathur': 1, 'eroad': 1, 'arthur': 1, 'case': 1, 'east': 1, 'maniktala': 1, 'panikoili': 1, u'align': 1, u'durat': 1, 'mothi': 1, 'rasungar': 1, 'jay': 1, 'colaba': 1, 'itava': 1, 'vadalur': 1, 'thirvaluvar': 1, 'doha': 1, u'alavakkod': 1, u'deliv': 1, 'yelanka': 1, 'thampuram': 1, u'soit': 1, u'io': 1, 'darghati': 1, 'mod': 1, u'sevic': 1, u'rajahmundri': 1, 'boisar': 1, 'tirupathur': 1, 'jargon': 1, u'develop': 1, 'preetvihar': 1, 'varanasi': 1, u'perform': 1, 'kotharud': 1, 'make': 1, 'thiravalla': 1, 'darbhanga': 1, 'member': 1, 'rajarampuri': 1, 'thirupur': 1, 'ray': 1, 'sultan': 1, 'nh': 1, 'bomvaom': 1, 'reclean': 1, 'chirur': 1, u'futil': 1, 'bosari': 1, 'tiruppur': 1, 'sir': 1, u'koduv': 1, 'adimali': 1, 'kondatti': 1, u'wherev': 1, 'shirrai': 1, 'ramnagar': 1, u'cross': 1, 'khandawara': 1, 'usmanabad': 1, 'bursela': 1, 'varasa': 1, u'inconvi': 1, 'mahalaxmi': 1, u'client': 1, 'dharamapuri': 1, 'sangli': 1, 'gomatinagar': 1, 'landmark': 1, u'kudayil': 1, u'guidanc': 1, 'maruthi': 1, 'dinajpur': 1, 'pimpalgaon': 1, 'vagali': 1, u'distric': 1, 'kolar': 1, 'nizampet': 1, 'chhattisgarh': 1, 'kilo': 1, 'touch': 1, 'sambalpur': 1, 'manjeeri': 1, 'siddhartha': 1, 'yashavanthapura': 1, 'ham': 1, 'field': 1, u'wagl': 1, u'churchgat': 1, 'esprit': 1, u'cabl': 1, 'jalandhar': 1, 'door': 1, u'cherri': 1, u'tilichaerri': 1, 'loan': 1, 'kangadha': 1, u'newspap': 1, 'matunga': 1, 'araria': 1, 'bhosari': 1, u'ladi': 1, u'bia': 1, 'rajpur': 1, 'mavelikkara': 1, 'burden': 1, 'rajasthan': 1, 'faizabad': 1, 'gadh': 1, 'navratri': 1, 'telitparamba': 1, 'name': 1, 'nagarcoil': 1, u'cleanli': 1, 'hadwani': 1, 'wadala': 1, u'thalaseeri': 1, u'collect': 1, 'vairna': 1, u'accessori': 1, 'vatapattamam': 1, 'kancheepuram': 1, 'morena': 1, 'singanallur': 1, u'coat': 1, 'kanniyakumari': 1, 'kalitala': 1, 'kanjipuram': 1, 'karkal': 1, u'suppli': 1, u'congest': 1, 'bongaigaon': 1, 'pali': 1, 'borah': 1, 'nagao': 1, 'baramati': 1, 'thier': 1, 'sivagangai': 1, 'mandoli': 1, 'ratlam': 1, u'deduct': 1, u'bellari': 1, u'faculti': 1, 'gangnagar': 1, u'ramnag': 1, 'mobil': 1, 'gajipur': 1, 'sriparampattur': 1, 'santacruz': 1, 'pioneer': 1, 'rameshwaram': 1, u'leav': 1, 'buldhana': 1, 'koyambedu': 1, 'prabhadevi': 1, u'pankag': 1, 'virar': 1, 'chowrasta': 1, 'dhanabad': 1, 'parasia': 1, 'maninagar': 1, u'garbag': 1, 'night': 1, 'bardhhaman': 1, 'shifon': 1, u'lakozi': 1, 'dadar': 1, 'tower': 1, 'tumkur': 1, 'govandi': 1, 'sub': 1, 'kottamanglam': 1, 'constraint': 1, 'albet': 1, u'waggl': 1, u'surround': 1, 'hindustan': 1, 'panthalam': 1, 'maharashtra': 1, u'hadups': 1, 'checkup': 1, 'bodhguya': 1, 'letter': 1, 'ola': 1, 'gorakhpur': 1, 'makar': 1, u'lavat': 1, 'garb': 1, 'deharadun': 1, 'beniroad': 1, 'due': 1, u'warranti': 1, u'puducherri': 1, 'weather': 1, 'wadi': 1, 'daud': 1, 'chatapur': 1, 'allunga': 1, 'kunnamkulam': 1, 'pitopur': 1, u'automobil': 1, 'tomak': 1, u'transfer': 1, 'hey': 1, 'saraswat': 1, 'jaam': 1, 'avail': 1, 'hill': 1, 'vengara': 1, 'forward': 1, 'ramnadu': 1, u'headach': 1, 'form': 1, u'hing': 1, 'renukot': 1, 'srigonda': 1, u'ford': 1, u'navig': 1, 'dule': 1, 'madhur': 1, 'tamilnadu': 1, 'claim': 1, 'eragipalam': 1, 'chariali': 1, 'bug': 1, 'wagholi': 1, 'fort': 1, 'revdegaon': 1, u'namakk': 1, 'kankarwar': 1, 'podi': 1, u'thamarasseri': 1, 'latur': 1, 'wish': 1, 'anshavad': 1, u'municip': 1, 'uludhumalaipettai': 1, 'thalippurampil': 1, 'record': 1, u'limit': 1, 'trishul': 1, 'palanpur': 1, u'otherwis': 1, 'chidambaram': 1, 'magadi': 1, 'uber': 1, u'creat': 1, u'ghodband': 1, 'sion': 1, 'drive': 1, 'virudhunagar': 1, 'inn': 1, 'kanoor': 1, 'irutto': 1, 'gomathi': 1, u'desir': 1, 'nimkathana': 1, 'jhansi': 1, 'malda': 1, 'fill': 1, 'kushaiguda': 1, 'saini': 1, 'tara': 1, 'suber': 1, 'saturday': 1, 'anaamalai': 1, 'parikh': 1, u'raini': 1, 'sasaram': 1, 'test': 1, 'babysit': 1, 'panchayat': 1, 'gurgaon': 1, u'hurri': 1, 'bardi': 1, 'monday': 1, 'kananad': 1, u'rubi': 1, 'symbol': 1, 'junagadh': 1, 'mahanagarpalica': 1, 'marthandam': 1, 'tambram': 1, u'upsid': 1, 'varadha': 1, 'gap': 1, 'kampaloor': 1, 'nadakkavu': 1, 'nandanam': 1, 'phone': 1, u'jubilihil': 1, u'talasori': 1, 'ushmanabad': 1, 'sewer': 1, 'borad': 1, 'kanjrallipali': 1})\n"
     ]
    }
   ],
   "source": [
    "\n",
    "df = df_count(nn_extracted)\n",
    "print df"
   ]
  },
  {
   "cell_type": "markdown",
   "metadata": {},
   "source": [
    "# Rule-based clustering"
   ]
  },
  {
   "cell_type": "code",
   "execution_count": 9,
   "metadata": {
    "scrolled": false
   },
   "outputs": [
    {
     "name": "stdout",
     "output_type": "stream",
     "text": [
      "No. of clustered sentences: 78\n",
      "No. of unclustered sentences: 2481\n"
     ]
    }
   ],
   "source": [
    "def write_file(corpus, idx_list, word):\n",
    "    if not os.path.isdir(\"cluster/%s\" %word):\n",
    "            os.mkdir(\"cluster/%s\" %word)\n",
    "    f1 = open('cluster/%s/%s_comment.txt' % (word, word), 'w+')\n",
    "    for idx in idx_list:\n",
    "        f1.write('%s\\n' %corpus[idx])\n",
    "    f1.close()\n",
    "\n",
    "if (not os.path.isdir(\"cluster\")):\n",
    "    os.mkdir(\"cluster\")\n",
    "name_list = {}\n",
    "clustered_index = []\n",
    "\n",
    "cluster_rule_list = ['bu', 'shop', 'food']\n",
    "for word in cluster_rule_list:\n",
    "    idx_set = []\n",
    "    for idx, doc in enumerate(nn_extracted):\n",
    "        if word in doc:\n",
    "            idx_set.append(idx)\n",
    "        write_file(doc_nn, idx_set, word)\n",
    "        name_list[word] = idx_set\n",
    "        clustered_index = clustered_index + idx_set\n",
    "\n",
    "clustered_index = set(clustered_index)\n",
    "unclustered_index = list(set(range(len(nn_extracted))) - clustered_index)\n",
    "print \"No. of clustered sentences:\", len(clustered_index)\n",
    "print \"No. of unclustered sentences:\", len(unclustered_index)\n",
    "\n",
    "    \n"
   ]
  },
  {
   "cell_type": "markdown",
   "metadata": {
    "collapsed": true
   },
   "source": [
    "## clustering using LSI"
   ]
  },
  {
   "cell_type": "code",
   "execution_count": 10,
   "metadata": {},
   "outputs": [
    {
     "name": "stderr",
     "output_type": "stream",
     "text": [
      "Using TensorFlow backend.\n"
     ]
    }
   ],
   "source": [
    "from gensim import corpora\n",
    "from gensim.models import TfidfModel\n",
    "from gensim.models import LsiModel\n",
    "from gensim.similarities import MatrixSimilarity\n",
    "from sklearn.metrics.pairwise import cosine_similarity\n",
    "\n",
    "nn_extracted = [nn_extracted[i] for i in unclustered_index]\n",
    "doc_nn = [doc_nn[i] for i in unclustered_index]\n",
    "\n",
    "dictionary = corpora.Dictionary(nn_extracted)\n",
    "corpus_gensim = [dictionary.doc2bow(doc) for doc in nn_extracted]\n",
    "tfidf = TfidfModel(corpus_gensim)\n",
    "corpus_tfidf = tfidf[corpus_gensim]\n",
    "lsi = LsiModel(corpus_tfidf, id2word=dictionary, num_topics=100)\n",
    "lsi_proj = lsi[corpus_tfidf]\n",
    "lsi_index = MatrixSimilarity(lsi[corpus_tfidf])\n",
    "similarity_matrix = np.array([lsi_index[lsi[corpus_tfidf[i]]]\n",
    "                                for i in range(len(nn_extracted))])\n"
   ]
  },
  {
   "cell_type": "code",
   "execution_count": 11,
   "metadata": {},
   "outputs": [],
   "source": [
    "# print similarity_matrix\n",
    "\n",
    "def f(x):\n",
    "    return (x+1)/2\n",
    "f = np.vectorize(f, otypes=[np.float])\n",
    "similarity_matrix = f(similarity_matrix)     # convert similarity_matrix from -1~1 to 0~1\n",
    "# print similarity_matrix"
   ]
  },
  {
   "cell_type": "code",
   "execution_count": 12,
   "metadata": {},
   "outputs": [
    {
     "name": "stdout",
     "output_type": "stream",
     "text": [
      "Estimated number of clusters: 10\n",
      "2481\n",
      "clusters written to folder: cluster_q6_v2\n"
     ]
    }
   ],
   "source": [
    "from sklearn.cluster import SpectralClustering\n",
    "import os\n",
    "\n",
    "n_clusters_ = 10\n",
    "sc = SpectralClustering(n_clusters=n_clusters_, affinity='precomputed').fit(similarity_matrix)\n",
    "labels = sc.labels_\n",
    "print('Estimated number of clusters: %d' % n_clusters_)\n",
    "print len(labels)\n",
    "\n",
    "def write_file(n_clusters_, labels, doc_nn, nn_extracted):\n",
    "    if (not os.path.isdir(\"cluster_%s_v2\" %question_class)):\n",
    "        os.mkdir(\"cluster_%s_v2\" %question_class)\n",
    "    for indice_cluster in range(n_clusters_):\n",
    "        # print indice_cluster\n",
    "        idx_list = np.where(labels == indice_cluster)[0]\n",
    "        f1 = open('cluster_%s_v2/%dth_cluster.txt' % (question_class, indice_cluster), 'w+')\n",
    "        for idx in idx_list:\n",
    "            f1.write('%s %s\\n' % (doc_nn[idx], nn_extracted[idx]))\n",
    "    f1.close()\n",
    "    print(\"clusters written to folder: cluster_%s_v2\" %question_class)\n",
    "    \n",
    "write_file(n_clusters_, labels, doc_nn, nn_extracted)"
   ]
  }
 ],
 "metadata": {
  "kernelspec": {
   "display_name": "python2_pf",
   "language": "python",
   "name": "python2_pf"
  },
  "language_info": {
   "codemirror_mode": {
    "name": "ipython",
    "version": 2
   },
   "file_extension": ".py",
   "mimetype": "text/x-python",
   "name": "python",
   "nbconvert_exporter": "python",
   "pygments_lexer": "ipython2",
   "version": "2.7.13"
  }
 },
 "nbformat": 4,
 "nbformat_minor": 2
}
