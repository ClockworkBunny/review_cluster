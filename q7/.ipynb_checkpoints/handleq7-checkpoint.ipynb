{
 "cells": [
  {
   "cell_type": "code",
   "execution_count": 153,
   "metadata": {},
   "outputs": [
    {
     "name": "stdout",
     "output_type": "stream",
     "text": [
      "small\n"
     ]
    }
   ],
   "source": [
    "import numpy as np\n",
    "import cPickle\n",
    "import nltk\n",
    "import heapq\n",
    "import os\n",
    "from nltk.corpus import stopwords\n",
    "from collections import Counter\n",
    "from sklearn.metrics.pairwise import pairwise_distances\n",
    "import itertools\n",
    "import string\n",
    "from nltk.tokenize import sent_tokenize\n",
    "import re\n",
    "from nltk.stem.porter import *\n",
    "stemmer = PorterStemmer()\n",
    "print stemmer.stem('small')\n",
    "#import pyemd\n",
    "#loading word embeddings\n",
    "#wv = KeyedVectors.load_word2vec_format(\"../w2v/w2vemb.bin\", binary=True)"
   ]
  },
  {
   "cell_type": "markdown",
   "metadata": {},
   "source": [
    "# Visualize functions"
   ]
  },
  {
   "cell_type": "code",
   "execution_count": 154,
   "metadata": {
    "collapsed": true
   },
   "outputs": [],
   "source": [
    "def write_file(n_clusters_, labels, corpus, mapping_dict, test_corpus):\n",
    "    for indice_cluster in range(n_clusters_):\n",
    "        # print indice_cluster\n",
    "        idx_list = np.where(labels == indice_cluster)[0]\n",
    "        f1 = open('cluster_%s/%dth_cluster.txt' % (question_class, indice_cluster), 'w+')\n",
    "        for idx in idx_list:\n",
    "            f1.write('%s %s\\n' % (corpus[mapping_dict[idx] - 1], test_corpus[idx]))\n",
    "    f1.close()\n",
    "\n",
    "def write_ne(nes, question_class, mapping_dict):\n",
    "    f1 = open('ne_%s.txt' % question_class, 'w+')\n",
    "    for idx, doc in enumerate(nes):\n",
    "        f1.write('%s %s\\n' % (mapping_dict[idx], ' '.join(doc)))\n",
    "    f1.close()    \n",
    "\n",
    "def wmd_compute(x1, x2):\n",
    "    return wv.wmdistance(x1, x2)\n",
    "\n",
    "def analyze_cluster(n_clusters_, labels, corpus, mapping_dict, test_corpus, filename):\n",
    "    num = 0\n",
    "    other_content = []\n",
    "    for indice_cluster in range(n_clusters_):\n",
    "        idx_list = np.where(labels == indice_cluster)[0]\n",
    "        if len(idx_list) > 4:\n",
    "            f1 = open('%s_%s/%dth_cluster.txt' % (filename, question_class, indice_cluster), 'w+')\n",
    "            for idx in idx_list:\n",
    "                f1.write('%s %s\\n' % (corpus[mapping_dict[idx] - 1], test_corpus[idx]))\n",
    "            f1.close()\n",
    "        if len(idx_list) < 4:\n",
    "            num = num + len(idx_list)\n",
    "            for idx in idx_list:\n",
    "                other_content.append(corpus[mapping_dict[idx] - 1])\n",
    "    f1 = open('%s_%s/other_cluster.txt' % (filename, question_class), 'w+')\n",
    "    for doc in other_content:\n",
    "        f1.write('%s\\n' % doc)\n",
    "    f1.close()\n",
    "    print num"
   ]
  },
  {
   "cell_type": "markdown",
   "metadata": {},
   "source": [
    "# Reading Raw text"
   ]
  },
  {
   "cell_type": "code",
   "execution_count": 155,
   "metadata": {},
   "outputs": [
    {
     "name": "stdout",
     "output_type": "stream",
     "text": [
      "length of comments 463\n"
     ]
    }
   ],
   "source": [
    "question_class = 'q7'\n",
    "fname = '..//dataset//%s.txt' % question_class\n",
    "with open(fname) as f:\n",
    "    content = f.readlines()\n",
    "# you may also want to remove whitespace characters like `\\n` at the end of each line\n",
    "content = [x.strip() for x in content]\n",
    "print 'length of comments', len(content)\n",
    "f.close()"
   ]
  },
  {
   "cell_type": "code",
   "execution_count": 156,
   "metadata": {},
   "outputs": [
    {
     "name": "stdout",
     "output_type": "stream",
     "text": [
      "length of new content 1067\n",
      "signle sentence with nn 902\n",
      "single sentence without nn 154\n",
      "no comments 11\n"
     ]
    }
   ],
   "source": [
    "def rule_q7(sen, ne):\n",
    "    clean_ne = list(set(ne))\n",
    "    remove_words = ['custom','wait','car','facil','dealership','toyota','center',\n",
    "                    'room','improv','servic','arrang','owner','peopl','time']\n",
    "    clean_ne = [word for word in clean_ne if word not in remove_words and len(word)>1]    \n",
    "    save_words = ['clean','cleanli']\n",
    "    clean_ne = list(set(clean_ne + [stemmer.stem(word) for word in sen.split() if stemmer.stem(word) in save_words]))\n",
    "    if len(clean_ne) > 1 and 'area' in clean_ne:\n",
    "        clean_ne.remove('area')\n",
    "    if len(clean_ne) < 2 and 'area' in clean_ne:\n",
    "        clean_ne[clean_ne.index('area')] = 'space'\n",
    "    if 'place' in clean_ne:\n",
    "        clean_ne[clean_ne.index('place')] = 'space'\n",
    "    if 'chair' in clean_ne:\n",
    "        clean_ne[clean_ne.index('chair')] = 'seat'\n",
    "    if 'sofa' in clean_ne:\n",
    "        clean_ne[clean_ne.index('sofa')] = 'seat'\n",
    "    if 'coffe' in clean_ne:\n",
    "        clean_ne[clean_ne.index('coffe')] = 'drink'\n",
    "    if 'water' in clean_ne:\n",
    "        clean_ne[clean_ne.index('water')] = 'drink'  \n",
    "    if 'tea' in clean_ne:\n",
    "        clean_ne[clean_ne.index('tea')] = 'drink'         \n",
    "    if 'clean' in clean_ne:\n",
    "        clean_ne[clean_ne.index('clean')] = 'cleanli'\n",
    "    if 'canteen' in clean_ne:\n",
    "        clean_ne[clean_ne.index('canteen')] = 'food'\n",
    "    return clean_ne\n",
    "\n",
    "def clean_corpus(x1):\n",
    "    x_new = []\n",
    "    for x in x1:\n",
    "        if 'no improvement' in x:\n",
    "            continue\n",
    "        else:\n",
    "            x_new.append(x)\n",
    "    return x_new\n",
    "\n",
    "def process_corpus(x1, pos_tags, general_stop,sent_ind): #new process_corpus func.===============================\n",
    "    # split three categories: 1 no improvemnt 2 with noun 3 others\n",
    "    doc_noimprove = []\n",
    "    doc_nn = []\n",
    "    nn_extracted = []\n",
    "    doc_other = []\n",
    "    r_ind = []\n",
    "    for ind,x in enumerate(x1):\n",
    "        if 'no improvement' in x:\n",
    "            doc_noimprove.append(x)\n",
    "            r_ind.append(ind)\n",
    "        else:\n",
    "            nn_list = []\n",
    "            sen = x\n",
    "            pos_new = nltk.pos_tag(nltk.word_tokenize(sen))\n",
    "            for token in pos_new:\n",
    "                if token[1] in pos_tags and not token[0] in general_stop:\n",
    "                    nn_list.append(token[0])\n",
    "            nn_list = [stemmer.stem(word) for word in nn_list] #stemming\n",
    "            nn_list = rule_q7(sen, nn_list) # apply rule\n",
    "                    \n",
    "            if nn_list != []:\n",
    "                nn_extracted.append(nn_list)\n",
    "                doc_nn.append(sen)\n",
    "            else:\n",
    "                doc_other.append(sen)\n",
    "                r_ind.append(ind)\n",
    "    sent_ind = [i for j, i in enumerate(sent_ind) if j not in r_ind]\n",
    "    return doc_noimprove, [doc_nn, nn_extracted], doc_other, sent_ind\n",
    "        \n",
    "nn_corpus = []\n",
    "\n",
    "# English stop words lists\n",
    "stop_words = stopwords.words('english')\n",
    "punctuation_list = [unicode(i) for i in string.punctuation]\n",
    "\n",
    "for punctuation in punctuation_list:\n",
    "    stop_words.append(punctuation)\n",
    "\n",
    "# split comment with multi-sentence into multi-comments\n",
    "content_new = []\n",
    "sent_to_comm_id = []\n",
    "for comment_ind, comment in enumerate(content):\n",
    "    sents = sent_tokenize(comment)\n",
    "    if len(sents) > 1:\n",
    "        for i in range(len(sents)):\n",
    "            content_new.append(sents[i])\n",
    "    else:\n",
    "        content_new.append(comment)\n",
    "    sent_to_comm_id += [comment_ind]*len(sents)\n",
    "\n",
    "pos_tags = ['NN', 'NNS']\n",
    "doc1, doc2, doc3, sent_comm_ind = process_corpus(content_new, pos_tags, stop_words, sent_to_comm_id)\n",
    "\n",
    "doc_nn, nn_extracted = doc2[0], doc2[1]\n",
    "print 'length of new content', len(content_new)\n",
    "print 'signle sentence with nn', len(doc_nn)\n",
    "print 'single sentence without nn', len(doc3)\n",
    "print 'no comments', len(doc1)"
   ]
  },
  {
   "cell_type": "code",
   "execution_count": 157,
   "metadata": {
    "scrolled": true
   },
   "outputs": [
    {
     "name": "stdout",
     "output_type": "stream",
     "text": [
      "Counter({'space': 234, 'drink': 108, 'seat': 49, 'cleanli': 44, 'tv': 27, 'ac': 25, u'driver': 19, 'staff': 17, u'hour': 16, 'food': 15, u'magazin': 12, 'need': 10, 'person': 10, u'someth': 8, 'work': 8, u'vehicl': 7, u'thing': 7, 'showroom': 6, u'loung': 6, 'way': 6, 'comfort': 5, 'lot': 5, u'issu': 5, u'snack': 4, u'locat': 4, 'lunch': 4, u'game': 4, 'bit': 4, 'side': 4, u'condit': 4, 'problem': 4, 'fi': 4, u'charg': 4, u'increas': 3, u'satisfact': 3, u'ladi': 3, u'anyth': 3, u'entertain': 3, 'point': 3, u'newspap': 3, 'system': 3, u'famili': 3, 'bathroom': 3, 'pm': 3, u'tabl': 3, u'attent': 3, u'appoint': 3, u'execut': 2, 'guwahati': 2, 'zone': 2, u'disturb': 2, u'refresh': 2, u'respond': 2, u'respons': 2, 'ask': 2, u'news': 2, u'chang': 2, 'option': 2, 'park': 2, u'glass': 2, 'ola': 2, u'compani': 2, 'town': 2, u'everyon': 2, 'supervisor': 2, u'process': 2, u'henc': 2, u'sit': 2, u'welcom': 2, u'suggest': 2, u'someon': 2, 'phone': 2, 'km': 2, 'concept': 1, 'help': 1, 'show': 1, u'queri': 1, u'consum': 1, 'paper': 1, u'comfortless': 1, 'clock': 1, u'entitl': 1, 'children': 1, u'languag': 1, 'money': 1, 'mascot': 1, 'take': 1, 'washroom': 1, 'complaint': 1, 'assam': 1, u'temperatur': 1, u'volum': 1, 'front': 1, 'birbhum': 1, 'hall': 1, 'bank': 1, u'term': 1, 'drop': 1, 'sharayu': 1, u'cramp': 1, 'idea': 1, u'touch': 1, 'cost': 1, 'home': 1, 'expert': 1, 'profit': 1, 'haijenik': 1, 'token': 1, 'maruti': 1, 'millennium': 1, u'experi': 1, u'machin': 1, u'ba': 1, u'insid': 1, u'amen': 1, 'screen': 1, u'lobbi': 1, u'satisfi': 1, 'host': 1, 'advisor': 1, 'stage': 1, 'box': 1, u'perform': 1, 'lucknow': 1, 'ramp': 1, u'outsid': 1, 'plan': 1, 'feel': 1, u'qualiti': 1, 'period': 1, u'beautif': 1, 'fast': 1, 'tap': 1, 'cafeteria': 1, 'size': 1, 'etc': 1, 'visit': 1, u'capac': 1, 'sunlight': 1, 'mark': 1, 'camera': 1, u'privaci': 1, u'croudi': 1, 'bathouroom': 1, 'cabin': 1, u'deliveri': 1, u'bottl': 1, 'relax': 1, 'amana': 1, 'hotel': 1, u'eatabl': 1, u'furnitur': 1, 'women': 1, 'rush': 1, 'look': 1, u'whenev': 1, u'provid': 1, u'tree': 1, 'bed': 1, 'air': 1, 'pace': 1, u'stall': 1, 'limit': 1, u'meet': 1, 'control': 1, 'toilet': 1, 'counter': 1, 'mirror': 1, 'drive': 1, u'manner': 1, 'breakfast': 1, u'no': 1, u'receiv': 1, u'travel': 1, 'member': 1, 'read': 1, u'book': 1, 'naroda': 1, 'season': 1, u'answer': 1, u'channel': 1, u'polit': 1, 'wheeler': 1, 'ft': 1, 'floor': 1, 'dust': 1, 'wifi': 1, 'lcd': 1, u'hospit': 1, 'interior': 1, u'programm': 1, u'everyth': 1})\n",
      "majot list:\n",
      "['staff', 'tv', 'food', 'cleanli', u'magazin', 'seat', 'space', u'hour', 'ac', 'drink', u'driver']\n",
      "comment ratio 76.2419006479\n"
     ]
    }
   ],
   "source": [
    "def df_count(x1):\n",
    "    # split three categories: 1 no improvemnt 2 with noun 3 others\n",
    "    text = []\n",
    "    for ab in x1:\n",
    "        text = text + ab\n",
    "    df = Counter(text)\n",
    "    return df\n",
    "\n",
    "def filter_ne(test_corpus, df):  # assuming each review contain one aspect\n",
    "    for xth, doc in enumerate(test_corpus):\n",
    "        if len(doc)>1:\n",
    "            df_words = [df[word] for word in doc]\n",
    "            idx =  heapq.nlargest(1, xrange(len(df_words)), key=df_words.__getitem__)\n",
    "            test_corpus[xth] = [stemmer.stem(doc[ith]) for ith in idx]\n",
    "    return test_corpus\n",
    "\n",
    "def write_file(corpus, idx_list, word):\n",
    "    f1 = open('cluster/%s/%s_comment.txt' % (word, word), 'w+')\n",
    "    for idx in idx_list:\n",
    "        f1.write('%s\\n' %corpus[idx])\n",
    "    f1.close()  \n",
    "    \n",
    "def main_category(df_list, nn_clean, corpus,sc_ind): # new main_cate func. with common index\n",
    "    if (not os.path.isdir(\"cluster\")):\n",
    "        os.mkdir(\"cluster\")\n",
    "    name_list = {}\n",
    "    major_list = [word for word in df_list if df_list[word]>10]\n",
    "    print \"majot list:\\n\", major_list\n",
    "    scidx_set = []\n",
    "    for word in major_list:\n",
    "        if not os.path.isdir(\"cluster/%s\" %word):\n",
    "            os.mkdir(\"cluster/%s\" %word)\n",
    "        idx_set = []\n",
    "        for idx, doc in enumerate(nn_clean):\n",
    "            if word in doc:\n",
    "                idx_set.append(idx)\n",
    "        write_file(doc_nn, idx_set, word)\n",
    "        name_list[word] = idx_set\n",
    "        scidx_set += [sc_ind[i] for i in idx_set]\n",
    "    return name_list, len(set(scidx_set))\n",
    "\n",
    "df = df_count(nn_extracted)\n",
    "nn_clean = filter_ne(nn_extracted, df)\n",
    "df = df_count(nn_clean)\n",
    "print df\n",
    "dict_map = dict(df.most_common())\n",
    "name_list,nb_comm = main_category(dict_map, nn_clean,doc_nn,sent_comm_ind)\n",
    "\n",
    "print 'comment ratio', float(nb_comm)/len(content)*100"
   ]
  },
  {
   "cell_type": "markdown",
   "metadata": {
    "scrolled": true
   },
   "source": [
    "# Split Large Cluster"
   ]
  },
  {
   "cell_type": "code",
   "execution_count": 158,
   "metadata": {
    "collapsed": true
   },
   "outputs": [],
   "source": [
    "from nltk.corpus import wordnet as wn\n",
    "from itertools import product\n",
    "def sim_check_word(word1,word2):\n",
    "    syns1 = wn.synsets(word1)\n",
    "    syns2 = wn.synsets(word2)\n",
    "    sims = []\n",
    "    for sense1, sense2 in product(syns1, syns2):\n",
    "        d = wn.path_similarity(sense1, sense2)\n",
    "        sims.append((d))\n",
    "    return max(sims)\n",
    "\n",
    "def sim_check_list(list1,list2):\n",
    "    sims = []\n",
    "    for word in list1:\n",
    "        for word2 in list2:\n",
    "            sims.append(sim_check_word(word, word2))\n",
    "    return max(sims)\n",
    "\n",
    "\n",
    "def l2_extract(corpus, idx_list):\n",
    "    num = 0\n",
    "    other_content = []\n",
    "    adj_batchlist = []\n",
    "    local_content = []\n",
    "    for idx in idx_list:\n",
    "        doc = corpus[idx]\n",
    "        local_content.append(doc)\n",
    "        adj_list = []\n",
    "        for word in doc.split():\n",
    "            try:\n",
    "                tmp = [wn.synsets(word)[hh].pos() for hh in range(len(wn.synsets(word)))] \n",
    "            except IndexError:\n",
    "                tmp = None\n",
    "            if 'a' in tmp:\n",
    "                adj_list.append(word)\n",
    "        adj_batchlist.append(adj_list)\n",
    "    \n",
    "    \n",
    "    return adj_batchlist, local_content\n",
    "\n",
    "tt_list, local_content = l2_extract(doc_nn, name_list['space'])\n",
    "\n",
    "\n"
   ]
  },
  {
   "cell_type": "code",
   "execution_count": 159,
   "metadata": {},
   "outputs": [
    {
     "name": "stdout",
     "output_type": "stream",
     "text": [
      "[['more', 'sitting'], ['common'], ['center'], ['common', 'other'], ['informed'], ['common'], ['comfortable'], ['much'], ['no', 'comfortable'], ['front', 'side', 'covered', 'hot', 'beautiful', 'no'], ['most'], ['center', 'small'], ['available'], ['small'], ['more', 'creative'], ['no', 'sitting'], ['less'], ['more'], [], ['improved'], [], [], [], ['long'], ['small'], ['small'], ['small'], ['improved'], ['good', 'sitting', 'long'], ['little', 'big', 'available'], ['more', 'comfortable'], ['outside', 'good', 'much', 'proper', 'more'], ['expanded', 'better'], ['small'], ['small'], ['small', 'no'], ['no', 'proper'], ['on', 'same'], ['other', 'less'], ['separate', 'available'], ['little', 'better'], ['good'], [], ['good'], [], ['improved'], ['more', 'sitting', 'proper'], ['able'], ['available', 'sitting', 'more', 'difficult'], ['improved'], ['small'], [], ['separate'], [], ['like'], ['on'], [], ['available', 'well', 'available'], ['much', 'good'], [], ['no'], ['go'], ['little', 'bigger'], ['good'], ['minimum', 'difficult', 'more'], ['more', 'attached'], [], ['comfortable'], [], ['sitting', 'small', 'all', 'available'], ['more', 'witting'], ['available', 'different', 'better'], ['visible'], ['more', 'sitting', 'sufficient', 'all'], ['like', 'go'], ['less'], ['proper'], ['improved', 'small', 'much'], ['more', 'comfortable'], ['small'], ['little', 'more'], ['sitting', 'more'], ['separate'], ['better', 'increased'], ['increased'], ['different', 'like'], ['correct', 'other', 'clean', 'like', 'all', 'all', 'much', 'better'], ['small', 'large', 'comfortable'], ['small'], ['improved', 'other', 'all'], ['improved'], ['center', 'more'], ['open'], ['hot'], ['safe', 'good', 'less', 'no'], ['improved'], ['changed', 'good'], ['small', 'big'], [], ['comfortable'], ['on'], ['sufficient', 'small'], ['tired', 'proper', 'all'], ['long', 'wide'], ['increased'], ['on'], ['more', 'broad', 'short'], [], ['fast'], [], ['improved'], [], ['center', 'rough', 'no', 'outside', 'less', 'no', 'unclean'], ['increased'], ['improved', 'more'], ['limited'], ['separate'], ['like'], ['less'], ['proper'], ['small'], ['increased', 'better'], ['good'], ['last'], [], ['comfortable'], [], [], ['sitting', 'less'], ['improved'], ['small'], ['net'], ['improved'], [], ['center', 'less'], ['liked'], ['good'], ['large', 'better'], ['center', 'limited', 'standing', 'standing', 'outside', 'large', 'better'], ['improved'], [], ['less'], ['no'], ['comparable'], ['small'], [], ['open', 'good', 'sitting'], ['separate'], ['big'], ['outside', 'center'], [], [], ['first'], ['big', 'good'], ['small'], ['small'], ['big'], ['sitting', 'good'], ['tired'], ['different'], ['found', 'open'], ['big'], ['small', 'even'], ['good', 'big', 'some', 'more', 'able'], ['large'], ['some', 'like'], ['more', 'better', 'small', 'square', 'fit', 'more'], ['short', 'small'], ['sitting', 'good'], ['improved'], ['some', 'better'], ['no'], [], ['first', 'all'], [], [], ['proper'], [], ['more'], ['more', 'better'], ['seated', 'informed'], ['more', 'sitting'], ['most', 'occupied', 'more', 'sitting'], [], ['more', 'proper'], ['proper', 'sitting'], ['center', 'more', 'much', 'less', 'same', 'treated'], ['larger', 'better'], ['cool'], ['good'], ['like'], ['improved'], ['more', 'comfortable', 'available', 'better'], [], ['available', 'available', 'better'], ['long'], ['center', 'sitting'], ['less', 'same'], ['more', 'less'], ['complete', 'open'], ['no', 'personal', 'like'], [], [], ['left', 'increased', 'helpful'], ['proper'], [], [], ['on', 'no', 'available'], [], ['on'], ['front', 'other', 'less'], ['different'], ['proper', 'sitting'], [], ['different'], ['same'], ['some', 'different', 'center'], ['first', 'different'], ['first'], ['more'], ['proper', 'sitting'], ['open', 'same'], ['different'], ['proper', 'sitting'], [], [], ['much', 'no', 'concrete', 'on'], [], ['available', 'center', 'available'], ['big', 'comfortable', 'good', 'like', 'seated'], [], ['open', 'used'], ['able', 'sitting', 'out', 'open', 'good'], []]\n"
     ]
    }
   ],
   "source": [
    "print tt_list"
   ]
  },
  {
   "cell_type": "code",
   "execution_count": 160,
   "metadata": {
    "collapsed": true
   },
   "outputs": [],
   "source": [
    "set_rule = [['clean', 'net', 'cleaning', 'dirty'], ['more', 'large', 'less', 'much', 'small', 'big'], ['sitting', 'standing'], ['different', 'separated', 'separate'],['comfortable']]\n",
    "def space_split_run(adj_list, set_rule):\n",
    "    labels = []\n",
    "    for tmp_set in adj_list:\n",
    "        if len(tmp_set) > 0:\n",
    "            scores = []\n",
    "            for rule_list in set_rule:\n",
    "                scores.append(sim_check_list(tmp_set, rule_list))\n",
    "            if max(scores) > 0.7:\n",
    "                labels.append(scores.index(max(scores)))\n",
    "            else:\n",
    "                labels.append(1)\n",
    "        else:\n",
    "            labels.append(1)\n",
    "    return labels\n",
    "idx_labels = space_split_run(tt_list,set_rule)\n",
    "\n",
    "def write_all(content_list, idx_labels, keyword):\n",
    "    for i in range(-1, max(idx_labels)+2):\n",
    "        f1 = open('cluster/%s/%s_%d.txt' %(keyword, keyword,i),  'w+')\n",
    "        for idx, doc in enumerate(content_list):\n",
    "            if idx_labels[idx] == i:\n",
    "                f1.write('%s\\n' % (content_list[idx]))\n",
    "        f1.close()\n",
    "write_all(local_content, idx_labels, 'space')\n",
    "                "
   ]
  }
 ],
 "metadata": {
  "kernelspec": {
   "display_name": "Python 2",
   "language": "python",
   "name": "python2"
  },
  "language_info": {
   "codemirror_mode": {
    "name": "ipython",
    "version": 2
   },
   "file_extension": ".py",
   "mimetype": "text/x-python",
   "name": "python",
   "nbconvert_exporter": "python",
   "pygments_lexer": "ipython2",
   "version": "2.7.13"
  }
 },
 "nbformat": 4,
 "nbformat_minor": 2
}
