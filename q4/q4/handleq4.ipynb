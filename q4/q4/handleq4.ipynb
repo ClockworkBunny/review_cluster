{
 "cells": [
  {
   "cell_type": "code",
   "execution_count": 89,
   "metadata": {
    "collapsed": false
   },
   "outputs": [
    {
     "name": "stdout",
     "output_type": "stream",
     "text": [
      "vacuum\n"
     ]
    }
   ],
   "source": [
    "import numpy as np\n",
    "import cPickle\n",
    "import nltk\n",
    "import heapq\n",
    "import os\n",
    "from nltk.corpus import stopwords\n",
    "from collections import Counter\n",
    "from sklearn.metrics.pairwise import pairwise_distances\n",
    "import itertools\n",
    "import string\n",
    "from nltk.tokenize import sent_tokenize\n",
    "import re\n",
    "from nltk.stem.porter import *\n",
    "stemmer = PorterStemmer()\n",
    "print stemmer.stem('vacuum')"
   ]
  },
  {
   "cell_type": "markdown",
   "metadata": {},
   "source": [
    "# Visualize functions"
   ]
  },
  {
   "cell_type": "code",
   "execution_count": 90,
   "metadata": {
    "collapsed": true
   },
   "outputs": [],
   "source": [
    "def write_file(n_clusters_, labels, corpus, mapping_dict, test_corpus):\n",
    "    for indice_cluster in range(n_clusters_):\n",
    "        # print indice_cluster\n",
    "        idx_list = np.where(labels == indice_cluster)[0]\n",
    "        f1 = open('cluster_%s/%dth_cluster.txt' % (question_class, indice_cluster), 'w+')\n",
    "        for idx in idx_list:\n",
    "            f1.write('%s %s\\n' % (corpus[mapping_dict[idx] - 1], test_corpus[idx]))\n",
    "    f1.close()\n",
    "\n",
    "\n",
    "def write_ne(nes, question_class, mapping_dict):\n",
    "    f1 = open('ne_%s.txt' % question_class, 'w+')\n",
    "    for idx, doc in enumerate(nes):\n",
    "        f1.write('%s %s\\n' % (mapping_dict[idx], ' '.join(doc)))\n",
    "    f1.close()    \n",
    "\n",
    "def wmd_compute(x1, x2):\n",
    "    return wv.wmdistance(x1, x2)\n",
    "\n",
    "def analyze_cluster(n_clusters_, labels, corpus, mapping_dict, test_corpus, filename):\n",
    "    num = 0\n",
    "    other_content = []\n",
    "    for indice_cluster in range(n_clusters_):\n",
    "        idx_list = np.where(labels == indice_cluster)[0]\n",
    "        if len(idx_list) > 4:\n",
    "            f1 = open('%s_%s/%dth_cluster.txt' % (filename, question_class, indice_cluster), 'w+')\n",
    "            for idx in idx_list:\n",
    "                f1.write('%s %s\\n' % (corpus[mapping_dict[idx] - 1], test_corpus[idx]))\n",
    "            f1.close()\n",
    "        if len(idx_list) < 4:\n",
    "            num = num + len(idx_list)\n",
    "            for idx in idx_list:\n",
    "                other_content.append(corpus[mapping_dict[idx] - 1])\n",
    "    f1 = open('%s_%s/other_cluster.txt' % (filename, question_class), 'w+')\n",
    "    for doc in other_content:\n",
    "        f1.write('%s\\n' % doc)\n",
    "    f1.close()\n",
    "    print num"
   ]
  },
  {
   "cell_type": "markdown",
   "metadata": {},
   "source": [
    "# Reading Raw text"
   ]
  },
  {
   "cell_type": "code",
   "execution_count": 91,
   "metadata": {
    "collapsed": false
   },
   "outputs": [
    {
     "name": "stdout",
     "output_type": "stream",
     "text": [
      "length of comments 1146\n",
      "length of new content 2725\n",
      "signle sentence with nn 1992\n",
      "single sentence without nn 713\n",
      "no comments 20\n"
     ]
    }
   ],
   "source": [
    "def rule_q4(sen, ne):\n",
    "    clean_ne = list(set(ne))\n",
    "    remove_words = ['car', 'vehicl','improv','dealership','custom','receiv','satisfact','respond','servic','time',\n",
    "                    'innova','center','facil','feel','ok','tell','problem','pay','dealer','attent','hurri','condit',\n",
    "                    'ant','fine','deliver','get','question','deliveri','need','quality','day','side','kind','chang',\n",
    "                    'honda','visit','told','speak','ask','requir','maruti','cleanli','henc','place','area','hand',\n",
    "                    'compani','process','qualiti','care','outsid','complaint']\n",
    "    clean_ne = [word for word in clean_ne if word not in remove_words and len(word)>1]    \n",
    "    save_words = ['polish','wash','interior','wait','extra','rupe','check','vacuum','neat','tidy','clean',\n",
    "                  'insid','ac','dry','engin']\n",
    "    clean_ne = list(set(clean_ne + [stemmer.stem(word) for word in sen.split() if word in save_words]))\n",
    "    \n",
    "    # rules to merge keywords:\n",
    "    if 'rupe' in clean_ne:\n",
    "        clean_ne[clean_ne.index('rupe')] = 'charg'\n",
    "    if 'cost' in clean_ne:\n",
    "        clean_ne[clean_ne.index('cost')] = 'charg'\n",
    "    if 'money' in clean_ne:\n",
    "        clean_ne[clean_ne.index('money')] = 'charg'\n",
    "    if 'insid' in clean_ne:\n",
    "        clean_ne[clean_ne.index('insid')] = 'interior'\n",
    "    if 'window' in clean_ne:\n",
    "        clean_ne[clean_ne.index('window')] = 'glass'\n",
    "    if 'dirt' in clean_ne:\n",
    "        clean_ne[clean_ne.index('dirt')] = 'dust'  \n",
    "    if 'manag' in clean_ne:\n",
    "        clean_ne[clean_ne.index('manag')] = 'supervisor'\n",
    "    if 'advisor' in clean_ne:\n",
    "        clean_ne[clean_ne.index('advisor')] = 'supervisor'  \n",
    "    if 'worker' in clean_ne:\n",
    "        clean_ne[clean_ne.index('worker')] = 'staff'      \n",
    "    if 'cloth' in clean_ne:\n",
    "        clean_ne[clean_ne.index('cloth')] = 'polish'    \n",
    "#     if 'worker' in clean_ne:\n",
    "#         clean_ne[clean_ne.index('telephon')] = 'call'\n",
    "#     if 'messag' in clean_ne:\n",
    "#         clean_ne[clean_ne.index('messag')] = 'sm'\n",
    "#     if 'km' in clean_ne:\n",
    "#         clean_ne[clean_ne.index('km')] = 'locat'\n",
    "#     if 'book' in clean_ne:\n",
    "#         clean_ne[clean_ne.index('book')] = 'appointment'\n",
    "    # rules to seperate keywords:\n",
    "    if 'water' in clean_ne and 'wash' in sen:\n",
    "        clean_ne[clean_ne.index('water')] = 'wash'\n",
    "    if 'water' in clean_ne and 'stain' in sen:\n",
    "        clean_ne[clean_ne.index('water')] = 'stain'        \n",
    "#     if 'week' in clean_ne and 'appointment' in sen:\n",
    "#         clean_ne[clean_ne.index('week')] = 'appointment'\n",
    "#     if 'month' in clean_ne and 'appointment' in sen:\n",
    "#         clean_ne[clean_ne.index('month')] = 'appointment'\n",
    "    clean_ne = list(set(clean_ne))\n",
    "    return clean_ne\n",
    "\n",
    "def clean_corpus(x1):\n",
    "    x_new = []\n",
    "    for x in x1:\n",
    "        if 'no improvement' in x:\n",
    "            continue\n",
    "        else:\n",
    "            x_new.append(x)\n",
    "    return x_new\n",
    "\n",
    "\n",
    "def process_corpus(x1, pos_tags, general_stop):\n",
    "    # split three categories: 1 no improvemnt 2 with noun 3 others\n",
    "    doc_noimprove = []\n",
    "    doc_nn = []\n",
    "    nn_extracted = []\n",
    "    doc_other = []\n",
    "    for x in x1:\n",
    "        if 'no improvement' in x:\n",
    "            doc_noimprove.append(x)\n",
    "        else:\n",
    "            nn_list = []\n",
    "            sen = x\n",
    "            pos_new = nltk.pos_tag(nltk.word_tokenize(sen))\n",
    "            for token in pos_new:\n",
    "                if token[1] in pos_tags and not token[0] in general_stop:\n",
    "                    nn_list.append(token[0])\n",
    "            nn_list = [stemmer.stem(word) for word in nn_list] #stemming\n",
    "            nn_list = rule_q4(sen, nn_list) # apply rule\n",
    "                    \n",
    "            if nn_list != []:\n",
    "                nn_extracted.append(nn_list)\n",
    "                doc_nn.append(sen)\n",
    "            else:\n",
    "                doc_other.append(sen)\n",
    "    return doc_noimprove, [doc_nn, nn_extracted], doc_other\n",
    "        \n",
    "\n",
    "\n",
    "question_class = 'q4'\n",
    "fname = '..//dataset//%s.txt' % question_class\n",
    "with open(fname) as f:\n",
    "    content = f.readlines()\n",
    "# you may also want to remove whitespace characters like `\\n` at the end of each line\n",
    "content = [x.strip() for x in content]\n",
    "print 'length of comments', len(content)\n",
    "f.close()\n",
    "# split comment with multi-sentence into multi-comments\n",
    "content_new = []\n",
    "for comment in content:\n",
    "    sents = sent_tokenize(comment)\n",
    "    if len(sents) > 1:\n",
    "        for i in range(len(sents)):\n",
    "            content_new.append(sents[i])\n",
    "    else:\n",
    "        content_new.append(comment)\n",
    "print 'length of new content', len(content_new)\n",
    "# print content_new\n",
    "\n",
    "nn_corpus = []\n",
    "# English stop words lists\n",
    "# stop_words = stopwords.words('english')\n",
    "stop_words = stopwords = ['i','me','my','myself','we','our','ours','ourselves','you','your','yours','yourself',\n",
    "                          'yourselves','he','him','his','himself','she','her','good','fr','rs','hers','herself',\n",
    "                          'it','its','itself','they','them','their','theirs','themselves','what','which','who',\n",
    "                          'whom','this','that','these','those','am','is','time','something','are','was','were',\n",
    "                          'be','been','do','does','did','doing','a','an','the','and','but','if','or','because',\n",
    "                          'as','until','while','of','at','by','for','take','better','ve','with','about','against',\n",
    "                          'into','through','during','before','to','from','in','out','on','off','over','under',\n",
    "                          'again','further','then','once', 'after','didn','don','ft','have','had','has','having','had',\n",
    "                          'here','there','when','where','why','how','all','any','both','each','few','more','most','other',\n",
    "                          'some','such','only','doesn','sq','own','same','so','than','too','very','can','will','just',\n",
    "                          'should','now','bit','anything','till','thing','things','toyota','hrs','km','sta','pm',\n",
    "                          'everything','feedback','part','parts','issue','issues','ask','way','use','give','giving',\n",
    "                          'gives','sometimes','focus','lot','work','works','need','needs','think','bring','people',\n",
    "                          'person']\n",
    "punctuation_list = [unicode(i) for i in string.punctuation]\n",
    "\n",
    "for punctuation in punctuation_list:\n",
    "    stop_words.append(punctuation)\n",
    "\n",
    "pos_tags = ['NN', 'NNS']\n",
    "doc1, doc2, doc3 = process_corpus(content_new, pos_tags, stop_words)\n",
    "\n",
    "doc_nn, nn_extracted = doc2[0], doc2[1]\n",
    "print 'signle sentence with nn', len(doc_nn)\n",
    "print 'single sentence without nn', len(doc3)\n",
    "print 'no comments', len(doc1)"
   ]
  },
  {
   "cell_type": "markdown",
   "metadata": {
    "scrolled": true
   },
   "source": [
    "# Document Frequency"
   ]
  },
  {
   "cell_type": "code",
   "execution_count": 92,
   "metadata": {
    "collapsed": false
   },
   "outputs": [
    {
     "name": "stdout",
     "output_type": "stream",
     "text": [
      "Counter({'clean': 842, u'wash': 208, 'staff': 118, 'check': 85, 'dust': 57, 'water': 52, 'interior': 40, u'charg': 34, 'supervisor': 25, u'polish': 24, u'complaint': 18, u'glass': 17, 'stain': 15, u'engin': 12, 'vacuum': 10, 'tire': 10, 'door': 9, 'oil': 9, 'labor': 8, 'wait': 8, 'cloth': 6, 'point': 5, 'seat': 5, u'showroom': 5, u'depart': 5, 'system': 5, 'call': 5, u'align': 5, u'toward': 5, u'centr': 5, 'mat': 5, u'respons': 5, u'drive': 5, u'execut': 4, u'locat': 4, 'number': 4, 'look': 4, u'term': 4, 'mud': 4, 'road': 4, 'product': 4, 'spot': 4, 'client': 4, 'paper': 3, 'night': 3, u'rate': 3, 'proper': 3, 'diesel': 3, u'chemic': 3, u'paint': 3, u'bodi': 3, u'accid': 3, 'ac': 3, 'mirror': 3, u'sit': 3, u'person': 3, u'explan': 2, 'brain': 2, 'touch': 2, u'concentr': 2, 'return': 2, u'mechan': 2, 'front': 2, 'follow': 2, u'manpow': 2, u'expect': 2, u'year': 2, 'home': 2, u'handov': 2, 'space': 2, u'experi': 2, u'driver': 2, u'purpo': 2, 'spare': 2, 'shine': 2, u'respon': 2, 'fault': 2, u'dri': 2, 'trial': 2, u'machan': 2, 'extra': 2, u'import': 2, u'mistak': 2, u'mark': 2, 'top': 2, u'downsid': 2, 'workshop': 2, u'lot': 2, 'board': 2, 'ram': 2, 'brand': 2, u'present': 2, 'hour': 2, 'bill': 2, 'neat': 2, 'inform': 2, u'detail': 2, 'gate': 2, u'resourc': 2, 'end': 2, 'payment': 2, 'portion': 2, 'infant': 1, 'dickey': 1, 'crista': 1, u'photo': 1, u'nowaday': 1, 'connect': 1, u'shoe': 1, 'chair': 1, 'delay': 1, u'grous': 1, u'polici': 1, 'graph': 1, u'cleaness': 1, u'offic': 1, 'behalf': 1, 'scratch': 1, u'anyon': 1, u'purcha': 1, 'team': 1, 'plate': 1, u'transpar': 1, u'express': 1, 'break': 1, 'mention': 1, 'half': 1, 'word': 1, u'loss': 1, 'clutch': 1, 'list': 1, 'bay': 1, 'twice': 1, 'guy': 1, 'week': 1, u'fortun': 1, 'tea': 1, u'knowledg': 1, u'plant': 1, u'procedur': 1, u'finish': 1, 'patch': 1, u'even': 1, u'statu': 1, u'wire': 1, u'tier': 1, 'section': 1, 'correct': 1, u'machin': 1, u'scratech': 1, u'inspect': 1, 'hyundai': 1, 'standard': 1, 'discount': 1, 'job': 1, 'base': 1, 'outer': 1, 'come': 1, 'madhuban': 1, u'boy': 1, u'purpos': 1, u'fit': 1, u'carless': 1, 'reason': 1, u'cleanl': 1, 'period': 1, u'vechicl': 1, 'load': 1, 'repair': 1, 'note': 1, 'pot': 1, u'clariti': 1, 'dehradun': 1, 'one': 1, 'bonnet': 1, u'instruct': 1, u'purchas': 1, 'brush': 1, u'open': 1, 'tomorrow': 1, 'market': 1, u'capac': 1, u'cleaniless': 1, 'tata': 1, u'citi': 1, u'silenc': 1, u'morn': 1, u'accessori': 1, u'wiper': 1, 'minor': 1, 'life': 1, 'gear': 1, u'villag': 1, u'equip': 1, 'share': 1, u'appli': 1, 'ford': 1, 'technician': 1, u'scrack': 1, u'reentri': 1, u'greas': 1, 'sound': 1, 'wise': 1, u'dirti': 1, 'placer': 1, 'type': 1, 'see': 1, 'air': 1, u'somebodi': 1, 'record': 1, u'remain': 1, u'whatev': 1, u'posit': 1, u'arrang': 1, u'everyon': 1, u'steer': 1, 'lanson': 1, 'control': 1, u'featur': 1, 'ad': 1, 'mind': 1, 'head': 1, 'deep': 1, u'cant': 1, u'motiv': 1, u'underbodi': 1, 'supervison': 1, 'ship': 1, 'bhilar': 1, 'cream': 1, u'min': 1, u'headlight': 1, u'member': 1, 'labour': 1, u'roadsid': 1, u'failur': 1, u'thousand': 1, 'wheel': 1, 'camera': 1, u'price': 1, 'dambar': 1, u'rais': 1, u'supervi': 1, 'dikki': 1, 'man': 1, u'appoint': 1, u'dark': 1, u'weld': 1, 'liquid': 1, 'charger': 1, 'request': 1, u'rule': 1, 'face': 1, 'pipe': 1, u'ignor': 1, 'traffic': 1})\n",
      "majot list:\n",
      "['vacuum', u'polish', 'staff', 'tire', 'labor', 'stain', u'complaint', 'water', u'wash', 'wait', 'door', u'glass', 'supervisor', 'check', u'engin', 'interior', 'oil', 'dust', u'charg', 'cloth', 'clean']\n"
     ]
    }
   ],
   "source": [
    "from collections import Counter\n",
    "def df_count(x1):\n",
    "    # split three categories: 1 no improvemnt 2 with noun 3 others\n",
    "    text = []\n",
    "    for ab in x1:\n",
    "        text = text + ab\n",
    "    df = Counter(text)\n",
    "    return df\n",
    "\n",
    "def filter_ne(test_corpus, df):  # assuming each review contain one aspect\n",
    "    for xth, doc in enumerate(test_corpus):\n",
    "        if len(doc)>1:\n",
    "            df_words = [df[word] for word in doc]\n",
    "            idx =  heapq.nlargest(1, xrange(len(df_words)), key=df_words.__getitem__)\n",
    "            test_corpus[xth] = [stemmer.stem(doc[ith]) for ith in idx]\n",
    "    return test_corpus\n",
    "\n",
    "def write_file(corpus, idx_list, word):\n",
    "    f1 = open('cluster/%s/%s_comment.txt' % (word, word), 'w+')\n",
    "    for idx in idx_list:\n",
    "        f1.write('%s\\n' %corpus[idx])\n",
    "    f1.close()\n",
    "    \n",
    "    \n",
    "def main_category(df_list, nn_clean, corpus):\n",
    "    if (not os.path.isdir(\"cluster\")):\n",
    "        os.mkdir(\"cluster\")\n",
    "    name_list = {}\n",
    "    major_list = [word for word in df_list if df_list[word]>5]\n",
    "    print \"majot list:\\n\", major_list\n",
    "    for word in major_list:\n",
    "        if not os.path.isdir(\"cluster/%s\" %word):\n",
    "            os.mkdir(\"cluster/%s\" %word)\n",
    "        idx_set = []\n",
    "        for idx, doc in enumerate(nn_clean):\n",
    "            if word in doc:\n",
    "                idx_set.append(idx)\n",
    "        write_file(doc_nn, idx_set, word)\n",
    "        name_list[word] = idx_set\n",
    "    return name_list\n",
    "\n",
    "nn_clean = filter_ne(nn_extracted, df)\n",
    "df = df_count(nn_clean)\n",
    "print df\n",
    "dict_map = dict(df.most_common())\n",
    "name_list = main_category(dict_map, nn_clean,doc_nn)"
   ]
  },
  {
   "cell_type": "markdown",
   "metadata": {},
   "source": [
    "# Split Large Cluster"
   ]
  },
  {
   "cell_type": "code",
   "execution_count": 93,
   "metadata": {
    "collapsed": false
   },
   "outputs": [
    {
     "name": "stdout",
     "output_type": "stream",
     "text": [
      "[['clean', 'inside'], ['clean', 'inside'], ['good'], ['clean'], ['even'], ['out', 'clean'], ['clean'], ['clean'], ['clean', 'inside'], ['clean'], ['clean', 'clean', 'inside'], ['proper'], ['more', 'proper'], ['clean', 'back', 'on', 'clean'], ['proper', 'interior'], ['like', 'on', 'some', 'many', 'clean', 'charged', 'better'], ['clean'], ['other', 'center', 'due', 'different', 'chemical'], ['better', 'well', 'chemical', 'used', 'clean'], ['clean'], ['clean'], ['clean'], ['still', 'same', 'clean', 'no', 'other'], ['no', 'other', 'clean'], ['clean', 'on'], ['clean'], ['clean'], ['front', 'inside', 'clean'], ['still', 'inside', 'up', 'found', 'inside', 'clean'], ['clean'], ['proper'], ['clean', 'small', 'like'], ['local', 'clean', 'just', 'clean', 'internal', 'clean'], ['still', 'clean'], ['happy'], ['last', 'little', 'bad', 'focused', 'on'], ['proper'], ['clean'], ['just', 'clean'], ['clean'], ['clean', 'interior'], ['clean'], [], ['clean'], ['clean'], ['clean', 'outside', 'inside'], ['clean', 'on', 'all'], ['on', 'small', 'clean'], ['clean'], ['proper', 'clean'], ['clean'], [], [], ['clean', 'outside'], ['clean'], ['clean', 'on', 'clean'], ['proper', 'inside'], ['good', 'happy'], [], ['due', 'clean', 'made', 'unclean'], [], ['dry', 'clean', 'clean'], ['clean', 'other', 'clean', 'charged', 'dry'], ['clean', 'clear', 'later'], ['clean'], ['clean', 'on'], ['many'], ['clean'], ['clean'], ['clean'], ['clean'], ['clean'], ['clean'], ['clean'], ['clean', 'bad'], ['proper', 'clean'], ['clean'], ['clean'], ['more'], ['clean', 'proper'], ['proper'], ['clean', 'good', 'clean', 'good'], ['proper', 'more', 'cooperative'], ['proper'], ['clean'], ['clean'], ['clean'], ['all', 'inside', 'outside', 'clean'], ['clean', 'open', 'due', 'collected'], ['clean'], ['inside', 'clean'], ['clean'], ['clean'], ['other', 'clean'], ['clean'], ['even', 'available', 'on', 'experienced', 'good', 'clean'], ['clean'], ['more', 'on', 'clean', 'clean'], ['first', 'on', 'proper'], ['clean'], ['outside', 'side', 'clean'], ['little', 'little', 'on', 'clean'], ['good', 'clean'], ['clean'], ['clean'], ['clean', 'interior'], ['clean', 'clean', 'clean'], ['clean', 'bottom', 'side', 'improved'], ['clean', 'even'], ['clean', 'small'], ['clean'], ['improved', 'clean'], ['first', 'clean'], ['received', 'proper', 'clean'], ['clean'], ['clean'], ['interior', 'improved'], ['some', 'clean', 'clean', 'clean'], ['center', 'clean'], ['clean'], ['more', 'clean'], [], ['clean', 'cleaner'], ['little', 'on'], ['clean'], ['first', 'clean'], ['clean'], ['clean', 'inside'], [], ['first', 'later', 'all'], ['inside', 'clean'], ['clean', 'like', 'interior'], ['clean', 'proper'], ['clean'], ['clean'], ['clean', 'new'], ['clean'], ['inside'], ['go', 'complete', 'no'], ['clean', 'small', 'small', 'like', 'clean'], ['open', 'many', 'on', 'on', 'deep', 'on', 'clean', 'up'], [], ['clean', 'outside', 'inside', 'little', 'up', 'like'], ['clean'], ['internal', 'proper', 'full'], ['back', 'proper'], ['improved', 'clean'], ['clean', 'dry'], ['clean'], ['clean'], ['correct', 'fine'], ['interior'], [], ['some', 'kind'], ['on'], ['improved', 'clean', 'side', 'inside', 'clean', 'clean', 'all', 'side'], ['improved'], ['clean'], ['clean'], ['clean'], ['clean'], ['clean', 'clean', 'inside'], ['kept', 'good', 'right'], ['proper', 'interior'], ['clean', 'clean', 'inside', 'clean'], ['clean'], ['clean'], ['proper'], ['complete', 'front'], ['clean'], ['clean', 'better', 'clean', 'material'], ['earlier', 'informed'], ['clean'], ['clean', 'outside', 'clean'], [], [], ['even'], ['good'], ['good'], [], ['improved', 'clean'], [], [], ['clean'], ['improved', 'inside', 'clean', 'clean', 'all', 'side'], ['clean'], ['internal'], ['clean'], ['all', 'clean'], ['outside', 'clean', 'inside', 'clean'], ['clean'], ['clean'], ['clean'], ['side', 'good', 'clean', 'inside', 'like', 'other', 'side', 'clean', 'all', 'side'], ['clean', 'on', 'near'], ['even', 'clean'], [], ['improved', 'clean'], ['clean'], [], ['clean', 'inside'], ['internal'], ['clean', 'clean'], [], ['clean', 'all', 'side', 'clean', 'clean'], ['on', 'clean', 'well'], ['on'], ['many', 'same', 'on'], ['clean', 'inside'], ['well', 'even', 'clean'], ['clean', 'side', 'improved', 'clean'], ['all', 'some', 'improved'], ['clean', 'inside'], ['on', 'clean'], ['clean', 'wrong'], ['go', 'clean'], ['clean', 'inside'], ['center', 'clean'], ['improved', 'clean', 'inside'], ['clean'], ['clean'], ['proper'], ['clean', 'on'], ['clean'], ['clean', 'interior', 'clean'], ['clean', 'even', 'polish'], [], ['proper', 'clean', 'other', 'wise'], ['up'], ['following', 'proper', 'clean'], ['some', 'on'], ['clean'], ['same', 'clean', 'all'], ['clean', 'inside'], ['clean', 'inside'], ['clean'], ['general', 'cleaner', 'clean'], ['clean'], [], ['clean'], ['able', 'clean', 'clean'], ['proper', 'side', 'proper', 'clean'], ['long', 'clean'], ['clean'], ['clean'], ['improved', 'clean'], ['clean'], ['clean', 'polish', 'outside', 'high', 'better', 'outside'], ['clean'], ['clean'], ['all', 'clean'], ['even', 'side', 'clean'], ['fast'], ['some', 'like', 'last', 'last', 'clean'], ['some', 'clean', 'clean'], ['more', 'internal'], ['home'], ['clean', 'inside', 'minor'], ['center', 'clean'], ['good'], ['specific', 'clean'], ['clean', 'polish'], ['clean'], [], ['regular', 'go', 'regular', 'good', 'clean'], ['clean', 'improved'], ['clean'], ['all', 'like'], ['better'], ['more', 'clean', 'tidy'], ['interior', 'good'], ['clean'], ['clean', 'polish', 'on'], ['improved', 'more'], ['clean'], ['clean', 'proper'], ['increased', 'inside', 'proper', 'clean'], ['other', 'clean'], ['clean'], ['good'], ['clean'], ['clean', 'inside'], ['cleaner', 'clean'], ['clean', 'interior', 'inside'], ['proper', 'back'], ['on', 'side', 'clean'], ['internal', 'proper'], ['clean'], ['some', 'found', 'clean'], ['clean'], ['clean'], ['clean'], ['interior'], ['inside', 'complete', 'clean'], ['more', 'clean'], ['clean', 'polished'], ['clean', 'polish', 'regular'], [], ['clean'], ['active'], [], ['clean'], ['clean'], [], ['clean'], ['clean', 'second'], ['on', 'clean'], ['more', 'some', 'small', 'incident', 'clean', 'some'], ['proper'], ['clean'], ['good'], ['clean', 'inside'], ['clean'], ['clean'], ['clean'], ['out', 'first'], ['proper'], ['clean', 'wet'], ['clean', 'wet', 'good'], ['paid', 'clean', 'wet'], ['proper', 'clean'], ['clean'], ['clean', 'on'], ['dry', 'clean', 'dry', 'clean'], ['proper'], ['clean', 'on', 'back'], [], ['clean'], ['dry', 'dry', 'clean'], ['clean'], ['more', 'clean'], ['good'], ['clean', 'inside'], ['clean'], ['clean', 'out', 'home'], ['clean'], [], ['clean', 'interior', 'good', 'interior', 'clean', 'found', 'close', 'open', 'other', 'standing'], ['more', 'like', 'interior', 'more'], [], [], ['clean'], ['interior', 'interior', 'right', 'side', 'some', 'left'], ['home'], ['clean', 'on'], ['little'], ['center', 'first', 'clean'], ['clean'], ['last', 'on', 'on', 'clean'], ['last', 'on'], ['clean'], ['clean'], [], ['proper'], ['much', 'charged'], ['clean', 'more'], [], ['improved'], ['black', 'clean'], ['clean'], ['many', 'clean', 'close', 'monetary', 'monetary'], ['clean'], ['clean'], ['some', 'clean'], ['improved'], ['proper'], ['last', 'clean'], [], ['good'], ['clean', 'center', 'clean', 'dirty'], ['clean'], ['clean'], ['clean'], ['proper', 'clean'], ['clean', 'inside', 'outside'], ['clean'], ['minor', 'clean'], ['clean'], ['clean', 'outside'], [], ['clean'], ['interior', 'clean', 'clean', 'outdoor'], ['east', 'clean'], ['on', 'clean'], ['clean'], ['clean', 'on', 'committed'], ['clean', 'inside'], ['clean'], ['clean'], ['clean', 'senior', 'clean'], ['clean', 'on', 'clean'], ['last', 'made', 'interior', 'exterior'], ['clean', 'clean', 'more'], ['good', 'some', 'good', 'some'], ['clean', 'careless'], ['on', 'clean'], ['least', 'clean'], ['clean'], ['some', 'material', 'clean'], ['less'], ['clean'], ['faster', 'clean', 'inside'], ['clean', 'inside', 'interior'], [], ['clean', 'clean'], ['clean'], ['clean'], ['last', 'clean'], ['clean', 'front'], ['clean', 'interior'], ['clean'], ['proper'], ['free', 'clean'], ['clean', 'free'], [], ['clean', 'inside', 'outside'], ['clean'], ['clean', 'like', 'clean'], ['dry', 'clean'], ['like', 'much', 'more', 'clean', 'received', 'even', 'clean'], [], ['clean'], ['more', 'fast', 'finished', 'clean'], ['proper', 'outside', 'inside', 'clean'], ['clean'], ['dry', 'clean'], ['same', 'back', 'clean'], ['good', 'committed', 'up'], ['clean'], ['clean'], ['dirty', 'clean', 'used', 'same', 'all'], ['clean', 'all'], ['clean'], ['clean'], ['bottom', 'down', 'clean'], ['clean', 'better'], ['clean', 'inside', 'outside', 'clean'], ['clean'], ['clean', 'inside'], [], ['clean', 'like', 'full'], ['open', 'clean'], ['clean', 'clean', 'like', 'necessary'], ['inside', 'outside', 'clean'], ['clean'], ['clean'], ['wet', 'clean'], ['clean', 'interior'], ['clean'], ['clean', 'dirty', 'clean'], ['clean'], ['small', 'small', 'clean', 'clean'], ['clean'], ['clean'], ['interior', 'executive'], ['clean', 'clean'], ['black', 'color', 'go', 'second', 'same'], ['clean'], ['clean'], ['last', 'good'], ['better', 'clean', 'more'], ['even'], ['clean'], ['clean', 'inside'], ['clean'], ['good'], ['new'], ['clean'], ['proper', 'clean', 'all'], ['proper', 'interior'], [], ['clean', 'inside'], ['clean'], ['clean'], ['clean'], ['clean'], [], [], ['outside', 'inside', 'clean', 'interior'], ['clean', 'outside'], ['clean'], ['clean', 'improved'], ['inside', 'outside', 'clean'], ['same', 'clean', 'better', 'home'], ['clean'], ['clean'], ['last', 'clean', 'inside'], ['clean'], ['clean', 'outside', 'inside', 'some', 'like', 'clean'], ['clean'], ['clean'], ['clean'], ['other'], ['clean'], ['clean'], ['clean'], ['clean'], ['clean'], ['clean'], ['clean'], ['inside', 'clean'], ['clean'], ['fast'], ['good', 'clean', 'outside'], ['inside', 'outside', 'clean'], ['clean'], ['clean', 'internal', 'like'], ['clean', 'complete'], ['clean', 'inside', 'outside'], ['clean', 'clean', 'better'], ['clean', 'inside', 'outside', 'clean', 'home'], ['clean'], ['clean'], [], ['clean'], ['clean', 'like', 'clean'], ['clean'], ['clean'], ['clean'], ['clean'], ['clean', 'interior', 'outer'], ['clean'], [], [], ['like', 'local', 'center'], ['clean'], ['clean', 'side'], ['executive', 'executive', 'clean'], ['clean'], ['last', 'good', 'clean', 'inside'], ['clean', 'available'], ['committed', 'all', 'clean'], ['used', 'clean', 'used', 'dirty'], ['clean'], ['clean'], ['clean'], ['clean', 'all', 'interior'], [], ['clean', 'dark'], ['clean'], [], ['clean'], ['clean'], ['interior'], ['clean', 'interior'], ['clean'], [], [], ['clean', 'proper', 'many'], ['on', 'first', 'clean', 'good'], ['good', 'clean'], ['last', 'clean'], ['clean', 'polish'], ['clean', 'inside'], ['clean'], ['clean', 'more', 'right'], ['full', 'clean', 'full', 'white', 'colour'], ['interior', 'clean'], ['proper'], ['lower', 'inside', 'clean'], ['clean'], ['clean'], ['clean'], ['inside', 'clean', 'cleaner', 'good'], ['clean', 'inner'], ['last', 'clean'], [], [], ['more', 'clean'], ['interior', 'clean', 'lower', 'clean', 'good'], ['clean', 'back'], ['clean'], ['clean', 'clean', 'low'], ['clean', 'outer', 'clean'], ['clean', 'all'], ['clean', 'inside'], ['clean', 'clean'], ['front', 'clean'], ['clean'], ['even', 'clean', 'much'], ['clean', 'inside'], ['clean'], ['clean', 'clean', 'well'], ['clean'], ['clean'], ['interior', 'clean', 'exterior'], [], [], [], ['same'], [], ['main', 'interior', 'other', 'clean'], ['clean'], ['clean', 'inside'], ['interior', 'clean'], [], ['clean'], ['on', 'clean'], ['away', 'clean'], [], ['clean'], ['on'], [], ['clean'], ['like', 'improved'], ['well', 'inside', 'outer', 'side', 'little', 'dirty'], [], ['clean', 'home'], [], [], ['full', 'outside', 'inside', 'clean'], ['clean', 'on'], ['new', 'clean'], [], ['most', 'clean', 'side'], ['outside', 'interior', 'used'], ['interior'], ['used'], ['clean', 'on'], ['clean'], ['more', 'clean', 'better'], ['used'], [], ['clean'], ['polish'], ['clean'], [], ['clean'], ['clean'], ['clean'], ['clean', 'on', 'some'], ['clean', 'inside', 'outside', 'same'], ['well'], ['poor'], [], ['responsible', 'clean'], ['out', 'clean', 'complete'], ['clean'], ['good', 'clean'], ['proper'], ['clean', 'clean'], ['clean', 'cleaner'], ['clean'], ['inside', 'small', 'stuck', 'on', 'simple', 'cleaner', 'inside'], [], ['proper', 'due'], [], ['clean', 'interior'], ['due', 'unclean', 'clean'], ['clean'], ['all', 'proper'], ['proper'], [], ['clean', 'inside'], ['clean'], ['external', 'good', 'no', 'internal'], ['open', 'clean'], ['more', 'clean'], ['improved', 'more'], ['unhappy'], [], ['just', 'clean'], ['proper', 'interior'], [], ['good', 'inside', 'small', 'small', 'clean'], ['clean', 'inside'], [], ['proper', 'down'], ['all', 'good', 'interior', 'new'], ['clean'], ['much', 'rough', 'back', 'covered', 'clean'], ['improved', 'clean'], ['on', 'clean'], ['clean'], ['clean'], ['clean', 'all', 'late'], ['even', 'clean', 'settled', 'on'], ['clean'], ['clean'], ['clean', 'front'], ['least', 'clean'], ['clean'], ['clean', 'inside'], ['clean', 'good'], ['more'], ['on', 'clean'], [], [], ['clean', 'good'], ['clean'], [], [], ['clean', 'out', 'center'], ['clean', 'inside'], ['clean'], ['clean', 'inside', 'outside', 'cleaner'], ['clean', 'proper'], [], ['clean', 'well', 'on', 'interior', 'well'], [], ['clean'], ['clean', 'interior'], ['interior', 'less'], ['proper'], ['just', 'clean', 'little'], ['still', 'clean', 'dirty'], ['clean'], ['on'], ['last', 'due', 'clean'], ['sufficient', 'clean'], ['less', 'center', 'due'], ['clean', 'interior'], ['proper', 'clean'], ['on', 'clean'], ['trained'], ['more', 'on', 'internal'], ['found'], ['good', 'faced'], [], ['clean'], ['clean'], ['even', 'clean'], ['proper'], ['proper', 'on'], ['clean'], ['clean'], ['proper'], ['clean', 'like'], ['center', 'dirty', 'clean', 'dirty'], ['clean', 'clean', 'same'], ['interior', 'go', 'center'], ['same', 'clean', 'still', 'clean'], [], ['proper'], [], ['dry', 'interior', 'outside'], ['dry', 'clean', 'clean'], ['center', 'clean'], ['clean', 'inside', 'clean', 'used', 'clean'], ['like', 'clean', 'clean', 'much', 'clean', 'outside', 'clean', 'much', 'center'], ['clean'], ['clean'], ['clean', 'all', 'center'], ['clean'], ['clean'], ['small', 'small', 'clean'], ['good', 'proper', 'proper', 'clean'], ['convenient'], [], [], ['inside', 'clean'], ['clean'], ['clean', 'back', 'some', 'different', 'interior'], ['interior'], ['clean'], ['proper'], [], ['proper'], ['clean'], ['proper'], [], ['clean'], ['interior', 'clean', 'fine'], ['just', 'clean'], ['clean', 'just', 'outer', 'side'], ['center', 'good', 'like', 'cleaner', 'won', 'clean'], [], [], ['some'], ['center'], [], ['clean'], ['just', 'clean'], ['center', 'proper', 'clean', 'front', 'back', 'clean', 'good', 'center'], ['side', 'clean', 'proper'], ['interior', 'more', 'dry'], ['clean'], [], ['clean', 'clean'], ['clean'], [], ['clean', 'clear'], ['free', 'clean'], ['on'], ['same', 'on'], ['clean'], ['clean', 'outside', 'inside', 'away', 'clean'], ['clean'], ['out', 'proper'], ['clean'], [], ['good'], [], ['clean'], ['clean', 'good'], ['proper', 'used'], [], ['clean'], ['same', 'on', 'private'], ['clean', 'proper', 'outside', 'inside', 'clean'], ['clean'], [], ['clean'], ['good', 'clean'], ['proper', 'clean'], ['last', 'long', 'clean'], ['clean'], ['clean', 'clean'], ['clean'], [], ['outside', 'clean'], ['clean', 'no', 'sorry'], ['clean'], ['clean'], ['clean', 'outside'], ['clean', 'clean'], ['clean', 'down'], ['just', 'clean', 'outer', 'interior', 'same'], ['proper'], ['clean'], ['clean'], ['clean', 'outer'], ['clean'], ['last', 'paid', 'internal', 'interior', 'clean'], ['much', 'clean', 'home'], ['clean', 'on'], ['proper', 'on', 'interior'], ['clean'], ['even', 'second', 'clean'], ['won', 'clean', 'all'], ['clean', 'all', 'side', 'clean'], ['clean'], ['clean'], ['used', 'many', 'left'], ['less', 'dirty'], ['chemical', 'dirty', 'center'], ['clean', 'proper', 'proper'], ['clean'], ['clean'], ['clean', 'clean'], ['front', 'back', 'clean'], ['more', 'clean']]\n"
     ]
    }
   ],
   "source": [
    "from nltk.corpus import wordnet as wn\n",
    "from itertools import product\n",
    "def sim_check_word(word1,word2):\n",
    "    syns1 = wn.synsets(word1)\n",
    "    syns2 = wn.synsets(word2)\n",
    "    sims = []\n",
    "    for sense1, sense2 in product(syns1, syns2):\n",
    "        d = wn.path_similarity(sense1, sense2)\n",
    "        sims.append((d))\n",
    "    return max(sims)\n",
    "\n",
    "def sim_check_list(list1,list2):\n",
    "    sims = []\n",
    "    for word in list1:\n",
    "        for word2 in list2:\n",
    "            sims.append(sim_check_word(word, word2))\n",
    "    return max(sims)\n",
    "\n",
    "\n",
    "def l2_extract(corpus, idx_list):\n",
    "    num = 0\n",
    "    other_content = []\n",
    "    adj_batchlist = []\n",
    "    local_content = []\n",
    "    for idx in idx_list:\n",
    "        doc = corpus[idx]\n",
    "        local_content.append(doc)\n",
    "        adj_list = []\n",
    "        for word in doc.split():\n",
    "            try:\n",
    "                tmp = [wn.synsets(word)[hh].pos() for hh in range(len(wn.synsets(word)))] \n",
    "            except IndexError:\n",
    "                tmp = None\n",
    "            if 'a' in tmp:\n",
    "                adj_list.append(word)\n",
    "        adj_batchlist.append(adj_list)\n",
    "    \n",
    "    \n",
    "    return adj_batchlist, local_content\n",
    "\n",
    "tt_list, local_content = l2_extract(doc_nn, name_list['clean'])\n",
    "print tt_list"
   ]
  }
 ],
 "metadata": {
  "kernelspec": {
   "display_name": "Python 2",
   "language": "python",
   "name": "python2"
  },
  "language_info": {
   "codemirror_mode": {
    "name": "ipython",
    "version": 2
   },
   "file_extension": ".py",
   "mimetype": "text/x-python",
   "name": "python",
   "nbconvert_exporter": "python",
   "pygments_lexer": "ipython2",
   "version": "2.7.13"
  }
 },
 "nbformat": 4,
 "nbformat_minor": 2
}
